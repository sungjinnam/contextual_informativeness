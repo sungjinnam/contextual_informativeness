{
 "cells": [
  {
   "cell_type": "code",
   "execution_count": 1,
   "metadata": {},
   "outputs": [],
   "source": [
    "# # EVALution 1.0\n",
    "# Dataset containing Semantic Relations and Metadata, for Training and Evaluating Distributional Semantic Models\n",
    "# The resource is freely available. If you use it, please cite the description paper:\n",
    "# - Enrico Santus, Frances Yung, Alessandro Lenci, and Chu-Ren Huang. 2015. EVALution 1.0: An Evolving Semantic Dataset for Training and Evaluation of Distributional Semantic Models. Proceedings of the 4th Workshop on Linked Data in Linguistics, Beijing."
   ]
  },
  {
   "cell_type": "code",
   "execution_count": 2,
   "metadata": {},
   "outputs": [],
   "source": [
    "import pandas as pd\n",
    "import numpy as np\n",
    "import seaborn as sns\n",
    "import matplotlib.pyplot as plt\n",
    "from scipy.stats import ttest_ind"
   ]
  },
  {
   "cell_type": "code",
   "execution_count": 3,
   "metadata": {},
   "outputs": [
    {
     "name": "stderr",
     "output_type": "stream",
     "text": [
      "/home/sjnam/anaconda3/envs/infmtv_keras_gpu/lib/python3.6/site-packages/tensorflow/python/framework/dtypes.py:516: FutureWarning: Passing (type, 1) or '1type' as a synonym of type is deprecated; in a future version of numpy, it will be understood as (type, (1,)) / '(1,)type'.\n",
      "  _np_qint8 = np.dtype([(\"qint8\", np.int8, 1)])\n",
      "/home/sjnam/anaconda3/envs/infmtv_keras_gpu/lib/python3.6/site-packages/tensorflow/python/framework/dtypes.py:517: FutureWarning: Passing (type, 1) or '1type' as a synonym of type is deprecated; in a future version of numpy, it will be understood as (type, (1,)) / '(1,)type'.\n",
      "  _np_quint8 = np.dtype([(\"quint8\", np.uint8, 1)])\n",
      "/home/sjnam/anaconda3/envs/infmtv_keras_gpu/lib/python3.6/site-packages/tensorflow/python/framework/dtypes.py:518: FutureWarning: Passing (type, 1) or '1type' as a synonym of type is deprecated; in a future version of numpy, it will be understood as (type, (1,)) / '(1,)type'.\n",
      "  _np_qint16 = np.dtype([(\"qint16\", np.int16, 1)])\n",
      "/home/sjnam/anaconda3/envs/infmtv_keras_gpu/lib/python3.6/site-packages/tensorflow/python/framework/dtypes.py:519: FutureWarning: Passing (type, 1) or '1type' as a synonym of type is deprecated; in a future version of numpy, it will be understood as (type, (1,)) / '(1,)type'.\n",
      "  _np_quint16 = np.dtype([(\"quint16\", np.uint16, 1)])\n",
      "/home/sjnam/anaconda3/envs/infmtv_keras_gpu/lib/python3.6/site-packages/tensorflow/python/framework/dtypes.py:520: FutureWarning: Passing (type, 1) or '1type' as a synonym of type is deprecated; in a future version of numpy, it will be understood as (type, (1,)) / '(1,)type'.\n",
      "  _np_qint32 = np.dtype([(\"qint32\", np.int32, 1)])\n",
      "/home/sjnam/anaconda3/envs/infmtv_keras_gpu/lib/python3.6/site-packages/tensorflow/python/framework/dtypes.py:525: FutureWarning: Passing (type, 1) or '1type' as a synonym of type is deprecated; in a future version of numpy, it will be understood as (type, (1,)) / '(1,)type'.\n",
      "  np_resource = np.dtype([(\"resource\", np.ubyte, 1)])\n",
      "/home/sjnam/anaconda3/envs/infmtv_keras_gpu/lib/python3.6/site-packages/tensorboard/compat/tensorflow_stub/dtypes.py:541: FutureWarning: Passing (type, 1) or '1type' as a synonym of type is deprecated; in a future version of numpy, it will be understood as (type, (1,)) / '(1,)type'.\n",
      "  _np_qint8 = np.dtype([(\"qint8\", np.int8, 1)])\n",
      "/home/sjnam/anaconda3/envs/infmtv_keras_gpu/lib/python3.6/site-packages/tensorboard/compat/tensorflow_stub/dtypes.py:542: FutureWarning: Passing (type, 1) or '1type' as a synonym of type is deprecated; in a future version of numpy, it will be understood as (type, (1,)) / '(1,)type'.\n",
      "  _np_quint8 = np.dtype([(\"quint8\", np.uint8, 1)])\n",
      "/home/sjnam/anaconda3/envs/infmtv_keras_gpu/lib/python3.6/site-packages/tensorboard/compat/tensorflow_stub/dtypes.py:543: FutureWarning: Passing (type, 1) or '1type' as a synonym of type is deprecated; in a future version of numpy, it will be understood as (type, (1,)) / '(1,)type'.\n",
      "  _np_qint16 = np.dtype([(\"qint16\", np.int16, 1)])\n",
      "/home/sjnam/anaconda3/envs/infmtv_keras_gpu/lib/python3.6/site-packages/tensorboard/compat/tensorflow_stub/dtypes.py:544: FutureWarning: Passing (type, 1) or '1type' as a synonym of type is deprecated; in a future version of numpy, it will be understood as (type, (1,)) / '(1,)type'.\n",
      "  _np_quint16 = np.dtype([(\"quint16\", np.uint16, 1)])\n",
      "/home/sjnam/anaconda3/envs/infmtv_keras_gpu/lib/python3.6/site-packages/tensorboard/compat/tensorflow_stub/dtypes.py:545: FutureWarning: Passing (type, 1) or '1type' as a synonym of type is deprecated; in a future version of numpy, it will be understood as (type, (1,)) / '(1,)type'.\n",
      "  _np_qint32 = np.dtype([(\"qint32\", np.int32, 1)])\n",
      "/home/sjnam/anaconda3/envs/infmtv_keras_gpu/lib/python3.6/site-packages/tensorboard/compat/tensorflow_stub/dtypes.py:550: FutureWarning: Passing (type, 1) or '1type' as a synonym of type is deprecated; in a future version of numpy, it will be understood as (type, (1,)) / '(1,)type'.\n",
      "  np_resource = np.dtype([(\"resource\", np.ubyte, 1)])\n",
      "Using TensorFlow backend.\n"
     ]
    }
   ],
   "source": [
    "# keras modules\n",
    "import tensorflow as tf\n",
    "# from keras.models import load_model\n",
    "\n",
    "from keras.preprocessing.text import text_to_word_sequence, Tokenizer\n",
    "from keras.preprocessing.sequence import pad_sequences\n",
    "\n",
    "# from keras.utils import plot_model\n",
    "from tensorflow.keras import backend as K\n",
    "from tensorflow.keras import Model\n",
    "from tensorflow.keras.models import save_model, load_model\n",
    "# from tensorflow.keras.utils import plot_model\n",
    "# import keras_tqdm\n",
    "# from livelossplot.keras import PlotLossesCallback"
   ]
  },
  {
   "cell_type": "code",
   "execution_count": 4,
   "metadata": {},
   "outputs": [],
   "source": [
    "# custom layers from external files\n",
    "from layers.embeddings import ElmoLayer\n",
    "from layers.attention import AttentionLayer\n",
    "from models.build_models import build_model_elmo, initialize_vars\n",
    "from models.train_models import *\n",
    "from utils.utils import *"
   ]
  },
  {
   "cell_type": "code",
   "execution_count": 5,
   "metadata": {},
   "outputs": [],
   "source": [
    "# some option settings for Jupyter notebook and TF\n",
    "%load_ext autoreload\n",
    "%autoreload 2\n",
    "pd.set_option('display.max_colwidth', -1)\n",
    "tf.logging.set_verbosity(tf.logging.ERROR)"
   ]
  },
  {
   "cell_type": "markdown",
   "metadata": {},
   "source": [
    "# Import data "
   ]
  },
  {
   "cell_type": "code",
   "execution_count": 6,
   "metadata": {},
   "outputs": [],
   "source": [
    "# collum descriptions::\n",
    "#  - first relatum: it is one of the relata in the file RELATA.txt\n",
    "#  - relation: it can be one of the following relations: Antonym, Synonym, IsA (hypernymy), PartOf (meronymy), MemberOf (meronymy), MadeOf (meronymy), Entailment, HasA (possession), HasProperty (attribute). For the definition of these relations, please refer to: https://github.com/commonsense/conceptnet5/wiki/Relations.\n",
    "#  - second relatum: it is one of the relata in the file RELATA.txt\n",
    "#  - tags: this field contains a comma separated list of tags, with their frequency among the total number of annotators (e.g. \"CULTURE_1/5,EVENT_4/5\" stays for CULTURE was tagged by 1 subject on 5, while PLANT by 4 on 5). NOTE: The reliability of the tags is slow, as some subjects have tried to cheat; we suggest you to rely on tags that were judged at least twice.\n",
    "#  - sentence: this field contains a sentence that paraphrases the relation; this sentence was used in the crowdsourcing task to assess the quality of the relation.\n",
    "#  - distribution of votes: the next five columns are integers that represent the number of votes for each value, with reference to the sentence in the previous field: \"strong disagreement\" (the first one, value=1), \"disagreement\", \"neutral\", \"agreement\" and \"strong agreement\" (the last one, value=5).\n",
    "#  - agreement between subjects as reported by Crowdflower.\n",
    "#  - number of subjects who voted the agreement with the sentence.\n",
    "#  - average score (in the range between 1=\"strongly disagree\" and 5=\"strongly agree\").\n",
    "#  - variance among the votes.\n",
    "#  - average score minus the variance.\n",
    "#  - source from which the pair was extracted.\n",
    "#  - score in the source, if available.\n",
    "eval_colnames = [\n",
    "    \"relata1\",\n",
    "    \"relation\",\n",
    "    \"relata2\",\n",
    "    \"tags\",\n",
    "    \"sentence\",\n",
    "    \"votes_sc_1\",\n",
    "    \"votes_sc_2\",\n",
    "    \"votes_sc_3\",\n",
    "    \"votes_sc_4\",\n",
    "    \"votes_sc_5\",\n",
    "    \"votes_agreement\",\n",
    "    \"votes_no_agree\",\n",
    "    \"votes_avg_score\",\n",
    "    \"votes_var_score\",\n",
    "    \"votes_avg_var_diff\",\n",
    "    \"pair_source_name\",\n",
    "    \"pair_source_score\"\n",
    "]"
   ]
  },
  {
   "cell_type": "code",
   "execution_count": 7,
   "metadata": {},
   "outputs": [
    {
     "name": "stderr",
     "output_type": "stream",
     "text": [
      "/home/sjnam/anaconda3/envs/infmtv_keras_gpu/lib/python3.6/site-packages/ipykernel_launcher.py:1: FutureWarning: read_table is deprecated, use read_csv instead.\n",
      "  \"\"\"Entry point for launching an IPython kernel.\n"
     ]
    }
   ],
   "source": [
    "df_eval = pd.read_table(\"dataset/EVALution_1.0/RELATIONS.txt\", sep=\"\\t\", header=None, names=eval_colnames, index_col=False)"
   ]
  },
  {
   "cell_type": "code",
   "execution_count": 8,
   "metadata": {},
   "outputs": [],
   "source": [
    "df_eval['sentence'] = df_eval['sentence'].str.lower()"
   ]
  },
  {
   "cell_type": "code",
   "execution_count": 9,
   "metadata": {},
   "outputs": [
    {
     "data": {
      "text/html": [
       "<div>\n",
       "<style scoped>\n",
       "    .dataframe tbody tr th:only-of-type {\n",
       "        vertical-align: middle;\n",
       "    }\n",
       "\n",
       "    .dataframe tbody tr th {\n",
       "        vertical-align: top;\n",
       "    }\n",
       "\n",
       "    .dataframe thead th {\n",
       "        text-align: right;\n",
       "    }\n",
       "</style>\n",
       "<table border=\"1\" class=\"dataframe\">\n",
       "  <thead>\n",
       "    <tr style=\"text-align: right;\">\n",
       "      <th></th>\n",
       "      <th>relata1</th>\n",
       "      <th>relation</th>\n",
       "      <th>relata2</th>\n",
       "      <th>tags</th>\n",
       "      <th>sentence</th>\n",
       "      <th>votes_sc_1</th>\n",
       "      <th>votes_sc_2</th>\n",
       "      <th>votes_sc_3</th>\n",
       "      <th>votes_sc_4</th>\n",
       "      <th>votes_sc_5</th>\n",
       "      <th>votes_agreement</th>\n",
       "      <th>votes_no_agree</th>\n",
       "      <th>votes_avg_score</th>\n",
       "      <th>votes_var_score</th>\n",
       "      <th>votes_avg_var_diff</th>\n",
       "      <th>pair_source_name</th>\n",
       "      <th>pair_source_score</th>\n",
       "    </tr>\n",
       "  </thead>\n",
       "  <tbody>\n",
       "    <tr>\n",
       "      <th>0</th>\n",
       "      <td>abstract</td>\n",
       "      <td>Antonym</td>\n",
       "      <td>concrete</td>\n",
       "      <td>OBJECT_3/5,EMOTION_2/5,EVENT_2/5,RELATIONSHIP_1/5</td>\n",
       "      <td>abstract can be used as the opposite of concrete</td>\n",
       "      <td>0</td>\n",
       "      <td>0</td>\n",
       "      <td>0</td>\n",
       "      <td>3</td>\n",
       "      <td>2</td>\n",
       "      <td>0.912340</td>\n",
       "      <td>5</td>\n",
       "      <td>4.400000</td>\n",
       "      <td>0.300000</td>\n",
       "      <td>4.100000</td>\n",
       "      <td>wordnet/4.0</td>\n",
       "      <td>score</td>\n",
       "    </tr>\n",
       "    <tr>\n",
       "      <th>1</th>\n",
       "      <td>accident</td>\n",
       "      <td>Antonym</td>\n",
       "      <td>plan</td>\n",
       "      <td>CULTURE_1/5,EVENT_4/5</td>\n",
       "      <td>accident can be used as the opposite of plan</td>\n",
       "      <td>0</td>\n",
       "      <td>0</td>\n",
       "      <td>0</td>\n",
       "      <td>12</td>\n",
       "      <td>26</td>\n",
       "      <td>0.953509</td>\n",
       "      <td>38</td>\n",
       "      <td>4.684211</td>\n",
       "      <td>0.221906</td>\n",
       "      <td>4.462304</td>\n",
       "      <td>verbosity</td>\n",
       "      <td>0.0445190226130131</td>\n",
       "    </tr>\n",
       "    <tr>\n",
       "      <th>2</th>\n",
       "      <td>accident</td>\n",
       "      <td>Antonym</td>\n",
       "      <td>purpose</td>\n",
       "      <td>EVENT_5/5</td>\n",
       "      <td>accident can be used as the opposite of purpose</td>\n",
       "      <td>0</td>\n",
       "      <td>0</td>\n",
       "      <td>0</td>\n",
       "      <td>3</td>\n",
       "      <td>2</td>\n",
       "      <td>0.913917</td>\n",
       "      <td>5</td>\n",
       "      <td>4.400000</td>\n",
       "      <td>0.300000</td>\n",
       "      <td>4.100000</td>\n",
       "      <td>verbosity</td>\n",
       "      <td>0.13952094877868304</td>\n",
       "    </tr>\n",
       "    <tr>\n",
       "      <th>3</th>\n",
       "      <td>accident</td>\n",
       "      <td>Synonym</td>\n",
       "      <td>event</td>\n",
       "      <td>EVENT_5/5</td>\n",
       "      <td>accident can be used with the same meaning of event</td>\n",
       "      <td>0</td>\n",
       "      <td>0</td>\n",
       "      <td>1</td>\n",
       "      <td>3</td>\n",
       "      <td>1</td>\n",
       "      <td>0.935375</td>\n",
       "      <td>5</td>\n",
       "      <td>4.000000</td>\n",
       "      <td>0.500000</td>\n",
       "      <td>3.500000</td>\n",
       "      <td>wiktionary/de/en</td>\n",
       "      <td>1.0</td>\n",
       "    </tr>\n",
       "    <tr>\n",
       "      <th>4</th>\n",
       "      <td>accident</td>\n",
       "      <td>IsA</td>\n",
       "      <td>error</td>\n",
       "      <td>EVENT_4/5,RELATIONSHIP_1/5</td>\n",
       "      <td>accident is a kind of error</td>\n",
       "      <td>0</td>\n",
       "      <td>0</td>\n",
       "      <td>0</td>\n",
       "      <td>2</td>\n",
       "      <td>3</td>\n",
       "      <td>0.911600</td>\n",
       "      <td>5</td>\n",
       "      <td>4.600000</td>\n",
       "      <td>0.300000</td>\n",
       "      <td>4.300000</td>\n",
       "      <td>conceptnet/4/en</td>\n",
       "      <td>1.5849625007211563</td>\n",
       "    </tr>\n",
       "    <tr>\n",
       "      <th>5</th>\n",
       "      <td>accident</td>\n",
       "      <td>IsA</td>\n",
       "      <td>happen</td>\n",
       "      <td>EVENT_5/5</td>\n",
       "      <td>accident is a kind of happen</td>\n",
       "      <td>0</td>\n",
       "      <td>0</td>\n",
       "      <td>0</td>\n",
       "      <td>2</td>\n",
       "      <td>3</td>\n",
       "      <td>0.965458</td>\n",
       "      <td>5</td>\n",
       "      <td>4.600000</td>\n",
       "      <td>0.300000</td>\n",
       "      <td>4.300000</td>\n",
       "      <td>wordnet/3.0</td>\n",
       "      <td>1.5849625007211563</td>\n",
       "    </tr>\n",
       "    <tr>\n",
       "      <th>6</th>\n",
       "      <td>accident</td>\n",
       "      <td>IsA</td>\n",
       "      <td>mistake</td>\n",
       "      <td>RELATIONSHIP_1/60,NATURE_1/60,FOOD_1/60,COMMUNICATION_2/60,OBJECT_3/60,CULTURE_2/60,EVENT_57/60</td>\n",
       "      <td>accident is a kind of mistake</td>\n",
       "      <td>0</td>\n",
       "      <td>0</td>\n",
       "      <td>0</td>\n",
       "      <td>2</td>\n",
       "      <td>3</td>\n",
       "      <td>0.954483</td>\n",
       "      <td>5</td>\n",
       "      <td>4.600000</td>\n",
       "      <td>0.300000</td>\n",
       "      <td>4.300000</td>\n",
       "      <td>conceptnet/4/en</td>\n",
       "      <td>1.5849625007211563</td>\n",
       "    </tr>\n",
       "    <tr>\n",
       "      <th>7</th>\n",
       "      <td>account</td>\n",
       "      <td>Synonym</td>\n",
       "      <td>record</td>\n",
       "      <td>OBJECT_2/5,CULTURE_1/5,EVENT_2/5,BUSINESS_2/5</td>\n",
       "      <td>account can be used with the same meaning of record</td>\n",
       "      <td>0</td>\n",
       "      <td>0</td>\n",
       "      <td>0</td>\n",
       "      <td>2</td>\n",
       "      <td>3</td>\n",
       "      <td>0.908725</td>\n",
       "      <td>5</td>\n",
       "      <td>4.600000</td>\n",
       "      <td>0.300000</td>\n",
       "      <td>4.300000</td>\n",
       "      <td>wiktionary/de/en</td>\n",
       "      <td>1.0</td>\n",
       "    </tr>\n",
       "    <tr>\n",
       "      <th>8</th>\n",
       "      <td>account</td>\n",
       "      <td>Synonym</td>\n",
       "      <td>report</td>\n",
       "      <td>EVENT_3/5,BUSINESS_2/5,NATURE_1/5</td>\n",
       "      <td>account can be used with the same meaning of report</td>\n",
       "      <td>0</td>\n",
       "      <td>0</td>\n",
       "      <td>0</td>\n",
       "      <td>2</td>\n",
       "      <td>3</td>\n",
       "      <td>0.967600</td>\n",
       "      <td>5</td>\n",
       "      <td>4.600000</td>\n",
       "      <td>0.300000</td>\n",
       "      <td>4.300000</td>\n",
       "      <td>wiktionary/de/en</td>\n",
       "      <td>1.0</td>\n",
       "    </tr>\n",
       "    <tr>\n",
       "      <th>9</th>\n",
       "      <td>account</td>\n",
       "      <td>Synonym</td>\n",
       "      <td>score</td>\n",
       "      <td>OBJECT_2/6,EVENT_6/6,BUSINESS_1/6,NATURE_1/6</td>\n",
       "      <td>account can be used with the same meaning of score</td>\n",
       "      <td>0</td>\n",
       "      <td>1</td>\n",
       "      <td>0</td>\n",
       "      <td>2</td>\n",
       "      <td>2</td>\n",
       "      <td>0.962425</td>\n",
       "      <td>5</td>\n",
       "      <td>4.000000</td>\n",
       "      <td>1.500000</td>\n",
       "      <td>2.500000</td>\n",
       "      <td>wiktionary/de/en</td>\n",
       "      <td>1.0</td>\n",
       "    </tr>\n",
       "  </tbody>\n",
       "</table>\n",
       "</div>"
      ],
      "text/plain": [
       "    relata1 relation   relata2  \\\n",
       "0  abstract  Antonym  concrete   \n",
       "1  accident  Antonym  plan       \n",
       "2  accident  Antonym  purpose    \n",
       "3  accident  Synonym  event      \n",
       "4  accident  IsA      error      \n",
       "5  accident  IsA      happen     \n",
       "6  accident  IsA      mistake    \n",
       "7  account   Synonym  record     \n",
       "8  account   Synonym  report     \n",
       "9  account   Synonym  score      \n",
       "\n",
       "                                                                                              tags  \\\n",
       "0  OBJECT_3/5,EMOTION_2/5,EVENT_2/5,RELATIONSHIP_1/5                                                 \n",
       "1  CULTURE_1/5,EVENT_4/5                                                                             \n",
       "2  EVENT_5/5                                                                                         \n",
       "3  EVENT_5/5                                                                                         \n",
       "4  EVENT_4/5,RELATIONSHIP_1/5                                                                        \n",
       "5  EVENT_5/5                                                                                         \n",
       "6  RELATIONSHIP_1/60,NATURE_1/60,FOOD_1/60,COMMUNICATION_2/60,OBJECT_3/60,CULTURE_2/60,EVENT_57/60   \n",
       "7  OBJECT_2/5,CULTURE_1/5,EVENT_2/5,BUSINESS_2/5                                                     \n",
       "8  EVENT_3/5,BUSINESS_2/5,NATURE_1/5                                                                 \n",
       "9  OBJECT_2/6,EVENT_6/6,BUSINESS_1/6,NATURE_1/6                                                      \n",
       "\n",
       "                                              sentence  votes_sc_1  \\\n",
       "0  abstract can be used as the opposite of concrete     0            \n",
       "1  accident can be used as the opposite of plan         0            \n",
       "2  accident can be used as the opposite of purpose      0            \n",
       "3  accident can be used with the same meaning of event  0            \n",
       "4  accident is a kind of error                          0            \n",
       "5  accident is a kind of happen                         0            \n",
       "6  accident is a kind of mistake                        0            \n",
       "7  account can be used with the same meaning of record  0            \n",
       "8  account can be used with the same meaning of report  0            \n",
       "9  account can be used with the same meaning of score   0            \n",
       "\n",
       "   votes_sc_2  votes_sc_3  votes_sc_4  votes_sc_5  votes_agreement  \\\n",
       "0  0           0           3           2           0.912340          \n",
       "1  0           0           12          26          0.953509          \n",
       "2  0           0           3           2           0.913917          \n",
       "3  0           1           3           1           0.935375          \n",
       "4  0           0           2           3           0.911600          \n",
       "5  0           0           2           3           0.965458          \n",
       "6  0           0           2           3           0.954483          \n",
       "7  0           0           2           3           0.908725          \n",
       "8  0           0           2           3           0.967600          \n",
       "9  1           0           2           2           0.962425          \n",
       "\n",
       "   votes_no_agree  votes_avg_score  votes_var_score  votes_avg_var_diff  \\\n",
       "0  5               4.400000         0.300000         4.100000             \n",
       "1  38              4.684211         0.221906         4.462304             \n",
       "2  5               4.400000         0.300000         4.100000             \n",
       "3  5               4.000000         0.500000         3.500000             \n",
       "4  5               4.600000         0.300000         4.300000             \n",
       "5  5               4.600000         0.300000         4.300000             \n",
       "6  5               4.600000         0.300000         4.300000             \n",
       "7  5               4.600000         0.300000         4.300000             \n",
       "8  5               4.600000         0.300000         4.300000             \n",
       "9  5               4.000000         1.500000         2.500000             \n",
       "\n",
       "   pair_source_name    pair_source_score  \n",
       "0  wordnet/4.0       score                \n",
       "1  verbosity         0.0445190226130131   \n",
       "2  verbosity         0.13952094877868304  \n",
       "3  wiktionary/de/en  1.0                  \n",
       "4  conceptnet/4/en   1.5849625007211563   \n",
       "5  wordnet/3.0       1.5849625007211563   \n",
       "6  conceptnet/4/en   1.5849625007211563   \n",
       "7  wiktionary/de/en  1.0                  \n",
       "8  wiktionary/de/en  1.0                  \n",
       "9  wiktionary/de/en  1.0                  "
      ]
     },
     "execution_count": 9,
     "metadata": {},
     "output_type": "execute_result"
    }
   ],
   "source": [
    "df_eval.head(10)"
   ]
  },
  {
   "cell_type": "code",
   "execution_count": 41,
   "metadata": {},
   "outputs": [
    {
     "data": {
      "text/plain": [
       "(7492, 29)"
      ]
     },
     "execution_count": 41,
     "metadata": {},
     "output_type": "execute_result"
    }
   ],
   "source": [
    "df_eval.shape"
   ]
  },
  {
   "cell_type": "code",
   "execution_count": 10,
   "metadata": {},
   "outputs": [
    {
     "data": {
      "text/plain": [
       "IsA            1880\n",
       "Antonym        1600\n",
       "HasProperty    1297\n",
       "Synonym        1086\n",
       "PartOf         654 \n",
       "HasA           544 \n",
       "MadeOf         317 \n",
       "Entails        82  \n",
       "MemberOf       32  \n",
       "Name: relation, dtype: int64"
      ]
     },
     "execution_count": 10,
     "metadata": {},
     "output_type": "execute_result"
    }
   ],
   "source": [
    "df_eval['relation'].value_counts()"
   ]
  },
  {
   "cell_type": "code",
   "execution_count": 11,
   "metadata": {},
   "outputs": [
    {
     "data": {
      "text/plain": [
       "10"
      ]
     },
     "execution_count": 11,
     "metadata": {},
     "output_type": "execute_result"
    }
   ],
   "source": [
    "# maximum sentence length\n",
    "max([len(sent.split()) for sent in df_eval['sentence']])"
   ]
  },
  {
   "cell_type": "markdown",
   "metadata": {},
   "source": [
    "# Process input data"
   ]
  },
  {
   "cell_type": "markdown",
   "metadata": {},
   "source": [
    "## target word and sentence inputs "
   ]
  },
  {
   "cell_type": "code",
   "execution_count": 12,
   "metadata": {},
   "outputs": [
    {
     "data": {
      "text/plain": [
       "[1, 2]"
      ]
     },
     "execution_count": 12,
     "metadata": {},
     "output_type": "execute_result"
    }
   ],
   "source": [
    "tt1 = [\"this\", 'is', 'a', 'test', 'sentence']\n",
    "tt2 = ['is', 'a']\n",
    "tt_ret = []\n",
    "for x in tt2:\n",
    "    for i, k in enumerate(tt1):\n",
    "        if(x==k):\n",
    "            tt_ret.append(i)\n",
    "tt_ret"
   ]
  },
  {
   "cell_type": "code",
   "execution_count": 13,
   "metadata": {},
   "outputs": [
    {
     "data": {
      "text/plain": [
       "['test', 'this']"
      ]
     },
     "execution_count": 13,
     "metadata": {},
     "output_type": "execute_result"
    }
   ],
   "source": [
    "[x.lower() for x in \"test_this\".split(\"_\")]"
   ]
  },
  {
   "cell_type": "code",
   "execution_count": 14,
   "metadata": {},
   "outputs": [],
   "source": [
    "MAX_SEQ_LEN = 30"
   ]
  },
  {
   "cell_type": "code",
   "execution_count": 15,
   "metadata": {},
   "outputs": [],
   "source": [
    "sentences_notarg = proc_sentences_EVALution(df_eval, 'sentence', 'relata1', 'relata2', 'relation', \n",
    "                                            False, MAX_SEQ_LEN, RELATIONAL_CUE_TOKENS)\n",
    "sentences_wttarg = proc_sentences_EVALution(df_eval, 'sentence', 'relata1', 'relata2', 'relation', \n",
    "                                            True, MAX_SEQ_LEN, RELATIONAL_CUE_TOKENS)"
   ]
  },
  {
   "cell_type": "code",
   "execution_count": 16,
   "metadata": {},
   "outputs": [
    {
     "data": {
      "text/plain": [
       "[array([9, 9, 9, ..., 7, 9, 6]),\n",
       " array([['<UNK>', 'can', 'be', ..., '', '', ''],\n",
       "        ['<UNK>', 'can', 'be', ..., '', '', ''],\n",
       "        ['<UNK>', 'can', 'be', ..., '', '', ''],\n",
       "        ...,\n",
       "        ['<UNK>', 'can', 'have', ..., '', '', ''],\n",
       "        ['<UNK>', 'can', 'be', ..., '', '', ''],\n",
       "        ['<UNK>', 'is', 'a', ..., '', '', '']], dtype=object),\n",
       " array([[0, 1, 1, ..., 0, 0, 0],\n",
       "        [0, 1, 1, ..., 0, 0, 0],\n",
       "        [0, 1, 1, ..., 0, 0, 0],\n",
       "        ...,\n",
       "        [0, 1, 1, ..., 0, 0, 0],\n",
       "        [0, 1, 1, ..., 0, 0, 0],\n",
       "        [0, 1, 1, ..., 0, 0, 0]]),\n",
       " array([[1, 0, 0, ..., 0, 0, 0],\n",
       "        [1, 0, 0, ..., 0, 0, 0],\n",
       "        [1, 0, 0, ..., 0, 0, 0],\n",
       "        ...,\n",
       "        [1, 0, 0, ..., 0, 0, 0],\n",
       "        [1, 0, 0, ..., 0, 0, 0],\n",
       "        [1, 0, 0, ..., 0, 0, 0]]),\n",
       " array([[0, 0, 0, ..., 0, 0, 0],\n",
       "        [0, 0, 0, ..., 0, 0, 0],\n",
       "        [0, 0, 0, ..., 0, 0, 0],\n",
       "        ...,\n",
       "        [0, 0, 0, ..., 0, 0, 0],\n",
       "        [0, 0, 0, ..., 0, 0, 0],\n",
       "        [0, 0, 0, ..., 0, 0, 0]]),\n",
       " array([[0, 0, 0, ..., 0, 0, 0],\n",
       "        [0, 0, 0, ..., 0, 0, 0],\n",
       "        [0, 0, 0, ..., 0, 0, 0],\n",
       "        ...,\n",
       "        [0, 0, 1, ..., 0, 0, 0],\n",
       "        [0, 0, 0, ..., 0, 0, 0],\n",
       "        [0, 0, 0, ..., 0, 0, 0]])]"
      ]
     },
     "execution_count": 16,
     "metadata": {},
     "output_type": "execute_result"
    }
   ],
   "source": [
    "sentences_notarg\n",
    "# [sent[:10] for sent in sentences_notarg]"
   ]
  },
  {
   "cell_type": "code",
   "execution_count": 17,
   "metadata": {},
   "outputs": [
    {
     "data": {
      "text/plain": [
       "[10, array(['<UNK>', 'can', 'be', 'used', 'with', 'the', 'same', 'meaning',\n",
       "        'of', 'record', '', '', '', '', '', '', '', '', '', '', '', '', '',\n",
       "        '', '', '', '', '', '', ''], dtype=object), array([0, 1, 1, 1, 1, 1, 1, 1, 1, 1, 0, 0, 0, 0, 0, 0, 0, 0, 0, 0, 0, 0,\n",
       "        0, 0, 0, 0, 0, 0, 0, 0]), array([1, 0, 0, 0, 0, 0, 0, 0, 0, 0, 0, 0, 0, 0, 0, 0, 0, 0, 0, 0, 0, 0,\n",
       "        0, 0, 0, 0, 0, 0, 0, 0]), array([0, 0, 0, 0, 0, 0, 0, 0, 0, 1, 0, 0, 0, 0, 0, 0, 0, 0, 0, 0, 0, 0,\n",
       "        0, 0, 0, 0, 0, 0, 0, 0]), array([0, 0, 0, 0, 0, 0, 1, 1, 0, 0, 0, 0, 0, 0, 0, 0, 0, 0, 0, 0, 0, 0,\n",
       "        0, 0, 0, 0, 0, 0, 0, 0])]"
      ]
     },
     "execution_count": 17,
     "metadata": {},
     "output_type": "execute_result"
    }
   ],
   "source": [
    "[sent[7] for sent in sentences_notarg]"
   ]
  },
  {
   "cell_type": "code",
   "execution_count": null,
   "metadata": {},
   "outputs": [],
   "source": []
  },
  {
   "cell_type": "code",
   "execution_count": 18,
   "metadata": {},
   "outputs": [],
   "source": [
    "sentences_bert = proc_sentences_dscovar(df_eval, 'sentence', 'relata1', 'bert')"
   ]
  },
  {
   "cell_type": "code",
   "execution_count": 19,
   "metadata": {},
   "outputs": [
    {
     "data": {
      "text/plain": [
       "[array(['abstract', 'accident', 'accident', ..., 'you', 'young', 'zero'],\n",
       "       dtype='<U18'),\n",
       " array(['abstract can be used as the opposite of concrete',\n",
       "        'accident can be used as the opposite of plan',\n",
       "        'accident can be used as the opposite of purpose', ...,\n",
       "        'you can have or can contain feel',\n",
       "        'young can be used as the opposite of mature',\n",
       "        'zero is a kind of number'], dtype='<U64')]"
      ]
     },
     "execution_count": 19,
     "metadata": {},
     "output_type": "execute_result"
    }
   ],
   "source": [
    "sentences_bert"
   ]
  },
  {
   "cell_type": "code",
   "execution_count": 20,
   "metadata": {},
   "outputs": [
    {
     "data": {
      "application/vnd.jupyter.widget-view+json": {
       "model_id": "1bc78a30625a4a89b1b247883d30f6cf",
       "version_major": 2,
       "version_minor": 0
      },
      "text/plain": [
       "HBox(children=(IntProgress(value=0, description='Converting examples to features', max=7492, style=ProgressSty…"
      ]
     },
     "metadata": {},
     "output_type": "display_data"
    },
    {
     "name": "stdout",
     "output_type": "stream",
     "text": [
      "\n"
     ]
    },
    {
     "data": {
      "text/plain": [
       "(array([[ 103, 1169, 1129, ...,    0,    0,    0],\n",
       "        [ 103, 1169, 1129, ...,    0,    0,    0],\n",
       "        [ 103, 1169, 1129, ...,    0,    0,    0],\n",
       "        ...,\n",
       "        [ 103, 1169, 1138, ...,    0,    0,    0],\n",
       "        [ 103, 1169, 1129, ...,    0,    0,    0],\n",
       "        [ 103, 1110,  170, ...,    0,    0,    0]]),\n",
       " array([[0, 1, 1, ..., 0, 0, 0],\n",
       "        [0, 1, 1, ..., 0, 0, 0],\n",
       "        [0, 1, 1, ..., 0, 0, 0],\n",
       "        ...,\n",
       "        [0, 1, 1, ..., 0, 0, 0],\n",
       "        [0, 1, 1, ..., 0, 0, 0],\n",
       "        [0, 1, 1, ..., 0, 0, 0]]),\n",
       " array([[0, 0, 0, ..., 0, 0, 0],\n",
       "        [0, 0, 0, ..., 0, 0, 0],\n",
       "        [0, 0, 0, ..., 0, 0, 0],\n",
       "        ...,\n",
       "        [0, 0, 0, ..., 0, 0, 0],\n",
       "        [0, 0, 0, ..., 0, 0, 0],\n",
       "        [0, 0, 0, ..., 0, 0, 0]]),\n",
       " array([[1, 0, 0, ..., 0, 0, 0],\n",
       "        [1, 0, 0, ..., 0, 0, 0],\n",
       "        [1, 0, 0, ..., 0, 0, 0],\n",
       "        ...,\n",
       "        [1, 0, 0, ..., 0, 0, 0],\n",
       "        [1, 0, 0, ..., 0, 0, 0],\n",
       "        [1, 0, 0, ..., 0, 0, 0]]),\n",
       " array([[4.4       ],\n",
       "        [4.68421053],\n",
       "        [4.4       ],\n",
       "        ...,\n",
       "        [4.2       ],\n",
       "        [4.8       ],\n",
       "        [5.        ]]))"
      ]
     },
     "execution_count": 20,
     "metadata": {},
     "output_type": "execute_result"
    }
   ],
   "source": [
    "tokenizer = create_tokenizer_from_hub_module()\n",
    "sentences_bert_examples = convert_text_to_examples(sentences_bert[0], sentences_bert[1], df_eval['votes_avg_score'])\n",
    "sentences_bert_input = convert_examples_to_features(tokenizer, sentences_bert_examples, False, MAX_SEQ_LEN)\n",
    "sentences_bert_input"
   ]
  },
  {
   "cell_type": "markdown",
   "metadata": {},
   "source": [
    "# Attention results scoring strategy"
   ]
  },
  {
   "cell_type": "markdown",
   "metadata": {},
   "source": [
    "- processing the input\n",
    "    - consider relata1 as the target word\n",
    "    - sentence as a context\n",
    "    - see if the model pays more attention to relata2\n",
    "    - vice versa: this can control the target word location (beginning (relata1) or end (relata2) of the context sentence)\n",
    "- scoring\n",
    "    - (assuming relata1 is the target word)\n",
    "    - criterion 1: does the model pays more attention to relata2?\n",
    "    - criterion 2: does the model pays more attention to relational cues? \n",
    "        - e.g., abstract can be used as the *opposite* of concrete\n",
    "    - sum the rankings "
   ]
  },
  {
   "cell_type": "markdown",
   "metadata": {},
   "source": [
    "# Model output "
   ]
  },
  {
   "cell_type": "code",
   "execution_count": 21,
   "metadata": {},
   "outputs": [
    {
     "name": "stdout",
     "output_type": "stream",
     "text": [
      "WARNING: Entity <bound method ElmoLayer.call of <layers.embeddings.ElmoLayer object at 0x7f0516266978>> could not be transformed and will be executed as-is. Please report this to the AutgoGraph team. When filing the bug, set the verbosity to 10 (on Linux, `export AUTOGRAPH_VERBOSITY=10`) and attach the full output. Cause: converting <bound method ElmoLayer.call of <layers.embeddings.ElmoLayer object at 0x7f0516266978>>: AttributeError: module 'gast' has no attribute 'Num'\n",
      "1024\n",
      "WARNING: Entity <bound method AttentionLayer.call of <layers.attention.AttentionLayer object at 0x7f051521cf60>> could not be transformed and will be executed as-is. Please report this to the AutgoGraph team. When filing the bug, set the verbosity to 10 (on Linux, `export AUTOGRAPH_VERBOSITY=10`) and attach the full output. Cause: converting <bound method AttentionLayer.call of <layers.attention.AttentionLayer object at 0x7f051521cf60>>: AttributeError: module 'gast' has no attribute 'Num'\n",
      "WARNING: Entity <bound method ElmoLayer.call of <layers.embeddings.ElmoLayer object at 0x7f06100c03c8>> could not be transformed and will be executed as-is. Please report this to the AutgoGraph team. When filing the bug, set the verbosity to 10 (on Linux, `export AUTOGRAPH_VERBOSITY=10`) and attach the full output. Cause: converting <bound method ElmoLayer.call of <layers.embeddings.ElmoLayer object at 0x7f06100c03c8>>: AttributeError: module 'gast' has no attribute 'Num'\n",
      "1024\n",
      "WARNING: Entity <bound method ElmoLayer.call of <layers.embeddings.ElmoLayer object at 0x7f05a423dcc0>> could not be transformed and will be executed as-is. Please report this to the AutgoGraph team. When filing the bug, set the verbosity to 10 (on Linux, `export AUTOGRAPH_VERBOSITY=10`) and attach the full output. Cause: converting <bound method ElmoLayer.call of <layers.embeddings.ElmoLayer object at 0x7f05a423dcc0>>: AttributeError: module 'gast' has no attribute 'Num'\n",
      "1024\n",
      "WARNING: Entity <bound method AttentionLayer.call of <layers.attention.AttentionLayer object at 0x7f0516e625c0>> could not be transformed and will be executed as-is. Please report this to the AutgoGraph team. When filing the bug, set the verbosity to 10 (on Linux, `export AUTOGRAPH_VERBOSITY=10`) and attach the full output. Cause: converting <bound method AttentionLayer.call of <layers.attention.AttentionLayer object at 0x7f0516e625c0>>: AttributeError: module 'gast' has no attribute 'Num'\n",
      "WARNING: Entity <bound method BertLayer.call of <layers.embeddings.BertLayer object at 0x7f0514279d30>> could not be transformed and will be executed as-is. Please report this to the AutgoGraph team. When filing the bug, set the verbosity to 10 (on Linux, `export AUTOGRAPH_VERBOSITY=10`) and attach the full output. Cause: converting <bound method BertLayer.call of <layers.embeddings.BertLayer object at 0x7f0514279d30>>: AttributeError: module 'gast' has no attribute 'Num'\n",
      "WARNING: Entity <bound method AttentionLayer.call of <layers.attention.AttentionLayer object at 0x7f050523d400>> could not be transformed and will be executed as-is. Please report this to the AutgoGraph team. When filing the bug, set the verbosity to 10 (on Linux, `export AUTOGRAPH_VERBOSITY=10`) and attach the full output. Cause: converting <bound method AttentionLayer.call of <layers.attention.AttentionLayer object at 0x7f050523d400>>: AttributeError: module 'gast' has no attribute 'Num'\n",
      "WARNING: Entity <bound method BertLayer.call of <layers.embeddings.BertLayer object at 0x7f0277c65fd0>> could not be transformed and will be executed as-is. Please report this to the AutgoGraph team. When filing the bug, set the verbosity to 10 (on Linux, `export AUTOGRAPH_VERBOSITY=10`) and attach the full output. Cause: converting <bound method BertLayer.call of <layers.embeddings.BertLayer object at 0x7f0277c65fd0>>: AttributeError: module 'gast' has no attribute 'Num'\n",
      "WARNING: Entity <bound method BertLayer.call of <layers.embeddings.BertLayer object at 0x7f0277c62cf8>> could not be transformed and will be executed as-is. Please report this to the AutgoGraph team. When filing the bug, set the verbosity to 10 (on Linux, `export AUTOGRAPH_VERBOSITY=10`) and attach the full output. Cause: converting <bound method BertLayer.call of <layers.embeddings.BertLayer object at 0x7f0277c62cf8>>: AttributeError: module 'gast' has no attribute 'Num'\n",
      "WARNING: Entity <bound method AttentionLayer.call of <layers.attention.AttentionLayer object at 0x7f026ded1b70>> could not be transformed and will be executed as-is. Please report this to the AutgoGraph team. When filing the bug, set the verbosity to 10 (on Linux, `export AUTOGRAPH_VERBOSITY=10`) and attach the full output. Cause: converting <bound method AttentionLayer.call of <layers.attention.AttentionLayer object at 0x7f026ded1b70>>: AttributeError: module 'gast' has no attribute 'Num'\n"
     ]
    }
   ],
   "source": [
    "K.clear_session()\n",
    "sess = tf.Session()\n",
    "\n",
    "# model_elmo_notune_wtattn = build_model_elmo(MAX_SEQ_LEN, False, True,  False)\n",
    "# model_elmo_notune_noattn = build_model_elmo(MAX_SEQ_LEN, False, False, False)\n",
    "model_elmo_fntune_wtattn_1emb = build_model_elmo(MAX_SEQ_LEN, True, True,  False)\n",
    "model_elmo_fntune_wtattn_2emb = build_model_elmo(MAX_SEQ_LEN, True, True, True)\n",
    "model_bert_fntune_wtattn_1emb = build_model_bert(MAX_SEQ_LEN, True, True,  False)\n",
    "model_bert_fntune_wtattn_2emb = build_model_bert(MAX_SEQ_LEN, True, True, True)\n",
    "\n",
    "initialize_vars(sess)"
   ]
  },
  {
   "cell_type": "code",
   "execution_count": 22,
   "metadata": {},
   "outputs": [],
   "source": [
    "model_elmo_fntune_wtattn_1emb.load_weights('./model_weights/finetune/elmo/1emb/model_elmo_notarg_wtattn_bws_cvTwrd0.h5')\n",
    "model_elmo_fntune_wtattn_2emb.load_weights('./model_weights/finetune/elmo/2emb/model_elmo_notarg_wtattn_bws_cvTwrd0.h5')\n",
    "model_bert_fntune_wtattn_1emb.load_weights('./model_weights/finetune/bert/1emb/model_bert_notarg_wtattn_lrlow_bws_cvTwrd0.h5')\n",
    "model_bert_fntune_wtattn_2emb.load_weights('./model_weights/finetune/bert/2emb/model_bert_notarg_wtattn_lrlow_bws_cvTwrd0.h5')"
   ]
  },
  {
   "cell_type": "code",
   "execution_count": null,
   "metadata": {},
   "outputs": [],
   "source": []
  },
  {
   "cell_type": "code",
   "execution_count": 23,
   "metadata": {},
   "outputs": [],
   "source": [
    "model_elmo_fntune_attn_1emb = Model(model_elmo_fntune_wtattn_1emb.inputs, model_elmo_fntune_wtattn_1emb.get_layer(\"attention_layer\").output[1])\n",
    "model_elmo_fntune_attn_2emb = Model(model_elmo_fntune_wtattn_2emb.inputs, model_elmo_fntune_wtattn_2emb.get_layer(\"attention_layer\").output[1])\n",
    "model_bert_fntune_attn_1emb = Model(model_bert_fntune_wtattn_1emb.inputs, model_bert_fntune_wtattn_1emb.get_layer(\"attention_layer\").output[1])\n",
    "model_bert_fntune_attn_2emb = Model(model_bert_fntune_wtattn_2emb.inputs, model_bert_fntune_wtattn_2emb.get_layer(\"attention_layer\").output[1])"
   ]
  },
  {
   "cell_type": "code",
   "execution_count": null,
   "metadata": {},
   "outputs": [],
   "source": []
  },
  {
   "cell_type": "code",
   "execution_count": 24,
   "metadata": {},
   "outputs": [],
   "source": [
    "elmo_fntune_attn_pred_1emb = model_elmo_fntune_attn_1emb.predict(sentences_notarg)[:,0,:]\n",
    "elmo_fntune_attn_pred_2emb = model_elmo_fntune_attn_2emb.predict(sentences_wttarg)[:,0,:]\n",
    "bert_fntune_attn_pred_1emb = model_bert_fntune_attn_1emb.predict(sentences_bert_input)[:,0,:]\n",
    "bert_fntune_attn_pred_2emb = model_bert_fntune_attn_2emb.predict(sentences_bert_input)[:,0,:]"
   ]
  },
  {
   "cell_type": "code",
   "execution_count": null,
   "metadata": {},
   "outputs": [],
   "source": []
  },
  {
   "cell_type": "code",
   "execution_count": 25,
   "metadata": {},
   "outputs": [
    {
     "data": {
      "text/plain": [
       "array([0.        , 0.00587391, 0.00722504, 0.01977579, 0.00249211,\n",
       "       0.04735354, 0.02717614, 0.08150709, 0.00613867, 0.05270234,\n",
       "       0.        , 0.        , 0.        , 0.        , 0.        ,\n",
       "       0.        , 0.        , 0.        , 0.        , 0.        ,\n",
       "       0.        , 0.        , 0.        , 0.        , 0.        ,\n",
       "       0.        , 0.        , 0.        , 0.        , 0.        ])"
      ]
     },
     "execution_count": 25,
     "metadata": {},
     "output_type": "execute_result"
    }
   ],
   "source": [
    "elmo_fntune_attn_pred_2emb[7] * sentences_notarg[2][7]"
   ]
  },
  {
   "cell_type": "code",
   "execution_count": 26,
   "metadata": {},
   "outputs": [
    {
     "data": {
      "text/plain": [
       "array([0.        , 0.01575179, 0.01531768, 0.0157336 , 0.01595803,\n",
       "       0.01511277, 0.01564112, 0.01736445, 0.01687797, 0.0189434 ,\n",
       "       0.        , 0.        , 0.        , 0.        , 0.        ,\n",
       "       0.        , 0.        , 0.        , 0.        , 0.        ,\n",
       "       0.        , 0.        , 0.        , 0.        , 0.        ,\n",
       "       0.        , 0.        , 0.        , 0.        , 0.        ])"
      ]
     },
     "execution_count": 26,
     "metadata": {},
     "output_type": "execute_result"
    }
   ],
   "source": [
    "bert_fntune_attn_pred_2emb[7] * sentences_notarg[2][7]"
   ]
  },
  {
   "cell_type": "code",
   "execution_count": 27,
   "metadata": {},
   "outputs": [
    {
     "data": {
      "text/plain": [
       "array([0.        , 0.02253668, 0.01665933, 0.02678995, 0.02176848,\n",
       "       0.02169131, 0.02165814, 0.02651314, 0.02223309, 0.0330233 ,\n",
       "       0.        , 0.        , 0.        , 0.        , 0.        ,\n",
       "       0.        , 0.        , 0.        , 0.        , 0.        ,\n",
       "       0.        , 0.        , 0.        , 0.        , 0.        ,\n",
       "       0.        , 0.        , 0.        , 0.        , 0.        ])"
      ]
     },
     "execution_count": 27,
     "metadata": {},
     "output_type": "execute_result"
    }
   ],
   "source": [
    "elmo_fntune_attn_pred_1emb[7] * sentences_notarg[2][7]"
   ]
  },
  {
   "cell_type": "code",
   "execution_count": 28,
   "metadata": {},
   "outputs": [
    {
     "data": {
      "text/plain": [
       "Text(0.5,1,'bert_finetune_2emb')"
      ]
     },
     "execution_count": 28,
     "metadata": {},
     "output_type": "execute_result"
    },
    {
     "data": {
      "image/png": "[encoded data removed]",
      "text/plain": [
       "<Figure size 2016x720 with 4 Axes>"
      ]
     },
     "metadata": {
      "needs_background": "light"
     },
     "output_type": "display_data"
    }
   ],
   "source": [
    "fig, axes = plt.subplots(2, 2, figsize=(28, 10))\n",
    "\n",
    "axes[0][0].bar(x=sentences_notarg[1][7], height=min_max_sc(elmo_fntune_attn_pred_1emb[7] * sentences_notarg[2][7]))\n",
    "axes[0][1].bar(x=sentences_notarg[1][7], height=min_max_sc(elmo_fntune_attn_pred_2emb[7] * sentences_notarg[2][7]))\n",
    "axes[1][0].bar(x=sentences_notarg[1][7], height=min_max_sc(bert_fntune_attn_pred_1emb[7] * sentences_notarg[2][7]))\n",
    "axes[1][1].bar(x=sentences_notarg[1][7], height=min_max_sc(bert_fntune_attn_pred_2emb[7] * sentences_notarg[2][7]))\n",
    "\n",
    "axes[0][0].set_title(\"elmo_finetune_1emb\")\n",
    "axes[0][1].set_title(\"elmo_finetune_2emb\")\n",
    "axes[1][0].set_title(\"bert_finetune_1emb\")\n",
    "axes[1][1].set_title(\"bert_finetune_2emb\")\n"
   ]
  },
  {
   "cell_type": "code",
   "execution_count": 29,
   "metadata": {},
   "outputs": [
    {
     "name": "stdout",
     "output_type": "stream",
     "text": [
      "target_pair_loc: 9 relation_cue_loc: 6\n"
     ]
    }
   ],
   "source": [
    "print(\"target_pair_loc:\", np.where(sentences_notarg[4][7])[0][0], \n",
    "      \"relation_cue_loc:\", np.where(sentences_notarg[5][7])[0][0])"
   ]
  },
  {
   "cell_type": "code",
   "execution_count": null,
   "metadata": {},
   "outputs": [],
   "source": []
  },
  {
   "cell_type": "code",
   "execution_count": 39,
   "metadata": {},
   "outputs": [
    {
     "data": {
      "text/plain": [
       "[array([0]),\n",
       " array([7, 2]),\n",
       " array([1]),\n",
       " array([3, 0]),\n",
       " array([1]),\n",
       " array([4, 0]),\n",
       " array([0]),\n",
       " array([6, 1])]"
      ]
     },
     "execution_count": 39,
     "metadata": {},
     "output_type": "execute_result"
    }
   ],
   "source": [
    "[attention_ranks(elmo_fntune_attn_pred_1emb[7], sentences_notarg[2][7], sentences_notarg[4][7]), attention_ranks(elmo_fntune_attn_pred_1emb[7], sentences_notarg[2][7], sentences_notarg[5][7]),\n",
    " attention_ranks(elmo_fntune_attn_pred_2emb[7], sentences_notarg[2][7], sentences_notarg[4][7]), attention_ranks(elmo_fntune_attn_pred_2emb[7], sentences_notarg[2][7], sentences_notarg[5][7]),\n",
    " attention_ranks(bert_fntune_attn_pred_1emb[7], sentences_notarg[2][7], sentences_notarg[4][7]), attention_ranks(bert_fntune_attn_pred_1emb[7], sentences_notarg[2][7], sentences_notarg[5][7]),\n",
    " attention_ranks(bert_fntune_attn_pred_2emb[7], sentences_notarg[2][7], sentences_notarg[4][7]), attention_ranks(bert_fntune_attn_pred_2emb[7], sentences_notarg[2][7], sentences_notarg[5][7]),\n",
    "]"
   ]
  },
  {
   "cell_type": "code",
   "execution_count": 40,
   "metadata": {},
   "outputs": [
    {
     "data": {
      "text/plain": [
       "[array([1.  , 0.55]),\n",
       " array([0.9 , 0.85]),\n",
       " array([0.9, 0.8]),\n",
       " array([1.  , 0.65])]"
      ]
     },
     "execution_count": 40,
     "metadata": {},
     "output_type": "execute_result"
    }
   ],
   "source": [
    "[attention_scores(elmo_fntune_attn_pred_1emb[7], sentences_notarg[0][7], sentences_notarg[2][7], sentences_notarg[4][7], sentences_notarg[5][7]),\n",
    " attention_scores(elmo_fntune_attn_pred_2emb[7], sentences_notarg[0][7], sentences_notarg[2][7], sentences_notarg[4][7], sentences_notarg[5][7]),\n",
    " attention_scores(bert_fntune_attn_pred_1emb[7], sentences_notarg[0][7], sentences_notarg[2][7], sentences_notarg[4][7], sentences_notarg[5][7]),\n",
    " attention_scores(bert_fntune_attn_pred_2emb[7], sentences_notarg[0][7], sentences_notarg[2][7], sentences_notarg[4][7], sentences_notarg[5][7])]"
   ]
  },
  {
   "cell_type": "code",
   "execution_count": null,
   "metadata": {},
   "outputs": [],
   "source": []
  },
  {
   "cell_type": "code",
   "execution_count": null,
   "metadata": {},
   "outputs": [],
   "source": []
  },
  {
   "cell_type": "code",
   "execution_count": null,
   "metadata": {},
   "outputs": [],
   "source": []
  },
  {
   "cell_type": "code",
   "execution_count": 32,
   "metadata": {},
   "outputs": [],
   "source": [
    "elmo_fntune_1emb_attscore = np.array([attention_scores(elmo_fntune_attn_pred_1emb[i], sentences_notarg[0][i], sentences_notarg[2][i], sentences_notarg[4][i], sentences_notarg[5][i]) for i in range(df_eval.shape[0])])\n",
    "elmo_fntune_2emb_attscore = np.array([attention_scores(elmo_fntune_attn_pred_2emb[i], sentences_notarg[0][i], sentences_notarg[2][i], sentences_notarg[4][i], sentences_notarg[5][i]) for i in range(df_eval.shape[0])])\n",
    "bert_fntune_1emb_attscore = np.array([attention_scores(bert_fntune_attn_pred_1emb[i], sentences_notarg[0][i], sentences_notarg[2][i], sentences_notarg[4][i], sentences_notarg[5][i]) for i in range(df_eval.shape[0])])\n",
    "bert_fntune_2emb_attscore = np.array([attention_scores(bert_fntune_attn_pred_2emb[i], sentences_notarg[0][i], sentences_notarg[2][i], sentences_notarg[4][i], sentences_notarg[5][i]) for i in range(df_eval.shape[0])])\n"
   ]
  },
  {
   "cell_type": "code",
   "execution_count": 33,
   "metadata": {},
   "outputs": [],
   "source": [
    "df_eval['elmo_fntune_1emb_attscore_pair'] = elmo_fntune_1emb_attscore[:,0]\n",
    "df_eval['elmo_fntune_1emb_attscore_rcue'] = elmo_fntune_1emb_attscore[:,1]\n",
    "df_eval['elmo_fntune_2emb_attscore_pair'] = elmo_fntune_2emb_attscore[:,0]\n",
    "df_eval['elmo_fntune_2emb_attscore_rcue'] = elmo_fntune_2emb_attscore[:,1]\n",
    "df_eval['bert_fntune_1emb_attscore_pair'] = bert_fntune_1emb_attscore[:,0]\n",
    "df_eval['bert_fntune_1emb_attscore_rcue'] = bert_fntune_1emb_attscore[:,1]\n",
    "df_eval['bert_fntune_2emb_attscore_pair'] = bert_fntune_2emb_attscore[:,0]\n",
    "df_eval['bert_fntune_2emb_attscore_rcue'] = bert_fntune_2emb_attscore[:,1]\n",
    "df_eval['elmo_fntune_1emb_attscore_sum'] = df_eval['elmo_fntune_1emb_attscore_pair']+df_eval['elmo_fntune_1emb_attscore_rcue']\n",
    "df_eval['elmo_fntune_2emb_attscore_sum'] = df_eval['elmo_fntune_2emb_attscore_pair']+df_eval['elmo_fntune_2emb_attscore_rcue']\n",
    "df_eval['bert_fntune_1emb_attscore_sum'] = df_eval['bert_fntune_1emb_attscore_pair']+df_eval['bert_fntune_1emb_attscore_rcue']\n",
    "df_eval['bert_fntune_2emb_attscore_sum'] = df_eval['bert_fntune_2emb_attscore_pair']+df_eval['bert_fntune_2emb_attscore_rcue']"
   ]
  },
  {
   "cell_type": "markdown",
   "metadata": {},
   "source": [
    "- Score: pair < rcue\n",
    "    - if context does not include the target word\n",
    "        - Antonym, HasProperty, Synonym\n",
    "    - if context does include the target word\n",
    "        - Entails, MadeOf\n",
    "- Score: no target < with target\n",
    "    - target-pair word\n",
    "        - IsA\n",
    "    - relational cue\n",
    "        - MadeOf"
   ]
  },
  {
   "cell_type": "code",
   "execution_count": 34,
   "metadata": {},
   "outputs": [
    {
     "data": {
      "text/html": [
       "<div>\n",
       "<style scoped>\n",
       "    .dataframe tbody tr th:only-of-type {\n",
       "        vertical-align: middle;\n",
       "    }\n",
       "\n",
       "    .dataframe tbody tr th {\n",
       "        vertical-align: top;\n",
       "    }\n",
       "\n",
       "    .dataframe thead th {\n",
       "        text-align: right;\n",
       "    }\n",
       "</style>\n",
       "<table border=\"1\" class=\"dataframe\">\n",
       "  <thead>\n",
       "    <tr style=\"text-align: right;\">\n",
       "      <th></th>\n",
       "      <th>elmo_fntune_1emb_attscore_pair</th>\n",
       "      <th>elmo_fntune_1emb_attscore_rcue</th>\n",
       "      <th>elmo_fntune_1emb_attscore_sum</th>\n",
       "      <th>elmo_fntune_2emb_attscore_pair</th>\n",
       "      <th>elmo_fntune_2emb_attscore_rcue</th>\n",
       "      <th>elmo_fntune_2emb_attscore_sum</th>\n",
       "      <th>bert_fntune_1emb_attscore_pair</th>\n",
       "      <th>bert_fntune_1emb_attscore_rcue</th>\n",
       "      <th>bert_fntune_1emb_attscore_sum</th>\n",
       "      <th>bert_fntune_2emb_attscore_pair</th>\n",
       "      <th>bert_fntune_2emb_attscore_rcue</th>\n",
       "      <th>bert_fntune_2emb_attscore_sum</th>\n",
       "    </tr>\n",
       "    <tr>\n",
       "      <th>relation</th>\n",
       "      <th></th>\n",
       "      <th></th>\n",
       "      <th></th>\n",
       "      <th></th>\n",
       "      <th></th>\n",
       "      <th></th>\n",
       "      <th></th>\n",
       "      <th></th>\n",
       "      <th></th>\n",
       "      <th></th>\n",
       "      <th></th>\n",
       "      <th></th>\n",
       "    </tr>\n",
       "  </thead>\n",
       "  <tbody>\n",
       "    <tr>\n",
       "      <th>Antonym</th>\n",
       "      <td>0.939</td>\n",
       "      <td>0.874</td>\n",
       "      <td>1.813</td>\n",
       "      <td>0.878</td>\n",
       "      <td>0.942</td>\n",
       "      <td>1.820</td>\n",
       "      <td>0.909</td>\n",
       "      <td>0.857</td>\n",
       "      <td>1.766</td>\n",
       "      <td>0.986</td>\n",
       "      <td>0.791</td>\n",
       "      <td>1.776</td>\n",
       "    </tr>\n",
       "    <tr>\n",
       "      <th>Entails</th>\n",
       "      <td>0.850</td>\n",
       "      <td>0.669</td>\n",
       "      <td>1.519</td>\n",
       "      <td>0.873</td>\n",
       "      <td>0.625</td>\n",
       "      <td>1.498</td>\n",
       "      <td>0.747</td>\n",
       "      <td>0.641</td>\n",
       "      <td>1.388</td>\n",
       "      <td>0.771</td>\n",
       "      <td>0.554</td>\n",
       "      <td>1.325</td>\n",
       "    </tr>\n",
       "    <tr>\n",
       "      <th>HasA</th>\n",
       "      <td>0.940</td>\n",
       "      <td>0.675</td>\n",
       "      <td>1.615</td>\n",
       "      <td>1.000</td>\n",
       "      <td>0.453</td>\n",
       "      <td>1.453</td>\n",
       "      <td>0.972</td>\n",
       "      <td>0.589</td>\n",
       "      <td>1.561</td>\n",
       "      <td>0.963</td>\n",
       "      <td>0.787</td>\n",
       "      <td>1.749</td>\n",
       "    </tr>\n",
       "    <tr>\n",
       "      <th>HasProperty</th>\n",
       "      <td>0.939</td>\n",
       "      <td>0.889</td>\n",
       "      <td>1.828</td>\n",
       "      <td>0.975</td>\n",
       "      <td>0.856</td>\n",
       "      <td>1.831</td>\n",
       "      <td>0.927</td>\n",
       "      <td>0.723</td>\n",
       "      <td>1.651</td>\n",
       "      <td>0.996</td>\n",
       "      <td>0.736</td>\n",
       "      <td>1.732</td>\n",
       "    </tr>\n",
       "    <tr>\n",
       "      <th>IsA</th>\n",
       "      <td>0.939</td>\n",
       "      <td>0.334</td>\n",
       "      <td>1.273</td>\n",
       "      <td>0.957</td>\n",
       "      <td>0.338</td>\n",
       "      <td>1.295</td>\n",
       "      <td>0.945</td>\n",
       "      <td>0.856</td>\n",
       "      <td>1.801</td>\n",
       "      <td>0.980</td>\n",
       "      <td>0.809</td>\n",
       "      <td>1.788</td>\n",
       "    </tr>\n",
       "    <tr>\n",
       "      <th>MadeOf</th>\n",
       "      <td>0.968</td>\n",
       "      <td>0.821</td>\n",
       "      <td>1.789</td>\n",
       "      <td>0.982</td>\n",
       "      <td>0.810</td>\n",
       "      <td>1.792</td>\n",
       "      <td>0.865</td>\n",
       "      <td>0.636</td>\n",
       "      <td>1.501</td>\n",
       "      <td>0.883</td>\n",
       "      <td>0.412</td>\n",
       "      <td>1.295</td>\n",
       "    </tr>\n",
       "    <tr>\n",
       "      <th>MemberOf</th>\n",
       "      <td>1.000</td>\n",
       "      <td>0.427</td>\n",
       "      <td>1.427</td>\n",
       "      <td>1.000</td>\n",
       "      <td>0.760</td>\n",
       "      <td>1.760</td>\n",
       "      <td>0.984</td>\n",
       "      <td>0.771</td>\n",
       "      <td>1.755</td>\n",
       "      <td>0.937</td>\n",
       "      <td>0.682</td>\n",
       "      <td>1.620</td>\n",
       "    </tr>\n",
       "    <tr>\n",
       "      <th>PartOf</th>\n",
       "      <td>0.985</td>\n",
       "      <td>0.395</td>\n",
       "      <td>1.380</td>\n",
       "      <td>0.988</td>\n",
       "      <td>0.733</td>\n",
       "      <td>1.720</td>\n",
       "      <td>0.820</td>\n",
       "      <td>0.814</td>\n",
       "      <td>1.634</td>\n",
       "      <td>0.888</td>\n",
       "      <td>0.472</td>\n",
       "      <td>1.360</td>\n",
       "    </tr>\n",
       "    <tr>\n",
       "      <th>Synonym</th>\n",
       "      <td>0.865</td>\n",
       "      <td>0.600</td>\n",
       "      <td>1.465</td>\n",
       "      <td>0.789</td>\n",
       "      <td>0.836</td>\n",
       "      <td>1.624</td>\n",
       "      <td>0.888</td>\n",
       "      <td>0.752</td>\n",
       "      <td>1.640</td>\n",
       "      <td>0.965</td>\n",
       "      <td>0.695</td>\n",
       "      <td>1.660</td>\n",
       "    </tr>\n",
       "    <tr>\n",
       "      <th>overall avg.</th>\n",
       "      <td>0.933</td>\n",
       "      <td>0.639</td>\n",
       "      <td>1.572</td>\n",
       "      <td>0.925</td>\n",
       "      <td>0.696</td>\n",
       "      <td>1.622</td>\n",
       "      <td>0.912</td>\n",
       "      <td>0.783</td>\n",
       "      <td>1.695</td>\n",
       "      <td>0.966</td>\n",
       "      <td>0.725</td>\n",
       "      <td>1.691</td>\n",
       "    </tr>\n",
       "  </tbody>\n",
       "</table>\n",
       "</div>"
      ],
      "text/plain": [
       "              elmo_fntune_1emb_attscore_pair  elmo_fntune_1emb_attscore_rcue  \\\n",
       "relation                                                                       \n",
       "Antonym       0.939                           0.874                            \n",
       "Entails       0.850                           0.669                            \n",
       "HasA          0.940                           0.675                            \n",
       "HasProperty   0.939                           0.889                            \n",
       "IsA           0.939                           0.334                            \n",
       "MadeOf        0.968                           0.821                            \n",
       "MemberOf      1.000                           0.427                            \n",
       "PartOf        0.985                           0.395                            \n",
       "Synonym       0.865                           0.600                            \n",
       "overall avg.  0.933                           0.639                            \n",
       "\n",
       "              elmo_fntune_1emb_attscore_sum  elmo_fntune_2emb_attscore_pair  \\\n",
       "relation                                                                      \n",
       "Antonym       1.813                          0.878                            \n",
       "Entails       1.519                          0.873                            \n",
       "HasA          1.615                          1.000                            \n",
       "HasProperty   1.828                          0.975                            \n",
       "IsA           1.273                          0.957                            \n",
       "MadeOf        1.789                          0.982                            \n",
       "MemberOf      1.427                          1.000                            \n",
       "PartOf        1.380                          0.988                            \n",
       "Synonym       1.465                          0.789                            \n",
       "overall avg.  1.572                          0.925                            \n",
       "\n",
       "              elmo_fntune_2emb_attscore_rcue  elmo_fntune_2emb_attscore_sum  \\\n",
       "relation                                                                      \n",
       "Antonym       0.942                           1.820                           \n",
       "Entails       0.625                           1.498                           \n",
       "HasA          0.453                           1.453                           \n",
       "HasProperty   0.856                           1.831                           \n",
       "IsA           0.338                           1.295                           \n",
       "MadeOf        0.810                           1.792                           \n",
       "MemberOf      0.760                           1.760                           \n",
       "PartOf        0.733                           1.720                           \n",
       "Synonym       0.836                           1.624                           \n",
       "overall avg.  0.696                           1.622                           \n",
       "\n",
       "              bert_fntune_1emb_attscore_pair  bert_fntune_1emb_attscore_rcue  \\\n",
       "relation                                                                       \n",
       "Antonym       0.909                           0.857                            \n",
       "Entails       0.747                           0.641                            \n",
       "HasA          0.972                           0.589                            \n",
       "HasProperty   0.927                           0.723                            \n",
       "IsA           0.945                           0.856                            \n",
       "MadeOf        0.865                           0.636                            \n",
       "MemberOf      0.984                           0.771                            \n",
       "PartOf        0.820                           0.814                            \n",
       "Synonym       0.888                           0.752                            \n",
       "overall avg.  0.912                           0.783                            \n",
       "\n",
       "              bert_fntune_1emb_attscore_sum  bert_fntune_2emb_attscore_pair  \\\n",
       "relation                                                                      \n",
       "Antonym       1.766                          0.986                            \n",
       "Entails       1.388                          0.771                            \n",
       "HasA          1.561                          0.963                            \n",
       "HasProperty   1.651                          0.996                            \n",
       "IsA           1.801                          0.980                            \n",
       "MadeOf        1.501                          0.883                            \n",
       "MemberOf      1.755                          0.937                            \n",
       "PartOf        1.634                          0.888                            \n",
       "Synonym       1.640                          0.965                            \n",
       "overall avg.  1.695                          0.966                            \n",
       "\n",
       "              bert_fntune_2emb_attscore_rcue  bert_fntune_2emb_attscore_sum  \n",
       "relation                                                                     \n",
       "Antonym       0.791                           1.776                          \n",
       "Entails       0.554                           1.325                          \n",
       "HasA          0.787                           1.749                          \n",
       "HasProperty   0.736                           1.732                          \n",
       "IsA           0.809                           1.788                          \n",
       "MadeOf        0.412                           1.295                          \n",
       "MemberOf      0.682                           1.620                          \n",
       "PartOf        0.472                           1.360                          \n",
       "Synonym       0.695                           1.660                          \n",
       "overall avg.  0.725                           1.691                          "
      ]
     },
     "execution_count": 34,
     "metadata": {},
     "output_type": "execute_result"
    }
   ],
   "source": [
    "tt = df_eval.groupby('relation').apply(lambda df:df[['elmo_fntune_1emb_attscore_pair', 'elmo_fntune_1emb_attscore_rcue', 'elmo_fntune_1emb_attscore_sum',\n",
    "                                                     'elmo_fntune_2emb_attscore_pair', 'elmo_fntune_2emb_attscore_rcue', 'elmo_fntune_2emb_attscore_sum',\n",
    "                                                     'bert_fntune_1emb_attscore_pair', 'bert_fntune_1emb_attscore_rcue', 'bert_fntune_1emb_attscore_sum',\n",
    "                                                     'bert_fntune_2emb_attscore_pair', 'bert_fntune_2emb_attscore_rcue', 'bert_fntune_2emb_attscore_sum']].mean())\n",
    "# tt.loc['sum'] = tt.sum(axis=0)\n",
    "tt.loc['overall avg.'] = [df_eval['elmo_fntune_1emb_attscore_pair'].mean(), df_eval['elmo_fntune_1emb_attscore_rcue'].mean(), df_eval['elmo_fntune_1emb_attscore_sum'].mean(),\n",
    "                          df_eval['elmo_fntune_2emb_attscore_pair'].mean(), df_eval['elmo_fntune_2emb_attscore_rcue'].mean(), df_eval['elmo_fntune_2emb_attscore_sum'].mean(),\n",
    "                          df_eval['bert_fntune_1emb_attscore_pair'].mean(), df_eval['bert_fntune_1emb_attscore_rcue'].mean(), df_eval['bert_fntune_1emb_attscore_sum'].mean(),\n",
    "                          df_eval['bert_fntune_2emb_attscore_pair'].mean(), df_eval['bert_fntune_2emb_attscore_rcue'].mean(), df_eval['bert_fntune_2emb_attscore_sum'].mean(),]\n",
    "tt.round(3)"
   ]
  },
  {
   "cell_type": "markdown",
   "metadata": {},
   "source": [
    "Santus et al., 2015: The list of relationship and example relational cues\n",
    "<img src=\"dataset/EVALution_1.0/santus_et_al__hearst.png\">"
   ]
  },
  {
   "cell_type": "code",
   "execution_count": 35,
   "metadata": {},
   "outputs": [
    {
     "data": {
      "text/plain": [
       "{'pair': (0.932894489010179,\n",
       "  0.9250598694563924,\n",
       "  Ttest_indResult(statistic=3.0323790590719595, pvalue=0.002430492159064255)),\n",
       " 'rcue': (0.6386956572821495,\n",
       "  0.6964591058424481,\n",
       "  Ttest_indResult(statistic=-14.226127392194943, pvalue=1.2501849485749334e-45)),\n",
       " 'sum': (1.5715901462923285,\n",
       "  1.6215189752988406,\n",
       "  Ttest_indResult(statistic=-11.137070025545887, pvalue=1.0732130620320087e-28))}"
      ]
     },
     "execution_count": 35,
     "metadata": {},
     "output_type": "execute_result"
    }
   ],
   "source": [
    "# elmo finetune: 1emb vs 2emb\n",
    "{\"pair\":(df_eval['elmo_fntune_1emb_attscore_pair'].mean(), df_eval['elmo_fntune_2emb_attscore_pair'].mean(), ttest_ind(df_eval['elmo_fntune_1emb_attscore_pair'], df_eval['elmo_fntune_2emb_attscore_pair'])),\n",
    " \"rcue\":(df_eval['elmo_fntune_1emb_attscore_rcue'].mean(), df_eval['elmo_fntune_2emb_attscore_rcue'].mean(), ttest_ind(df_eval['elmo_fntune_1emb_attscore_rcue'], df_eval['elmo_fntune_2emb_attscore_rcue'])),\n",
    " \"sum\": (df_eval['elmo_fntune_1emb_attscore_sum'].mean(),   df_eval['elmo_fntune_2emb_attscore_sum'].mean(),  ttest_ind(df_eval['elmo_fntune_1emb_attscore_sum'], df_eval['elmo_fntune_2emb_attscore_sum']))}"
   ]
  },
  {
   "cell_type": "code",
   "execution_count": 36,
   "metadata": {},
   "outputs": [
    {
     "data": {
      "text/plain": [
       "{'pair': (0.911693378821649,\n",
       "  0.9658981224192449,\n",
       "  Ttest_indResult(statistic=-21.825092421905037, pvalue=5.550848372764604e-104)),\n",
       " 'rcue': (0.7830985430474886,\n",
       "  0.7247125842360761,\n",
       "  Ttest_indResult(statistic=24.122770820107824, pvalue=3.626560267898265e-126)),\n",
       " 'sum': (1.6947919218691376,\n",
       "  1.6906107066553209,\n",
       "  Ttest_indResult(statistic=1.2477970390007243, pvalue=0.21212489532194265))}"
      ]
     },
     "execution_count": 36,
     "metadata": {},
     "output_type": "execute_result"
    }
   ],
   "source": [
    "# bert finetune: 1emb vs 2emb\n",
    "{\"pair\":(df_eval['bert_fntune_1emb_attscore_pair'].mean(), df_eval['bert_fntune_2emb_attscore_pair'].mean(), ttest_ind(df_eval['bert_fntune_1emb_attscore_pair'], df_eval['bert_fntune_2emb_attscore_pair'])),\n",
    " \"rcue\":(df_eval['bert_fntune_1emb_attscore_rcue'].mean(), df_eval['bert_fntune_2emb_attscore_rcue'].mean(), ttest_ind(df_eval['bert_fntune_1emb_attscore_rcue'], df_eval['bert_fntune_2emb_attscore_rcue'])),\n",
    " \"sum\": (df_eval['bert_fntune_1emb_attscore_sum'].mean(),  df_eval['bert_fntune_2emb_attscore_sum'].mean(),  ttest_ind(df_eval['bert_fntune_1emb_attscore_sum'],  df_eval['bert_fntune_2emb_attscore_sum']))}"
   ]
  },
  {
   "cell_type": "code",
   "execution_count": 37,
   "metadata": {},
   "outputs": [
    {
     "data": {
      "text/plain": [
       "{'pair': (0.932894489010179,\n",
       "  0.911693378821649,\n",
       "  Ttest_indResult(statistic=7.897790538860468, pvalue=3.035038608037792e-15)),\n",
       " 'rcue': (0.6386956572821495,\n",
       "  0.7830985430474886,\n",
       "  Ttest_indResult(statistic=-44.082691149252966, pvalue=0.0)),\n",
       " 'sum': (1.5715901462923285,\n",
       "  1.6947919218691376,\n",
       "  Ttest_indResult(statistic=-31.287042410112456, pvalue=3.270802093883017e-208))}"
      ]
     },
     "execution_count": 37,
     "metadata": {},
     "output_type": "execute_result"
    }
   ],
   "source": [
    "# 1emb finetune: elmo vs bert\n",
    "{\"pair\":(df_eval['elmo_fntune_1emb_attscore_pair'].mean(), df_eval['bert_fntune_1emb_attscore_pair'].mean(), ttest_ind(df_eval['elmo_fntune_1emb_attscore_pair'], df_eval['bert_fntune_1emb_attscore_pair'])),\n",
    " \"rcue\":(df_eval['elmo_fntune_1emb_attscore_rcue'].mean(), df_eval['bert_fntune_1emb_attscore_rcue'].mean(), ttest_ind(df_eval['elmo_fntune_1emb_attscore_rcue'], df_eval['bert_fntune_1emb_attscore_rcue'])),\n",
    " \"sum\" :(df_eval['elmo_fntune_1emb_attscore_sum'].mean(),  df_eval['bert_fntune_1emb_attscore_sum'].mean(),  ttest_ind(df_eval['elmo_fntune_1emb_attscore_sum'],  df_eval['bert_fntune_1emb_attscore_sum']))}"
   ]
  },
  {
   "cell_type": "code",
   "execution_count": 38,
   "metadata": {},
   "outputs": [
    {
     "data": {
      "text/plain": [
       "{'pair': (0.9250598694563924,\n",
       "  0.9658981224192449,\n",
       "  Ttest_indResult(statistic=-17.20007559423212, pvalue=1.1319652188054198e-65)),\n",
       " 'rcue': (0.6964591058424481,\n",
       "  0.7247125842360761,\n",
       "  Ttest_indResult(statistic=-8.290344355385239, pvalue=1.2243089490784005e-16)),\n",
       " 'sum': (1.6215189752988406,\n",
       "  1.6906107066553209,\n",
       "  Ttest_indResult(statistic=-17.370608321793817, pvalue=6.23038793636646e-67))}"
      ]
     },
     "execution_count": 38,
     "metadata": {},
     "output_type": "execute_result"
    }
   ],
   "source": [
    "# 2emb finetune: elmo vs bert\n",
    "{\"pair\":(df_eval['elmo_fntune_2emb_attscore_pair'].mean(), df_eval['bert_fntune_2emb_attscore_pair'].mean(), ttest_ind(df_eval['elmo_fntune_2emb_attscore_pair'], df_eval['bert_fntune_2emb_attscore_pair'])),\n",
    " \"rcue\":(df_eval['elmo_fntune_2emb_attscore_rcue'].mean(), df_eval['bert_fntune_2emb_attscore_rcue'].mean(), ttest_ind(df_eval['elmo_fntune_2emb_attscore_rcue'], df_eval['bert_fntune_2emb_attscore_rcue'])),\n",
    " \"sum\" :(df_eval['elmo_fntune_2emb_attscore_sum'].mean(),  df_eval['bert_fntune_2emb_attscore_sum'].mean(),  ttest_ind(df_eval['elmo_fntune_2emb_attscore_sum'],  df_eval['bert_fntune_2emb_attscore_sum']))}"
   ]
  }
 ],
 "metadata": {
  "kernelspec": {
   "display_name": "Python 3",
   "language": "python",
   "name": "python3"
  },
  "language_info": {
   "codemirror_mode": {
    "name": "ipython",
    "version": 3
   },
   "file_extension": ".py",
   "mimetype": "text/x-python",
   "name": "python",
   "nbconvert_exporter": "python",
   "pygments_lexer": "ipython3",
   "version": "3.6.7"
  }
 },
 "nbformat": 4,
 "nbformat_minor": 4
}
