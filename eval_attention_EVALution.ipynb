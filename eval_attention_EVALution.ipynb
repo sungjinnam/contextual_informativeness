{
 "cells": [
  {
   "cell_type": "code",
   "execution_count": 1,
   "metadata": {},
   "outputs": [],
   "source": [
    "# # EVALution 1.0\n",
    "# Dataset containing Semantic Relations and Metadata, for Training and Evaluating Distributional Semantic Models\n",
    "# The resource is freely available. If you use it, please cite the description paper:\n",
    "# - Enrico Santus, Frances Yung, Alessandro Lenci, and Chu-Ren Huang. 2015. EVALution 1.0: An Evolving Semantic Dataset for Training and Evaluation of Distributional Semantic Models. Proceedings of the 4th Workshop on Linked Data in Linguistics, Beijing."
   ]
  },
  {
   "cell_type": "code",
   "execution_count": 2,
   "metadata": {},
   "outputs": [],
   "source": [
    "import pandas as pd\n",
    "import numpy as np\n",
    "import seaborn as sns\n",
    "import matplotlib.pyplot as plt\n",
    "from scipy.stats import ttest_ind"
   ]
  },
  {
   "cell_type": "code",
   "execution_count": 3,
   "metadata": {},
   "outputs": [
    {
     "name": "stderr",
     "output_type": "stream",
     "text": [
      "/home/sjnam/anaconda3/envs/infmtv_keras_gpu/lib/python3.6/site-packages/tensorflow/python/framework/dtypes.py:516: FutureWarning: Passing (type, 1) or '1type' as a synonym of type is deprecated; in a future version of numpy, it will be understood as (type, (1,)) / '(1,)type'.\n",
      "  _np_qint8 = np.dtype([(\"qint8\", np.int8, 1)])\n",
      "/home/sjnam/anaconda3/envs/infmtv_keras_gpu/lib/python3.6/site-packages/tensorflow/python/framework/dtypes.py:517: FutureWarning: Passing (type, 1) or '1type' as a synonym of type is deprecated; in a future version of numpy, it will be understood as (type, (1,)) / '(1,)type'.\n",
      "  _np_quint8 = np.dtype([(\"quint8\", np.uint8, 1)])\n",
      "/home/sjnam/anaconda3/envs/infmtv_keras_gpu/lib/python3.6/site-packages/tensorflow/python/framework/dtypes.py:518: FutureWarning: Passing (type, 1) or '1type' as a synonym of type is deprecated; in a future version of numpy, it will be understood as (type, (1,)) / '(1,)type'.\n",
      "  _np_qint16 = np.dtype([(\"qint16\", np.int16, 1)])\n",
      "/home/sjnam/anaconda3/envs/infmtv_keras_gpu/lib/python3.6/site-packages/tensorflow/python/framework/dtypes.py:519: FutureWarning: Passing (type, 1) or '1type' as a synonym of type is deprecated; in a future version of numpy, it will be understood as (type, (1,)) / '(1,)type'.\n",
      "  _np_quint16 = np.dtype([(\"quint16\", np.uint16, 1)])\n",
      "/home/sjnam/anaconda3/envs/infmtv_keras_gpu/lib/python3.6/site-packages/tensorflow/python/framework/dtypes.py:520: FutureWarning: Passing (type, 1) or '1type' as a synonym of type is deprecated; in a future version of numpy, it will be understood as (type, (1,)) / '(1,)type'.\n",
      "  _np_qint32 = np.dtype([(\"qint32\", np.int32, 1)])\n",
      "/home/sjnam/anaconda3/envs/infmtv_keras_gpu/lib/python3.6/site-packages/tensorflow/python/framework/dtypes.py:525: FutureWarning: Passing (type, 1) or '1type' as a synonym of type is deprecated; in a future version of numpy, it will be understood as (type, (1,)) / '(1,)type'.\n",
      "  np_resource = np.dtype([(\"resource\", np.ubyte, 1)])\n",
      "/home/sjnam/anaconda3/envs/infmtv_keras_gpu/lib/python3.6/site-packages/tensorboard/compat/tensorflow_stub/dtypes.py:541: FutureWarning: Passing (type, 1) or '1type' as a synonym of type is deprecated; in a future version of numpy, it will be understood as (type, (1,)) / '(1,)type'.\n",
      "  _np_qint8 = np.dtype([(\"qint8\", np.int8, 1)])\n",
      "/home/sjnam/anaconda3/envs/infmtv_keras_gpu/lib/python3.6/site-packages/tensorboard/compat/tensorflow_stub/dtypes.py:542: FutureWarning: Passing (type, 1) or '1type' as a synonym of type is deprecated; in a future version of numpy, it will be understood as (type, (1,)) / '(1,)type'.\n",
      "  _np_quint8 = np.dtype([(\"quint8\", np.uint8, 1)])\n",
      "/home/sjnam/anaconda3/envs/infmtv_keras_gpu/lib/python3.6/site-packages/tensorboard/compat/tensorflow_stub/dtypes.py:543: FutureWarning: Passing (type, 1) or '1type' as a synonym of type is deprecated; in a future version of numpy, it will be understood as (type, (1,)) / '(1,)type'.\n",
      "  _np_qint16 = np.dtype([(\"qint16\", np.int16, 1)])\n",
      "/home/sjnam/anaconda3/envs/infmtv_keras_gpu/lib/python3.6/site-packages/tensorboard/compat/tensorflow_stub/dtypes.py:544: FutureWarning: Passing (type, 1) or '1type' as a synonym of type is deprecated; in a future version of numpy, it will be understood as (type, (1,)) / '(1,)type'.\n",
      "  _np_quint16 = np.dtype([(\"quint16\", np.uint16, 1)])\n",
      "/home/sjnam/anaconda3/envs/infmtv_keras_gpu/lib/python3.6/site-packages/tensorboard/compat/tensorflow_stub/dtypes.py:545: FutureWarning: Passing (type, 1) or '1type' as a synonym of type is deprecated; in a future version of numpy, it will be understood as (type, (1,)) / '(1,)type'.\n",
      "  _np_qint32 = np.dtype([(\"qint32\", np.int32, 1)])\n",
      "/home/sjnam/anaconda3/envs/infmtv_keras_gpu/lib/python3.6/site-packages/tensorboard/compat/tensorflow_stub/dtypes.py:550: FutureWarning: Passing (type, 1) or '1type' as a synonym of type is deprecated; in a future version of numpy, it will be understood as (type, (1,)) / '(1,)type'.\n",
      "  np_resource = np.dtype([(\"resource\", np.ubyte, 1)])\n",
      "Using TensorFlow backend.\n"
     ]
    }
   ],
   "source": [
    "# keras modules\n",
    "import tensorflow as tf\n",
    "# from keras.models import load_model\n",
    "\n",
    "from keras.preprocessing.text import text_to_word_sequence, Tokenizer\n",
    "from keras.preprocessing.sequence import pad_sequences\n",
    "\n",
    "# from keras.utils import plot_model\n",
    "from tensorflow.keras import backend as K\n",
    "from tensorflow.keras import Model\n",
    "from tensorflow.keras.models import save_model, load_model\n",
    "# from tensorflow.keras.utils import plot_model\n",
    "# import keras_tqdm\n",
    "# from livelossplot.keras import PlotLossesCallback"
   ]
  },
  {
   "cell_type": "code",
   "execution_count": 4,
   "metadata": {},
   "outputs": [],
   "source": [
    "# custom layers from external files\n",
    "from layers.embeddings import ElmoLayer\n",
    "from layers.attention import AttentionLayer\n",
    "from models.build_models import build_model_elmo, initialize_vars\n",
    "from models.train_models import *\n",
    "from utils.utils import *"
   ]
  },
  {
   "cell_type": "code",
   "execution_count": 5,
   "metadata": {},
   "outputs": [],
   "source": [
    "# some option settings for Jupyter notebook and TF\n",
    "%load_ext autoreload\n",
    "%autoreload 2\n",
    "pd.set_option('display.max_colwidth', -1)\n",
    "tf.logging.set_verbosity(tf.logging.ERROR)"
   ]
  },
  {
   "cell_type": "markdown",
   "metadata": {},
   "source": [
    "# Import data "
   ]
  },
  {
   "cell_type": "code",
   "execution_count": 6,
   "metadata": {},
   "outputs": [],
   "source": [
    "# collum descriptions::\n",
    "#  - first relatum: it is one of the relata in the file RELATA.txt\n",
    "#  - relation: it can be one of the following relations: Antonym, Synonym, IsA (hypernymy), PartOf (meronymy), MemberOf (meronymy), MadeOf (meronymy), Entailment, HasA (possession), HasProperty (attribute). For the definition of these relations, please refer to: https://github.com/commonsense/conceptnet5/wiki/Relations.\n",
    "#  - second relatum: it is one of the relata in the file RELATA.txt\n",
    "#  - tags: this field contains a comma separated list of tags, with their frequency among the total number of annotators (e.g. \"CULTURE_1/5,EVENT_4/5\" stays for CULTURE was tagged by 1 subject on 5, while PLANT by 4 on 5). NOTE: The reliability of the tags is slow, as some subjects have tried to cheat; we suggest you to rely on tags that were judged at least twice.\n",
    "#  - sentence: this field contains a sentence that paraphrases the relation; this sentence was used in the crowdsourcing task to assess the quality of the relation.\n",
    "#  - distribution of votes: the next five columns are integers that represent the number of votes for each value, with reference to the sentence in the previous field: \"strong disagreement\" (the first one, value=1), \"disagreement\", \"neutral\", \"agreement\" and \"strong agreement\" (the last one, value=5).\n",
    "#  - agreement between subjects as reported by Crowdflower.\n",
    "#  - number of subjects who voted the agreement with the sentence.\n",
    "#  - average score (in the range between 1=\"strongly disagree\" and 5=\"strongly agree\").\n",
    "#  - variance among the votes.\n",
    "#  - average score minus the variance.\n",
    "#  - source from which the pair was extracted.\n",
    "#  - score in the source, if available.\n",
    "eval_colnames = [\n",
    "    \"relata1\",\n",
    "    \"relation\",\n",
    "    \"relata2\",\n",
    "    \"tags\",\n",
    "    \"sentence\",\n",
    "    \"votes_sc_1\",\n",
    "    \"votes_sc_2\",\n",
    "    \"votes_sc_3\",\n",
    "    \"votes_sc_4\",\n",
    "    \"votes_sc_5\",\n",
    "    \"votes_agreement\",\n",
    "    \"votes_no_agree\",\n",
    "    \"votes_avg_score\",\n",
    "    \"votes_var_score\",\n",
    "    \"votes_avg_var_diff\",\n",
    "    \"pair_source_name\",\n",
    "    \"pair_source_score\"\n",
    "]"
   ]
  },
  {
   "cell_type": "code",
   "execution_count": 7,
   "metadata": {},
   "outputs": [
    {
     "name": "stderr",
     "output_type": "stream",
     "text": [
      "/home/sjnam/anaconda3/envs/infmtv_keras_gpu/lib/python3.6/site-packages/ipykernel_launcher.py:1: FutureWarning: read_table is deprecated, use read_csv instead.\n",
      "  \"\"\"Entry point for launching an IPython kernel.\n"
     ]
    }
   ],
   "source": [
    "df_eval = pd.read_table(\"dataset/EVALution_1.0/RELATIONS.txt\", sep=\"\\t\", header=None, names=eval_colnames, index_col=False)"
   ]
  },
  {
   "cell_type": "code",
   "execution_count": 8,
   "metadata": {},
   "outputs": [],
   "source": [
    "df_eval['sentence'] = df_eval['sentence'].str.lower()"
   ]
  },
  {
   "cell_type": "code",
   "execution_count": 9,
   "metadata": {},
   "outputs": [
    {
     "data": {
      "text/html": [
       "<div>\n",
       "<style scoped>\n",
       "    .dataframe tbody tr th:only-of-type {\n",
       "        vertical-align: middle;\n",
       "    }\n",
       "\n",
       "    .dataframe tbody tr th {\n",
       "        vertical-align: top;\n",
       "    }\n",
       "\n",
       "    .dataframe thead th {\n",
       "        text-align: right;\n",
       "    }\n",
       "</style>\n",
       "<table border=\"1\" class=\"dataframe\">\n",
       "  <thead>\n",
       "    <tr style=\"text-align: right;\">\n",
       "      <th></th>\n",
       "      <th>relata1</th>\n",
       "      <th>relation</th>\n",
       "      <th>relata2</th>\n",
       "      <th>tags</th>\n",
       "      <th>sentence</th>\n",
       "      <th>votes_sc_1</th>\n",
       "      <th>votes_sc_2</th>\n",
       "      <th>votes_sc_3</th>\n",
       "      <th>votes_sc_4</th>\n",
       "      <th>votes_sc_5</th>\n",
       "      <th>votes_agreement</th>\n",
       "      <th>votes_no_agree</th>\n",
       "      <th>votes_avg_score</th>\n",
       "      <th>votes_var_score</th>\n",
       "      <th>votes_avg_var_diff</th>\n",
       "      <th>pair_source_name</th>\n",
       "      <th>pair_source_score</th>\n",
       "    </tr>\n",
       "  </thead>\n",
       "  <tbody>\n",
       "    <tr>\n",
       "      <th>0</th>\n",
       "      <td>abstract</td>\n",
       "      <td>Antonym</td>\n",
       "      <td>concrete</td>\n",
       "      <td>OBJECT_3/5,EMOTION_2/5,EVENT_2/5,RELATIONSHIP_1/5</td>\n",
       "      <td>abstract can be used as the opposite of concrete</td>\n",
       "      <td>0</td>\n",
       "      <td>0</td>\n",
       "      <td>0</td>\n",
       "      <td>3</td>\n",
       "      <td>2</td>\n",
       "      <td>0.912340</td>\n",
       "      <td>5</td>\n",
       "      <td>4.400000</td>\n",
       "      <td>0.300000</td>\n",
       "      <td>4.100000</td>\n",
       "      <td>wordnet/4.0</td>\n",
       "      <td>score</td>\n",
       "    </tr>\n",
       "    <tr>\n",
       "      <th>1</th>\n",
       "      <td>accident</td>\n",
       "      <td>Antonym</td>\n",
       "      <td>plan</td>\n",
       "      <td>CULTURE_1/5,EVENT_4/5</td>\n",
       "      <td>accident can be used as the opposite of plan</td>\n",
       "      <td>0</td>\n",
       "      <td>0</td>\n",
       "      <td>0</td>\n",
       "      <td>12</td>\n",
       "      <td>26</td>\n",
       "      <td>0.953509</td>\n",
       "      <td>38</td>\n",
       "      <td>4.684211</td>\n",
       "      <td>0.221906</td>\n",
       "      <td>4.462304</td>\n",
       "      <td>verbosity</td>\n",
       "      <td>0.0445190226130131</td>\n",
       "    </tr>\n",
       "    <tr>\n",
       "      <th>2</th>\n",
       "      <td>accident</td>\n",
       "      <td>Antonym</td>\n",
       "      <td>purpose</td>\n",
       "      <td>EVENT_5/5</td>\n",
       "      <td>accident can be used as the opposite of purpose</td>\n",
       "      <td>0</td>\n",
       "      <td>0</td>\n",
       "      <td>0</td>\n",
       "      <td>3</td>\n",
       "      <td>2</td>\n",
       "      <td>0.913917</td>\n",
       "      <td>5</td>\n",
       "      <td>4.400000</td>\n",
       "      <td>0.300000</td>\n",
       "      <td>4.100000</td>\n",
       "      <td>verbosity</td>\n",
       "      <td>0.13952094877868304</td>\n",
       "    </tr>\n",
       "    <tr>\n",
       "      <th>3</th>\n",
       "      <td>accident</td>\n",
       "      <td>Synonym</td>\n",
       "      <td>event</td>\n",
       "      <td>EVENT_5/5</td>\n",
       "      <td>accident can be used with the same meaning of event</td>\n",
       "      <td>0</td>\n",
       "      <td>0</td>\n",
       "      <td>1</td>\n",
       "      <td>3</td>\n",
       "      <td>1</td>\n",
       "      <td>0.935375</td>\n",
       "      <td>5</td>\n",
       "      <td>4.000000</td>\n",
       "      <td>0.500000</td>\n",
       "      <td>3.500000</td>\n",
       "      <td>wiktionary/de/en</td>\n",
       "      <td>1.0</td>\n",
       "    </tr>\n",
       "    <tr>\n",
       "      <th>4</th>\n",
       "      <td>accident</td>\n",
       "      <td>IsA</td>\n",
       "      <td>error</td>\n",
       "      <td>EVENT_4/5,RELATIONSHIP_1/5</td>\n",
       "      <td>accident is a kind of error</td>\n",
       "      <td>0</td>\n",
       "      <td>0</td>\n",
       "      <td>0</td>\n",
       "      <td>2</td>\n",
       "      <td>3</td>\n",
       "      <td>0.911600</td>\n",
       "      <td>5</td>\n",
       "      <td>4.600000</td>\n",
       "      <td>0.300000</td>\n",
       "      <td>4.300000</td>\n",
       "      <td>conceptnet/4/en</td>\n",
       "      <td>1.5849625007211563</td>\n",
       "    </tr>\n",
       "    <tr>\n",
       "      <th>5</th>\n",
       "      <td>accident</td>\n",
       "      <td>IsA</td>\n",
       "      <td>happen</td>\n",
       "      <td>EVENT_5/5</td>\n",
       "      <td>accident is a kind of happen</td>\n",
       "      <td>0</td>\n",
       "      <td>0</td>\n",
       "      <td>0</td>\n",
       "      <td>2</td>\n",
       "      <td>3</td>\n",
       "      <td>0.965458</td>\n",
       "      <td>5</td>\n",
       "      <td>4.600000</td>\n",
       "      <td>0.300000</td>\n",
       "      <td>4.300000</td>\n",
       "      <td>wordnet/3.0</td>\n",
       "      <td>1.5849625007211563</td>\n",
       "    </tr>\n",
       "    <tr>\n",
       "      <th>6</th>\n",
       "      <td>accident</td>\n",
       "      <td>IsA</td>\n",
       "      <td>mistake</td>\n",
       "      <td>RELATIONSHIP_1/60,NATURE_1/60,FOOD_1/60,COMMUNICATION_2/60,OBJECT_3/60,CULTURE_2/60,EVENT_57/60</td>\n",
       "      <td>accident is a kind of mistake</td>\n",
       "      <td>0</td>\n",
       "      <td>0</td>\n",
       "      <td>0</td>\n",
       "      <td>2</td>\n",
       "      <td>3</td>\n",
       "      <td>0.954483</td>\n",
       "      <td>5</td>\n",
       "      <td>4.600000</td>\n",
       "      <td>0.300000</td>\n",
       "      <td>4.300000</td>\n",
       "      <td>conceptnet/4/en</td>\n",
       "      <td>1.5849625007211563</td>\n",
       "    </tr>\n",
       "    <tr>\n",
       "      <th>7</th>\n",
       "      <td>account</td>\n",
       "      <td>Synonym</td>\n",
       "      <td>record</td>\n",
       "      <td>OBJECT_2/5,CULTURE_1/5,EVENT_2/5,BUSINESS_2/5</td>\n",
       "      <td>account can be used with the same meaning of record</td>\n",
       "      <td>0</td>\n",
       "      <td>0</td>\n",
       "      <td>0</td>\n",
       "      <td>2</td>\n",
       "      <td>3</td>\n",
       "      <td>0.908725</td>\n",
       "      <td>5</td>\n",
       "      <td>4.600000</td>\n",
       "      <td>0.300000</td>\n",
       "      <td>4.300000</td>\n",
       "      <td>wiktionary/de/en</td>\n",
       "      <td>1.0</td>\n",
       "    </tr>\n",
       "    <tr>\n",
       "      <th>8</th>\n",
       "      <td>account</td>\n",
       "      <td>Synonym</td>\n",
       "      <td>report</td>\n",
       "      <td>EVENT_3/5,BUSINESS_2/5,NATURE_1/5</td>\n",
       "      <td>account can be used with the same meaning of report</td>\n",
       "      <td>0</td>\n",
       "      <td>0</td>\n",
       "      <td>0</td>\n",
       "      <td>2</td>\n",
       "      <td>3</td>\n",
       "      <td>0.967600</td>\n",
       "      <td>5</td>\n",
       "      <td>4.600000</td>\n",
       "      <td>0.300000</td>\n",
       "      <td>4.300000</td>\n",
       "      <td>wiktionary/de/en</td>\n",
       "      <td>1.0</td>\n",
       "    </tr>\n",
       "    <tr>\n",
       "      <th>9</th>\n",
       "      <td>account</td>\n",
       "      <td>Synonym</td>\n",
       "      <td>score</td>\n",
       "      <td>OBJECT_2/6,EVENT_6/6,BUSINESS_1/6,NATURE_1/6</td>\n",
       "      <td>account can be used with the same meaning of score</td>\n",
       "      <td>0</td>\n",
       "      <td>1</td>\n",
       "      <td>0</td>\n",
       "      <td>2</td>\n",
       "      <td>2</td>\n",
       "      <td>0.962425</td>\n",
       "      <td>5</td>\n",
       "      <td>4.000000</td>\n",
       "      <td>1.500000</td>\n",
       "      <td>2.500000</td>\n",
       "      <td>wiktionary/de/en</td>\n",
       "      <td>1.0</td>\n",
       "    </tr>\n",
       "  </tbody>\n",
       "</table>\n",
       "</div>"
      ],
      "text/plain": [
       "    relata1 relation   relata2  \\\n",
       "0  abstract  Antonym  concrete   \n",
       "1  accident  Antonym  plan       \n",
       "2  accident  Antonym  purpose    \n",
       "3  accident  Synonym  event      \n",
       "4  accident  IsA      error      \n",
       "5  accident  IsA      happen     \n",
       "6  accident  IsA      mistake    \n",
       "7  account   Synonym  record     \n",
       "8  account   Synonym  report     \n",
       "9  account   Synonym  score      \n",
       "\n",
       "                                                                                              tags  \\\n",
       "0  OBJECT_3/5,EMOTION_2/5,EVENT_2/5,RELATIONSHIP_1/5                                                 \n",
       "1  CULTURE_1/5,EVENT_4/5                                                                             \n",
       "2  EVENT_5/5                                                                                         \n",
       "3  EVENT_5/5                                                                                         \n",
       "4  EVENT_4/5,RELATIONSHIP_1/5                                                                        \n",
       "5  EVENT_5/5                                                                                         \n",
       "6  RELATIONSHIP_1/60,NATURE_1/60,FOOD_1/60,COMMUNICATION_2/60,OBJECT_3/60,CULTURE_2/60,EVENT_57/60   \n",
       "7  OBJECT_2/5,CULTURE_1/5,EVENT_2/5,BUSINESS_2/5                                                     \n",
       "8  EVENT_3/5,BUSINESS_2/5,NATURE_1/5                                                                 \n",
       "9  OBJECT_2/6,EVENT_6/6,BUSINESS_1/6,NATURE_1/6                                                      \n",
       "\n",
       "                                              sentence  votes_sc_1  \\\n",
       "0  abstract can be used as the opposite of concrete     0            \n",
       "1  accident can be used as the opposite of plan         0            \n",
       "2  accident can be used as the opposite of purpose      0            \n",
       "3  accident can be used with the same meaning of event  0            \n",
       "4  accident is a kind of error                          0            \n",
       "5  accident is a kind of happen                         0            \n",
       "6  accident is a kind of mistake                        0            \n",
       "7  account can be used with the same meaning of record  0            \n",
       "8  account can be used with the same meaning of report  0            \n",
       "9  account can be used with the same meaning of score   0            \n",
       "\n",
       "   votes_sc_2  votes_sc_3  votes_sc_4  votes_sc_5  votes_agreement  \\\n",
       "0  0           0           3           2           0.912340          \n",
       "1  0           0           12          26          0.953509          \n",
       "2  0           0           3           2           0.913917          \n",
       "3  0           1           3           1           0.935375          \n",
       "4  0           0           2           3           0.911600          \n",
       "5  0           0           2           3           0.965458          \n",
       "6  0           0           2           3           0.954483          \n",
       "7  0           0           2           3           0.908725          \n",
       "8  0           0           2           3           0.967600          \n",
       "9  1           0           2           2           0.962425          \n",
       "\n",
       "   votes_no_agree  votes_avg_score  votes_var_score  votes_avg_var_diff  \\\n",
       "0  5               4.400000         0.300000         4.100000             \n",
       "1  38              4.684211         0.221906         4.462304             \n",
       "2  5               4.400000         0.300000         4.100000             \n",
       "3  5               4.000000         0.500000         3.500000             \n",
       "4  5               4.600000         0.300000         4.300000             \n",
       "5  5               4.600000         0.300000         4.300000             \n",
       "6  5               4.600000         0.300000         4.300000             \n",
       "7  5               4.600000         0.300000         4.300000             \n",
       "8  5               4.600000         0.300000         4.300000             \n",
       "9  5               4.000000         1.500000         2.500000             \n",
       "\n",
       "   pair_source_name    pair_source_score  \n",
       "0  wordnet/4.0       score                \n",
       "1  verbosity         0.0445190226130131   \n",
       "2  verbosity         0.13952094877868304  \n",
       "3  wiktionary/de/en  1.0                  \n",
       "4  conceptnet/4/en   1.5849625007211563   \n",
       "5  wordnet/3.0       1.5849625007211563   \n",
       "6  conceptnet/4/en   1.5849625007211563   \n",
       "7  wiktionary/de/en  1.0                  \n",
       "8  wiktionary/de/en  1.0                  \n",
       "9  wiktionary/de/en  1.0                  "
      ]
     },
     "execution_count": 9,
     "metadata": {},
     "output_type": "execute_result"
    }
   ],
   "source": [
    "df_eval.head(10)"
   ]
  },
  {
   "cell_type": "code",
   "execution_count": 10,
   "metadata": {},
   "outputs": [
    {
     "data": {
      "text/plain": [
       "(7492, 17)"
      ]
     },
     "execution_count": 10,
     "metadata": {},
     "output_type": "execute_result"
    }
   ],
   "source": [
    "df_eval.shape"
   ]
  },
  {
   "cell_type": "code",
   "execution_count": 11,
   "metadata": {},
   "outputs": [
    {
     "data": {
      "text/plain": [
       "IsA            1880\n",
       "Antonym        1600\n",
       "HasProperty    1297\n",
       "Synonym        1086\n",
       "PartOf         654 \n",
       "HasA           544 \n",
       "MadeOf         317 \n",
       "Entails        82  \n",
       "MemberOf       32  \n",
       "Name: relation, dtype: int64"
      ]
     },
     "execution_count": 11,
     "metadata": {},
     "output_type": "execute_result"
    }
   ],
   "source": [
    "df_eval['relation'].value_counts()"
   ]
  },
  {
   "cell_type": "code",
   "execution_count": 12,
   "metadata": {},
   "outputs": [
    {
     "data": {
      "text/plain": [
       "10"
      ]
     },
     "execution_count": 12,
     "metadata": {},
     "output_type": "execute_result"
    }
   ],
   "source": [
    "# maximum sentence length\n",
    "max([len(sent.split()) for sent in df_eval['sentence']])"
   ]
  },
  {
   "cell_type": "markdown",
   "metadata": {},
   "source": [
    "# Process input data"
   ]
  },
  {
   "cell_type": "markdown",
   "metadata": {},
   "source": [
    "## target word and sentence inputs "
   ]
  },
  {
   "cell_type": "code",
   "execution_count": 13,
   "metadata": {},
   "outputs": [
    {
     "data": {
      "text/plain": [
       "[1, 2]"
      ]
     },
     "execution_count": 13,
     "metadata": {},
     "output_type": "execute_result"
    }
   ],
   "source": [
    "tt1 = [\"this\", 'is', 'a', 'test', 'sentence']\n",
    "tt2 = ['is', 'a']\n",
    "tt_ret = []\n",
    "for x in tt2:\n",
    "    for i, k in enumerate(tt1):\n",
    "        if(x==k):\n",
    "            tt_ret.append(i)\n",
    "tt_ret"
   ]
  },
  {
   "cell_type": "code",
   "execution_count": 14,
   "metadata": {},
   "outputs": [
    {
     "data": {
      "text/plain": [
       "['test', 'this']"
      ]
     },
     "execution_count": 14,
     "metadata": {},
     "output_type": "execute_result"
    }
   ],
   "source": [
    "[x.lower() for x in \"test_this\".split(\"_\")]"
   ]
  },
  {
   "cell_type": "code",
   "execution_count": 15,
   "metadata": {},
   "outputs": [],
   "source": [
    "MAX_SEQ_LEN = 30"
   ]
  },
  {
   "cell_type": "code",
   "execution_count": 16,
   "metadata": {},
   "outputs": [],
   "source": [
    "sentences_notarg = proc_sentences_EVALution(df_eval, 'sentence', 'relata1', 'relata2', 'relation', \n",
    "                                            False, MAX_SEQ_LEN, RELATIONAL_CUE_TOKENS)\n",
    "sentences_wttarg = proc_sentences_EVALution(df_eval, 'sentence', 'relata1', 'relata2', 'relation', \n",
    "                                            True, MAX_SEQ_LEN, RELATIONAL_CUE_TOKENS)"
   ]
  },
  {
   "cell_type": "code",
   "execution_count": 17,
   "metadata": {},
   "outputs": [
    {
     "data": {
      "text/plain": [
       "[array([9, 9, 9, ..., 7, 9, 6]),\n",
       " array([['<UNK>', 'can', 'be', ..., '', '', ''],\n",
       "        ['<UNK>', 'can', 'be', ..., '', '', ''],\n",
       "        ['<UNK>', 'can', 'be', ..., '', '', ''],\n",
       "        ...,\n",
       "        ['<UNK>', 'can', 'have', ..., '', '', ''],\n",
       "        ['<UNK>', 'can', 'be', ..., '', '', ''],\n",
       "        ['<UNK>', 'is', 'a', ..., '', '', '']], dtype=object),\n",
       " array([[0, 1, 1, ..., 0, 0, 0],\n",
       "        [0, 1, 1, ..., 0, 0, 0],\n",
       "        [0, 1, 1, ..., 0, 0, 0],\n",
       "        ...,\n",
       "        [0, 1, 1, ..., 0, 0, 0],\n",
       "        [0, 1, 1, ..., 0, 0, 0],\n",
       "        [0, 1, 1, ..., 0, 0, 0]]),\n",
       " array([[1, 0, 0, ..., 0, 0, 0],\n",
       "        [1, 0, 0, ..., 0, 0, 0],\n",
       "        [1, 0, 0, ..., 0, 0, 0],\n",
       "        ...,\n",
       "        [1, 0, 0, ..., 0, 0, 0],\n",
       "        [1, 0, 0, ..., 0, 0, 0],\n",
       "        [1, 0, 0, ..., 0, 0, 0]]),\n",
       " array([[0, 0, 0, ..., 0, 0, 0],\n",
       "        [0, 0, 0, ..., 0, 0, 0],\n",
       "        [0, 0, 0, ..., 0, 0, 0],\n",
       "        ...,\n",
       "        [0, 0, 0, ..., 0, 0, 0],\n",
       "        [0, 0, 0, ..., 0, 0, 0],\n",
       "        [0, 0, 0, ..., 0, 0, 0]]),\n",
       " array([[0, 0, 0, ..., 0, 0, 0],\n",
       "        [0, 0, 0, ..., 0, 0, 0],\n",
       "        [0, 0, 0, ..., 0, 0, 0],\n",
       "        ...,\n",
       "        [0, 0, 1, ..., 0, 0, 0],\n",
       "        [0, 0, 0, ..., 0, 0, 0],\n",
       "        [0, 0, 0, ..., 0, 0, 0]])]"
      ]
     },
     "execution_count": 17,
     "metadata": {},
     "output_type": "execute_result"
    }
   ],
   "source": [
    "sentences_notarg\n",
    "# [sent[:10] for sent in sentences_notarg]"
   ]
  },
  {
   "cell_type": "code",
   "execution_count": 18,
   "metadata": {},
   "outputs": [
    {
     "data": {
      "text/plain": [
       "[10, array(['<UNK>', 'can', 'be', 'used', 'with', 'the', 'same', 'meaning',\n",
       "        'of', 'record', '', '', '', '', '', '', '', '', '', '', '', '', '',\n",
       "        '', '', '', '', '', '', ''], dtype=object), array([0, 1, 1, 1, 1, 1, 1, 1, 1, 1, 0, 0, 0, 0, 0, 0, 0, 0, 0, 0, 0, 0,\n",
       "        0, 0, 0, 0, 0, 0, 0, 0]), array([1, 0, 0, 0, 0, 0, 0, 0, 0, 0, 0, 0, 0, 0, 0, 0, 0, 0, 0, 0, 0, 0,\n",
       "        0, 0, 0, 0, 0, 0, 0, 0]), array([0, 0, 0, 0, 0, 0, 0, 0, 0, 1, 0, 0, 0, 0, 0, 0, 0, 0, 0, 0, 0, 0,\n",
       "        0, 0, 0, 0, 0, 0, 0, 0]), array([0, 0, 0, 0, 0, 0, 1, 1, 0, 0, 0, 0, 0, 0, 0, 0, 0, 0, 0, 0, 0, 0,\n",
       "        0, 0, 0, 0, 0, 0, 0, 0])]"
      ]
     },
     "execution_count": 18,
     "metadata": {},
     "output_type": "execute_result"
    }
   ],
   "source": [
    "[sent[7] for sent in sentences_notarg]"
   ]
  },
  {
   "cell_type": "code",
   "execution_count": null,
   "metadata": {},
   "outputs": [],
   "source": []
  },
  {
   "cell_type": "code",
   "execution_count": 19,
   "metadata": {},
   "outputs": [],
   "source": [
    "sentences_bert = proc_sentences_dscovar(df_eval, 'sentence', 'relata1', 'bert')"
   ]
  },
  {
   "cell_type": "code",
   "execution_count": 20,
   "metadata": {},
   "outputs": [
    {
     "data": {
      "text/plain": [
       "[array(['abstract', 'accident', 'accident', ..., 'you', 'young', 'zero'],\n",
       "       dtype='<U18'),\n",
       " array(['abstract can be used as the opposite of concrete',\n",
       "        'accident can be used as the opposite of plan',\n",
       "        'accident can be used as the opposite of purpose', ...,\n",
       "        'you can have or can contain feel',\n",
       "        'young can be used as the opposite of mature',\n",
       "        'zero is a kind of number'], dtype='<U64')]"
      ]
     },
     "execution_count": 20,
     "metadata": {},
     "output_type": "execute_result"
    }
   ],
   "source": [
    "sentences_bert"
   ]
  },
  {
   "cell_type": "code",
   "execution_count": 21,
   "metadata": {},
   "outputs": [
    {
     "data": {
      "application/vnd.jupyter.widget-view+json": {
       "model_id": "973077d58bc74e56a6287785342ddcea",
       "version_major": 2,
       "version_minor": 0
      },
      "text/plain": [
       "HBox(children=(IntProgress(value=0, description='Converting examples to features', max=7492, style=ProgressSty…"
      ]
     },
     "metadata": {},
     "output_type": "display_data"
    },
    {
     "name": "stdout",
     "output_type": "stream",
     "text": [
      "\n"
     ]
    },
    {
     "data": {
      "text/plain": [
       "(array([[ 103, 1169, 1129, ...,    0,    0,    0],\n",
       "        [ 103, 1169, 1129, ...,    0,    0,    0],\n",
       "        [ 103, 1169, 1129, ...,    0,    0,    0],\n",
       "        ...,\n",
       "        [ 103, 1169, 1138, ...,    0,    0,    0],\n",
       "        [ 103, 1169, 1129, ...,    0,    0,    0],\n",
       "        [ 103, 1110,  170, ...,    0,    0,    0]]),\n",
       " array([[0, 1, 1, ..., 0, 0, 0],\n",
       "        [0, 1, 1, ..., 0, 0, 0],\n",
       "        [0, 1, 1, ..., 0, 0, 0],\n",
       "        ...,\n",
       "        [0, 1, 1, ..., 0, 0, 0],\n",
       "        [0, 1, 1, ..., 0, 0, 0],\n",
       "        [0, 1, 1, ..., 0, 0, 0]]),\n",
       " array([[0, 0, 0, ..., 0, 0, 0],\n",
       "        [0, 0, 0, ..., 0, 0, 0],\n",
       "        [0, 0, 0, ..., 0, 0, 0],\n",
       "        ...,\n",
       "        [0, 0, 0, ..., 0, 0, 0],\n",
       "        [0, 0, 0, ..., 0, 0, 0],\n",
       "        [0, 0, 0, ..., 0, 0, 0]]),\n",
       " array([[1, 0, 0, ..., 0, 0, 0],\n",
       "        [1, 0, 0, ..., 0, 0, 0],\n",
       "        [1, 0, 0, ..., 0, 0, 0],\n",
       "        ...,\n",
       "        [1, 0, 0, ..., 0, 0, 0],\n",
       "        [1, 0, 0, ..., 0, 0, 0],\n",
       "        [1, 0, 0, ..., 0, 0, 0]]),\n",
       " array([[4.4       ],\n",
       "        [4.68421053],\n",
       "        [4.4       ],\n",
       "        ...,\n",
       "        [4.2       ],\n",
       "        [4.8       ],\n",
       "        [5.        ]]))"
      ]
     },
     "execution_count": 21,
     "metadata": {},
     "output_type": "execute_result"
    }
   ],
   "source": [
    "tokenizer = create_tokenizer_from_hub_module()\n",
    "sentences_bert_examples = convert_text_to_examples(sentences_bert[0], sentences_bert[1], df_eval['votes_avg_score'])\n",
    "sentences_bert_input = convert_examples_to_features(tokenizer, sentences_bert_examples, False, MAX_SEQ_LEN)\n",
    "sentences_bert_input"
   ]
  },
  {
   "cell_type": "markdown",
   "metadata": {},
   "source": [
    "# Attention results scoring strategy"
   ]
  },
  {
   "cell_type": "markdown",
   "metadata": {},
   "source": [
    "- processing the input\n",
    "    - consider relata1 as the target word\n",
    "    - sentence as a context\n",
    "    - see if the model pays more attention to relata2\n",
    "    - vice versa: this can control the target word location (beginning (relata1) or end (relata2) of the context sentence)\n",
    "- scoring\n",
    "    - (assuming relata1 is the target word)\n",
    "    - criterion 1: does the model pays more attention to relata2?\n",
    "    - criterion 2: does the model pays more attention to relational cues? \n",
    "        - e.g., abstract can be used as the *opposite* of concrete\n",
    "    - sum the rankings "
   ]
  },
  {
   "cell_type": "markdown",
   "metadata": {},
   "source": [
    "# Model output "
   ]
  },
  {
   "cell_type": "code",
   "execution_count": 22,
   "metadata": {},
   "outputs": [
    {
     "name": "stdout",
     "output_type": "stream",
     "text": [
      "WARNING: Entity <bound method ElmoLayer.call of <layers.embeddings.ElmoLayer object at 0x7f1e8841fb00>> could not be transformed and will be executed as-is. Please report this to the AutgoGraph team. When filing the bug, set the verbosity to 10 (on Linux, `export AUTOGRAPH_VERBOSITY=10`) and attach the full output. Cause: converting <bound method ElmoLayer.call of <layers.embeddings.ElmoLayer object at 0x7f1e8841fb00>>: AttributeError: module 'gast' has no attribute 'Num'\n",
      "1024\n",
      "WARNING: Entity <bound method ElmoLayer.call of <layers.embeddings.ElmoLayer object at 0x7f1f6c4ea3c8>> could not be transformed and will be executed as-is. Please report this to the AutgoGraph team. When filing the bug, set the verbosity to 10 (on Linux, `export AUTOGRAPH_VERBOSITY=10`) and attach the full output. Cause: converting <bound method ElmoLayer.call of <layers.embeddings.ElmoLayer object at 0x7f1f6c4ea3c8>>: AttributeError: module 'gast' has no attribute 'Num'\n",
      "1024\n",
      "WARNING: Entity <bound method ElmoLayer.call of <layers.embeddings.ElmoLayer object at 0x7f1f6c4ea978>> could not be transformed and will be executed as-is. Please report this to the AutgoGraph team. When filing the bug, set the verbosity to 10 (on Linux, `export AUTOGRAPH_VERBOSITY=10`) and attach the full output. Cause: converting <bound method ElmoLayer.call of <layers.embeddings.ElmoLayer object at 0x7f1f6c4ea978>>: AttributeError: module 'gast' has no attribute 'Num'\n",
      "1024\n",
      "WARNING: Entity <bound method BertLayer.call of <layers.embeddings.BertLayer object at 0x7f1be6f031d0>> could not be transformed and will be executed as-is. Please report this to the AutgoGraph team. When filing the bug, set the verbosity to 10 (on Linux, `export AUTOGRAPH_VERBOSITY=10`) and attach the full output. Cause: converting <bound method BertLayer.call of <layers.embeddings.BertLayer object at 0x7f1be6f031d0>>: AttributeError: module 'gast' has no attribute 'Num'\n",
      "WARNING: Entity <bound method BertLayer.call of <layers.embeddings.BertLayer object at 0x7f1bddd66278>> could not be transformed and will be executed as-is. Please report this to the AutgoGraph team. When filing the bug, set the verbosity to 10 (on Linux, `export AUTOGRAPH_VERBOSITY=10`) and attach the full output. Cause: converting <bound method BertLayer.call of <layers.embeddings.BertLayer object at 0x7f1bddd66278>>: AttributeError: module 'gast' has no attribute 'Num'\n",
      "WARNING: Entity <bound method BertLayer.call of <layers.embeddings.BertLayer object at 0x7f1bddd61dd8>> could not be transformed and will be executed as-is. Please report this to the AutgoGraph team. When filing the bug, set the verbosity to 10 (on Linux, `export AUTOGRAPH_VERBOSITY=10`) and attach the full output. Cause: converting <bound method BertLayer.call of <layers.embeddings.BertLayer object at 0x7f1bddd61dd8>>: AttributeError: module 'gast' has no attribute 'Num'\n"
     ]
    }
   ],
   "source": [
    "K.clear_session()\n",
    "sess = tf.Session()\n",
    "\n",
    "# model_elmo_notune_wtattn = build_model_elmo(MAX_SEQ_LEN, False, True,  False)\n",
    "# model_elmo_notune_noattn = build_model_elmo(MAX_SEQ_LEN, False, False, False)\n",
    "model_elmo_fntune_wtattn_1emb = build_model_elmo(MAX_SEQ_LEN, True, True,  False, lr=1e-3)\n",
    "model_elmo_fntune_wtattn_2emb = build_model_elmo(MAX_SEQ_LEN, True, True, True, lr=1e-3)\n",
    "model_bert_fntune_wtattn_1emb = build_model_bert(MAX_SEQ_LEN, True, True,  False, lr=3e-5)\n",
    "model_bert_fntune_wtattn_2emb = build_model_bert(MAX_SEQ_LEN, True, True, True, lr=1e-5)\n",
    "\n",
    "initialize_vars(sess)"
   ]
  },
  {
   "cell_type": "code",
   "execution_count": 23,
   "metadata": {},
   "outputs": [
    {
     "data": {
      "text/plain": [
       "<tensorflow.python.training.tracking.util.CheckpointLoadStatus at 0x7f1bdcb18dd8>"
      ]
     },
     "execution_count": 23,
     "metadata": {},
     "output_type": "execute_result"
    }
   ],
   "source": [
    "model_elmo_fntune_wtattn_1emb.load_weights('./model_weights/finetune/elmo/1emb/model_elmo_notarg_wtattn_bws_full_i5_b16_lr1e-04.tf')\n",
    "model_elmo_fntune_wtattn_2emb.load_weights('./model_weights/finetune/elmo/2emb/model_elmo_notarg_wtattn_bws_full_i8_b16_lr1e-04.tf')\n",
    "model_bert_fntune_wtattn_1emb.load_weights('./model_weights/finetune/bert/1emb/model_bert_notarg_wtattn_bws_full_i8_b16_lr3e-05.tf')\n",
    "model_bert_fntune_wtattn_2emb.load_weights('./model_weights/finetune/bert/2emb/model_bert_notarg_wtattn_bws_full_i8_b16_lr1e-05.tf')"
   ]
  },
  {
   "cell_type": "code",
   "execution_count": null,
   "metadata": {},
   "outputs": [],
   "source": []
  },
  {
   "cell_type": "code",
   "execution_count": 24,
   "metadata": {},
   "outputs": [
    {
     "name": "stdout",
     "output_type": "stream",
     "text": [
      "Model: \"model\"\n",
      "__________________________________________________________________________________________________\n",
      "Layer (type)                    Output Shape         Param #     Connected to                     \n",
      "==================================================================================================\n",
      "input_sent_len (InputLayer)     [(None, 1)]          0                                            \n",
      "__________________________________________________________________________________________________\n",
      "input_sentence (InputLayer)     [(None, 30)]         0                                            \n",
      "__________________________________________________________________________________________________\n",
      "input_mask (InputLayer)         [(None, 30)]         0                                            \n",
      "__________________________________________________________________________________________________\n",
      "elmo_sent_raw (ElmoLayer)       (None, None, 1024)   187201700   input_sent_len[0][0]             \n",
      "                                                                 input_sentence[0][0]             \n",
      "__________________________________________________________________________________________________\n",
      "input_tloc (InputLayer)         [(None, 30)]         0                                            \n",
      "__________________________________________________________________________________________________\n",
      "tf_op_layer_NotEqual (TensorFlo [(None, 30)]         0           input_mask[0][0]                 \n",
      "__________________________________________________________________________________________________\n",
      "elmo_targ (Lambda)              (None, 1024)         0           elmo_sent_raw[0][0]              \n",
      "                                                                 input_tloc[0][0]                 \n",
      "__________________________________________________________________________________________________\n",
      "tf_op_layer_Where (TensorFlowOp [(None, 2)]          0           tf_op_layer_NotEqual[0][0]       \n",
      "__________________________________________________________________________________________________\n",
      "elmo_cntx (Lambda)              (None, 30, 1024)     0           elmo_sent_raw[0][0]              \n",
      "                                                                 input_mask[0][0]                 \n",
      "__________________________________________________________________________________________________\n",
      "targ (RepeatVector)             (None, 30, 1024)     0           elmo_targ[0][0]                  \n",
      "__________________________________________________________________________________________________\n",
      "tf_op_layer_strided_slice (Tens [()]                 0           tf_op_layer_Where[0][0]          \n",
      "__________________________________________________________________________________________________\n",
      "attention_fout (Attention)      (None, 30, 1024)     0           elmo_cntx[0][0]                  \n",
      "                                                                 targ[0][0]                       \n",
      "__________________________________________________________________________________________________\n",
      "tf_op_layer_add (TensorFlowOpLa [()]                 0           tf_op_layer_strided_slice[0][0]  \n",
      "__________________________________________________________________________________________________\n",
      "attention_sfmx (Dense)          (None, 30, 30)       30720       attention_fout[0][0]             \n",
      "__________________________________________________________________________________________________\n",
      "tf_op_layer_strided_slice_1/sta [(3,)]               0           tf_op_layer_strided_slice[0][0]  \n",
      "__________________________________________________________________________________________________\n",
      "tf_op_layer_strided_slice_1/sta [(3,)]               0           tf_op_layer_add[0][0]            \n",
      "__________________________________________________________________________________________________\n",
      "tf_op_layer_strided_slice_1 (Te [(None, 30)]         0           attention_sfmx[0][0]             \n",
      "                                                                 tf_op_layer_strided_slice_1/stack\n",
      "                                                                 tf_op_layer_strided_slice_1/stack\n",
      "__________________________________________________________________________________________________\n",
      "tf_op_layer_ExpandDims (TensorF [(None, 30, 1)]      0           tf_op_layer_strided_slice_1[0][0]\n",
      "__________________________________________________________________________________________________\n",
      "attention_sfmx_out (Lambda)     (None, 30, 1)        0           input_mask[0][0]                 \n",
      "                                                                 tf_op_layer_ExpandDims[0][0]     \n",
      "__________________________________________________________________________________________________\n",
      "attention_sfmx_nrm (Lambda)     (None, 30, 1)        0           attention_sfmx_out[0][0]         \n",
      "__________________________________________________________________________________________________\n",
      "attention_wvec (Multiply)       (None, 30, 1024)     0           attention_fout[0][0]             \n",
      "                                                                 attention_sfmx_nrm[0][0]         \n",
      "__________________________________________________________________________________________________\n",
      "attention_out (GlobalAveragePoo (None, 1024)         0           attention_wvec[0][0]             \n",
      "__________________________________________________________________________________________________\n",
      "reg_rectify (Dense)             (None, 256)          262400      attention_out[0][0]              \n",
      "__________________________________________________________________________________________________\n",
      "reg_score_out (Dense)           (None, 1)            257         reg_rectify[0][0]                \n",
      "==================================================================================================\n",
      "Total params: 187,495,077\n",
      "Trainable params: 93,894,229\n",
      "Non-trainable params: 93,600,848\n",
      "__________________________________________________________________________________________________\n"
     ]
    }
   ],
   "source": [
    "model_elmo_fntune_wtattn_1emb.summary()"
   ]
  },
  {
   "cell_type": "code",
   "execution_count": 25,
   "metadata": {},
   "outputs": [
    {
     "data": {
      "image/png": "[encoded data removed]",
      "text/plain": [
       "<IPython.core.display.Image object>"
      ]
     },
     "execution_count": 25,
     "metadata": {},
     "output_type": "execute_result"
    }
   ],
   "source": [
    "from tensorflow.keras.utils import plot_model\n",
    "plot_model(model_elmo_fntune_wtattn_1emb)"
   ]
  },
  {
   "cell_type": "code",
   "execution_count": 26,
   "metadata": {},
   "outputs": [],
   "source": [
    "model_elmo_fntune_attn_1emb = Model(model_elmo_fntune_wtattn_1emb.inputs, model_elmo_fntune_wtattn_1emb.get_layer(\"attention_sfmx_nrm\").output)\n",
    "model_elmo_fntune_attn_2emb = Model(model_elmo_fntune_wtattn_2emb.inputs, model_elmo_fntune_wtattn_2emb.get_layer(\"attention_sfmx_nrm\").output)\n",
    "model_bert_fntune_attn_1emb = Model(model_bert_fntune_wtattn_1emb.inputs, model_bert_fntune_wtattn_1emb.get_layer(\"attention_sfmx_nrm\").output)\n",
    "model_bert_fntune_attn_2emb = Model(model_bert_fntune_wtattn_2emb.inputs, model_bert_fntune_wtattn_2emb.get_layer(\"attention_sfmx_nrm\").output)"
   ]
  },
  {
   "cell_type": "code",
   "execution_count": 27,
   "metadata": {},
   "outputs": [],
   "source": [
    "elmo_fntune_attn_pred_1emb = np.transpose(model_elmo_fntune_attn_1emb.predict(sentences_notarg), axes=[0,2,1])[:, 0]\n",
    "elmo_fntune_attn_pred_2emb = np.transpose(model_elmo_fntune_attn_2emb.predict(sentences_wttarg), axes=[0,2,1])[:, 0]\n",
    "bert_fntune_attn_pred_1emb = np.transpose(model_bert_fntune_attn_1emb.predict(sentences_bert_input), axes=[0,2,1])[:, 0]\n",
    "bert_fntune_attn_pred_2emb = np.transpose(model_bert_fntune_attn_2emb.predict(sentences_bert_input), axes=[0,2,1])[:, 0]"
   ]
  },
  {
   "cell_type": "code",
   "execution_count": 28,
   "metadata": {},
   "outputs": [
    {
     "data": {
      "text/plain": [
       "array([[0.02965284, 0.12026321, 0.08281168, 0.07767481, 0.21518163,\n",
       "        0.06628642, 0.15360318, 0.1364435 , 0.11808267, 0.        ,\n",
       "        0.        , 0.        , 0.        , 0.        , 0.        ,\n",
       "        0.        , 0.        , 0.        , 0.        , 0.        ,\n",
       "        0.        , 0.        , 0.        , 0.        , 0.        ,\n",
       "        0.        , 0.        , 0.        , 0.        , 0.        ],\n",
       "       [0.04602183, 0.10450704, 0.10308171, 0.09159443, 0.14552256,\n",
       "        0.05993407, 0.11106732, 0.29321155, 0.04505945, 0.        ,\n",
       "        0.        , 0.        , 0.        , 0.        , 0.        ,\n",
       "        0.        , 0.        , 0.        , 0.        , 0.        ,\n",
       "        0.        , 0.        , 0.        , 0.        , 0.        ,\n",
       "        0.        , 0.        , 0.        , 0.        , 0.        ]],\n",
       "      dtype=float32)"
      ]
     },
     "execution_count": 28,
     "metadata": {},
     "output_type": "execute_result"
    }
   ],
   "source": [
    "elmo_fntune_attn_pred_2emb[:2]"
   ]
  },
  {
   "cell_type": "code",
   "execution_count": 29,
   "metadata": {},
   "outputs": [
    {
     "data": {
      "text/plain": [
       "(array([0.        , 0.15032548, 0.15411879, 0.25679603, 0.09195416,\n",
       "        0.09181873, 0.04582194, 0.0609627 , 0.02441469, 0.12378743,\n",
       "        0.        , 0.        , 0.        , 0.        , 0.        ,\n",
       "        0.        , 0.        , 0.        , 0.        , 0.        ,\n",
       "        0.        , 0.        , 0.        , 0.        , 0.        ,\n",
       "        0.        , 0.        , 0.        , 0.        , 0.        ],\n",
       "       dtype=float32),\n",
       " array([0.0097184 , 0.07987139, 0.07447877, 0.06101103, 0.32442522,\n",
       "        0.10101136, 0.10898655, 0.15513684, 0.05236709, 0.03299338,\n",
       "        0.        , 0.        , 0.        , 0.        , 0.        ,\n",
       "        0.        , 0.        , 0.        , 0.        , 0.        ,\n",
       "        0.        , 0.        , 0.        , 0.        , 0.        ,\n",
       "        0.        , 0.        , 0.        , 0.        , 0.        ],\n",
       "       dtype=float32))"
      ]
     },
     "execution_count": 29,
     "metadata": {},
     "output_type": "execute_result"
    }
   ],
   "source": [
    "elmo_fntune_attn_pred_1emb[7], elmo_fntune_attn_pred_2emb[7]"
   ]
  },
  {
   "cell_type": "code",
   "execution_count": 30,
   "metadata": {},
   "outputs": [
    {
     "data": {
      "text/plain": [
       "(array([0.        , 0.06830554, 0.07866738, 0.05957297, 0.34406558,\n",
       "        0.08619511, 0.09437101, 0.04694412, 0.06155021, 0.16032805,\n",
       "        0.        , 0.        , 0.        , 0.        , 0.        ,\n",
       "        0.        , 0.        , 0.        , 0.        , 0.        ,\n",
       "        0.        , 0.        , 0.        , 0.        , 0.        ,\n",
       "        0.        , 0.        , 0.        , 0.        , 0.        ],\n",
       "       dtype=float32),\n",
       " array([0.        , 0.04107545, 0.21735585, 0.02778581, 0.02225405,\n",
       "        0.30327392, 0.0233975 , 0.07123913, 0.24637459, 0.04724367,\n",
       "        0.        , 0.        , 0.        , 0.        , 0.        ,\n",
       "        0.        , 0.        , 0.        , 0.        , 0.        ,\n",
       "        0.        , 0.        , 0.        , 0.        , 0.        ,\n",
       "        0.        , 0.        , 0.        , 0.        , 0.        ],\n",
       "       dtype=float32))"
      ]
     },
     "execution_count": 30,
     "metadata": {},
     "output_type": "execute_result"
    }
   ],
   "source": [
    "bert_fntune_attn_pred_1emb[7], bert_fntune_attn_pred_2emb[7]# * sentences_notarg[2][7]"
   ]
  },
  {
   "cell_type": "code",
   "execution_count": 31,
   "metadata": {},
   "outputs": [
    {
     "data": {
      "text/plain": [
       "Text(0.5,1,'bert_finetune_2emb')"
      ]
     },
     "execution_count": 31,
     "metadata": {},
     "output_type": "execute_result"
    },
    {
     "data": {
      "image/png": "[encoded data removed]",
      "text/plain": [
       "<Figure size 2016x720 with 4 Axes>"
      ]
     },
     "metadata": {
      "needs_background": "light"
     },
     "output_type": "display_data"
    }
   ],
   "source": [
    "fig, axes = plt.subplots(2, 2, figsize=(28, 10))\n",
    "\n",
    "axes[0][0].bar(x=sentences_notarg[1][7], height=elmo_fntune_attn_pred_1emb[7]) #min_max_sc(elmo_fntune_attn_pred_1emb[7] * sentences_notarg[2][7]))\n",
    "axes[0][1].bar(x=sentences_notarg[1][7], height=elmo_fntune_attn_pred_2emb[7]) #min_max_sc(elmo_fntune_attn_pred_2emb[7] * sentences_notarg[2][7]))\n",
    "axes[1][0].bar(x=sentences_notarg[1][7], height=bert_fntune_attn_pred_1emb[7]) #min_max_sc(bert_fntune_attn_pred_1emb[7] * sentences_notarg[2][7]))\n",
    "axes[1][1].bar(x=sentences_notarg[1][7], height=bert_fntune_attn_pred_2emb[7]) #min_max_sc(bert_fntune_attn_pred_2emb[7] * sentences_notarg[2][7]))\n",
    "\n",
    "axes[0][0].set_title(\"elmo_finetune_1emb\")\n",
    "axes[0][1].set_title(\"elmo_finetune_2emb\")\n",
    "axes[1][0].set_title(\"bert_finetune_1emb\")\n",
    "axes[1][1].set_title(\"bert_finetune_2emb\")\n"
   ]
  },
  {
   "cell_type": "code",
   "execution_count": 32,
   "metadata": {},
   "outputs": [
    {
     "name": "stdout",
     "output_type": "stream",
     "text": [
      "target_pair_loc: 9 relation_cue_loc: 6\n"
     ]
    }
   ],
   "source": [
    "print(\"target_pair_loc:\", np.where(sentences_notarg[4][7])[0][0], \n",
    "      \"relation_cue_loc:\", np.where(sentences_notarg[5][7])[0][0])"
   ]
  },
  {
   "cell_type": "code",
   "execution_count": null,
   "metadata": {},
   "outputs": [],
   "source": []
  },
  {
   "cell_type": "code",
   "execution_count": 33,
   "metadata": {},
   "outputs": [
    {
     "data": {
      "text/plain": [
       "[array([3]),\n",
       " array([7, 6]),\n",
       " array([8]),\n",
       " array([2, 1]),\n",
       " array([1]),\n",
       " array([2, 8]),\n",
       " array([4]),\n",
       " array([7, 3])]"
      ]
     },
     "execution_count": 33,
     "metadata": {},
     "output_type": "execute_result"
    }
   ],
   "source": [
    "[attention_ranks(elmo_fntune_attn_pred_1emb[7], sentences_notarg[2][7], sentences_notarg[4][7]), attention_ranks(elmo_fntune_attn_pred_1emb[7], sentences_notarg[2][7], sentences_notarg[5][7]),\n",
    " attention_ranks(elmo_fntune_attn_pred_2emb[7], sentences_notarg[2][7], sentences_notarg[4][7]), attention_ranks(elmo_fntune_attn_pred_2emb[7], sentences_notarg[2][7], sentences_notarg[5][7]),\n",
    " attention_ranks(bert_fntune_attn_pred_1emb[7], sentences_notarg[2][7], sentences_notarg[4][7]), attention_ranks(bert_fntune_attn_pred_1emb[7], sentences_notarg[2][7], sentences_notarg[5][7]),\n",
    " attention_ranks(bert_fntune_attn_pred_2emb[7], sentences_notarg[2][7], sentences_notarg[4][7]), attention_ranks(bert_fntune_attn_pred_2emb[7], sentences_notarg[2][7], sentences_notarg[5][7]),\n",
    "]"
   ]
  },
  {
   "cell_type": "code",
   "execution_count": 34,
   "metadata": {},
   "outputs": [
    {
     "data": {
      "text/plain": [
       "[array([0.7 , 0.35]),\n",
       " array([0.2 , 0.85]),\n",
       " array([0.9, 0.5]),\n",
       " array([0.6, 0.5])]"
      ]
     },
     "execution_count": 34,
     "metadata": {},
     "output_type": "execute_result"
    }
   ],
   "source": [
    "[attention_scores(elmo_fntune_attn_pred_1emb[7], sentences_notarg[0][7], sentences_notarg[2][7], sentences_notarg[4][7], sentences_notarg[5][7]),\n",
    " attention_scores(elmo_fntune_attn_pred_2emb[7], sentences_notarg[0][7], sentences_notarg[2][7], sentences_notarg[4][7], sentences_notarg[5][7]),\n",
    " attention_scores(bert_fntune_attn_pred_1emb[7], sentences_notarg[0][7], sentences_notarg[2][7], sentences_notarg[4][7], sentences_notarg[5][7]),\n",
    " attention_scores(bert_fntune_attn_pred_2emb[7], sentences_notarg[0][7], sentences_notarg[2][7], sentences_notarg[4][7], sentences_notarg[5][7])]"
   ]
  },
  {
   "cell_type": "code",
   "execution_count": null,
   "metadata": {},
   "outputs": [],
   "source": []
  },
  {
   "cell_type": "code",
   "execution_count": null,
   "metadata": {},
   "outputs": [],
   "source": []
  },
  {
   "cell_type": "code",
   "execution_count": null,
   "metadata": {},
   "outputs": [],
   "source": []
  },
  {
   "cell_type": "code",
   "execution_count": 35,
   "metadata": {},
   "outputs": [],
   "source": [
    "elmo_fntune_1emb_attscore = np.array([attention_scores(elmo_fntune_attn_pred_1emb[i], sentences_notarg[0][i], sentences_notarg[2][i], sentences_notarg[4][i], sentences_notarg[5][i]) for i in range(df_eval.shape[0])])\n",
    "elmo_fntune_2emb_attscore = np.array([attention_scores(elmo_fntune_attn_pred_2emb[i], sentences_notarg[0][i], sentences_notarg[2][i], sentences_notarg[4][i], sentences_notarg[5][i]) for i in range(df_eval.shape[0])])\n",
    "bert_fntune_1emb_attscore = np.array([attention_scores(bert_fntune_attn_pred_1emb[i], sentences_notarg[0][i], sentences_notarg[2][i], sentences_notarg[4][i], sentences_notarg[5][i]) for i in range(df_eval.shape[0])])\n",
    "bert_fntune_2emb_attscore = np.array([attention_scores(bert_fntune_attn_pred_2emb[i], sentences_notarg[0][i], sentences_notarg[2][i], sentences_notarg[4][i], sentences_notarg[5][i]) for i in range(df_eval.shape[0])])\n"
   ]
  },
  {
   "cell_type": "code",
   "execution_count": 36,
   "metadata": {},
   "outputs": [],
   "source": [
    "df_eval['elmo_fntune_1emb_attscore_pair'] = elmo_fntune_1emb_attscore[:,0]\n",
    "df_eval['elmo_fntune_1emb_attscore_rcue'] = elmo_fntune_1emb_attscore[:,1]\n",
    "df_eval['elmo_fntune_2emb_attscore_pair'] = elmo_fntune_2emb_attscore[:,0]\n",
    "df_eval['elmo_fntune_2emb_attscore_rcue'] = elmo_fntune_2emb_attscore[:,1]\n",
    "df_eval['bert_fntune_1emb_attscore_pair'] = bert_fntune_1emb_attscore[:,0]\n",
    "df_eval['bert_fntune_1emb_attscore_rcue'] = bert_fntune_1emb_attscore[:,1]\n",
    "df_eval['bert_fntune_2emb_attscore_pair'] = bert_fntune_2emb_attscore[:,0]\n",
    "df_eval['bert_fntune_2emb_attscore_rcue'] = bert_fntune_2emb_attscore[:,1]\n",
    "df_eval['elmo_fntune_1emb_attscore_sum'] = df_eval['elmo_fntune_1emb_attscore_pair']+df_eval['elmo_fntune_1emb_attscore_rcue']\n",
    "df_eval['elmo_fntune_2emb_attscore_sum'] = df_eval['elmo_fntune_2emb_attscore_pair']+df_eval['elmo_fntune_2emb_attscore_rcue']\n",
    "df_eval['bert_fntune_1emb_attscore_sum'] = df_eval['bert_fntune_1emb_attscore_pair']+df_eval['bert_fntune_1emb_attscore_rcue']\n",
    "df_eval['bert_fntune_2emb_attscore_sum'] = df_eval['bert_fntune_2emb_attscore_pair']+df_eval['bert_fntune_2emb_attscore_rcue']"
   ]
  },
  {
   "cell_type": "markdown",
   "metadata": {},
   "source": [
    "- Score: pair < rcue\n",
    "    - if context does not include the target word\n",
    "        - Antonym, HasProperty, Synonym\n",
    "    - if context does include the target word\n",
    "        - Entails, MadeOf\n",
    "- Score: no target < with target\n",
    "    - target-pair word\n",
    "        - IsA\n",
    "    - relational cue\n",
    "        - MadeOf"
   ]
  },
  {
   "cell_type": "code",
   "execution_count": 37,
   "metadata": {},
   "outputs": [
    {
     "data": {
      "text/html": [
       "<div>\n",
       "<style scoped>\n",
       "    .dataframe tbody tr th:only-of-type {\n",
       "        vertical-align: middle;\n",
       "    }\n",
       "\n",
       "    .dataframe tbody tr th {\n",
       "        vertical-align: top;\n",
       "    }\n",
       "\n",
       "    .dataframe thead th {\n",
       "        text-align: right;\n",
       "    }\n",
       "</style>\n",
       "<table border=\"1\" class=\"dataframe\">\n",
       "  <thead>\n",
       "    <tr style=\"text-align: right;\">\n",
       "      <th></th>\n",
       "      <th>elmo_fntune_1emb_attscore_pair</th>\n",
       "      <th>elmo_fntune_1emb_attscore_rcue</th>\n",
       "      <th>elmo_fntune_1emb_attscore_sum</th>\n",
       "      <th>elmo_fntune_2emb_attscore_pair</th>\n",
       "      <th>elmo_fntune_2emb_attscore_rcue</th>\n",
       "      <th>elmo_fntune_2emb_attscore_sum</th>\n",
       "      <th>bert_fntune_1emb_attscore_pair</th>\n",
       "      <th>bert_fntune_1emb_attscore_rcue</th>\n",
       "      <th>bert_fntune_1emb_attscore_sum</th>\n",
       "      <th>bert_fntune_2emb_attscore_pair</th>\n",
       "      <th>bert_fntune_2emb_attscore_rcue</th>\n",
       "      <th>bert_fntune_2emb_attscore_sum</th>\n",
       "    </tr>\n",
       "    <tr>\n",
       "      <th>relation</th>\n",
       "      <th></th>\n",
       "      <th></th>\n",
       "      <th></th>\n",
       "      <th></th>\n",
       "      <th></th>\n",
       "      <th></th>\n",
       "      <th></th>\n",
       "      <th></th>\n",
       "      <th></th>\n",
       "      <th></th>\n",
       "      <th></th>\n",
       "      <th></th>\n",
       "    </tr>\n",
       "  </thead>\n",
       "  <tbody>\n",
       "    <tr>\n",
       "      <th>Antonym</th>\n",
       "      <td>0.228</td>\n",
       "      <td>0.336</td>\n",
       "      <td>0.564</td>\n",
       "      <td>0.572</td>\n",
       "      <td>0.491</td>\n",
       "      <td>1.063</td>\n",
       "      <td>0.593</td>\n",
       "      <td>0.772</td>\n",
       "      <td>1.366</td>\n",
       "      <td>0.947</td>\n",
       "      <td>0.350</td>\n",
       "      <td>1.298</td>\n",
       "    </tr>\n",
       "    <tr>\n",
       "      <th>Entails</th>\n",
       "      <td>0.493</td>\n",
       "      <td>0.601</td>\n",
       "      <td>1.094</td>\n",
       "      <td>0.722</td>\n",
       "      <td>0.699</td>\n",
       "      <td>1.421</td>\n",
       "      <td>0.635</td>\n",
       "      <td>0.582</td>\n",
       "      <td>1.217</td>\n",
       "      <td>0.829</td>\n",
       "      <td>0.704</td>\n",
       "      <td>1.532</td>\n",
       "    </tr>\n",
       "    <tr>\n",
       "      <th>HasA</th>\n",
       "      <td>0.290</td>\n",
       "      <td>0.727</td>\n",
       "      <td>1.017</td>\n",
       "      <td>0.493</td>\n",
       "      <td>0.666</td>\n",
       "      <td>1.159</td>\n",
       "      <td>0.727</td>\n",
       "      <td>0.507</td>\n",
       "      <td>1.234</td>\n",
       "      <td>0.567</td>\n",
       "      <td>0.924</td>\n",
       "      <td>1.491</td>\n",
       "    </tr>\n",
       "    <tr>\n",
       "      <th>HasProperty</th>\n",
       "      <td>0.495</td>\n",
       "      <td>0.995</td>\n",
       "      <td>1.489</td>\n",
       "      <td>0.648</td>\n",
       "      <td>0.493</td>\n",
       "      <td>1.141</td>\n",
       "      <td>0.667</td>\n",
       "      <td>0.694</td>\n",
       "      <td>1.361</td>\n",
       "      <td>0.902</td>\n",
       "      <td>0.355</td>\n",
       "      <td>1.257</td>\n",
       "    </tr>\n",
       "    <tr>\n",
       "      <th>IsA</th>\n",
       "      <td>0.530</td>\n",
       "      <td>0.992</td>\n",
       "      <td>1.522</td>\n",
       "      <td>0.695</td>\n",
       "      <td>0.505</td>\n",
       "      <td>1.201</td>\n",
       "      <td>0.797</td>\n",
       "      <td>0.589</td>\n",
       "      <td>1.386</td>\n",
       "      <td>0.972</td>\n",
       "      <td>0.344</td>\n",
       "      <td>1.316</td>\n",
       "    </tr>\n",
       "    <tr>\n",
       "      <th>MadeOf</th>\n",
       "      <td>0.399</td>\n",
       "      <td>0.685</td>\n",
       "      <td>1.084</td>\n",
       "      <td>0.882</td>\n",
       "      <td>0.722</td>\n",
       "      <td>1.604</td>\n",
       "      <td>0.961</td>\n",
       "      <td>0.664</td>\n",
       "      <td>1.626</td>\n",
       "      <td>0.578</td>\n",
       "      <td>0.991</td>\n",
       "      <td>1.569</td>\n",
       "    </tr>\n",
       "    <tr>\n",
       "      <th>MemberOf</th>\n",
       "      <td>0.500</td>\n",
       "      <td>0.995</td>\n",
       "      <td>1.495</td>\n",
       "      <td>0.589</td>\n",
       "      <td>0.510</td>\n",
       "      <td>1.099</td>\n",
       "      <td>0.729</td>\n",
       "      <td>0.370</td>\n",
       "      <td>1.099</td>\n",
       "      <td>0.995</td>\n",
       "      <td>0.344</td>\n",
       "      <td>1.339</td>\n",
       "    </tr>\n",
       "    <tr>\n",
       "      <th>PartOf</th>\n",
       "      <td>0.402</td>\n",
       "      <td>0.700</td>\n",
       "      <td>1.102</td>\n",
       "      <td>0.884</td>\n",
       "      <td>0.674</td>\n",
       "      <td>1.558</td>\n",
       "      <td>0.976</td>\n",
       "      <td>0.671</td>\n",
       "      <td>1.647</td>\n",
       "      <td>0.579</td>\n",
       "      <td>0.977</td>\n",
       "      <td>1.556</td>\n",
       "    </tr>\n",
       "    <tr>\n",
       "      <th>Synonym</th>\n",
       "      <td>0.865</td>\n",
       "      <td>0.357</td>\n",
       "      <td>1.222</td>\n",
       "      <td>0.398</td>\n",
       "      <td>0.645</td>\n",
       "      <td>1.043</td>\n",
       "      <td>0.873</td>\n",
       "      <td>0.447</td>\n",
       "      <td>1.321</td>\n",
       "      <td>0.502</td>\n",
       "      <td>0.499</td>\n",
       "      <td>1.001</td>\n",
       "    </tr>\n",
       "    <tr>\n",
       "      <th>overall avg.</th>\n",
       "      <td>0.473</td>\n",
       "      <td>0.698</td>\n",
       "      <td>1.172</td>\n",
       "      <td>0.627</td>\n",
       "      <td>0.558</td>\n",
       "      <td>1.185</td>\n",
       "      <td>0.757</td>\n",
       "      <td>0.629</td>\n",
       "      <td>1.387</td>\n",
       "      <td>0.805</td>\n",
       "      <td>0.498</td>\n",
       "      <td>1.303</td>\n",
       "    </tr>\n",
       "  </tbody>\n",
       "</table>\n",
       "</div>"
      ],
      "text/plain": [
       "              elmo_fntune_1emb_attscore_pair  elmo_fntune_1emb_attscore_rcue  \\\n",
       "relation                                                                       \n",
       "Antonym       0.228                           0.336                            \n",
       "Entails       0.493                           0.601                            \n",
       "HasA          0.290                           0.727                            \n",
       "HasProperty   0.495                           0.995                            \n",
       "IsA           0.530                           0.992                            \n",
       "MadeOf        0.399                           0.685                            \n",
       "MemberOf      0.500                           0.995                            \n",
       "PartOf        0.402                           0.700                            \n",
       "Synonym       0.865                           0.357                            \n",
       "overall avg.  0.473                           0.698                            \n",
       "\n",
       "              elmo_fntune_1emb_attscore_sum  elmo_fntune_2emb_attscore_pair  \\\n",
       "relation                                                                      \n",
       "Antonym       0.564                          0.572                            \n",
       "Entails       1.094                          0.722                            \n",
       "HasA          1.017                          0.493                            \n",
       "HasProperty   1.489                          0.648                            \n",
       "IsA           1.522                          0.695                            \n",
       "MadeOf        1.084                          0.882                            \n",
       "MemberOf      1.495                          0.589                            \n",
       "PartOf        1.102                          0.884                            \n",
       "Synonym       1.222                          0.398                            \n",
       "overall avg.  1.172                          0.627                            \n",
       "\n",
       "              elmo_fntune_2emb_attscore_rcue  elmo_fntune_2emb_attscore_sum  \\\n",
       "relation                                                                      \n",
       "Antonym       0.491                           1.063                           \n",
       "Entails       0.699                           1.421                           \n",
       "HasA          0.666                           1.159                           \n",
       "HasProperty   0.493                           1.141                           \n",
       "IsA           0.505                           1.201                           \n",
       "MadeOf        0.722                           1.604                           \n",
       "MemberOf      0.510                           1.099                           \n",
       "PartOf        0.674                           1.558                           \n",
       "Synonym       0.645                           1.043                           \n",
       "overall avg.  0.558                           1.185                           \n",
       "\n",
       "              bert_fntune_1emb_attscore_pair  bert_fntune_1emb_attscore_rcue  \\\n",
       "relation                                                                       \n",
       "Antonym       0.593                           0.772                            \n",
       "Entails       0.635                           0.582                            \n",
       "HasA          0.727                           0.507                            \n",
       "HasProperty   0.667                           0.694                            \n",
       "IsA           0.797                           0.589                            \n",
       "MadeOf        0.961                           0.664                            \n",
       "MemberOf      0.729                           0.370                            \n",
       "PartOf        0.976                           0.671                            \n",
       "Synonym       0.873                           0.447                            \n",
       "overall avg.  0.757                           0.629                            \n",
       "\n",
       "              bert_fntune_1emb_attscore_sum  bert_fntune_2emb_attscore_pair  \\\n",
       "relation                                                                      \n",
       "Antonym       1.366                          0.947                            \n",
       "Entails       1.217                          0.829                            \n",
       "HasA          1.234                          0.567                            \n",
       "HasProperty   1.361                          0.902                            \n",
       "IsA           1.386                          0.972                            \n",
       "MadeOf        1.626                          0.578                            \n",
       "MemberOf      1.099                          0.995                            \n",
       "PartOf        1.647                          0.579                            \n",
       "Synonym       1.321                          0.502                            \n",
       "overall avg.  1.387                          0.805                            \n",
       "\n",
       "              bert_fntune_2emb_attscore_rcue  bert_fntune_2emb_attscore_sum  \n",
       "relation                                                                     \n",
       "Antonym       0.350                           1.298                          \n",
       "Entails       0.704                           1.532                          \n",
       "HasA          0.924                           1.491                          \n",
       "HasProperty   0.355                           1.257                          \n",
       "IsA           0.344                           1.316                          \n",
       "MadeOf        0.991                           1.569                          \n",
       "MemberOf      0.344                           1.339                          \n",
       "PartOf        0.977                           1.556                          \n",
       "Synonym       0.499                           1.001                          \n",
       "overall avg.  0.498                           1.303                          "
      ]
     },
     "execution_count": 37,
     "metadata": {},
     "output_type": "execute_result"
    }
   ],
   "source": [
    "tt = df_eval.groupby('relation').apply(lambda df:df[['elmo_fntune_1emb_attscore_pair', 'elmo_fntune_1emb_attscore_rcue', 'elmo_fntune_1emb_attscore_sum',\n",
    "                                                     'elmo_fntune_2emb_attscore_pair', 'elmo_fntune_2emb_attscore_rcue', 'elmo_fntune_2emb_attscore_sum',\n",
    "                                                     'bert_fntune_1emb_attscore_pair', 'bert_fntune_1emb_attscore_rcue', 'bert_fntune_1emb_attscore_sum',\n",
    "                                                     'bert_fntune_2emb_attscore_pair', 'bert_fntune_2emb_attscore_rcue', 'bert_fntune_2emb_attscore_sum']].mean())\n",
    "# tt.loc['sum'] = tt.sum(axis=0)\n",
    "tt.loc['overall avg.'] = [df_eval['elmo_fntune_1emb_attscore_pair'].mean(), df_eval['elmo_fntune_1emb_attscore_rcue'].mean(), df_eval['elmo_fntune_1emb_attscore_sum'].mean(),\n",
    "                          df_eval['elmo_fntune_2emb_attscore_pair'].mean(), df_eval['elmo_fntune_2emb_attscore_rcue'].mean(), df_eval['elmo_fntune_2emb_attscore_sum'].mean(),\n",
    "                          df_eval['bert_fntune_1emb_attscore_pair'].mean(), df_eval['bert_fntune_1emb_attscore_rcue'].mean(), df_eval['bert_fntune_1emb_attscore_sum'].mean(),\n",
    "                          df_eval['bert_fntune_2emb_attscore_pair'].mean(), df_eval['bert_fntune_2emb_attscore_rcue'].mean(), df_eval['bert_fntune_2emb_attscore_sum'].mean(),]\n",
    "tt.round(3)"
   ]
  },
  {
   "cell_type": "markdown",
   "metadata": {},
   "source": [
    "Santus et al., 2015: The list of relationship and example relational cues\n",
    "<img src=\"dataset/EVALution_1.0/santus_et_al__hearst.png\">"
   ]
  },
  {
   "cell_type": "code",
   "execution_count": 38,
   "metadata": {},
   "outputs": [
    {
     "data": {
      "text/plain": [
       "{'pair': (0.47319473062432227,\n",
       "  0.6272023411472156,\n",
       "  Ttest_indResult(statistic=-37.805271904344046, pvalue=8.189518422241532e-299)),\n",
       " 'rcue': (0.6983055888121291,\n",
       "  0.5580524420854106,\n",
       "  Ttest_indResult(statistic=33.032503715818976, pvalue=4.890484954754885e-231)),\n",
       " 'sum': (1.1715003194364513,\n",
       "  1.1852547832326263,\n",
       "  Ttest_indResult(statistic=-2.4045652495967045, pvalue=0.016203772010561175))}"
      ]
     },
     "execution_count": 38,
     "metadata": {},
     "output_type": "execute_result"
    }
   ],
   "source": [
    "# elmo finetune: 1emb vs 2emb\n",
    "{\"pair\":(df_eval['elmo_fntune_1emb_attscore_pair'].mean(), df_eval['elmo_fntune_2emb_attscore_pair'].mean(), ttest_ind(df_eval['elmo_fntune_1emb_attscore_pair'], df_eval['elmo_fntune_2emb_attscore_pair'])),\n",
    " \"rcue\":(df_eval['elmo_fntune_1emb_attscore_rcue'].mean(), df_eval['elmo_fntune_2emb_attscore_rcue'].mean(), ttest_ind(df_eval['elmo_fntune_1emb_attscore_rcue'], df_eval['elmo_fntune_2emb_attscore_rcue'])),\n",
    " \"sum\": (df_eval['elmo_fntune_1emb_attscore_sum'].mean(),   df_eval['elmo_fntune_2emb_attscore_sum'].mean(),  ttest_ind(df_eval['elmo_fntune_1emb_attscore_sum'], df_eval['elmo_fntune_2emb_attscore_sum']))}"
   ]
  },
  {
   "cell_type": "code",
   "execution_count": 39,
   "metadata": {},
   "outputs": [
    {
     "data": {
      "text/plain": [
       "{'pair': (0.7574834565399502,\n",
       "  0.8047299486776595,\n",
       "  Ttest_indResult(statistic=-12.746342675537154, pvalue=5.086593768360414e-37)),\n",
       " 'rcue': (0.6293828247645653,\n",
       "  0.49844328739817256,\n",
       "  Ttest_indResult(statistic=36.73277076159263, pvalue=6.468741492900979e-283)),\n",
       " 'sum': (1.3868662813045156,\n",
       "  1.3031732360758324,\n",
       "  Ttest_indResult(statistic=23.061655474451367, pvalue=1.1502564916134773e-115))}"
      ]
     },
     "execution_count": 39,
     "metadata": {},
     "output_type": "execute_result"
    }
   ],
   "source": [
    "# bert finetune: 1emb vs 2emb\n",
    "{\"pair\":(df_eval['bert_fntune_1emb_attscore_pair'].mean(), df_eval['bert_fntune_2emb_attscore_pair'].mean(), ttest_ind(df_eval['bert_fntune_1emb_attscore_pair'], df_eval['bert_fntune_2emb_attscore_pair'])),\n",
    " \"rcue\":(df_eval['bert_fntune_1emb_attscore_rcue'].mean(), df_eval['bert_fntune_2emb_attscore_rcue'].mean(), ttest_ind(df_eval['bert_fntune_1emb_attscore_rcue'], df_eval['bert_fntune_2emb_attscore_rcue'])),\n",
    " \"sum\": (df_eval['bert_fntune_1emb_attscore_sum'].mean(),  df_eval['bert_fntune_2emb_attscore_sum'].mean(),  ttest_ind(df_eval['bert_fntune_1emb_attscore_sum'],  df_eval['bert_fntune_2emb_attscore_sum']))}"
   ]
  },
  {
   "cell_type": "code",
   "execution_count": 40,
   "metadata": {},
   "outputs": [
    {
     "data": {
      "text/plain": [
       "{'pair': (0.47319473062432227,\n",
       "  0.7574834565399502,\n",
       "  Ttest_indResult(statistic=-79.85842804274778, pvalue=0.0)),\n",
       " 'rcue': (0.6983055888121291,\n",
       "  0.6293828247645653,\n",
       "  Ttest_indResult(statistic=17.359024580150425, pvalue=7.593321648429902e-67)),\n",
       " 'sum': (1.1715003194364513,\n",
       "  1.3868662813045156,\n",
       "  Ttest_indResult(statistic=-41.89884390073213, pvalue=0.0))}"
      ]
     },
     "execution_count": 40,
     "metadata": {},
     "output_type": "execute_result"
    }
   ],
   "source": [
    "# 1emb finetune: elmo vs bert\n",
    "{\"pair\":(df_eval['elmo_fntune_1emb_attscore_pair'].mean(), df_eval['bert_fntune_1emb_attscore_pair'].mean(), ttest_ind(df_eval['elmo_fntune_1emb_attscore_pair'], df_eval['bert_fntune_1emb_attscore_pair'])),\n",
    " \"rcue\":(df_eval['elmo_fntune_1emb_attscore_rcue'].mean(), df_eval['bert_fntune_1emb_attscore_rcue'].mean(), ttest_ind(df_eval['elmo_fntune_1emb_attscore_rcue'], df_eval['bert_fntune_1emb_attscore_rcue'])),\n",
    " \"sum\" :(df_eval['elmo_fntune_1emb_attscore_sum'].mean(),  df_eval['bert_fntune_1emb_attscore_sum'].mean(),  ttest_ind(df_eval['elmo_fntune_1emb_attscore_sum'],  df_eval['bert_fntune_1emb_attscore_sum']))}"
   ]
  },
  {
   "cell_type": "code",
   "execution_count": 41,
   "metadata": {},
   "outputs": [
    {
     "data": {
      "text/plain": [
       "{'pair': (0.6272023411472156,\n",
       "  0.8047299486776595,\n",
       "  Ttest_indResult(statistic=-42.242687943892975, pvalue=0.0)),\n",
       " 'rcue': (0.5580524420854106,\n",
       "  0.49844328739817256,\n",
       "  Ttest_indResult(statistic=15.406318213838919, pvalue=3.792643694921283e-53)),\n",
       " 'sum': (1.1852547832326263,\n",
       "  1.3031732360758324,\n",
       "  Ttest_indResult(statistic=-26.72425913246958, pvalue=9.637605143334927e-154))}"
      ]
     },
     "execution_count": 41,
     "metadata": {},
     "output_type": "execute_result"
    }
   ],
   "source": [
    "# 2emb finetune: elmo vs bert\n",
    "{\"pair\":(df_eval['elmo_fntune_2emb_attscore_pair'].mean(), df_eval['bert_fntune_2emb_attscore_pair'].mean(), ttest_ind(df_eval['elmo_fntune_2emb_attscore_pair'], df_eval['bert_fntune_2emb_attscore_pair'])),\n",
    " \"rcue\":(df_eval['elmo_fntune_2emb_attscore_rcue'].mean(), df_eval['bert_fntune_2emb_attscore_rcue'].mean(), ttest_ind(df_eval['elmo_fntune_2emb_attscore_rcue'], df_eval['bert_fntune_2emb_attscore_rcue'])),\n",
    " \"sum\" :(df_eval['elmo_fntune_2emb_attscore_sum'].mean(),  df_eval['bert_fntune_2emb_attscore_sum'].mean(),  ttest_ind(df_eval['elmo_fntune_2emb_attscore_sum'],  df_eval['bert_fntune_2emb_attscore_sum']))}"
   ]
  },
  {
   "cell_type": "code",
   "execution_count": null,
   "metadata": {},
   "outputs": [],
   "source": []
  }
 ],
 "metadata": {
  "kernelspec": {
   "display_name": "Python 3",
   "language": "python",
   "name": "python3"
  },
  "language_info": {
   "codemirror_mode": {
    "name": "ipython",
    "version": 3
   },
   "file_extension": ".py",
   "mimetype": "text/x-python",
   "name": "python",
   "nbconvert_exporter": "python",
   "pygments_lexer": "ipython3",
   "version": "3.6.7"
  }
 },
 "nbformat": 4,
 "nbformat_minor": 4
}
