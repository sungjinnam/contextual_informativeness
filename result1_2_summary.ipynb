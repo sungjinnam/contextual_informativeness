{
 "cells": [
  {
   "cell_type": "code",
   "execution_count": 95,
   "metadata": {},
   "outputs": [],
   "source": [
    "import numpy as np\n",
    "import pandas as pd\n",
    "import seaborn as sns\n",
    "import matplotlib.pyplot as plt\n",
    "from scipy.stats import ttest_ind"
   ]
  },
  {
   "cell_type": "code",
   "execution_count": 96,
   "metadata": {},
   "outputs": [],
   "source": [
    "from utils.utils import *"
   ]
  },
  {
   "cell_type": "code",
   "execution_count": 97,
   "metadata": {},
   "outputs": [],
   "source": [
    "%config InlineBackend.figure_format = 'retina'"
   ]
  },
  {
   "cell_type": "code",
   "execution_count": null,
   "metadata": {},
   "outputs": [],
   "source": []
  },
  {
   "cell_type": "markdown",
   "metadata": {},
   "source": [
    "# Sem Den score "
   ]
  },
  {
   "cell_type": "code",
   "execution_count": 98,
   "metadata": {},
   "outputs": [],
   "source": [
    "# base_result_dum = np.load(\"base_result_0_dummy_bws.npy\", allow_pickle=True)\n",
    "# base_result_len = np.load(\"base_result_1_sentlen_bws.npy\", allow_pickle=True)\n",
    "# base_result_bow = np.load(\"base_result_2_bow_bws.npy\", allow_pickle=True)\n",
    "base_result_dum = np.load(\"base_result_0_dummy_glv.npy\", allow_pickle=True)\n",
    "base_result_len = np.load(\"base_result_1_sentlen_glv.npy\", allow_pickle=True)\n",
    "base_result_bow = np.load(\"base_result_2_bow_glv.npy\", allow_pickle=True)"
   ]
  },
  {
   "cell_type": "code",
   "execution_count": 99,
   "metadata": {},
   "outputs": [],
   "source": [
    "# elmo_result_nt_na_out = np.load(\"elmo_result_nt_na_out.npy\", allow_pickle=True)\n",
    "# elmo_result_nt_wa_out = np.load(\"elmo_result_nt_wa_out.npy\", allow_pickle=True)\n",
    "# elmo_result_ft_na_out = np.load(\"elmo_result_ft_na_out.npy\", allow_pickle=True)\n",
    "# elmo_result_ft_wa_out = np.load(\"elmo_result_ft_wa_out.npy\", allow_pickle=True)\n",
    "elmo_result_nt_na_out = np.load(\"elmo_result_nt_na_out_glv.npy\", allow_pickle=True)\n",
    "elmo_result_nt_wa_out = np.load(\"elmo_result_nt_wa_out_glv.npy\", allow_pickle=True)\n",
    "elmo_result_ft_na_out = np.load(\"elmo_result_ft_na_out_glv.npy\", allow_pickle=True)\n",
    "elmo_result_ft_wa_out = np.load(\"elmo_result_ft_wa_out_glv.npy\", allow_pickle=True)"
   ]
  },
  {
   "cell_type": "code",
   "execution_count": 100,
   "metadata": {},
   "outputs": [],
   "source": [
    "# bert_result_nt_na_out = np.load(\"bert_result_nt_na_out2.npy\", allow_pickle=True)\n",
    "# bert_result_nt_wa_out = np.load(\"bert_result_nt_wa_out2.npy\", allow_pickle=True)\n",
    "# bert_result_ft_na_out = np.load(\"bert_result_ft_na_out2.npy\", allow_pickle=True)\n",
    "# bert_result_ft_wa_out = np.load(\"bert_result_ft_wa_out2.npy\", allow_pickle=True)\n",
    "bert_result_nt_na_out = np.load(\"bert_result_nt_na_out_glv.npy\", allow_pickle=True)\n",
    "bert_result_nt_wa_out = np.load(\"bert_result_nt_wa_out_glv.npy\", allow_pickle=True)\n",
    "bert_result_ft_na_out = np.load(\"bert_result_ft_na_out_glv.npy\", allow_pickle=True)\n",
    "bert_result_ft_wa_out = np.load(\"bert_result_ft_wa_out_glv.npy\", allow_pickle=True)"
   ]
  },
  {
   "cell_type": "code",
   "execution_count": null,
   "metadata": {},
   "outputs": [],
   "source": []
  },
  {
   "cell_type": "code",
   "execution_count": 101,
   "metadata": {},
   "outputs": [],
   "source": [
    "base_dum_rmse = [rmse(scr_true, scr_pred) for scr_pred, scr_true in zip(base_result_dum[1], base_result_dum[0])]\n",
    "base_len_rmse = [rmse(scr_true, scr_pred) for scr_pred, scr_true in zip(base_result_len[1], base_result_len[0])]\n",
    "base_bow_rmse = [rmse(scr_true, scr_pred) for scr_pred, scr_true in zip(base_result_bow[1], base_result_bow[0])]"
   ]
  },
  {
   "cell_type": "code",
   "execution_count": 102,
   "metadata": {},
   "outputs": [],
   "source": [
    "elmo_scr_rmse_nt_na = [rmse(scr_true, scr_pred) for scr_pred, scr_true in zip(elmo_result_nt_na_out[0], elmo_result_nt_na_out[1])]\n",
    "elmo_scr_rmse_nt_wa = [rmse(scr_true, scr_pred) for scr_pred, scr_true in zip(elmo_result_nt_wa_out[0], elmo_result_nt_wa_out[1])]\n",
    "elmo_scr_rmse_ft_na = [rmse(scr_true, scr_pred) for scr_pred, scr_true in zip(elmo_result_ft_na_out[0], elmo_result_ft_na_out[1])]\n",
    "elmo_scr_rmse_ft_wa = [rmse(scr_true, scr_pred) for scr_pred, scr_true in zip(elmo_result_ft_wa_out[0], elmo_result_ft_wa_out[1])]"
   ]
  },
  {
   "cell_type": "code",
   "execution_count": 103,
   "metadata": {},
   "outputs": [],
   "source": [
    "bert_scr_rmse_nt_na = [rmse(scr_true.flatten(), scr_pred) for scr_pred, scr_true in zip(bert_result_nt_na_out[0], bert_result_nt_na_out[1])]\n",
    "bert_scr_rmse_nt_wa = [rmse(scr_true.flatten(), scr_pred) for scr_pred, scr_true in zip(bert_result_nt_wa_out[0], bert_result_nt_wa_out[1])]\n",
    "bert_scr_rmse_ft_na = [rmse(scr_true.flatten(), scr_pred) for scr_pred, scr_true in zip(bert_result_ft_na_out[0], bert_result_ft_na_out[1])]\n",
    "bert_scr_rmse_ft_wa = [rmse(scr_true.flatten(), scr_pred) for scr_pred, scr_true in zip(bert_result_ft_wa_out[0], bert_result_ft_wa_out[1])]"
   ]
  },
  {
   "cell_type": "code",
   "execution_count": 104,
   "metadata": {},
   "outputs": [
    {
     "data": {
      "text/plain": [
       "((0.16320116987064676, 0.1505312229749133, 0.1758711167663802),\n",
       " (0.1621838405115647, 0.14943015166909548, 0.17493752935403392),\n",
       " (0.1984807707775315, 0.18286333359447882, 0.2140982079605842))"
      ]
     },
     "execution_count": 104,
     "metadata": {},
     "output_type": "execute_result"
    }
   ],
   "source": [
    "ci(base_dum_rmse), ci(base_len_rmse), ci(base_bow_rmse)"
   ]
  },
  {
   "cell_type": "code",
   "execution_count": 105,
   "metadata": {},
   "outputs": [
    {
     "data": {
      "text/plain": [
       "((0.1637503990113533, 0.15259125795499082, 0.17490954006771578),\n",
       " (0.16118449807800678, 0.1482284693195979, 0.17414052683641565),\n",
       " (0.1660482889485883, 0.15445338443411813, 0.17764319346305849),\n",
       " (0.1615716828571594, 0.14898887556917925, 0.17415449014513953))"
      ]
     },
     "execution_count": 105,
     "metadata": {},
     "output_type": "execute_result"
    }
   ],
   "source": [
    "ci(elmo_scr_rmse_nt_na), ci(elmo_scr_rmse_nt_wa), ci(elmo_scr_rmse_ft_na), ci(elmo_scr_rmse_ft_wa), "
   ]
  },
  {
   "cell_type": "code",
   "execution_count": 106,
   "metadata": {},
   "outputs": [
    {
     "data": {
      "text/plain": [
       "((0.24167551454777692, 0.2272581744612751, 0.2560928546342787),\n",
       " (0.16997956024317823, 0.15565145692712218, 0.18430766355923428),\n",
       " (0.20275734350424807, 0.19499580765003147, 0.21051887935846467),\n",
       " (0.16354989849692883, 0.15132824784760845, 0.1757715491462492))"
      ]
     },
     "execution_count": 106,
     "metadata": {},
     "output_type": "execute_result"
    }
   ],
   "source": [
    "ci(bert_scr_rmse_nt_na), ci(bert_scr_rmse_nt_wa), ci(bert_scr_rmse_ft_na), ci(bert_scr_rmse_ft_wa), "
   ]
  },
  {
   "cell_type": "code",
   "execution_count": 107,
   "metadata": {},
   "outputs": [
    {
     "data": {
      "text/plain": [
       "(Ttest_indResult(statistic=0.3394572062514431, pvalue=0.738193866341233),\n",
       " Ttest_indResult(statistic=0.591846688635358, pvalue=0.5613140805563115))"
      ]
     },
     "execution_count": 107,
     "metadata": {},
     "output_type": "execute_result"
    }
   ],
   "source": [
    "ttest_ind(elmo_scr_rmse_nt_na, elmo_scr_rmse_nt_wa), ttest_ind(elmo_scr_rmse_ft_na, elmo_scr_rmse_ft_wa)"
   ]
  },
  {
   "cell_type": "code",
   "execution_count": 108,
   "metadata": {},
   "outputs": [
    {
     "data": {
      "text/plain": [
       "(Ttest_indResult(statistic=7.979236122672525, pvalue=2.5430766467532074e-07),\n",
       " Ttest_indResult(statistic=6.126114745457839, pvalue=8.713620593777205e-06))"
      ]
     },
     "execution_count": 108,
     "metadata": {},
     "output_type": "execute_result"
    }
   ],
   "source": [
    "ttest_ind(bert_scr_rmse_nt_na, bert_scr_rmse_nt_wa), ttest_ind(bert_scr_rmse_ft_na, bert_scr_rmse_ft_wa)"
   ]
  },
  {
   "cell_type": "code",
   "execution_count": 109,
   "metadata": {},
   "outputs": [],
   "source": [
    "scr_rmse = pd.DataFrame({\"Baseline\\n - dummy\": base_dum_rmse,\n",
    "                         \"Baseline\\n - SentLen\": base_len_rmse,\n",
    "                         \"Baseline\\n - BoW\": base_bow_rmse,\n",
    "                         \"ELMo - no tune\\n no attn\":elmo_scr_rmse_nt_na,\n",
    "                         \"ELMo - no tune\\n /w attn\":elmo_scr_rmse_nt_wa,\n",
    "                         \"ELMo - F. tune\\n no attn\":elmo_scr_rmse_ft_na, \n",
    "                         \"ELMo - F. tune\\n /w attn\":elmo_scr_rmse_ft_wa,\n",
    "                         \"BERT - no tune\\n no attn\":bert_scr_rmse_nt_na,\n",
    "                         \"BERT - no tune\\n /w attn\":bert_scr_rmse_nt_wa,\n",
    "                         \"BERT - F. tune\\n no attn\":bert_scr_rmse_ft_na, \n",
    "                         \"BERT - F. tune\\n /w attn\":bert_scr_rmse_ft_wa,})"
   ]
  },
  {
   "cell_type": "code",
   "execution_count": 110,
   "metadata": {},
   "outputs": [
    {
     "data": {
      "text/html": [
       "<div>\n",
       "<style scoped>\n",
       "    .dataframe tbody tr th:only-of-type {\n",
       "        vertical-align: middle;\n",
       "    }\n",
       "\n",
       "    .dataframe tbody tr th {\n",
       "        vertical-align: top;\n",
       "    }\n",
       "\n",
       "    .dataframe thead th {\n",
       "        text-align: right;\n",
       "    }\n",
       "</style>\n",
       "<table border=\"1\" class=\"dataframe\">\n",
       "  <thead>\n",
       "    <tr style=\"text-align: right;\">\n",
       "      <th></th>\n",
       "      <th>Baseline\n",
       " - dummy</th>\n",
       "      <th>Baseline\n",
       " - SentLen</th>\n",
       "      <th>Baseline\n",
       " - BoW</th>\n",
       "      <th>ELMo - no tune\n",
       " no attn</th>\n",
       "      <th>ELMo - no tune\n",
       " /w attn</th>\n",
       "      <th>ELMo - F. tune\n",
       " no attn</th>\n",
       "      <th>ELMo - F. tune\n",
       " /w attn</th>\n",
       "      <th>BERT - no tune\n",
       " no attn</th>\n",
       "      <th>BERT - no tune\n",
       " /w attn</th>\n",
       "      <th>BERT - F. tune\n",
       " no attn</th>\n",
       "      <th>BERT - F. tune\n",
       " /w attn</th>\n",
       "    </tr>\n",
       "  </thead>\n",
       "  <tbody>\n",
       "    <tr>\n",
       "      <th>0</th>\n",
       "      <td>0.173420</td>\n",
       "      <td>0.174188</td>\n",
       "      <td>0.200587</td>\n",
       "      <td>0.158433</td>\n",
       "      <td>0.155041</td>\n",
       "      <td>0.157438</td>\n",
       "      <td>0.161177</td>\n",
       "      <td>0.239279</td>\n",
       "      <td>0.186188</td>\n",
       "      <td>0.207946</td>\n",
       "      <td>0.171552</td>\n",
       "    </tr>\n",
       "    <tr>\n",
       "      <th>1</th>\n",
       "      <td>0.144232</td>\n",
       "      <td>0.141582</td>\n",
       "      <td>0.193153</td>\n",
       "      <td>0.157998</td>\n",
       "      <td>0.153104</td>\n",
       "      <td>0.159914</td>\n",
       "      <td>0.149701</td>\n",
       "      <td>0.250161</td>\n",
       "      <td>0.153646</td>\n",
       "      <td>0.194871</td>\n",
       "      <td>0.159089</td>\n",
       "    </tr>\n",
       "    <tr>\n",
       "      <th>2</th>\n",
       "      <td>0.149086</td>\n",
       "      <td>0.147831</td>\n",
       "      <td>0.179003</td>\n",
       "      <td>0.155689</td>\n",
       "      <td>0.150879</td>\n",
       "      <td>0.156171</td>\n",
       "      <td>0.157117</td>\n",
       "      <td>0.207207</td>\n",
       "      <td>0.163447</td>\n",
       "      <td>0.201076</td>\n",
       "      <td>0.147916</td>\n",
       "    </tr>\n",
       "    <tr>\n",
       "      <th>3</th>\n",
       "      <td>0.153049</td>\n",
       "      <td>0.152374</td>\n",
       "      <td>0.175405</td>\n",
       "      <td>0.153271</td>\n",
       "      <td>0.140626</td>\n",
       "      <td>0.145859</td>\n",
       "      <td>0.145146</td>\n",
       "      <td>0.242617</td>\n",
       "      <td>0.149078</td>\n",
       "      <td>0.192266</td>\n",
       "      <td>0.145429</td>\n",
       "    </tr>\n",
       "    <tr>\n",
       "      <th>4</th>\n",
       "      <td>0.149281</td>\n",
       "      <td>0.147262</td>\n",
       "      <td>0.177685</td>\n",
       "      <td>0.155018</td>\n",
       "      <td>0.151765</td>\n",
       "      <td>0.160966</td>\n",
       "      <td>0.152532</td>\n",
       "      <td>0.257190</td>\n",
       "      <td>0.154994</td>\n",
       "      <td>0.199266</td>\n",
       "      <td>0.152778</td>\n",
       "    </tr>\n",
       "    <tr>\n",
       "      <th>5</th>\n",
       "      <td>0.143301</td>\n",
       "      <td>0.142934</td>\n",
       "      <td>0.181688</td>\n",
       "      <td>0.138419</td>\n",
       "      <td>0.140396</td>\n",
       "      <td>0.147767</td>\n",
       "      <td>0.135169</td>\n",
       "      <td>0.214332</td>\n",
       "      <td>0.140855</td>\n",
       "      <td>0.199016</td>\n",
       "      <td>0.143089</td>\n",
       "    </tr>\n",
       "    <tr>\n",
       "      <th>6</th>\n",
       "      <td>0.188940</td>\n",
       "      <td>0.187989</td>\n",
       "      <td>0.232938</td>\n",
       "      <td>0.185682</td>\n",
       "      <td>0.187861</td>\n",
       "      <td>0.188573</td>\n",
       "      <td>0.189723</td>\n",
       "      <td>0.236315</td>\n",
       "      <td>0.195359</td>\n",
       "      <td>0.214716</td>\n",
       "      <td>0.189022</td>\n",
       "    </tr>\n",
       "    <tr>\n",
       "      <th>7</th>\n",
       "      <td>0.180402</td>\n",
       "      <td>0.177446</td>\n",
       "      <td>0.220495</td>\n",
       "      <td>0.171894</td>\n",
       "      <td>0.170876</td>\n",
       "      <td>0.186122</td>\n",
       "      <td>0.169502</td>\n",
       "      <td>0.264941</td>\n",
       "      <td>0.187668</td>\n",
       "      <td>0.221730</td>\n",
       "      <td>0.177413</td>\n",
       "    </tr>\n",
       "    <tr>\n",
       "      <th>8</th>\n",
       "      <td>0.164592</td>\n",
       "      <td>0.166078</td>\n",
       "      <td>0.194651</td>\n",
       "      <td>0.172670</td>\n",
       "      <td>0.169780</td>\n",
       "      <td>0.170174</td>\n",
       "      <td>0.168045</td>\n",
       "      <td>0.235000</td>\n",
       "      <td>0.175264</td>\n",
       "      <td>0.186315</td>\n",
       "      <td>0.161372</td>\n",
       "    </tr>\n",
       "    <tr>\n",
       "      <th>9</th>\n",
       "      <td>0.185709</td>\n",
       "      <td>0.184154</td>\n",
       "      <td>0.229203</td>\n",
       "      <td>0.188430</td>\n",
       "      <td>0.191515</td>\n",
       "      <td>0.187498</td>\n",
       "      <td>0.187605</td>\n",
       "      <td>0.269711</td>\n",
       "      <td>0.193297</td>\n",
       "      <td>0.210372</td>\n",
       "      <td>0.187837</td>\n",
       "    </tr>\n",
       "  </tbody>\n",
       "</table>\n",
       "</div>"
      ],
      "text/plain": [
       "   Baseline\\n - dummy  Baseline\\n - SentLen  Baseline\\n - BoW  \\\n",
       "0            0.173420              0.174188          0.200587   \n",
       "1            0.144232              0.141582          0.193153   \n",
       "2            0.149086              0.147831          0.179003   \n",
       "3            0.153049              0.152374          0.175405   \n",
       "4            0.149281              0.147262          0.177685   \n",
       "5            0.143301              0.142934          0.181688   \n",
       "6            0.188940              0.187989          0.232938   \n",
       "7            0.180402              0.177446          0.220495   \n",
       "8            0.164592              0.166078          0.194651   \n",
       "9            0.185709              0.184154          0.229203   \n",
       "\n",
       "   ELMo - no tune\\n no attn  ELMo - no tune\\n /w attn  \\\n",
       "0                  0.158433                  0.155041   \n",
       "1                  0.157998                  0.153104   \n",
       "2                  0.155689                  0.150879   \n",
       "3                  0.153271                  0.140626   \n",
       "4                  0.155018                  0.151765   \n",
       "5                  0.138419                  0.140396   \n",
       "6                  0.185682                  0.187861   \n",
       "7                  0.171894                  0.170876   \n",
       "8                  0.172670                  0.169780   \n",
       "9                  0.188430                  0.191515   \n",
       "\n",
       "   ELMo - F. tune\\n no attn  ELMo - F. tune\\n /w attn  \\\n",
       "0                  0.157438                  0.161177   \n",
       "1                  0.159914                  0.149701   \n",
       "2                  0.156171                  0.157117   \n",
       "3                  0.145859                  0.145146   \n",
       "4                  0.160966                  0.152532   \n",
       "5                  0.147767                  0.135169   \n",
       "6                  0.188573                  0.189723   \n",
       "7                  0.186122                  0.169502   \n",
       "8                  0.170174                  0.168045   \n",
       "9                  0.187498                  0.187605   \n",
       "\n",
       "   BERT - no tune\\n no attn  BERT - no tune\\n /w attn  \\\n",
       "0                  0.239279                  0.186188   \n",
       "1                  0.250161                  0.153646   \n",
       "2                  0.207207                  0.163447   \n",
       "3                  0.242617                  0.149078   \n",
       "4                  0.257190                  0.154994   \n",
       "5                  0.214332                  0.140855   \n",
       "6                  0.236315                  0.195359   \n",
       "7                  0.264941                  0.187668   \n",
       "8                  0.235000                  0.175264   \n",
       "9                  0.269711                  0.193297   \n",
       "\n",
       "   BERT - F. tune\\n no attn  BERT - F. tune\\n /w attn  \n",
       "0                  0.207946                  0.171552  \n",
       "1                  0.194871                  0.159089  \n",
       "2                  0.201076                  0.147916  \n",
       "3                  0.192266                  0.145429  \n",
       "4                  0.199266                  0.152778  \n",
       "5                  0.199016                  0.143089  \n",
       "6                  0.214716                  0.189022  \n",
       "7                  0.221730                  0.177413  \n",
       "8                  0.186315                  0.161372  \n",
       "9                  0.210372                  0.187837  "
      ]
     },
     "execution_count": 110,
     "metadata": {},
     "output_type": "execute_result"
    }
   ],
   "source": [
    "scr_rmse"
   ]
  },
  {
   "cell_type": "code",
   "execution_count": 111,
   "metadata": {},
   "outputs": [
    {
     "data": {
      "text/plain": [
       "Ttest_indResult(statistic=-0.25511478729706705, pvalue=0.8015265883581076)"
      ]
     },
     "execution_count": 111,
     "metadata": {},
     "output_type": "execute_result"
    }
   ],
   "source": [
    "ttest_ind(elmo_scr_rmse_ft_wa, bert_scr_rmse_ft_wa)"
   ]
  },
  {
   "cell_type": "code",
   "execution_count": 112,
   "metadata": {},
   "outputs": [
    {
     "data": {
      "text/plain": [
       "ELMo - F. tune\\n no attn    [0.166, 0.154, 0.178]\n",
       "ELMo - F. tune\\n /w attn    [0.162, 0.149, 0.174]\n",
       "BERT - F. tune\\n no attn    [0.203, 0.195, 0.211]\n",
       "BERT - F. tune\\n /w attn    [0.164, 0.151, 0.176]\n",
       "dtype: object"
      ]
     },
     "execution_count": 112,
     "metadata": {},
     "output_type": "execute_result"
    }
   ],
   "source": [
    "scr_rmse.filter(regex=\"F. tune\").apply(lambda col:[round(x, 3)for x in ci(col)], axis=0)"
   ]
  },
  {
   "cell_type": "code",
   "execution_count": 113,
   "metadata": {},
   "outputs": [
    {
     "data": {
      "text/plain": [
       "Baseline\\n - dummy      [0.163, 0.151, 0.176]\n",
       "Baseline\\n - SentLen    [0.162, 0.149, 0.175]\n",
       "Baseline\\n - BoW        [0.198, 0.183, 0.214]\n",
       "dtype: object"
      ]
     },
     "execution_count": 113,
     "metadata": {},
     "output_type": "execute_result"
    }
   ],
   "source": [
    "scr_rmse.filter(regex=\"Base\").apply(lambda col:[round(x, 3)for x in ci(col)], axis=0)"
   ]
  },
  {
   "cell_type": "code",
   "execution_count": null,
   "metadata": {},
   "outputs": [],
   "source": []
  },
  {
   "cell_type": "code",
   "execution_count": null,
   "metadata": {},
   "outputs": [],
   "source": []
  },
  {
   "cell_type": "code",
   "execution_count": 114,
   "metadata": {},
   "outputs": [],
   "source": [
    "# from sklearn.metrics import roc_curve, auc\n",
    "\n",
    "# def rocauc(y_true, y_pred, cut):\n",
    "#     fpr, tpr, _ = roc_curve(y_true > np.quantile(y_true, q=[cut]), y_pred)\n",
    "#     roc_auc = auc(fpr, tpr)\n",
    "#     return (roc_auc)"
   ]
  },
  {
   "cell_type": "code",
   "execution_count": 115,
   "metadata": {},
   "outputs": [],
   "source": [
    "base_dum_rocauc_l2 = [1-rocauc(scr_true, scr_pred, 0.2, \"low\")  for scr_pred, scr_true in zip(base_result_dum[1], base_result_dum[0])]\n",
    "base_dum_rocauc_m5 = [  rocauc(scr_true, scr_pred, 0.5, \"high\") for scr_pred, scr_true in zip(base_result_dum[1], base_result_dum[0])]\n",
    "base_dum_rocauc_h8 = [  rocauc(scr_true, scr_pred, 0.8, \"high\") for scr_pred, scr_true in zip(base_result_dum[1], base_result_dum[0])]\n",
    "\n",
    "base_len_rocauc_l2 = [1-rocauc(scr_true, scr_pred, 0.2, \"low\")  for scr_pred, scr_true in zip(base_result_len[1], base_result_len[0])]\n",
    "base_len_rocauc_m5 = [  rocauc(scr_true, scr_pred, 0.5, \"high\") for scr_pred, scr_true in zip(base_result_len[1], base_result_len[0])]\n",
    "base_len_rocauc_h8 = [  rocauc(scr_true, scr_pred, 0.8, \"high\") for scr_pred, scr_true in zip(base_result_len[1], base_result_len[0])]\n",
    "\n",
    "base_bow_rocauc_l2 = [1-rocauc(scr_true, scr_pred, 0.2, \"low\")  for scr_pred, scr_true in zip(base_result_bow[1], base_result_bow[0])]\n",
    "base_bow_rocauc_m5 = [  rocauc(scr_true, scr_pred, 0.5, \"high\") for scr_pred, scr_true in zip(base_result_bow[1], base_result_bow[0])]\n",
    "base_bow_rocauc_h8 = [  rocauc(scr_true, scr_pred, 0.8, \"high\") for scr_pred, scr_true in zip(base_result_bow[1], base_result_bow[0])]"
   ]
  },
  {
   "cell_type": "code",
   "execution_count": 116,
   "metadata": {},
   "outputs": [],
   "source": [
    "elmo_scr_rocauc_nt_na_l2 = [1-rocauc(scr_true, scr_pred, 0.2, \"low\")  for scr_pred, scr_true in zip(elmo_result_nt_na_out[0], elmo_result_nt_na_out[1])]\n",
    "elmo_scr_rocauc_nt_na_m5 = [  rocauc(scr_true, scr_pred, 0.5, \"high\") for scr_pred, scr_true in zip(elmo_result_nt_na_out[0], elmo_result_nt_na_out[1])]\n",
    "elmo_scr_rocauc_nt_na_h8 = [  rocauc(scr_true, scr_pred, 0.8, \"high\") for scr_pred, scr_true in zip(elmo_result_nt_na_out[0], elmo_result_nt_na_out[1])]\n",
    "\n",
    "elmo_scr_rocauc_nt_wa_l2 = [1-rocauc(scr_true, scr_pred, 0.2, \"low\")  for scr_pred, scr_true in zip(elmo_result_nt_wa_out[0], elmo_result_nt_wa_out[1])]\n",
    "elmo_scr_rocauc_nt_wa_m5 = [  rocauc(scr_true, scr_pred, 0.5, \"high\") for scr_pred, scr_true in zip(elmo_result_nt_wa_out[0], elmo_result_nt_wa_out[1])]\n",
    "elmo_scr_rocauc_nt_wa_h8 = [  rocauc(scr_true, scr_pred, 0.8, \"high\") for scr_pred, scr_true in zip(elmo_result_nt_wa_out[0], elmo_result_nt_wa_out[1])]\n",
    "\n",
    "elmo_scr_rocauc_ft_na_l2 = [1-rocauc(scr_true, scr_pred, 0.2, \"low\")  for scr_pred, scr_true in zip(elmo_result_ft_na_out[0], elmo_result_ft_na_out[1])]\n",
    "elmo_scr_rocauc_ft_na_m5 = [  rocauc(scr_true, scr_pred, 0.5, \"high\") for scr_pred, scr_true in zip(elmo_result_ft_na_out[0], elmo_result_ft_na_out[1])]\n",
    "elmo_scr_rocauc_ft_na_h8 = [  rocauc(scr_true, scr_pred, 0.8, \"high\") for scr_pred, scr_true in zip(elmo_result_ft_na_out[0], elmo_result_ft_na_out[1])]\n",
    "\n",
    "elmo_scr_rocauc_ft_wa_l2 = [1-rocauc(scr_true, scr_pred, 0.2, \"low\")  for scr_pred, scr_true in zip(elmo_result_ft_wa_out[0], elmo_result_ft_wa_out[1])]\n",
    "elmo_scr_rocauc_ft_wa_m5 = [  rocauc(scr_true, scr_pred, 0.5, \"high\") for scr_pred, scr_true in zip(elmo_result_ft_wa_out[0], elmo_result_ft_wa_out[1])]\n",
    "elmo_scr_rocauc_ft_wa_h8 = [  rocauc(scr_true, scr_pred, 0.8, \"high\") for scr_pred, scr_true in zip(elmo_result_ft_wa_out[0], elmo_result_ft_wa_out[1])]\n"
   ]
  },
  {
   "cell_type": "code",
   "execution_count": 117,
   "metadata": {},
   "outputs": [],
   "source": [
    "bert_scr_rocauc_nt_na_l2 = [1-rocauc(scr_true, scr_pred, 0.2, \"low\")  for scr_pred, scr_true in zip(bert_result_nt_na_out[0], bert_result_nt_na_out[1])]\n",
    "bert_scr_rocauc_nt_na_m5 = [  rocauc(scr_true, scr_pred, 0.5, \"high\") for scr_pred, scr_true in zip(bert_result_nt_na_out[0], bert_result_nt_na_out[1])]\n",
    "bert_scr_rocauc_nt_na_h8 = [  rocauc(scr_true, scr_pred, 0.8, \"high\") for scr_pred, scr_true in zip(bert_result_nt_na_out[0], bert_result_nt_na_out[1])]\n",
    "\n",
    "bert_scr_rocauc_nt_wa_l2 = [1-rocauc(scr_true, scr_pred, 0.2, \"low\")  for scr_pred, scr_true in zip(bert_result_nt_wa_out[0], bert_result_nt_wa_out[1])]\n",
    "bert_scr_rocauc_nt_wa_m5 = [  rocauc(scr_true, scr_pred, 0.5, \"high\") for scr_pred, scr_true in zip(bert_result_nt_wa_out[0], bert_result_nt_wa_out[1])]\n",
    "bert_scr_rocauc_nt_wa_h8 = [  rocauc(scr_true, scr_pred, 0.8, \"high\") for scr_pred, scr_true in zip(bert_result_nt_wa_out[0], bert_result_nt_wa_out[1])]\n",
    "\n",
    "bert_scr_rocauc_ft_na_l2 = [1-rocauc(scr_true, scr_pred, 0.2, \"low\")  for scr_pred, scr_true in zip(bert_result_ft_na_out[0], bert_result_ft_na_out[1])]\n",
    "bert_scr_rocauc_ft_na_m5 = [  rocauc(scr_true, scr_pred, 0.5, \"high\") for scr_pred, scr_true in zip(bert_result_ft_na_out[0], bert_result_ft_na_out[1])]\n",
    "bert_scr_rocauc_ft_na_h8 = [  rocauc(scr_true, scr_pred, 0.8, \"high\") for scr_pred, scr_true in zip(bert_result_ft_na_out[0], bert_result_ft_na_out[1])]\n",
    "\n",
    "bert_scr_rocauc_ft_wa_l2 = [1-rocauc(scr_true, scr_pred, 0.2, \"low\")  for scr_pred, scr_true in zip(bert_result_ft_wa_out[0], bert_result_ft_wa_out[1])]\n",
    "bert_scr_rocauc_ft_wa_m5 = [  rocauc(scr_true, scr_pred, 0.5, \"high\") for scr_pred, scr_true in zip(bert_result_ft_wa_out[0], bert_result_ft_wa_out[1])]\n",
    "bert_scr_rocauc_ft_wa_h8 = [  rocauc(scr_true, scr_pred, 0.8, \"high\") for scr_pred, scr_true in zip(bert_result_ft_wa_out[0], bert_result_ft_wa_out[1])]"
   ]
  },
  {
   "cell_type": "code",
   "execution_count": 118,
   "metadata": {},
   "outputs": [
    {
     "data": {
      "text/plain": [
       "((0.5, 0.5, 0.5),\n",
       " (0.5733403806520281, 0.5516353383121531, 0.5950454229919031),\n",
       " (0.5586252782959931, 0.5201894103348322, 0.5970611462571539))"
      ]
     },
     "execution_count": 118,
     "metadata": {},
     "output_type": "execute_result"
    }
   ],
   "source": [
    "ci(base_dum_rocauc_m5), ci(base_len_rocauc_m5), ci(base_bow_rocauc_m5)"
   ]
  },
  {
   "cell_type": "code",
   "execution_count": 119,
   "metadata": {},
   "outputs": [
    {
     "data": {
      "text/plain": [
       "((0.622435921982867, 0.5912181563698115, 0.6536536875959226),\n",
       " (0.618097701661432, 0.5779808033757569, 0.6582145999471071),\n",
       " (0.6160627724500293, 0.56464032788944, 0.6674852170106186),\n",
       " (0.6244008755030567, 0.5852174656880342, 0.6635842853180791))"
      ]
     },
     "execution_count": 119,
     "metadata": {},
     "output_type": "execute_result"
    }
   ],
   "source": [
    "ci(elmo_scr_rocauc_nt_na_m5), ci(elmo_scr_rocauc_nt_wa_m5), ci(elmo_scr_rocauc_ft_na_m5), ci(elmo_scr_rocauc_ft_wa_m5), "
   ]
  },
  {
   "cell_type": "code",
   "execution_count": 120,
   "metadata": {},
   "outputs": [
    {
     "data": {
      "text/plain": [
       "((0.5484346606431447, 0.503433142073179, 0.5934361792131104),\n",
       " (0.48879612208437156, 0.4558989758974998, 0.5216932682712434),\n",
       " (0.5810599937716084, 0.5631389744697387, 0.5989810130734782),\n",
       " (0.6073200923269569, 0.5713895801766151, 0.6432506044772988))"
      ]
     },
     "execution_count": 120,
     "metadata": {},
     "output_type": "execute_result"
    }
   ],
   "source": [
    "ci(bert_scr_rocauc_nt_na_m5), ci(bert_scr_rocauc_nt_wa_m5), ci(bert_scr_rocauc_ft_na_m5), ci(bert_scr_rocauc_ft_wa_m5), "
   ]
  },
  {
   "cell_type": "code",
   "execution_count": 121,
   "metadata": {},
   "outputs": [
    {
     "data": {
      "text/plain": [
       "(Ttest_indResult(statistic=0.19306133984860954, pvalue=0.8490726155148264),\n",
       " Ttest_indResult(statistic=-0.29175767357035653, pvalue=0.7738077114379156))"
      ]
     },
     "execution_count": 121,
     "metadata": {},
     "output_type": "execute_result"
    }
   ],
   "source": [
    "ttest_ind(elmo_scr_rocauc_nt_na_m5, elmo_scr_rocauc_nt_wa_m5), ttest_ind(elmo_scr_rocauc_ft_na_m5, elmo_scr_rocauc_ft_wa_m5)"
   ]
  },
  {
   "cell_type": "code",
   "execution_count": 122,
   "metadata": {},
   "outputs": [
    {
     "data": {
      "text/plain": [
       "(Ttest_indResult(statistic=2.4202156115241915, pvalue=0.02631068262717661),\n",
       " Ttest_indResult(statistic=-1.4794981641683824, pvalue=0.15629626049958648))"
      ]
     },
     "execution_count": 122,
     "metadata": {},
     "output_type": "execute_result"
    }
   ],
   "source": [
    "ttest_ind(bert_scr_rocauc_nt_na_m5, bert_scr_rocauc_nt_wa_m5), ttest_ind(bert_scr_rocauc_ft_na_m5, bert_scr_rocauc_ft_wa_m5)"
   ]
  },
  {
   "cell_type": "code",
   "execution_count": 123,
   "metadata": {},
   "outputs": [],
   "source": [
    "scr_rocauc = pd.DataFrame({\"Baseline\\n - dummy_l2\":base_dum_rocauc_l2,\n",
    "                           \"Baseline\\n - dummy_m5\":base_dum_rocauc_m5,\n",
    "                           \"Baseline\\n - dummy_h8\":base_dum_rocauc_h8,\n",
    "                           \"Baseline\\n - SentLen_l2\":base_len_rocauc_l2,\n",
    "                           \"Baseline\\n - SentLen_m5\":base_len_rocauc_m5,\n",
    "                           \"Baseline\\n - SentLen_h8\":base_len_rocauc_h8,\n",
    "                           \"Baseline\\n - BoW_l2\":base_bow_rocauc_l2,\n",
    "                           \"Baseline\\n - BoW_m5\":base_bow_rocauc_m5,\n",
    "                           \"Baseline\\n - BoW_h8\":base_bow_rocauc_h8,\n",
    "                           \"ELMo - no tune\\n no attn_l2\":elmo_scr_rocauc_nt_na_l2,\n",
    "                           \"ELMo - no tune\\n no attn_m5\":elmo_scr_rocauc_nt_na_m5,\n",
    "                           \"ELMo - no tune\\n no attn_h8\":elmo_scr_rocauc_nt_na_h8,\n",
    "                           \"ELMo - no tune\\n /w attn_l2\":elmo_scr_rocauc_nt_wa_l2,\n",
    "                           \"ELMo - no tune\\n /w attn_m5\":elmo_scr_rocauc_nt_wa_m5,\n",
    "                           \"ELMo - no tune\\n /w attn_h8\":elmo_scr_rocauc_nt_wa_h8,\n",
    "                           \"ELMo - F. tune\\n no attn_l2\":elmo_scr_rocauc_ft_na_l2, \n",
    "                           \"ELMo - F. tune\\n no attn_m5\":elmo_scr_rocauc_ft_na_m5, \n",
    "                           \"ELMo - F. tune\\n no attn_h8\":elmo_scr_rocauc_ft_na_h8, \n",
    "                           \"ELMo - F. tune\\n /w attn_l2\":elmo_scr_rocauc_ft_wa_l2,\n",
    "                           \"ELMo - F. tune\\n /w attn_m5\":elmo_scr_rocauc_ft_wa_m5,\n",
    "                           \"ELMo - F. tune\\n /w attn_h8\":elmo_scr_rocauc_ft_wa_h8,\n",
    "                           \"BERT - no tune\\n no attn_l2\":bert_scr_rocauc_nt_na_l2,\n",
    "                           \"BERT - no tune\\n no attn_m5\":bert_scr_rocauc_nt_na_m5,\n",
    "                           \"BERT - no tune\\n no attn_h8\":bert_scr_rocauc_nt_na_h8,\n",
    "                           \"BERT - no tune\\n /w attn_l2\":bert_scr_rocauc_nt_wa_l2,\n",
    "                           \"BERT - no tune\\n /w attn_m5\":bert_scr_rocauc_nt_wa_m5,\n",
    "                           \"BERT - no tune\\n /w attn_h8\":bert_scr_rocauc_nt_wa_h8,\n",
    "                           \"BERT - F. tune\\n no attn_l2\":bert_scr_rocauc_ft_na_l2, \n",
    "                           \"BERT - F. tune\\n no attn_m5\":bert_scr_rocauc_ft_na_m5, \n",
    "                           \"BERT - F. tune\\n no attn_h8\":bert_scr_rocauc_ft_na_h8, \n",
    "                           \"BERT - F. tune\\n /w attn_l2\":bert_scr_rocauc_ft_wa_l2,\n",
    "                           \"BERT - F. tune\\n /w attn_m5\":bert_scr_rocauc_ft_wa_m5,\n",
    "                           \"BERT - F. tune\\n /w attn_h8\":bert_scr_rocauc_ft_wa_h8})"
   ]
  },
  {
   "cell_type": "code",
   "execution_count": 124,
   "metadata": {},
   "outputs": [
    {
     "data": {
      "text/html": [
       "<div>\n",
       "<style scoped>\n",
       "    .dataframe tbody tr th:only-of-type {\n",
       "        vertical-align: middle;\n",
       "    }\n",
       "\n",
       "    .dataframe tbody tr th {\n",
       "        vertical-align: top;\n",
       "    }\n",
       "\n",
       "    .dataframe thead th {\n",
       "        text-align: right;\n",
       "    }\n",
       "</style>\n",
       "<table border=\"1\" class=\"dataframe\">\n",
       "  <thead>\n",
       "    <tr style=\"text-align: right;\">\n",
       "      <th></th>\n",
       "      <th>Baseline\n",
       " - dummy_l2</th>\n",
       "      <th>Baseline\n",
       " - dummy_m5</th>\n",
       "      <th>Baseline\n",
       " - dummy_h8</th>\n",
       "      <th>Baseline\n",
       " - SentLen_l2</th>\n",
       "      <th>Baseline\n",
       " - SentLen_m5</th>\n",
       "      <th>Baseline\n",
       " - SentLen_h8</th>\n",
       "      <th>Baseline\n",
       " - BoW_l2</th>\n",
       "      <th>Baseline\n",
       " - BoW_m5</th>\n",
       "      <th>Baseline\n",
       " - BoW_h8</th>\n",
       "      <th>ELMo - no tune\n",
       " no attn_l2</th>\n",
       "      <th>...</th>\n",
       "      <th>BERT - no tune\n",
       " no attn_h8</th>\n",
       "      <th>BERT - no tune\n",
       " /w attn_l2</th>\n",
       "      <th>BERT - no tune\n",
       " /w attn_m5</th>\n",
       "      <th>BERT - no tune\n",
       " /w attn_h8</th>\n",
       "      <th>BERT - F. tune\n",
       " no attn_l2</th>\n",
       "      <th>BERT - F. tune\n",
       " no attn_m5</th>\n",
       "      <th>BERT - F. tune\n",
       " no attn_h8</th>\n",
       "      <th>BERT - F. tune\n",
       " /w attn_l2</th>\n",
       "      <th>BERT - F. tune\n",
       " /w attn_m5</th>\n",
       "      <th>BERT - F. tune\n",
       " /w attn_h8</th>\n",
       "    </tr>\n",
       "  </thead>\n",
       "  <tbody>\n",
       "    <tr>\n",
       "      <th>0</th>\n",
       "      <td>0.5</td>\n",
       "      <td>0.5</td>\n",
       "      <td>0.5</td>\n",
       "      <td>0.531636</td>\n",
       "      <td>0.544753</td>\n",
       "      <td>0.496624</td>\n",
       "      <td>0.580633</td>\n",
       "      <td>0.580988</td>\n",
       "      <td>0.597415</td>\n",
       "      <td>0.664159</td>\n",
       "      <td>...</td>\n",
       "      <td>0.640818</td>\n",
       "      <td>0.549769</td>\n",
       "      <td>0.494568</td>\n",
       "      <td>0.417052</td>\n",
       "      <td>0.669753</td>\n",
       "      <td>0.563580</td>\n",
       "      <td>0.577546</td>\n",
       "      <td>0.679784</td>\n",
       "      <td>0.670741</td>\n",
       "      <td>0.615741</td>\n",
       "    </tr>\n",
       "    <tr>\n",
       "      <th>1</th>\n",
       "      <td>0.5</td>\n",
       "      <td>0.5</td>\n",
       "      <td>0.5</td>\n",
       "      <td>0.545649</td>\n",
       "      <td>0.584707</td>\n",
       "      <td>0.616356</td>\n",
       "      <td>0.494561</td>\n",
       "      <td>0.511860</td>\n",
       "      <td>0.516123</td>\n",
       "      <td>0.543318</td>\n",
       "      <td>...</td>\n",
       "      <td>0.617133</td>\n",
       "      <td>0.495726</td>\n",
       "      <td>0.480025</td>\n",
       "      <td>0.500000</td>\n",
       "      <td>0.563520</td>\n",
       "      <td>0.593508</td>\n",
       "      <td>0.497475</td>\n",
       "      <td>0.621406</td>\n",
       "      <td>0.546067</td>\n",
       "      <td>0.538850</td>\n",
       "    </tr>\n",
       "    <tr>\n",
       "      <th>2</th>\n",
       "      <td>0.5</td>\n",
       "      <td>0.5</td>\n",
       "      <td>0.5</td>\n",
       "      <td>0.607971</td>\n",
       "      <td>0.581262</td>\n",
       "      <td>0.520393</td>\n",
       "      <td>0.513251</td>\n",
       "      <td>0.551724</td>\n",
       "      <td>0.551760</td>\n",
       "      <td>0.658799</td>\n",
       "      <td>...</td>\n",
       "      <td>0.539959</td>\n",
       "      <td>0.363354</td>\n",
       "      <td>0.389334</td>\n",
       "      <td>0.411801</td>\n",
       "      <td>0.469358</td>\n",
       "      <td>0.563218</td>\n",
       "      <td>0.657971</td>\n",
       "      <td>0.588820</td>\n",
       "      <td>0.597968</td>\n",
       "      <td>0.631056</td>\n",
       "    </tr>\n",
       "    <tr>\n",
       "      <th>3</th>\n",
       "      <td>0.5</td>\n",
       "      <td>0.5</td>\n",
       "      <td>0.5</td>\n",
       "      <td>0.490623</td>\n",
       "      <td>0.572779</td>\n",
       "      <td>0.559294</td>\n",
       "      <td>0.566464</td>\n",
       "      <td>0.655009</td>\n",
       "      <td>0.601213</td>\n",
       "      <td>0.626586</td>\n",
       "      <td>...</td>\n",
       "      <td>0.454495</td>\n",
       "      <td>0.550653</td>\n",
       "      <td>0.545369</td>\n",
       "      <td>0.560581</td>\n",
       "      <td>0.635411</td>\n",
       "      <td>0.572543</td>\n",
       "      <td>0.500827</td>\n",
       "      <td>0.639456</td>\n",
       "      <td>0.598653</td>\n",
       "      <td>0.605810</td>\n",
       "    </tr>\n",
       "    <tr>\n",
       "      <th>4</th>\n",
       "      <td>0.5</td>\n",
       "      <td>0.5</td>\n",
       "      <td>0.5</td>\n",
       "      <td>0.603002</td>\n",
       "      <td>0.600775</td>\n",
       "      <td>0.578157</td>\n",
       "      <td>0.549068</td>\n",
       "      <td>0.609062</td>\n",
       "      <td>0.627950</td>\n",
       "      <td>0.601242</td>\n",
       "      <td>...</td>\n",
       "      <td>0.469565</td>\n",
       "      <td>0.509938</td>\n",
       "      <td>0.506549</td>\n",
       "      <td>0.538095</td>\n",
       "      <td>0.522153</td>\n",
       "      <td>0.564555</td>\n",
       "      <td>0.581366</td>\n",
       "      <td>0.622153</td>\n",
       "      <td>0.575782</td>\n",
       "      <td>0.579710</td>\n",
       "    </tr>\n",
       "    <tr>\n",
       "      <th>5</th>\n",
       "      <td>0.5</td>\n",
       "      <td>0.5</td>\n",
       "      <td>0.5</td>\n",
       "      <td>0.557557</td>\n",
       "      <td>0.575849</td>\n",
       "      <td>0.539752</td>\n",
       "      <td>0.571636</td>\n",
       "      <td>0.576717</td>\n",
       "      <td>0.597101</td>\n",
       "      <td>0.615321</td>\n",
       "      <td>...</td>\n",
       "      <td>0.557143</td>\n",
       "      <td>0.534369</td>\n",
       "      <td>0.531141</td>\n",
       "      <td>0.521118</td>\n",
       "      <td>0.667909</td>\n",
       "      <td>0.592088</td>\n",
       "      <td>0.601656</td>\n",
       "      <td>0.568116</td>\n",
       "      <td>0.559209</td>\n",
       "      <td>0.611180</td>\n",
       "    </tr>\n",
       "    <tr>\n",
       "      <th>6</th>\n",
       "      <td>0.5</td>\n",
       "      <td>0.5</td>\n",
       "      <td>0.5</td>\n",
       "      <td>0.532635</td>\n",
       "      <td>0.524929</td>\n",
       "      <td>0.581817</td>\n",
       "      <td>0.509377</td>\n",
       "      <td>0.464969</td>\n",
       "      <td>0.445211</td>\n",
       "      <td>0.517375</td>\n",
       "      <td>...</td>\n",
       "      <td>0.637066</td>\n",
       "      <td>0.530796</td>\n",
       "      <td>0.495510</td>\n",
       "      <td>0.462953</td>\n",
       "      <td>0.569958</td>\n",
       "      <td>0.543124</td>\n",
       "      <td>0.591653</td>\n",
       "      <td>0.583379</td>\n",
       "      <td>0.557656</td>\n",
       "      <td>0.627505</td>\n",
       "    </tr>\n",
       "    <tr>\n",
       "      <th>7</th>\n",
       "      <td>0.5</td>\n",
       "      <td>0.5</td>\n",
       "      <td>0.5</td>\n",
       "      <td>0.669608</td>\n",
       "      <td>0.621456</td>\n",
       "      <td>0.638812</td>\n",
       "      <td>0.537783</td>\n",
       "      <td>0.516304</td>\n",
       "      <td>0.543298</td>\n",
       "      <td>0.708402</td>\n",
       "      <td>...</td>\n",
       "      <td>0.513697</td>\n",
       "      <td>0.510204</td>\n",
       "      <td>0.511224</td>\n",
       "      <td>0.557639</td>\n",
       "      <td>0.594411</td>\n",
       "      <td>0.627009</td>\n",
       "      <td>0.617577</td>\n",
       "      <td>0.705093</td>\n",
       "      <td>0.689863</td>\n",
       "      <td>0.666851</td>\n",
       "    </tr>\n",
       "    <tr>\n",
       "      <th>8</th>\n",
       "      <td>0.5</td>\n",
       "      <td>0.5</td>\n",
       "      <td>0.5</td>\n",
       "      <td>0.575383</td>\n",
       "      <td>0.534615</td>\n",
       "      <td>0.444157</td>\n",
       "      <td>0.578544</td>\n",
       "      <td>0.575946</td>\n",
       "      <td>0.551916</td>\n",
       "      <td>0.583716</td>\n",
       "      <td>...</td>\n",
       "      <td>0.472797</td>\n",
       "      <td>0.551341</td>\n",
       "      <td>0.433700</td>\n",
       "      <td>0.452299</td>\n",
       "      <td>0.584674</td>\n",
       "      <td>0.610256</td>\n",
       "      <td>0.619157</td>\n",
       "      <td>0.623180</td>\n",
       "      <td>0.649084</td>\n",
       "      <td>0.702299</td>\n",
       "    </tr>\n",
       "    <tr>\n",
       "      <th>9</th>\n",
       "      <td>0.5</td>\n",
       "      <td>0.5</td>\n",
       "      <td>0.5</td>\n",
       "      <td>0.601251</td>\n",
       "      <td>0.592280</td>\n",
       "      <td>0.585506</td>\n",
       "      <td>0.661940</td>\n",
       "      <td>0.543672</td>\n",
       "      <td>0.465693</td>\n",
       "      <td>0.777894</td>\n",
       "      <td>...</td>\n",
       "      <td>0.471324</td>\n",
       "      <td>0.546820</td>\n",
       "      <td>0.500541</td>\n",
       "      <td>0.525756</td>\n",
       "      <td>0.625443</td>\n",
       "      <td>0.580719</td>\n",
       "      <td>0.554536</td>\n",
       "      <td>0.682169</td>\n",
       "      <td>0.628177</td>\n",
       "      <td>0.652972</td>\n",
       "    </tr>\n",
       "  </tbody>\n",
       "</table>\n",
       "<p>10 rows × 33 columns</p>\n",
       "</div>"
      ],
      "text/plain": [
       "   Baseline\\n - dummy_l2  Baseline\\n - dummy_m5  Baseline\\n - dummy_h8  \\\n",
       "0                    0.5                    0.5                    0.5   \n",
       "1                    0.5                    0.5                    0.5   \n",
       "2                    0.5                    0.5                    0.5   \n",
       "3                    0.5                    0.5                    0.5   \n",
       "4                    0.5                    0.5                    0.5   \n",
       "5                    0.5                    0.5                    0.5   \n",
       "6                    0.5                    0.5                    0.5   \n",
       "7                    0.5                    0.5                    0.5   \n",
       "8                    0.5                    0.5                    0.5   \n",
       "9                    0.5                    0.5                    0.5   \n",
       "\n",
       "   Baseline\\n - SentLen_l2  Baseline\\n - SentLen_m5  Baseline\\n - SentLen_h8  \\\n",
       "0                 0.531636                 0.544753                 0.496624   \n",
       "1                 0.545649                 0.584707                 0.616356   \n",
       "2                 0.607971                 0.581262                 0.520393   \n",
       "3                 0.490623                 0.572779                 0.559294   \n",
       "4                 0.603002                 0.600775                 0.578157   \n",
       "5                 0.557557                 0.575849                 0.539752   \n",
       "6                 0.532635                 0.524929                 0.581817   \n",
       "7                 0.669608                 0.621456                 0.638812   \n",
       "8                 0.575383                 0.534615                 0.444157   \n",
       "9                 0.601251                 0.592280                 0.585506   \n",
       "\n",
       "   Baseline\\n - BoW_l2  Baseline\\n - BoW_m5  Baseline\\n - BoW_h8  \\\n",
       "0             0.580633             0.580988             0.597415   \n",
       "1             0.494561             0.511860             0.516123   \n",
       "2             0.513251             0.551724             0.551760   \n",
       "3             0.566464             0.655009             0.601213   \n",
       "4             0.549068             0.609062             0.627950   \n",
       "5             0.571636             0.576717             0.597101   \n",
       "6             0.509377             0.464969             0.445211   \n",
       "7             0.537783             0.516304             0.543298   \n",
       "8             0.578544             0.575946             0.551916   \n",
       "9             0.661940             0.543672             0.465693   \n",
       "\n",
       "   ELMo - no tune\\n no attn_l2  ...  BERT - no tune\\n no attn_h8  \\\n",
       "0                     0.664159  ...                     0.640818   \n",
       "1                     0.543318  ...                     0.617133   \n",
       "2                     0.658799  ...                     0.539959   \n",
       "3                     0.626586  ...                     0.454495   \n",
       "4                     0.601242  ...                     0.469565   \n",
       "5                     0.615321  ...                     0.557143   \n",
       "6                     0.517375  ...                     0.637066   \n",
       "7                     0.708402  ...                     0.513697   \n",
       "8                     0.583716  ...                     0.472797   \n",
       "9                     0.777894  ...                     0.471324   \n",
       "\n",
       "   BERT - no tune\\n /w attn_l2  BERT - no tune\\n /w attn_m5  \\\n",
       "0                     0.549769                     0.494568   \n",
       "1                     0.495726                     0.480025   \n",
       "2                     0.363354                     0.389334   \n",
       "3                     0.550653                     0.545369   \n",
       "4                     0.509938                     0.506549   \n",
       "5                     0.534369                     0.531141   \n",
       "6                     0.530796                     0.495510   \n",
       "7                     0.510204                     0.511224   \n",
       "8                     0.551341                     0.433700   \n",
       "9                     0.546820                     0.500541   \n",
       "\n",
       "   BERT - no tune\\n /w attn_h8  BERT - F. tune\\n no attn_l2  \\\n",
       "0                     0.417052                     0.669753   \n",
       "1                     0.500000                     0.563520   \n",
       "2                     0.411801                     0.469358   \n",
       "3                     0.560581                     0.635411   \n",
       "4                     0.538095                     0.522153   \n",
       "5                     0.521118                     0.667909   \n",
       "6                     0.462953                     0.569958   \n",
       "7                     0.557639                     0.594411   \n",
       "8                     0.452299                     0.584674   \n",
       "9                     0.525756                     0.625443   \n",
       "\n",
       "   BERT - F. tune\\n no attn_m5  BERT - F. tune\\n no attn_h8  \\\n",
       "0                     0.563580                     0.577546   \n",
       "1                     0.593508                     0.497475   \n",
       "2                     0.563218                     0.657971   \n",
       "3                     0.572543                     0.500827   \n",
       "4                     0.564555                     0.581366   \n",
       "5                     0.592088                     0.601656   \n",
       "6                     0.543124                     0.591653   \n",
       "7                     0.627009                     0.617577   \n",
       "8                     0.610256                     0.619157   \n",
       "9                     0.580719                     0.554536   \n",
       "\n",
       "   BERT - F. tune\\n /w attn_l2  BERT - F. tune\\n /w attn_m5  \\\n",
       "0                     0.679784                     0.670741   \n",
       "1                     0.621406                     0.546067   \n",
       "2                     0.588820                     0.597968   \n",
       "3                     0.639456                     0.598653   \n",
       "4                     0.622153                     0.575782   \n",
       "5                     0.568116                     0.559209   \n",
       "6                     0.583379                     0.557656   \n",
       "7                     0.705093                     0.689863   \n",
       "8                     0.623180                     0.649084   \n",
       "9                     0.682169                     0.628177   \n",
       "\n",
       "   BERT - F. tune\\n /w attn_h8  \n",
       "0                     0.615741  \n",
       "1                     0.538850  \n",
       "2                     0.631056  \n",
       "3                     0.605810  \n",
       "4                     0.579710  \n",
       "5                     0.611180  \n",
       "6                     0.627505  \n",
       "7                     0.666851  \n",
       "8                     0.702299  \n",
       "9                     0.652972  \n",
       "\n",
       "[10 rows x 33 columns]"
      ]
     },
     "execution_count": 124,
     "metadata": {},
     "output_type": "execute_result"
    }
   ],
   "source": [
    "scr_rocauc"
   ]
  },
  {
   "cell_type": "code",
   "execution_count": 125,
   "metadata": {},
   "outputs": [
    {
     "data": {
      "text/plain": [
       "((0.6229731397040533, 0.5637509969104995, 0.6821952824976072),\n",
       " (0.6313556279459596, 0.5986686336880409, 0.6640426222038782))"
      ]
     },
     "execution_count": 125,
     "metadata": {},
     "output_type": "execute_result"
    }
   ],
   "source": [
    "ci(elmo_scr_rocauc_ft_wa_l2), ci(bert_scr_rocauc_ft_wa_l2)"
   ]
  },
  {
   "cell_type": "code",
   "execution_count": 126,
   "metadata": {},
   "outputs": [
    {
     "data": {
      "text/plain": [
       "Ttest_indResult(statistic=-0.28032825311187354, pvalue=0.7824220426938997)"
      ]
     },
     "execution_count": 126,
     "metadata": {},
     "output_type": "execute_result"
    }
   ],
   "source": [
    "ttest_ind(elmo_scr_rocauc_ft_wa_l2, bert_scr_rocauc_ft_wa_l2)"
   ]
  },
  {
   "cell_type": "code",
   "execution_count": 127,
   "metadata": {},
   "outputs": [
    {
     "data": {
      "text/plain": [
       "ELMo - F. tune\\n no attn_l2    [0.608, 0.557, 0.659]\n",
       "ELMo - F. tune\\n /w attn_l2    [0.623, 0.564, 0.682]\n",
       "BERT - F. tune\\n no attn_l2     [0.59, 0.545, 0.636]\n",
       "BERT - F. tune\\n /w attn_l2    [0.631, 0.599, 0.664]\n",
       "dtype: object"
      ]
     },
     "execution_count": 127,
     "metadata": {},
     "output_type": "execute_result"
    }
   ],
   "source": [
    "scr_rocauc[['ELMo - F. tune\\n no attn_l2', 'ELMo - F. tune\\n /w attn_l2', \n",
    "            'BERT - F. tune\\n no attn_l2', 'BERT - F. tune\\n /w attn_l2', ]]\\\n",
    ".apply(lambda col:[round(x, 3)for x in ci(col)], axis=0)"
   ]
  },
  {
   "cell_type": "code",
   "execution_count": 128,
   "metadata": {},
   "outputs": [
    {
     "data": {
      "text/plain": [
       "((0.6244008755030567, 0.5852174656880342, 0.6635842853180791),\n",
       " (0.6073200923269569, 0.5713895801766151, 0.6432506044772988))"
      ]
     },
     "execution_count": 128,
     "metadata": {},
     "output_type": "execute_result"
    }
   ],
   "source": [
    "ci(elmo_scr_rocauc_ft_wa_m5), ci(bert_scr_rocauc_ft_wa_m5)"
   ]
  },
  {
   "cell_type": "code",
   "execution_count": 129,
   "metadata": {},
   "outputs": [
    {
     "data": {
      "text/plain": [
       "Ttest_indResult(statistic=0.7268055766737767, pvalue=0.4766917638828333)"
      ]
     },
     "execution_count": 129,
     "metadata": {},
     "output_type": "execute_result"
    }
   ],
   "source": [
    "ttest_ind(elmo_scr_rocauc_ft_wa_m5, bert_scr_rocauc_ft_wa_m5)"
   ]
  },
  {
   "cell_type": "code",
   "execution_count": 130,
   "metadata": {},
   "outputs": [
    {
     "data": {
      "text/plain": [
       "ELMo - F. tune\\n no attn_m5    [0.616, 0.565, 0.667]\n",
       "ELMo - F. tune\\n /w attn_m5    [0.624, 0.585, 0.664]\n",
       "BERT - F. tune\\n no attn_m5    [0.581, 0.563, 0.599]\n",
       "BERT - F. tune\\n /w attn_m5    [0.607, 0.571, 0.643]\n",
       "dtype: object"
      ]
     },
     "execution_count": 130,
     "metadata": {},
     "output_type": "execute_result"
    }
   ],
   "source": [
    "scr_rocauc[['ELMo - F. tune\\n no attn_m5', 'ELMo - F. tune\\n /w attn_m5', \n",
    "            'BERT - F. tune\\n no attn_m5', 'BERT - F. tune\\n /w attn_m5', ]]\\\n",
    ".apply(lambda col:[round(x, 3)for x in ci(col)], axis=0)"
   ]
  },
  {
   "cell_type": "code",
   "execution_count": 131,
   "metadata": {},
   "outputs": [
    {
     "data": {
      "text/plain": [
       "((0.6357676480117362, 0.5998575781415596, 0.6716777178819129),\n",
       " (0.6231973117204368, 0.5906440526247518, 0.6557505708161218))"
      ]
     },
     "execution_count": 131,
     "metadata": {},
     "output_type": "execute_result"
    }
   ],
   "source": [
    "ci(elmo_scr_rocauc_ft_wa_h8), ci(bert_scr_rocauc_ft_wa_h8)"
   ]
  },
  {
   "cell_type": "code",
   "execution_count": 132,
   "metadata": {},
   "outputs": [
    {
     "data": {
      "text/plain": [
       "Ttest_indResult(statistic=0.586685367355988, pvalue=0.5647012730256112)"
      ]
     },
     "execution_count": 132,
     "metadata": {},
     "output_type": "execute_result"
    }
   ],
   "source": [
    "ttest_ind(elmo_scr_rocauc_ft_wa_h8, bert_scr_rocauc_ft_wa_h8)"
   ]
  },
  {
   "cell_type": "code",
   "execution_count": 133,
   "metadata": {},
   "outputs": [
    {
     "data": {
      "text/plain": [
       "ELMo - F. tune\\n no attn_h8    [0.628, 0.589, 0.667]\n",
       "ELMo - F. tune\\n /w attn_h8      [0.636, 0.6, 0.672]\n",
       "BERT - F. tune\\n no attn_h8     [0.58, 0.544, 0.616]\n",
       "BERT - F. tune\\n /w attn_h8    [0.623, 0.591, 0.656]\n",
       "dtype: object"
      ]
     },
     "execution_count": 133,
     "metadata": {},
     "output_type": "execute_result"
    }
   ],
   "source": [
    "scr_rocauc[['ELMo - F. tune\\n no attn_h8', 'ELMo - F. tune\\n /w attn_h8', \n",
    "            'BERT - F. tune\\n no attn_h8', 'BERT - F. tune\\n /w attn_h8', ]]\\\n",
    ".apply(lambda col:[round(x, 3)for x in ci(col)], axis=0)"
   ]
  },
  {
   "cell_type": "code",
   "execution_count": null,
   "metadata": {},
   "outputs": [],
   "source": []
  },
  {
   "cell_type": "code",
   "execution_count": 134,
   "metadata": {},
   "outputs": [],
   "source": [
    "tt_rmse = scr_rmse[['Baseline\\n - dummy', 'Baseline\\n - BoW', 'Baseline\\n - SentLen', \n",
    "                                     'ELMo - F. tune\\n no attn', 'ELMo - F. tune\\n /w attn', \n",
    "                                     'BERT - F. tune\\n no attn', 'BERT - F. tune\\n /w attn', ]]\n",
    "tt_rmse.columns = [x+\"_1-rmse\" for x in list(tt_rmse.columns)]\n",
    "tt_rmse = pd.melt(tt_rmse)\n",
    "tt_rmse['value'] = 1-tt_rmse['value']"
   ]
  },
  {
   "cell_type": "code",
   "execution_count": 135,
   "metadata": {},
   "outputs": [],
   "source": [
    "tt_l2 = pd.melt(scr_rocauc[['Baseline\\n - dummy_l2', 'Baseline\\n - BoW_l2', 'Baseline\\n - SentLen_l2',\n",
    "                                     'ELMo - F. tune\\n no attn_l2', 'ELMo - F. tune\\n /w attn_l2', \n",
    "                                     'BERT - F. tune\\n no attn_l2', 'BERT - F. tune\\n /w attn_l2', ]])\n",
    "tt_h8 = pd.melt(scr_rocauc[['Baseline\\n - dummy_h8', 'Baseline\\n - BoW_h8', 'Baseline\\n - SentLen_h8',\n",
    "                                     'ELMo - F. tune\\n no attn_h8', 'ELMo - F. tune\\n /w attn_h8', \n",
    "                                     'BERT - F. tune\\n no attn_h8', 'BERT - F. tune\\n /w attn_h8', ]])\n",
    "tt_m5 = pd.melt(scr_rocauc[['Baseline\\n - dummy_m5', 'Baseline\\n - BoW_m5', 'Baseline\\n - SentLen_m5',\n",
    "                                     'ELMo - F. tune\\n no attn_m5', 'ELMo - F. tune\\n /w attn_m5', \n",
    "                                     'BERT - F. tune\\n no attn_m5', 'BERT - F. tune\\n /w attn_m5', ]])\n",
    "\n",
    "tt_glv = pd.concat([tt_rmse, tt_l2, tt_h8, tt_m5], axis=0)\n",
    "# tt = tt_l2"
   ]
  },
  {
   "cell_type": "code",
   "execution_count": 136,
   "metadata": {},
   "outputs": [],
   "source": [
    "tt_glv['category'] = tt_glv['variable'].apply(lambda x:x.split('\\n')[0])\n",
    "tt_glv['models'] = tt_glv['variable'].apply(lambda x:x.split('\\n')[0] + x.split('\\n')[-1].split('_')[0])\n",
    "tt_glv['score_type'] = tt_glv['variable'].apply(lambda x:x.split('\\n')[-1].split('_')[1])"
   ]
  },
  {
   "cell_type": "code",
   "execution_count": 137,
   "metadata": {},
   "outputs": [
    {
     "data": {
      "text/plain": [
       "<matplotlib.legend.Legend at 0x7fa8f89e0240>"
      ]
     },
     "execution_count": 137,
     "metadata": {},
     "output_type": "execute_result"
    },
    {
     "data": {
      "image/png": "[encoded data removed]",
      "text/plain": [
       "<Figure size 864x216 with 1 Axes>"
      ]
     },
     "metadata": {
      "image/png": {
       "height": 222,
       "width": 796
      },
      "needs_background": "light"
     },
     "output_type": "display_data"
    },
    {
     "data": {
      "image/png": "[encoded data removed]",
      "text/plain": [
       "<Figure size 431.125x360 with 1 Axes>"
      ]
     },
     "metadata": {
      "image/png": {
       "height": 351,
       "width": 419
      },
      "needs_background": "light"
     },
     "output_type": "display_data"
    }
   ],
   "source": [
    "# TODO: baseline split by model type; ELMo&BERT by +ATT\n",
    "\n",
    "fig, ax = plt.subplots(figsize=(12,3))\n",
    "sns.catplot(x='models', y='value', hue='score_type',  hue_order=['1-rmse','l2', 'm5', 'h8'],\n",
    "                  kind=\"bar\", palette=\"muted\",\n",
    "                  data=tt_glv, ax=ax)\n",
    "# ax.set_xticklabels(['dummy', 'SentLen', 'BoW',\n",
    "#            'ELMo', 'ELMo\\n+Att',\n",
    "#            'BERT', 'BERT\\n+Att'])\n",
    "ax.set_ylim(0.48, 1)\n",
    "ax.set_xticklabels(['Base:Dummy', 'Base:Bow', 'Base:SentLen',\n",
    "           'ELMo', 'ELMo\\n+Att',\n",
    "           'BERT', 'BERT\\n+Att'])\n",
    "ax.legend(loc='center left', bbox_to_anchor=(1, 0.5))"
   ]
  },
  {
   "cell_type": "code",
   "execution_count": 138,
   "metadata": {},
   "outputs": [
    {
     "data": {
      "text/plain": [
       "<matplotlib.legend.Legend at 0x7fa8f7818588>"
      ]
     },
     "execution_count": 138,
     "metadata": {},
     "output_type": "execute_result"
    },
    {
     "data": {
      "image/png": "[encoded data removed]",
      "text/plain": [
       "<Figure size 864x216 with 1 Axes>"
      ]
     },
     "metadata": {
      "image/png": {
       "height": 211,
       "width": 872
      },
      "needs_background": "light"
     },
     "output_type": "display_data"
    },
    {
     "data": {
      "image/png": "[encoded data removed]",
      "text/plain": [
       "<Figure size 505.984x360 with 1 Axes>"
      ]
     },
     "metadata": {
      "image/png": {
       "height": 351,
       "width": 484
      },
      "needs_background": "light"
     },
     "output_type": "display_data"
    }
   ],
   "source": [
    "# TODO: baseline split by model type; ELMo&BERT by +ATT\n",
    "\n",
    "fig, ax = plt.subplots(figsize=(12,3))\n",
    "sns.catplot(x='score_type', y='value', hue='models',\n",
    "            kind=\"bar\", palette=\"muted\",\n",
    "            data=tt_glv, \n",
    "            ax=ax, legend_out=True)\n",
    "# ax.set_xticklabels(['dummy', 'SentLen', 'BoW',\n",
    "#            'ELMo', 'ELMo\\n+Att',\n",
    "#            'BERT', 'BERT\\n+Att'])\n",
    "ax.set_ylim(0.48, 1)\n",
    "ax.set_xticklabels(['1-RMSE', 'Low 20%', '50:50', 'High 20%'])\n",
    "ax.legend(loc='center left', bbox_to_anchor=(1, 0.5))"
   ]
  },
  {
   "cell_type": "code",
   "execution_count": 139,
   "metadata": {},
   "outputs": [
    {
     "data": {
      "text/plain": [
       "Baseline\\n - dummy          [0.163, 0.151, 0.176]\n",
       "Baseline\\n - SentLen        [0.162, 0.149, 0.175]\n",
       "Baseline\\n - BoW            [0.198, 0.183, 0.214]\n",
       "ELMo - F. tune\\n no attn    [0.166, 0.154, 0.178]\n",
       "ELMo - F. tune\\n /w attn    [0.162, 0.149, 0.174]\n",
       "BERT - F. tune\\n no attn    [0.203, 0.195, 0.211]\n",
       "BERT - F. tune\\n /w attn    [0.164, 0.151, 0.176]\n",
       "dtype: object"
      ]
     },
     "execution_count": 139,
     "metadata": {},
     "output_type": "execute_result"
    }
   ],
   "source": [
    "pd.concat(\n",
    "    [scr_rmse.filter(regex=\"Base\").apply(lambda col:[round(x, 3)for x in ci(col)], axis=0),\n",
    "     scr_rmse.filter(regex=\"F. tune\").apply(lambda col:[round(x, 3)for x in ci(col)], axis=0)], axis=0)"
   ]
  },
  {
   "cell_type": "code",
   "execution_count": 140,
   "metadata": {},
   "outputs": [
    {
     "data": {
      "text/plain": [
       "Baseline\\n - dummy_l2                [0.5, 0.5, 0.5]\n",
       "Baseline\\n - BoW_l2            [0.556, 0.522, 0.591]\n",
       "Baseline\\n - SentLen_l2        [0.572, 0.535, 0.608]\n",
       "ELMo - F. tune\\n no attn_l2    [0.608, 0.557, 0.659]\n",
       "ELMo - F. tune\\n /w attn_l2    [0.623, 0.564, 0.682]\n",
       "BERT - F. tune\\n no attn_l2     [0.59, 0.545, 0.636]\n",
       "BERT - F. tune\\n /w attn_l2    [0.631, 0.599, 0.664]\n",
       "dtype: object"
      ]
     },
     "execution_count": 140,
     "metadata": {},
     "output_type": "execute_result"
    }
   ],
   "source": [
    "pd.concat([\n",
    "    scr_rocauc[['Baseline\\n - dummy_l2', 'Baseline\\n - BoW_l2', 'Baseline\\n - SentLen_l2']]\\\n",
    "    .apply(lambda col:[round(x, 3)for x in ci(col)], axis=0),\n",
    "    scr_rocauc[['ELMo - F. tune\\n no attn_l2', 'ELMo - F. tune\\n /w attn_l2', \n",
    "                'BERT - F. tune\\n no attn_l2', 'BERT - F. tune\\n /w attn_l2', ]]\\\n",
    "    .apply(lambda col:[round(x, 3)for x in ci(col)], axis=0)])"
   ]
  },
  {
   "cell_type": "code",
   "execution_count": 141,
   "metadata": {},
   "outputs": [
    {
     "data": {
      "text/plain": [
       "Baseline\\n - dummy_m5                [0.5, 0.5, 0.5]\n",
       "Baseline\\n - BoW_m5             [0.559, 0.52, 0.597]\n",
       "Baseline\\n - SentLen_m5        [0.573, 0.552, 0.595]\n",
       "ELMo - F. tune\\n no attn_m5    [0.616, 0.565, 0.667]\n",
       "ELMo - F. tune\\n /w attn_m5    [0.624, 0.585, 0.664]\n",
       "BERT - F. tune\\n no attn_m5    [0.581, 0.563, 0.599]\n",
       "BERT - F. tune\\n /w attn_m5    [0.607, 0.571, 0.643]\n",
       "dtype: object"
      ]
     },
     "execution_count": 141,
     "metadata": {},
     "output_type": "execute_result"
    }
   ],
   "source": [
    "pd.concat([\n",
    "    scr_rocauc[['Baseline\\n - dummy_m5', 'Baseline\\n - BoW_m5', 'Baseline\\n - SentLen_m5',]]\\\n",
    "    .apply(lambda col:[round(x, 3)for x in ci(col)], axis=0),\n",
    "    scr_rocauc[['ELMo - F. tune\\n no attn_m5', 'ELMo - F. tune\\n /w attn_m5', \n",
    "                'BERT - F. tune\\n no attn_m5', 'BERT - F. tune\\n /w attn_m5', ]]\\\n",
    "    .apply(lambda col:[round(x, 3)for x in ci(col)], axis=0)])"
   ]
  },
  {
   "cell_type": "code",
   "execution_count": 142,
   "metadata": {},
   "outputs": [
    {
     "data": {
      "text/plain": [
       "Baseline\\n - dummy_h8                [0.5, 0.5, 0.5]\n",
       "Baseline\\n - BoW_h8             [0.55, 0.507, 0.593]\n",
       "Baseline\\n - SentLen_h8        [0.556, 0.515, 0.597]\n",
       "ELMo - F. tune\\n no attn_h8    [0.628, 0.589, 0.667]\n",
       "ELMo - F. tune\\n /w attn_h8      [0.636, 0.6, 0.672]\n",
       "BERT - F. tune\\n no attn_h8     [0.58, 0.544, 0.616]\n",
       "BERT - F. tune\\n /w attn_h8    [0.623, 0.591, 0.656]\n",
       "dtype: object"
      ]
     },
     "execution_count": 142,
     "metadata": {},
     "output_type": "execute_result"
    }
   ],
   "source": [
    "pd.concat([\n",
    "    scr_rocauc[['Baseline\\n - dummy_h8', 'Baseline\\n - BoW_h8', 'Baseline\\n - SentLen_h8',]]\\\n",
    "    .apply(lambda col:[round(x, 3)for x in ci(col)], axis=0),\n",
    "    scr_rocauc[['ELMo - F. tune\\n no attn_h8', 'ELMo - F. tune\\n /w attn_h8', \n",
    "                'BERT - F. tune\\n no attn_h8', 'BERT - F. tune\\n /w attn_h8', ]]\\\n",
    "    .apply(lambda col:[round(x, 3)for x in ci(col)], axis=0)])"
   ]
  },
  {
   "cell_type": "code",
   "execution_count": null,
   "metadata": {},
   "outputs": [],
   "source": []
  },
  {
   "cell_type": "code",
   "execution_count": null,
   "metadata": {},
   "outputs": [],
   "source": []
  },
  {
   "cell_type": "code",
   "execution_count": null,
   "metadata": {},
   "outputs": [],
   "source": []
  },
  {
   "cell_type": "markdown",
   "metadata": {},
   "source": [
    "# BWS Score "
   ]
  },
  {
   "cell_type": "code",
   "execution_count": 143,
   "metadata": {},
   "outputs": [],
   "source": [
    "base_result_dum = np.load(\"base_result_0_dummy_bws.npy\", allow_pickle=True)\n",
    "base_result_len = np.load(\"base_result_1_sentlen_bws.npy\", allow_pickle=True)\n",
    "base_result_bow = np.load(\"base_result_2_bow_bws.npy\", allow_pickle=True)\n",
    "# base_result_dum = np.load(\"base_result_0_dummy_glv.npy\", allow_pickle=True)\n",
    "# base_result_len = np.load(\"base_result_1_sentlen_glv.npy\", allow_pickle=True)\n",
    "# base_result_bow = np.load(\"base_result_2_bow_glv.npy\", allow_pickle=True)"
   ]
  },
  {
   "cell_type": "code",
   "execution_count": 144,
   "metadata": {},
   "outputs": [],
   "source": [
    "elmo_result_nt_na_out = np.load(\"elmo_result_nt_na_out.npy\", allow_pickle=True)\n",
    "elmo_result_nt_wa_out = np.load(\"elmo_result_nt_wa_out.npy\", allow_pickle=True)\n",
    "elmo_result_ft_na_out = np.load(\"elmo_result_ft_na_out.npy\", allow_pickle=True)\n",
    "elmo_result_ft_wa_out = np.load(\"elmo_result_ft_wa_out.npy\", allow_pickle=True)\n",
    "# elmo_result_nt_na_out = np.load(\"elmo_result_nt_na_out_glv.npy\", allow_pickle=True)\n",
    "# elmo_result_nt_wa_out = np.load(\"elmo_result_nt_wa_out_glv.npy\", allow_pickle=True)\n",
    "# elmo_result_ft_na_out = np.load(\"elmo_result_ft_na_out_glv.npy\", allow_pickle=True)\n",
    "# elmo_result_ft_wa_out = np.load(\"elmo_result_ft_wa_out_glv.npy\", allow_pickle=True)"
   ]
  },
  {
   "cell_type": "code",
   "execution_count": 145,
   "metadata": {},
   "outputs": [],
   "source": [
    "bert_result_nt_na_out = np.load(\"bert_result_nt_na_out2.npy\", allow_pickle=True)\n",
    "bert_result_nt_wa_out = np.load(\"bert_result_nt_wa_out2.npy\", allow_pickle=True)\n",
    "bert_result_ft_na_out = np.load(\"bert_result_ft_na_out2.npy\", allow_pickle=True)\n",
    "bert_result_ft_wa_out = np.load(\"bert_result_ft_wa_out2.npy\", allow_pickle=True)\n",
    "# bert_result_nt_na_out = np.load(\"bert_result_nt_na_out_glv.npy\", allow_pickle=True)\n",
    "# bert_result_nt_wa_out = np.load(\"bert_result_nt_wa_out_glv.npy\", allow_pickle=True)\n",
    "# bert_result_ft_na_out = np.load(\"bert_result_ft_na_out_glv.npy\", allow_pickle=True)\n",
    "# bert_result_ft_wa_out = np.load(\"bert_result_ft_wa_out_glv.npy\", allow_pickle=True)"
   ]
  },
  {
   "cell_type": "code",
   "execution_count": null,
   "metadata": {},
   "outputs": [],
   "source": []
  },
  {
   "cell_type": "code",
   "execution_count": 146,
   "metadata": {},
   "outputs": [],
   "source": [
    "base_dum_rmse = [rmse(scr_true, scr_pred) for scr_pred, scr_true in zip(base_result_dum[1], base_result_dum[0])]\n",
    "base_len_rmse = [rmse(scr_true, scr_pred) for scr_pred, scr_true in zip(base_result_len[1], base_result_len[0])]\n",
    "base_bow_rmse = [rmse(scr_true, scr_pred) for scr_pred, scr_true in zip(base_result_bow[1], base_result_bow[0])]"
   ]
  },
  {
   "cell_type": "code",
   "execution_count": 147,
   "metadata": {},
   "outputs": [],
   "source": [
    "elmo_scr_rmse_nt_na = [rmse(scr_true, scr_pred) for scr_pred, scr_true in zip(elmo_result_nt_na_out[0], elmo_result_nt_na_out[1])]\n",
    "elmo_scr_rmse_nt_wa = [rmse(scr_true, scr_pred) for scr_pred, scr_true in zip(elmo_result_nt_wa_out[0], elmo_result_nt_wa_out[1])]\n",
    "elmo_scr_rmse_ft_na = [rmse(scr_true, scr_pred) for scr_pred, scr_true in zip(elmo_result_ft_na_out[0], elmo_result_ft_na_out[1])]\n",
    "elmo_scr_rmse_ft_wa = [rmse(scr_true, scr_pred) for scr_pred, scr_true in zip(elmo_result_ft_wa_out[0], elmo_result_ft_wa_out[1])]"
   ]
  },
  {
   "cell_type": "code",
   "execution_count": 148,
   "metadata": {},
   "outputs": [],
   "source": [
    "bert_scr_rmse_nt_na = [rmse(scr_true.flatten(), scr_pred) for scr_pred, scr_true in zip(bert_result_nt_na_out[0], bert_result_nt_na_out[1])]\n",
    "bert_scr_rmse_nt_wa = [rmse(scr_true.flatten(), scr_pred) for scr_pred, scr_true in zip(bert_result_nt_wa_out[0], bert_result_nt_wa_out[1])]\n",
    "bert_scr_rmse_ft_na = [rmse(scr_true.flatten(), scr_pred) for scr_pred, scr_true in zip(bert_result_ft_na_out[0], bert_result_ft_na_out[1])]\n",
    "bert_scr_rmse_ft_wa = [rmse(scr_true.flatten(), scr_pred) for scr_pred, scr_true in zip(bert_result_ft_wa_out[0], bert_result_ft_wa_out[1])]"
   ]
  },
  {
   "cell_type": "code",
   "execution_count": 149,
   "metadata": {},
   "outputs": [
    {
     "data": {
      "text/plain": [
       "((0.314815220692264, 0.3038092755552034, 0.3258211658293246),\n",
       " (0.3083125347076575, 0.2977663695459655, 0.3188586998693495),\n",
       " (0.3208801621122232, 0.3105143658801251, 0.3312459583443213))"
      ]
     },
     "execution_count": 149,
     "metadata": {},
     "output_type": "execute_result"
    }
   ],
   "source": [
    "ci(base_dum_rmse), ci(base_len_rmse), ci(base_bow_rmse)"
   ]
  },
  {
   "cell_type": "code",
   "execution_count": 150,
   "metadata": {},
   "outputs": [
    {
     "data": {
      "text/plain": [
       "((0.17245594240766687, 0.1619519461619691, 0.18295993865336466),\n",
       " (0.165534795371925, 0.15782742733434243, 0.17324216340950757),\n",
       " (0.17900368063077934, 0.1699832410219483, 0.18802412023961038),\n",
       " (0.16603854652418473, 0.15923274777866364, 0.17284434526970582))"
      ]
     },
     "execution_count": 150,
     "metadata": {},
     "output_type": "execute_result"
    }
   ],
   "source": [
    "ci(elmo_scr_rmse_nt_na), ci(elmo_scr_rmse_nt_wa), ci(elmo_scr_rmse_ft_na), ci(elmo_scr_rmse_ft_wa), "
   ]
  },
  {
   "cell_type": "code",
   "execution_count": 151,
   "metadata": {},
   "outputs": [
    {
     "data": {
      "text/plain": [
       "((0.25801569348569914, 0.24440928069190768, 0.27162210627949057),\n",
       " (0.22178503840247035, 0.21107155275842393, 0.23249852404651677),\n",
       " (0.20142469076933125, 0.19247677373347225, 0.21037260780519026),\n",
       " (0.15388351531178046, 0.14584161069858326, 0.16192541992497766))"
      ]
     },
     "execution_count": 151,
     "metadata": {},
     "output_type": "execute_result"
    }
   ],
   "source": [
    "ci(bert_scr_rmse_nt_na), ci(bert_scr_rmse_nt_wa), ci(bert_scr_rmse_ft_na), ci(bert_scr_rmse_ft_wa), "
   ]
  },
  {
   "cell_type": "code",
   "execution_count": 152,
   "metadata": {},
   "outputs": [
    {
     "data": {
      "text/plain": [
       "(Ttest_indResult(statistic=1.2017441075040445, pvalue=0.24503584024115418),\n",
       " Ttest_indResult(statistic=2.595530037302397, pvalue=0.018270220353027666))"
      ]
     },
     "execution_count": 152,
     "metadata": {},
     "output_type": "execute_result"
    }
   ],
   "source": [
    "ttest_ind(elmo_scr_rmse_nt_na, elmo_scr_rmse_nt_wa), ttest_ind(elmo_scr_rmse_ft_na, elmo_scr_rmse_ft_wa)"
   ]
  },
  {
   "cell_type": "code",
   "execution_count": 153,
   "metadata": {},
   "outputs": [
    {
     "data": {
      "text/plain": [
       "(Ttest_indResult(statistic=4.732614594263438, pvalue=0.00016615069778146819),\n",
       " Ttest_indResult(statistic=8.939273657462575, pvalue=4.870779333720333e-08))"
      ]
     },
     "execution_count": 153,
     "metadata": {},
     "output_type": "execute_result"
    }
   ],
   "source": [
    "ttest_ind(bert_scr_rmse_nt_na, bert_scr_rmse_nt_wa), ttest_ind(bert_scr_rmse_ft_na, bert_scr_rmse_ft_wa)"
   ]
  },
  {
   "cell_type": "code",
   "execution_count": 154,
   "metadata": {},
   "outputs": [],
   "source": [
    "scr_rmse = pd.DataFrame({\"Baseline\\n - dummy\": base_dum_rmse,\n",
    "                         \"Baseline\\n - SentLen\": base_len_rmse,\n",
    "                         \"Baseline\\n - BoW\": base_bow_rmse,\n",
    "                         \"ELMo - no tune\\n no attn\":elmo_scr_rmse_nt_na,\n",
    "                         \"ELMo - no tune\\n /w attn\":elmo_scr_rmse_nt_wa,\n",
    "                         \"ELMo - F. tune\\n no attn\":elmo_scr_rmse_ft_na, \n",
    "                         \"ELMo - F. tune\\n /w attn\":elmo_scr_rmse_ft_wa,\n",
    "                         \"BERT - no tune\\n no attn\":bert_scr_rmse_nt_na,\n",
    "                         \"BERT - no tune\\n /w attn\":bert_scr_rmse_nt_wa,\n",
    "                         \"BERT - F. tune\\n no attn\":bert_scr_rmse_ft_na, \n",
    "                         \"BERT - F. tune\\n /w attn\":bert_scr_rmse_ft_wa,})"
   ]
  },
  {
   "cell_type": "code",
   "execution_count": 155,
   "metadata": {},
   "outputs": [
    {
     "data": {
      "text/html": [
       "<div>\n",
       "<style scoped>\n",
       "    .dataframe tbody tr th:only-of-type {\n",
       "        vertical-align: middle;\n",
       "    }\n",
       "\n",
       "    .dataframe tbody tr th {\n",
       "        vertical-align: top;\n",
       "    }\n",
       "\n",
       "    .dataframe thead th {\n",
       "        text-align: right;\n",
       "    }\n",
       "</style>\n",
       "<table border=\"1\" class=\"dataframe\">\n",
       "  <thead>\n",
       "    <tr style=\"text-align: right;\">\n",
       "      <th></th>\n",
       "      <th>Baseline\n",
       " - dummy</th>\n",
       "      <th>Baseline\n",
       " - SentLen</th>\n",
       "      <th>Baseline\n",
       " - BoW</th>\n",
       "      <th>ELMo - no tune\n",
       " no attn</th>\n",
       "      <th>ELMo - no tune\n",
       " /w attn</th>\n",
       "      <th>ELMo - F. tune\n",
       " no attn</th>\n",
       "      <th>ELMo - F. tune\n",
       " /w attn</th>\n",
       "      <th>BERT - no tune\n",
       " no attn</th>\n",
       "      <th>BERT - no tune\n",
       " /w attn</th>\n",
       "      <th>BERT - F. tune\n",
       " no attn</th>\n",
       "      <th>BERT - F. tune\n",
       " /w attn</th>\n",
       "    </tr>\n",
       "  </thead>\n",
       "  <tbody>\n",
       "    <tr>\n",
       "      <th>0</th>\n",
       "      <td>0.317539</td>\n",
       "      <td>0.309594</td>\n",
       "      <td>0.302003</td>\n",
       "      <td>0.157661</td>\n",
       "      <td>0.163463</td>\n",
       "      <td>0.185310</td>\n",
       "      <td>0.161144</td>\n",
       "      <td>0.258110</td>\n",
       "      <td>0.228997</td>\n",
       "      <td>0.223225</td>\n",
       "      <td>0.176235</td>\n",
       "    </tr>\n",
       "    <tr>\n",
       "      <th>1</th>\n",
       "      <td>0.334781</td>\n",
       "      <td>0.331460</td>\n",
       "      <td>0.332347</td>\n",
       "      <td>0.188460</td>\n",
       "      <td>0.189523</td>\n",
       "      <td>0.197776</td>\n",
       "      <td>0.184674</td>\n",
       "      <td>0.274912</td>\n",
       "      <td>0.232740</td>\n",
       "      <td>0.197149</td>\n",
       "      <td>0.154325</td>\n",
       "    </tr>\n",
       "    <tr>\n",
       "      <th>2</th>\n",
       "      <td>0.327414</td>\n",
       "      <td>0.320033</td>\n",
       "      <td>0.336899</td>\n",
       "      <td>0.172838</td>\n",
       "      <td>0.165373</td>\n",
       "      <td>0.168697</td>\n",
       "      <td>0.169336</td>\n",
       "      <td>0.241834</td>\n",
       "      <td>0.240352</td>\n",
       "      <td>0.179903</td>\n",
       "      <td>0.138483</td>\n",
       "    </tr>\n",
       "    <tr>\n",
       "      <th>3</th>\n",
       "      <td>0.315395</td>\n",
       "      <td>0.311749</td>\n",
       "      <td>0.309400</td>\n",
       "      <td>0.172334</td>\n",
       "      <td>0.159734</td>\n",
       "      <td>0.176593</td>\n",
       "      <td>0.160958</td>\n",
       "      <td>0.246090</td>\n",
       "      <td>0.214301</td>\n",
       "      <td>0.203581</td>\n",
       "      <td>0.147737</td>\n",
       "    </tr>\n",
       "    <tr>\n",
       "      <th>4</th>\n",
       "      <td>0.326311</td>\n",
       "      <td>0.318180</td>\n",
       "      <td>0.316848</td>\n",
       "      <td>0.171481</td>\n",
       "      <td>0.179205</td>\n",
       "      <td>0.192550</td>\n",
       "      <td>0.176470</td>\n",
       "      <td>0.284265</td>\n",
       "      <td>0.231476</td>\n",
       "      <td>0.212112</td>\n",
       "      <td>0.152743</td>\n",
       "    </tr>\n",
       "    <tr>\n",
       "      <th>5</th>\n",
       "      <td>0.321151</td>\n",
       "      <td>0.309399</td>\n",
       "      <td>0.318874</td>\n",
       "      <td>0.172665</td>\n",
       "      <td>0.161728</td>\n",
       "      <td>0.171065</td>\n",
       "      <td>0.166004</td>\n",
       "      <td>0.282015</td>\n",
       "      <td>0.239522</td>\n",
       "      <td>0.207799</td>\n",
       "      <td>0.154698</td>\n",
       "    </tr>\n",
       "    <tr>\n",
       "      <th>6</th>\n",
       "      <td>0.288587</td>\n",
       "      <td>0.284265</td>\n",
       "      <td>0.329036</td>\n",
       "      <td>0.201400</td>\n",
       "      <td>0.164613</td>\n",
       "      <td>0.186601</td>\n",
       "      <td>0.168744</td>\n",
       "      <td>0.272252</td>\n",
       "      <td>0.217859</td>\n",
       "      <td>0.208225</td>\n",
       "      <td>0.167126</td>\n",
       "    </tr>\n",
       "    <tr>\n",
       "      <th>7</th>\n",
       "      <td>0.303720</td>\n",
       "      <td>0.299033</td>\n",
       "      <td>0.335061</td>\n",
       "      <td>0.150839</td>\n",
       "      <td>0.156003</td>\n",
       "      <td>0.158388</td>\n",
       "      <td>0.156786</td>\n",
       "      <td>0.248890</td>\n",
       "      <td>0.200636</td>\n",
       "      <td>0.193548</td>\n",
       "      <td>0.149473</td>\n",
       "    </tr>\n",
       "    <tr>\n",
       "      <th>8</th>\n",
       "      <td>0.321590</td>\n",
       "      <td>0.313092</td>\n",
       "      <td>0.331992</td>\n",
       "      <td>0.160472</td>\n",
       "      <td>0.154673</td>\n",
       "      <td>0.166902</td>\n",
       "      <td>0.151809</td>\n",
       "      <td>0.231604</td>\n",
       "      <td>0.199849</td>\n",
       "      <td>0.200815</td>\n",
       "      <td>0.141317</td>\n",
       "    </tr>\n",
       "    <tr>\n",
       "      <th>9</th>\n",
       "      <td>0.291664</td>\n",
       "      <td>0.286320</td>\n",
       "      <td>0.296341</td>\n",
       "      <td>0.176410</td>\n",
       "      <td>0.161033</td>\n",
       "      <td>0.186154</td>\n",
       "      <td>0.164461</td>\n",
       "      <td>0.240186</td>\n",
       "      <td>0.212119</td>\n",
       "      <td>0.187889</td>\n",
       "      <td>0.156700</td>\n",
       "    </tr>\n",
       "  </tbody>\n",
       "</table>\n",
       "</div>"
      ],
      "text/plain": [
       "   Baseline\\n - dummy  Baseline\\n - SentLen  Baseline\\n - BoW  \\\n",
       "0            0.317539              0.309594          0.302003   \n",
       "1            0.334781              0.331460          0.332347   \n",
       "2            0.327414              0.320033          0.336899   \n",
       "3            0.315395              0.311749          0.309400   \n",
       "4            0.326311              0.318180          0.316848   \n",
       "5            0.321151              0.309399          0.318874   \n",
       "6            0.288587              0.284265          0.329036   \n",
       "7            0.303720              0.299033          0.335061   \n",
       "8            0.321590              0.313092          0.331992   \n",
       "9            0.291664              0.286320          0.296341   \n",
       "\n",
       "   ELMo - no tune\\n no attn  ELMo - no tune\\n /w attn  \\\n",
       "0                  0.157661                  0.163463   \n",
       "1                  0.188460                  0.189523   \n",
       "2                  0.172838                  0.165373   \n",
       "3                  0.172334                  0.159734   \n",
       "4                  0.171481                  0.179205   \n",
       "5                  0.172665                  0.161728   \n",
       "6                  0.201400                  0.164613   \n",
       "7                  0.150839                  0.156003   \n",
       "8                  0.160472                  0.154673   \n",
       "9                  0.176410                  0.161033   \n",
       "\n",
       "   ELMo - F. tune\\n no attn  ELMo - F. tune\\n /w attn  \\\n",
       "0                  0.185310                  0.161144   \n",
       "1                  0.197776                  0.184674   \n",
       "2                  0.168697                  0.169336   \n",
       "3                  0.176593                  0.160958   \n",
       "4                  0.192550                  0.176470   \n",
       "5                  0.171065                  0.166004   \n",
       "6                  0.186601                  0.168744   \n",
       "7                  0.158388                  0.156786   \n",
       "8                  0.166902                  0.151809   \n",
       "9                  0.186154                  0.164461   \n",
       "\n",
       "   BERT - no tune\\n no attn  BERT - no tune\\n /w attn  \\\n",
       "0                  0.258110                  0.228997   \n",
       "1                  0.274912                  0.232740   \n",
       "2                  0.241834                  0.240352   \n",
       "3                  0.246090                  0.214301   \n",
       "4                  0.284265                  0.231476   \n",
       "5                  0.282015                  0.239522   \n",
       "6                  0.272252                  0.217859   \n",
       "7                  0.248890                  0.200636   \n",
       "8                  0.231604                  0.199849   \n",
       "9                  0.240186                  0.212119   \n",
       "\n",
       "   BERT - F. tune\\n no attn  BERT - F. tune\\n /w attn  \n",
       "0                  0.223225                  0.176235  \n",
       "1                  0.197149                  0.154325  \n",
       "2                  0.179903                  0.138483  \n",
       "3                  0.203581                  0.147737  \n",
       "4                  0.212112                  0.152743  \n",
       "5                  0.207799                  0.154698  \n",
       "6                  0.208225                  0.167126  \n",
       "7                  0.193548                  0.149473  \n",
       "8                  0.200815                  0.141317  \n",
       "9                  0.187889                  0.156700  "
      ]
     },
     "execution_count": 155,
     "metadata": {},
     "output_type": "execute_result"
    }
   ],
   "source": [
    "scr_rmse"
   ]
  },
  {
   "cell_type": "code",
   "execution_count": 156,
   "metadata": {},
   "outputs": [
    {
     "data": {
      "text/plain": [
       "Ttest_indResult(statistic=2.6099652385890115, pvalue=0.017723929155590637)"
      ]
     },
     "execution_count": 156,
     "metadata": {},
     "output_type": "execute_result"
    }
   ],
   "source": [
    "ttest_ind(elmo_scr_rmse_ft_wa, bert_scr_rmse_ft_wa)"
   ]
  },
  {
   "cell_type": "code",
   "execution_count": 157,
   "metadata": {},
   "outputs": [
    {
     "data": {
      "text/plain": [
       "ELMo - F. tune\\n no attn     [0.179, 0.17, 0.188]\n",
       "ELMo - F. tune\\n /w attn    [0.166, 0.159, 0.173]\n",
       "BERT - F. tune\\n no attn     [0.201, 0.192, 0.21]\n",
       "BERT - F. tune\\n /w attn    [0.154, 0.146, 0.162]\n",
       "dtype: object"
      ]
     },
     "execution_count": 157,
     "metadata": {},
     "output_type": "execute_result"
    }
   ],
   "source": [
    "scr_rmse.filter(regex=\"F. tune\").apply(lambda col:[round(x, 3)for x in ci(col)], axis=0)"
   ]
  },
  {
   "cell_type": "code",
   "execution_count": null,
   "metadata": {},
   "outputs": [],
   "source": []
  },
  {
   "cell_type": "code",
   "execution_count": null,
   "metadata": {},
   "outputs": [],
   "source": []
  },
  {
   "cell_type": "code",
   "execution_count": 158,
   "metadata": {},
   "outputs": [],
   "source": [
    "# from sklearn.metrics import roc_curve, auc\n",
    "\n",
    "# def rocauc(y_true, y_pred, cut):\n",
    "#     fpr, tpr, _ = roc_curve(y_true > np.quantile(y_true, q=[cut]), y_pred)\n",
    "#     roc_auc = auc(fpr, tpr)\n",
    "#     return (roc_auc)"
   ]
  },
  {
   "cell_type": "code",
   "execution_count": 159,
   "metadata": {},
   "outputs": [],
   "source": [
    "base_dum_rocauc_l2 = [1-rocauc(scr_true, scr_pred, 0.2, \"low\")  for scr_pred, scr_true in zip(base_result_dum[1], base_result_dum[0])]\n",
    "base_dum_rocauc_m5 = [  rocauc(scr_true, scr_pred, 0.5, \"high\") for scr_pred, scr_true in zip(base_result_dum[1], base_result_dum[0])]\n",
    "base_dum_rocauc_h8 = [  rocauc(scr_true, scr_pred, 0.8, \"high\") for scr_pred, scr_true in zip(base_result_dum[1], base_result_dum[0])]\n",
    "\n",
    "base_len_rocauc_l2 = [1-rocauc(scr_true, scr_pred, 0.2, \"low\")  for scr_pred, scr_true in zip(base_result_len[1], base_result_len[0])]\n",
    "base_len_rocauc_m5 = [  rocauc(scr_true, scr_pred, 0.5, \"high\") for scr_pred, scr_true in zip(base_result_len[1], base_result_len[0])]\n",
    "base_len_rocauc_h8 = [  rocauc(scr_true, scr_pred, 0.8, \"high\") for scr_pred, scr_true in zip(base_result_len[1], base_result_len[0])]\n",
    "\n",
    "base_bow_rocauc_l2 = [1-rocauc(scr_true, scr_pred, 0.2, \"low\")  for scr_pred, scr_true in zip(base_result_bow[1], base_result_bow[0])]\n",
    "base_bow_rocauc_m5 = [  rocauc(scr_true, scr_pred, 0.5, \"high\") for scr_pred, scr_true in zip(base_result_bow[1], base_result_bow[0])]\n",
    "base_bow_rocauc_h8 = [  rocauc(scr_true, scr_pred, 0.8, \"high\") for scr_pred, scr_true in zip(base_result_bow[1], base_result_bow[0])]"
   ]
  },
  {
   "cell_type": "code",
   "execution_count": 160,
   "metadata": {},
   "outputs": [],
   "source": [
    "elmo_scr_rocauc_nt_na_l2 = [1-rocauc(scr_true, scr_pred, 0.2, \"low\")  for scr_pred, scr_true in zip(elmo_result_nt_na_out[0], elmo_result_nt_na_out[1])]\n",
    "elmo_scr_rocauc_nt_na_m5 = [  rocauc(scr_true, scr_pred, 0.5, \"high\") for scr_pred, scr_true in zip(elmo_result_nt_na_out[0], elmo_result_nt_na_out[1])]\n",
    "elmo_scr_rocauc_nt_na_h8 = [  rocauc(scr_true, scr_pred, 0.8, \"high\") for scr_pred, scr_true in zip(elmo_result_nt_na_out[0], elmo_result_nt_na_out[1])]\n",
    "\n",
    "elmo_scr_rocauc_nt_wa_l2 = [1-rocauc(scr_true, scr_pred, 0.2, \"low\")  for scr_pred, scr_true in zip(elmo_result_nt_wa_out[0], elmo_result_nt_wa_out[1])]\n",
    "elmo_scr_rocauc_nt_wa_m5 = [  rocauc(scr_true, scr_pred, 0.5, \"high\") for scr_pred, scr_true in zip(elmo_result_nt_wa_out[0], elmo_result_nt_wa_out[1])]\n",
    "elmo_scr_rocauc_nt_wa_h8 = [  rocauc(scr_true, scr_pred, 0.8, \"high\") for scr_pred, scr_true in zip(elmo_result_nt_wa_out[0], elmo_result_nt_wa_out[1])]\n",
    "\n",
    "elmo_scr_rocauc_ft_na_l2 = [1-rocauc(scr_true, scr_pred, 0.2, \"low\")  for scr_pred, scr_true in zip(elmo_result_ft_na_out[0], elmo_result_ft_na_out[1])]\n",
    "elmo_scr_rocauc_ft_na_m5 = [  rocauc(scr_true, scr_pred, 0.5, \"high\") for scr_pred, scr_true in zip(elmo_result_ft_na_out[0], elmo_result_ft_na_out[1])]\n",
    "elmo_scr_rocauc_ft_na_h8 = [  rocauc(scr_true, scr_pred, 0.8, \"high\") for scr_pred, scr_true in zip(elmo_result_ft_na_out[0], elmo_result_ft_na_out[1])]\n",
    "\n",
    "elmo_scr_rocauc_ft_wa_l2 = [1-rocauc(scr_true, scr_pred, 0.2, \"low\")  for scr_pred, scr_true in zip(elmo_result_ft_wa_out[0], elmo_result_ft_wa_out[1])]\n",
    "elmo_scr_rocauc_ft_wa_m5 = [  rocauc(scr_true, scr_pred, 0.5, \"high\") for scr_pred, scr_true in zip(elmo_result_ft_wa_out[0], elmo_result_ft_wa_out[1])]\n",
    "elmo_scr_rocauc_ft_wa_h8 = [  rocauc(scr_true, scr_pred, 0.8, \"high\") for scr_pred, scr_true in zip(elmo_result_ft_wa_out[0], elmo_result_ft_wa_out[1])]\n"
   ]
  },
  {
   "cell_type": "code",
   "execution_count": 161,
   "metadata": {},
   "outputs": [],
   "source": [
    "bert_scr_rocauc_nt_na_l2 = [1-rocauc(scr_true, scr_pred, 0.2, \"low\")  for scr_pred, scr_true in zip(bert_result_nt_na_out[0], bert_result_nt_na_out[1])]\n",
    "bert_scr_rocauc_nt_na_m5 = [  rocauc(scr_true, scr_pred, 0.5, \"high\") for scr_pred, scr_true in zip(bert_result_nt_na_out[0], bert_result_nt_na_out[1])]\n",
    "bert_scr_rocauc_nt_na_h8 = [  rocauc(scr_true, scr_pred, 0.8, \"high\") for scr_pred, scr_true in zip(bert_result_nt_na_out[0], bert_result_nt_na_out[1])]\n",
    "\n",
    "bert_scr_rocauc_nt_wa_l2 = [1-rocauc(scr_true, scr_pred, 0.2, \"low\")  for scr_pred, scr_true in zip(bert_result_nt_wa_out[0], bert_result_nt_wa_out[1])]\n",
    "bert_scr_rocauc_nt_wa_m5 = [  rocauc(scr_true, scr_pred, 0.5, \"high\") for scr_pred, scr_true in zip(bert_result_nt_wa_out[0], bert_result_nt_wa_out[1])]\n",
    "bert_scr_rocauc_nt_wa_h8 = [  rocauc(scr_true, scr_pred, 0.8, \"high\") for scr_pred, scr_true in zip(bert_result_nt_wa_out[0], bert_result_nt_wa_out[1])]\n",
    "\n",
    "bert_scr_rocauc_ft_na_l2 = [1-rocauc(scr_true, scr_pred, 0.2, \"low\")  for scr_pred, scr_true in zip(bert_result_ft_na_out[0], bert_result_ft_na_out[1])]\n",
    "bert_scr_rocauc_ft_na_m5 = [  rocauc(scr_true, scr_pred, 0.5, \"high\") for scr_pred, scr_true in zip(bert_result_ft_na_out[0], bert_result_ft_na_out[1])]\n",
    "bert_scr_rocauc_ft_na_h8 = [  rocauc(scr_true, scr_pred, 0.8, \"high\") for scr_pred, scr_true in zip(bert_result_ft_na_out[0], bert_result_ft_na_out[1])]\n",
    "\n",
    "bert_scr_rocauc_ft_wa_l2 = [1-rocauc(scr_true, scr_pred, 0.2, \"low\")  for scr_pred, scr_true in zip(bert_result_ft_wa_out[0], bert_result_ft_wa_out[1])]\n",
    "bert_scr_rocauc_ft_wa_m5 = [  rocauc(scr_true, scr_pred, 0.5, \"high\") for scr_pred, scr_true in zip(bert_result_ft_wa_out[0], bert_result_ft_wa_out[1])]\n",
    "bert_scr_rocauc_ft_wa_h8 = [  rocauc(scr_true, scr_pred, 0.8, \"high\") for scr_pred, scr_true in zip(bert_result_ft_wa_out[0], bert_result_ft_wa_out[1])]"
   ]
  },
  {
   "cell_type": "code",
   "execution_count": 162,
   "metadata": {},
   "outputs": [
    {
     "data": {
      "text/plain": [
       "((0.5, 0.5, 0.5),\n",
       " (0.7554858041010868, 0.7361355845749644, 0.7748360236272092),\n",
       " (0.5940977483192676, 0.5419031198159063, 0.646292376822629))"
      ]
     },
     "execution_count": 162,
     "metadata": {},
     "output_type": "execute_result"
    }
   ],
   "source": [
    "ci(base_dum_rocauc_m5), ci(base_len_rocauc_m5), ci(base_bow_rocauc_m5)"
   ]
  },
  {
   "cell_type": "code",
   "execution_count": 163,
   "metadata": {},
   "outputs": [
    {
     "data": {
      "text/plain": [
       "((0.8004474300292737, 0.7792737406371777, 0.8216211194213696),\n",
       " (0.8110003162652413, 0.7890259119132966, 0.8329747206171859),\n",
       " (0.805850919070368, 0.7843020532018653, 0.8273997849388707),\n",
       " (0.8103251394932981, 0.7870139680588035, 0.8336363109277927))"
      ]
     },
     "execution_count": 163,
     "metadata": {},
     "output_type": "execute_result"
    }
   ],
   "source": [
    "ci(elmo_scr_rocauc_nt_na_m5), ci(elmo_scr_rocauc_nt_wa_m5), ci(elmo_scr_rocauc_ft_na_m5), ci(elmo_scr_rocauc_ft_wa_m5), "
   ]
  },
  {
   "cell_type": "code",
   "execution_count": 164,
   "metadata": {},
   "outputs": [
    {
     "data": {
      "text/plain": [
       "((0.6567574290802745, 0.6210094593649775, 0.6925053987955714),\n",
       " (0.4879711072504159, 0.45323239353742534, 0.5227098209634065),\n",
       " (0.7425591237908971, 0.709658969860389, 0.7754592777214051),\n",
       " (0.842099832361286, 0.8243909973502784, 0.8598086673722937))"
      ]
     },
     "execution_count": 164,
     "metadata": {},
     "output_type": "execute_result"
    }
   ],
   "source": [
    "ci(bert_scr_rocauc_nt_na_m5), ci(bert_scr_rocauc_nt_wa_m5), ci(bert_scr_rocauc_ft_na_m5), ci(bert_scr_rocauc_ft_wa_m5), "
   ]
  },
  {
   "cell_type": "code",
   "execution_count": 165,
   "metadata": {},
   "outputs": [
    {
     "data": {
      "text/plain": [
       "(Ttest_indResult(statistic=-0.7822987697392118, pvalue=0.4442091441564051),\n",
       " Ttest_indResult(statistic=-0.31883108563617035, pvalue=0.7535246527716273))"
      ]
     },
     "execution_count": 165,
     "metadata": {},
     "output_type": "execute_result"
    }
   ],
   "source": [
    "ttest_ind(elmo_scr_rocauc_nt_na_m5, elmo_scr_rocauc_nt_wa_m5), ttest_ind(elmo_scr_rocauc_ft_na_m5, elmo_scr_rocauc_ft_wa_m5)"
   ]
  },
  {
   "cell_type": "code",
   "execution_count": 166,
   "metadata": {},
   "outputs": [
    {
     "data": {
      "text/plain": [
       "(Ttest_indResult(statistic=7.659905830925568, pvalue=4.5241866993697235e-07),\n",
       " Ttest_indResult(statistic=-6.026667348369349, pvalue=1.0671452557350777e-05))"
      ]
     },
     "execution_count": 166,
     "metadata": {},
     "output_type": "execute_result"
    }
   ],
   "source": [
    "ttest_ind(bert_scr_rocauc_nt_na_m5, bert_scr_rocauc_nt_wa_m5), ttest_ind(bert_scr_rocauc_ft_na_m5, bert_scr_rocauc_ft_wa_m5)"
   ]
  },
  {
   "cell_type": "code",
   "execution_count": 167,
   "metadata": {},
   "outputs": [],
   "source": [
    "scr_rocauc = pd.DataFrame({\"Baseline\\n - dummy_l2\":base_dum_rocauc_l2,\n",
    "                           \"Baseline\\n - dummy_m5\":base_dum_rocauc_m5,\n",
    "                           \"Baseline\\n - dummy_h8\":base_dum_rocauc_h8,\n",
    "                           \"Baseline\\n - SentLen_l2\":base_len_rocauc_l2,\n",
    "                           \"Baseline\\n - SentLen_m5\":base_len_rocauc_m5,\n",
    "                           \"Baseline\\n - SentLen_h8\":base_len_rocauc_h8,\n",
    "                           \"Baseline\\n - BoW_l2\":base_bow_rocauc_l2,\n",
    "                           \"Baseline\\n - BoW_m5\":base_bow_rocauc_m5,\n",
    "                           \"Baseline\\n - BoW_h8\":base_bow_rocauc_h8,\n",
    "                           \"ELMo - no tune\\n no attn_l2\":elmo_scr_rocauc_nt_na_l2,\n",
    "                           \"ELMo - no tune\\n no attn_m5\":elmo_scr_rocauc_nt_na_m5,\n",
    "                           \"ELMo - no tune\\n no attn_h8\":elmo_scr_rocauc_nt_na_h8,\n",
    "                           \"ELMo - no tune\\n /w attn_l2\":elmo_scr_rocauc_nt_wa_l2,\n",
    "                           \"ELMo - no tune\\n /w attn_m5\":elmo_scr_rocauc_nt_wa_m5,\n",
    "                           \"ELMo - no tune\\n /w attn_h8\":elmo_scr_rocauc_nt_wa_h8,\n",
    "                           \"ELMo - F. tune\\n no attn_l2\":elmo_scr_rocauc_ft_na_l2, \n",
    "                           \"ELMo - F. tune\\n no attn_m5\":elmo_scr_rocauc_ft_na_m5, \n",
    "                           \"ELMo - F. tune\\n no attn_h8\":elmo_scr_rocauc_ft_na_h8, \n",
    "                           \"ELMo - F. tune\\n /w attn_l2\":elmo_scr_rocauc_ft_wa_l2,\n",
    "                           \"ELMo - F. tune\\n /w attn_m5\":elmo_scr_rocauc_ft_wa_m5,\n",
    "                           \"ELMo - F. tune\\n /w attn_h8\":elmo_scr_rocauc_ft_wa_h8,\n",
    "                           \"BERT - no tune\\n no attn_l2\":bert_scr_rocauc_nt_na_l2,\n",
    "                           \"BERT - no tune\\n no attn_m5\":bert_scr_rocauc_nt_na_m5,\n",
    "                           \"BERT - no tune\\n no attn_h8\":bert_scr_rocauc_nt_na_h8,\n",
    "                           \"BERT - no tune\\n /w attn_l2\":bert_scr_rocauc_nt_wa_l2,\n",
    "                           \"BERT - no tune\\n /w attn_m5\":bert_scr_rocauc_nt_wa_m5,\n",
    "                           \"BERT - no tune\\n /w attn_h8\":bert_scr_rocauc_nt_wa_h8,\n",
    "                           \"BERT - F. tune\\n no attn_l2\":bert_scr_rocauc_ft_na_l2, \n",
    "                           \"BERT - F. tune\\n no attn_m5\":bert_scr_rocauc_ft_na_m5, \n",
    "                           \"BERT - F. tune\\n no attn_h8\":bert_scr_rocauc_ft_na_h8, \n",
    "                           \"BERT - F. tune\\n /w attn_l2\":bert_scr_rocauc_ft_wa_l2,\n",
    "                           \"BERT - F. tune\\n /w attn_m5\":bert_scr_rocauc_ft_wa_m5,\n",
    "                           \"BERT - F. tune\\n /w attn_h8\":bert_scr_rocauc_ft_wa_h8})"
   ]
  },
  {
   "cell_type": "code",
   "execution_count": 168,
   "metadata": {},
   "outputs": [
    {
     "data": {
      "text/html": [
       "<div>\n",
       "<style scoped>\n",
       "    .dataframe tbody tr th:only-of-type {\n",
       "        vertical-align: middle;\n",
       "    }\n",
       "\n",
       "    .dataframe tbody tr th {\n",
       "        vertical-align: top;\n",
       "    }\n",
       "\n",
       "    .dataframe thead th {\n",
       "        text-align: right;\n",
       "    }\n",
       "</style>\n",
       "<table border=\"1\" class=\"dataframe\">\n",
       "  <thead>\n",
       "    <tr style=\"text-align: right;\">\n",
       "      <th></th>\n",
       "      <th>Baseline\n",
       " - dummy_l2</th>\n",
       "      <th>Baseline\n",
       " - dummy_m5</th>\n",
       "      <th>Baseline\n",
       " - dummy_h8</th>\n",
       "      <th>Baseline\n",
       " - SentLen_l2</th>\n",
       "      <th>Baseline\n",
       " - SentLen_m5</th>\n",
       "      <th>Baseline\n",
       " - SentLen_h8</th>\n",
       "      <th>Baseline\n",
       " - BoW_l2</th>\n",
       "      <th>Baseline\n",
       " - BoW_m5</th>\n",
       "      <th>Baseline\n",
       " - BoW_h8</th>\n",
       "      <th>ELMo - no tune\n",
       " no attn_l2</th>\n",
       "      <th>...</th>\n",
       "      <th>BERT - no tune\n",
       " no attn_h8</th>\n",
       "      <th>BERT - no tune\n",
       " /w attn_l2</th>\n",
       "      <th>BERT - no tune\n",
       " /w attn_m5</th>\n",
       "      <th>BERT - no tune\n",
       " /w attn_h8</th>\n",
       "      <th>BERT - F. tune\n",
       " no attn_l2</th>\n",
       "      <th>BERT - F. tune\n",
       " no attn_m5</th>\n",
       "      <th>BERT - F. tune\n",
       " no attn_h8</th>\n",
       "      <th>BERT - F. tune\n",
       " /w attn_l2</th>\n",
       "      <th>BERT - F. tune\n",
       " /w attn_m5</th>\n",
       "      <th>BERT - F. tune\n",
       " /w attn_h8</th>\n",
       "    </tr>\n",
       "  </thead>\n",
       "  <tbody>\n",
       "    <tr>\n",
       "      <th>0</th>\n",
       "      <td>0.5</td>\n",
       "      <td>0.5</td>\n",
       "      <td>0.5</td>\n",
       "      <td>0.771823</td>\n",
       "      <td>0.715309</td>\n",
       "      <td>0.720847</td>\n",
       "      <td>0.705616</td>\n",
       "      <td>0.656420</td>\n",
       "      <td>0.691363</td>\n",
       "      <td>0.856946</td>\n",
       "      <td>...</td>\n",
       "      <td>0.675298</td>\n",
       "      <td>0.496355</td>\n",
       "      <td>0.490123</td>\n",
       "      <td>0.455868</td>\n",
       "      <td>0.779704</td>\n",
       "      <td>0.788889</td>\n",
       "      <td>0.772633</td>\n",
       "      <td>0.867783</td>\n",
       "      <td>0.852963</td>\n",
       "      <td>0.816481</td>\n",
       "    </tr>\n",
       "    <tr>\n",
       "      <th>1</th>\n",
       "      <td>0.5</td>\n",
       "      <td>0.5</td>\n",
       "      <td>0.5</td>\n",
       "      <td>0.804563</td>\n",
       "      <td>0.746486</td>\n",
       "      <td>0.738733</td>\n",
       "      <td>0.703175</td>\n",
       "      <td>0.567144</td>\n",
       "      <td>0.580808</td>\n",
       "      <td>0.829167</td>\n",
       "      <td>...</td>\n",
       "      <td>0.586636</td>\n",
       "      <td>0.404762</td>\n",
       "      <td>0.474272</td>\n",
       "      <td>0.461538</td>\n",
       "      <td>0.790278</td>\n",
       "      <td>0.727410</td>\n",
       "      <td>0.723970</td>\n",
       "      <td>0.895635</td>\n",
       "      <td>0.822415</td>\n",
       "      <td>0.770202</td>\n",
       "    </tr>\n",
       "    <tr>\n",
       "      <th>2</th>\n",
       "      <td>0.5</td>\n",
       "      <td>0.5</td>\n",
       "      <td>0.5</td>\n",
       "      <td>0.837446</td>\n",
       "      <td>0.790107</td>\n",
       "      <td>0.676511</td>\n",
       "      <td>0.545671</td>\n",
       "      <td>0.560963</td>\n",
       "      <td>0.542935</td>\n",
       "      <td>0.856061</td>\n",
       "      <td>...</td>\n",
       "      <td>0.638573</td>\n",
       "      <td>0.401082</td>\n",
       "      <td>0.408957</td>\n",
       "      <td>0.417765</td>\n",
       "      <td>0.883117</td>\n",
       "      <td>0.827273</td>\n",
       "      <td>0.760791</td>\n",
       "      <td>0.908442</td>\n",
       "      <td>0.891845</td>\n",
       "      <td>0.808496</td>\n",
       "    </tr>\n",
       "    <tr>\n",
       "      <th>3</th>\n",
       "      <td>0.5</td>\n",
       "      <td>0.5</td>\n",
       "      <td>0.5</td>\n",
       "      <td>0.764546</td>\n",
       "      <td>0.752868</td>\n",
       "      <td>0.781112</td>\n",
       "      <td>0.736299</td>\n",
       "      <td>0.653459</td>\n",
       "      <td>0.630872</td>\n",
       "      <td>0.891517</td>\n",
       "      <td>...</td>\n",
       "      <td>0.642570</td>\n",
       "      <td>0.475225</td>\n",
       "      <td>0.538261</td>\n",
       "      <td>0.515628</td>\n",
       "      <td>0.854354</td>\n",
       "      <td>0.705027</td>\n",
       "      <td>0.683605</td>\n",
       "      <td>0.947447</td>\n",
       "      <td>0.820934</td>\n",
       "      <td>0.780249</td>\n",
       "    </tr>\n",
       "    <tr>\n",
       "      <th>4</th>\n",
       "      <td>0.5</td>\n",
       "      <td>0.5</td>\n",
       "      <td>0.5</td>\n",
       "      <td>0.771014</td>\n",
       "      <td>0.774860</td>\n",
       "      <td>0.791603</td>\n",
       "      <td>0.642650</td>\n",
       "      <td>0.670810</td>\n",
       "      <td>0.706240</td>\n",
       "      <td>0.817391</td>\n",
       "      <td>...</td>\n",
       "      <td>0.533739</td>\n",
       "      <td>0.446584</td>\n",
       "      <td>0.406041</td>\n",
       "      <td>0.285642</td>\n",
       "      <td>0.728364</td>\n",
       "      <td>0.666934</td>\n",
       "      <td>0.694825</td>\n",
       "      <td>0.912215</td>\n",
       "      <td>0.852446</td>\n",
       "      <td>0.753932</td>\n",
       "    </tr>\n",
       "    <tr>\n",
       "      <th>5</th>\n",
       "      <td>0.5</td>\n",
       "      <td>0.5</td>\n",
       "      <td>0.5</td>\n",
       "      <td>0.800104</td>\n",
       "      <td>0.792513</td>\n",
       "      <td>0.760417</td>\n",
       "      <td>0.596066</td>\n",
       "      <td>0.583155</td>\n",
       "      <td>0.595301</td>\n",
       "      <td>0.904555</td>\n",
       "      <td>...</td>\n",
       "      <td>0.595301</td>\n",
       "      <td>0.536232</td>\n",
       "      <td>0.469385</td>\n",
       "      <td>0.460550</td>\n",
       "      <td>0.812629</td>\n",
       "      <td>0.781818</td>\n",
       "      <td>0.673316</td>\n",
       "      <td>0.888199</td>\n",
       "      <td>0.868717</td>\n",
       "      <td>0.833333</td>\n",
       "    </tr>\n",
       "    <tr>\n",
       "      <th>6</th>\n",
       "      <td>0.5</td>\n",
       "      <td>0.5</td>\n",
       "      <td>0.5</td>\n",
       "      <td>0.770609</td>\n",
       "      <td>0.746449</td>\n",
       "      <td>0.737451</td>\n",
       "      <td>0.534261</td>\n",
       "      <td>0.466619</td>\n",
       "      <td>0.500392</td>\n",
       "      <td>0.809614</td>\n",
       "      <td>...</td>\n",
       "      <td>0.631765</td>\n",
       "      <td>0.499895</td>\n",
       "      <td>0.517874</td>\n",
       "      <td>0.564118</td>\n",
       "      <td>0.693021</td>\n",
       "      <td>0.732008</td>\n",
       "      <td>0.728627</td>\n",
       "      <td>0.842083</td>\n",
       "      <td>0.822325</td>\n",
       "      <td>0.770980</td>\n",
       "    </tr>\n",
       "    <tr>\n",
       "      <th>7</th>\n",
       "      <td>0.5</td>\n",
       "      <td>0.5</td>\n",
       "      <td>0.5</td>\n",
       "      <td>0.747472</td>\n",
       "      <td>0.757119</td>\n",
       "      <td>0.747185</td>\n",
       "      <td>0.612429</td>\n",
       "      <td>0.505458</td>\n",
       "      <td>0.564565</td>\n",
       "      <td>0.909542</td>\n",
       "      <td>...</td>\n",
       "      <td>0.657282</td>\n",
       "      <td>0.536680</td>\n",
       "      <td>0.531206</td>\n",
       "      <td>0.541104</td>\n",
       "      <td>0.834161</td>\n",
       "      <td>0.716421</td>\n",
       "      <td>0.663476</td>\n",
       "      <td>0.898143</td>\n",
       "      <td>0.833531</td>\n",
       "      <td>0.783784</td>\n",
       "    </tr>\n",
       "    <tr>\n",
       "      <th>8</th>\n",
       "      <td>0.5</td>\n",
       "      <td>0.5</td>\n",
       "      <td>0.5</td>\n",
       "      <td>0.777811</td>\n",
       "      <td>0.765529</td>\n",
       "      <td>0.761782</td>\n",
       "      <td>0.598639</td>\n",
       "      <td>0.590364</td>\n",
       "      <td>0.563027</td>\n",
       "      <td>0.881152</td>\n",
       "      <td>...</td>\n",
       "      <td>0.735632</td>\n",
       "      <td>0.569028</td>\n",
       "      <td>0.530448</td>\n",
       "      <td>0.573180</td>\n",
       "      <td>0.863345</td>\n",
       "      <td>0.738078</td>\n",
       "      <td>0.618391</td>\n",
       "      <td>0.912965</td>\n",
       "      <td>0.842137</td>\n",
       "      <td>0.809195</td>\n",
       "    </tr>\n",
       "    <tr>\n",
       "      <th>9</th>\n",
       "      <td>0.5</td>\n",
       "      <td>0.5</td>\n",
       "      <td>0.5</td>\n",
       "      <td>0.762723</td>\n",
       "      <td>0.713618</td>\n",
       "      <td>0.774798</td>\n",
       "      <td>0.702232</td>\n",
       "      <td>0.686585</td>\n",
       "      <td>0.601264</td>\n",
       "      <td>0.846875</td>\n",
       "      <td>...</td>\n",
       "      <td>0.565729</td>\n",
       "      <td>0.518527</td>\n",
       "      <td>0.513144</td>\n",
       "      <td>0.471550</td>\n",
       "      <td>0.821429</td>\n",
       "      <td>0.741734</td>\n",
       "      <td>0.754088</td>\n",
       "      <td>0.880580</td>\n",
       "      <td>0.813686</td>\n",
       "      <td>0.782647</td>\n",
       "    </tr>\n",
       "  </tbody>\n",
       "</table>\n",
       "<p>10 rows × 33 columns</p>\n",
       "</div>"
      ],
      "text/plain": [
       "   Baseline\\n - dummy_l2  Baseline\\n - dummy_m5  Baseline\\n - dummy_h8  \\\n",
       "0                    0.5                    0.5                    0.5   \n",
       "1                    0.5                    0.5                    0.5   \n",
       "2                    0.5                    0.5                    0.5   \n",
       "3                    0.5                    0.5                    0.5   \n",
       "4                    0.5                    0.5                    0.5   \n",
       "5                    0.5                    0.5                    0.5   \n",
       "6                    0.5                    0.5                    0.5   \n",
       "7                    0.5                    0.5                    0.5   \n",
       "8                    0.5                    0.5                    0.5   \n",
       "9                    0.5                    0.5                    0.5   \n",
       "\n",
       "   Baseline\\n - SentLen_l2  Baseline\\n - SentLen_m5  Baseline\\n - SentLen_h8  \\\n",
       "0                 0.771823                 0.715309                 0.720847   \n",
       "1                 0.804563                 0.746486                 0.738733   \n",
       "2                 0.837446                 0.790107                 0.676511   \n",
       "3                 0.764546                 0.752868                 0.781112   \n",
       "4                 0.771014                 0.774860                 0.791603   \n",
       "5                 0.800104                 0.792513                 0.760417   \n",
       "6                 0.770609                 0.746449                 0.737451   \n",
       "7                 0.747472                 0.757119                 0.747185   \n",
       "8                 0.777811                 0.765529                 0.761782   \n",
       "9                 0.762723                 0.713618                 0.774798   \n",
       "\n",
       "   Baseline\\n - BoW_l2  Baseline\\n - BoW_m5  Baseline\\n - BoW_h8  \\\n",
       "0             0.705616             0.656420             0.691363   \n",
       "1             0.703175             0.567144             0.580808   \n",
       "2             0.545671             0.560963             0.542935   \n",
       "3             0.736299             0.653459             0.630872   \n",
       "4             0.642650             0.670810             0.706240   \n",
       "5             0.596066             0.583155             0.595301   \n",
       "6             0.534261             0.466619             0.500392   \n",
       "7             0.612429             0.505458             0.564565   \n",
       "8             0.598639             0.590364             0.563027   \n",
       "9             0.702232             0.686585             0.601264   \n",
       "\n",
       "   ELMo - no tune\\n no attn_l2  ...  BERT - no tune\\n no attn_h8  \\\n",
       "0                     0.856946  ...                     0.675298   \n",
       "1                     0.829167  ...                     0.586636   \n",
       "2                     0.856061  ...                     0.638573   \n",
       "3                     0.891517  ...                     0.642570   \n",
       "4                     0.817391  ...                     0.533739   \n",
       "5                     0.904555  ...                     0.595301   \n",
       "6                     0.809614  ...                     0.631765   \n",
       "7                     0.909542  ...                     0.657282   \n",
       "8                     0.881152  ...                     0.735632   \n",
       "9                     0.846875  ...                     0.565729   \n",
       "\n",
       "   BERT - no tune\\n /w attn_l2  BERT - no tune\\n /w attn_m5  \\\n",
       "0                     0.496355                     0.490123   \n",
       "1                     0.404762                     0.474272   \n",
       "2                     0.401082                     0.408957   \n",
       "3                     0.475225                     0.538261   \n",
       "4                     0.446584                     0.406041   \n",
       "5                     0.536232                     0.469385   \n",
       "6                     0.499895                     0.517874   \n",
       "7                     0.536680                     0.531206   \n",
       "8                     0.569028                     0.530448   \n",
       "9                     0.518527                     0.513144   \n",
       "\n",
       "   BERT - no tune\\n /w attn_h8  BERT - F. tune\\n no attn_l2  \\\n",
       "0                     0.455868                     0.779704   \n",
       "1                     0.461538                     0.790278   \n",
       "2                     0.417765                     0.883117   \n",
       "3                     0.515628                     0.854354   \n",
       "4                     0.285642                     0.728364   \n",
       "5                     0.460550                     0.812629   \n",
       "6                     0.564118                     0.693021   \n",
       "7                     0.541104                     0.834161   \n",
       "8                     0.573180                     0.863345   \n",
       "9                     0.471550                     0.821429   \n",
       "\n",
       "   BERT - F. tune\\n no attn_m5  BERT - F. tune\\n no attn_h8  \\\n",
       "0                     0.788889                     0.772633   \n",
       "1                     0.727410                     0.723970   \n",
       "2                     0.827273                     0.760791   \n",
       "3                     0.705027                     0.683605   \n",
       "4                     0.666934                     0.694825   \n",
       "5                     0.781818                     0.673316   \n",
       "6                     0.732008                     0.728627   \n",
       "7                     0.716421                     0.663476   \n",
       "8                     0.738078                     0.618391   \n",
       "9                     0.741734                     0.754088   \n",
       "\n",
       "   BERT - F. tune\\n /w attn_l2  BERT - F. tune\\n /w attn_m5  \\\n",
       "0                     0.867783                     0.852963   \n",
       "1                     0.895635                     0.822415   \n",
       "2                     0.908442                     0.891845   \n",
       "3                     0.947447                     0.820934   \n",
       "4                     0.912215                     0.852446   \n",
       "5                     0.888199                     0.868717   \n",
       "6                     0.842083                     0.822325   \n",
       "7                     0.898143                     0.833531   \n",
       "8                     0.912965                     0.842137   \n",
       "9                     0.880580                     0.813686   \n",
       "\n",
       "   BERT - F. tune\\n /w attn_h8  \n",
       "0                     0.816481  \n",
       "1                     0.770202  \n",
       "2                     0.808496  \n",
       "3                     0.780249  \n",
       "4                     0.753932  \n",
       "5                     0.833333  \n",
       "6                     0.770980  \n",
       "7                     0.783784  \n",
       "8                     0.809195  \n",
       "9                     0.782647  \n",
       "\n",
       "[10 rows x 33 columns]"
      ]
     },
     "execution_count": 168,
     "metadata": {},
     "output_type": "execute_result"
    }
   ],
   "source": [
    "scr_rocauc"
   ]
  },
  {
   "cell_type": "code",
   "execution_count": 169,
   "metadata": {},
   "outputs": [
    {
     "data": {
      "text/plain": [
       "((0.8683457967294389, 0.8382924627225504, 0.8983991307363274),\n",
       " (0.8953492910434928, 0.8748996973607301, 0.9157988847262555))"
      ]
     },
     "execution_count": 169,
     "metadata": {},
     "output_type": "execute_result"
    }
   ],
   "source": [
    "ci(elmo_scr_rocauc_ft_wa_l2), ci(bert_scr_rocauc_ft_wa_l2)"
   ]
  },
  {
   "cell_type": "code",
   "execution_count": 170,
   "metadata": {},
   "outputs": [
    {
     "data": {
      "text/plain": [
       "Ttest_indResult(statistic=-1.6804571210077466, pvalue=0.11013935558493154)"
      ]
     },
     "execution_count": 170,
     "metadata": {},
     "output_type": "execute_result"
    }
   ],
   "source": [
    "ttest_ind(elmo_scr_rocauc_ft_wa_l2, bert_scr_rocauc_ft_wa_l2)"
   ]
  },
  {
   "cell_type": "code",
   "execution_count": 171,
   "metadata": {},
   "outputs": [
    {
     "data": {
      "text/plain": [
       "ELMo - F. tune\\n no attn_l2    [0.858, 0.828, 0.887]\n",
       "ELMo - F. tune\\n /w attn_l2    [0.868, 0.838, 0.898]\n",
       "BERT - F. tune\\n no attn_l2    [0.806, 0.763, 0.849]\n",
       "BERT - F. tune\\n /w attn_l2    [0.895, 0.875, 0.916]\n",
       "dtype: object"
      ]
     },
     "execution_count": 171,
     "metadata": {},
     "output_type": "execute_result"
    }
   ],
   "source": [
    "scr_rocauc[['ELMo - F. tune\\n no attn_l2', 'ELMo - F. tune\\n /w attn_l2', \n",
    "            'BERT - F. tune\\n no attn_l2', 'BERT - F. tune\\n /w attn_l2', ]]\\\n",
    ".apply(lambda col:[round(x, 3)for x in ci(col)], axis=0)"
   ]
  },
  {
   "cell_type": "code",
   "execution_count": 172,
   "metadata": {},
   "outputs": [
    {
     "data": {
      "text/plain": [
       "((0.8103251394932981, 0.7870139680588035, 0.8336363109277927),\n",
       " (0.842099832361286, 0.8243909973502784, 0.8598086673722937))"
      ]
     },
     "execution_count": 172,
     "metadata": {},
     "output_type": "execute_result"
    }
   ],
   "source": [
    "ci(elmo_scr_rocauc_ft_wa_m5), ci(bert_scr_rocauc_ft_wa_m5)"
   ]
  },
  {
   "cell_type": "code",
   "execution_count": 173,
   "metadata": {},
   "outputs": [
    {
     "data": {
      "text/plain": [
       "Ttest_indResult(statistic=-2.4553323789597252, pvalue=0.0244722941871455)"
      ]
     },
     "execution_count": 173,
     "metadata": {},
     "output_type": "execute_result"
    }
   ],
   "source": [
    "ttest_ind(elmo_scr_rocauc_ft_wa_m5, bert_scr_rocauc_ft_wa_m5)"
   ]
  },
  {
   "cell_type": "code",
   "execution_count": 174,
   "metadata": {},
   "outputs": [
    {
     "data": {
      "text/plain": [
       "ELMo - F. tune\\n no attn_m5    [0.806, 0.784, 0.827]\n",
       "ELMo - F. tune\\n /w attn_m5     [0.81, 0.787, 0.834]\n",
       "BERT - F. tune\\n no attn_m5     [0.743, 0.71, 0.775]\n",
       "BERT - F. tune\\n /w attn_m5     [0.842, 0.824, 0.86]\n",
       "dtype: object"
      ]
     },
     "execution_count": 174,
     "metadata": {},
     "output_type": "execute_result"
    }
   ],
   "source": [
    "scr_rocauc[['ELMo - F. tune\\n no attn_m5', 'ELMo - F. tune\\n /w attn_m5', \n",
    "            'BERT - F. tune\\n no attn_m5', 'BERT - F. tune\\n /w attn_m5', ]]\\\n",
    ".apply(lambda col:[round(x, 3)for x in ci(col)], axis=0)"
   ]
  },
  {
   "cell_type": "code",
   "execution_count": 175,
   "metadata": {},
   "outputs": [
    {
     "data": {
      "text/plain": [
       "((0.7781242048786607, 0.7488881697706484, 0.8073602399866731),\n",
       " (0.7909299791485852, 0.7732084185531876, 0.8086515397439829))"
      ]
     },
     "execution_count": 175,
     "metadata": {},
     "output_type": "execute_result"
    }
   ],
   "source": [
    "ci(elmo_scr_rocauc_ft_wa_h8), ci(bert_scr_rocauc_ft_wa_h8)"
   ]
  },
  {
   "cell_type": "code",
   "execution_count": 176,
   "metadata": {},
   "outputs": [
    {
     "data": {
      "text/plain": [
       "Ttest_indResult(statistic=-0.8473417694981501, pvalue=0.4079305000968415)"
      ]
     },
     "execution_count": 176,
     "metadata": {},
     "output_type": "execute_result"
    }
   ],
   "source": [
    "ttest_ind(elmo_scr_rocauc_ft_wa_h8, bert_scr_rocauc_ft_wa_h8)"
   ]
  },
  {
   "cell_type": "code",
   "execution_count": 177,
   "metadata": {},
   "outputs": [
    {
     "data": {
      "text/plain": [
       "ELMo - F. tune\\n no attn_h8    [0.775, 0.748, 0.802]\n",
       "ELMo - F. tune\\n /w attn_h8    [0.778, 0.749, 0.807]\n",
       "BERT - F. tune\\n no attn_h8    [0.707, 0.672, 0.743]\n",
       "BERT - F. tune\\n /w attn_h8    [0.791, 0.773, 0.809]\n",
       "dtype: object"
      ]
     },
     "execution_count": 177,
     "metadata": {},
     "output_type": "execute_result"
    }
   ],
   "source": [
    "scr_rocauc[['ELMo - F. tune\\n no attn_h8', 'ELMo - F. tune\\n /w attn_h8', \n",
    "            'BERT - F. tune\\n no attn_h8', 'BERT - F. tune\\n /w attn_h8', ]]\\\n",
    ".apply(lambda col:[round(x, 3)for x in ci(col)], axis=0)"
   ]
  },
  {
   "cell_type": "code",
   "execution_count": null,
   "metadata": {},
   "outputs": [],
   "source": []
  },
  {
   "cell_type": "code",
   "execution_count": 178,
   "metadata": {},
   "outputs": [],
   "source": [
    "tt_rmse = scr_rmse[['Baseline\\n - dummy', 'Baseline\\n - BoW', 'Baseline\\n - SentLen', \n",
    "                                     'ELMo - F. tune\\n no attn', 'ELMo - F. tune\\n /w attn', \n",
    "                                     'BERT - F. tune\\n no attn', 'BERT - F. tune\\n /w attn', ]]\n",
    "tt_rmse.columns = [x+\"_1-rmse\" for x in list(tt_rmse.columns)]\n",
    "tt_rmse = pd.melt(tt_rmse)\n",
    "tt_rmse['value'] = 1-tt_rmse['value']"
   ]
  },
  {
   "cell_type": "code",
   "execution_count": 179,
   "metadata": {},
   "outputs": [],
   "source": [
    "tt_l2 = pd.melt(scr_rocauc[['Baseline\\n - dummy_l2',  'Baseline\\n - BoW_l2', 'Baseline\\n - SentLen_l2',\n",
    "                                     'ELMo - F. tune\\n no attn_l2', 'ELMo - F. tune\\n /w attn_l2', \n",
    "                                     'BERT - F. tune\\n no attn_l2', 'BERT - F. tune\\n /w attn_l2', ]])\n",
    "tt_h8 = pd.melt(scr_rocauc[['Baseline\\n - dummy_h8', 'Baseline\\n - BoW_h8', 'Baseline\\n - SentLen_h8',\n",
    "                                     'ELMo - F. tune\\n no attn_h8', 'ELMo - F. tune\\n /w attn_h8', \n",
    "                                     'BERT - F. tune\\n no attn_h8', 'BERT - F. tune\\n /w attn_h8', ]])\n",
    "tt_m5 = pd.melt(scr_rocauc[['Baseline\\n - dummy_m5', 'Baseline\\n - BoW_m5', 'Baseline\\n - SentLen_m5',\n",
    "                                     'ELMo - F. tune\\n no attn_m5', 'ELMo - F. tune\\n /w attn_m5', \n",
    "                                     'BERT - F. tune\\n no attn_m5', 'BERT - F. tune\\n /w attn_m5', ]])\n",
    "\n",
    "tt_bws = pd.concat([tt_rmse, tt_l2, tt_h8, tt_m5], axis=0)\n",
    "# tt = tt_l2"
   ]
  },
  {
   "cell_type": "code",
   "execution_count": 180,
   "metadata": {},
   "outputs": [],
   "source": [
    "tt_bws['category'] = tt_bws['variable'].apply(lambda x:x.split('\\n')[0])\n",
    "tt_bws['models'] = tt_bws['variable'].apply(lambda x:x.split('\\n')[0] + x.split('\\n')[-1].split('_')[0])\n",
    "tt_bws['score_type'] = tt_bws['variable'].apply(lambda x:x.split('\\n')[-1].split('_')[1])"
   ]
  },
  {
   "cell_type": "code",
   "execution_count": 181,
   "metadata": {},
   "outputs": [
    {
     "data": {
      "text/plain": [
       "<matplotlib.legend.Legend at 0x7fa8f5f57710>"
      ]
     },
     "execution_count": 181,
     "metadata": {},
     "output_type": "execute_result"
    },
    {
     "data": {
      "image/png": "[encoded data removed]",
      "text/plain": [
       "<Figure size 864x216 with 1 Axes>"
      ]
     },
     "metadata": {
      "image/png": {
       "height": 222,
       "width": 796
      },
      "needs_background": "light"
     },
     "output_type": "display_data"
    },
    {
     "data": {
      "image/png": "[encoded data removed]",
      "text/plain": [
       "<Figure size 431.125x360 with 1 Axes>"
      ]
     },
     "metadata": {
      "image/png": {
       "height": 351,
       "width": 419
      },
      "needs_background": "light"
     },
     "output_type": "display_data"
    }
   ],
   "source": [
    "# TODO: baseline split by model type; ELMo&BERT by +ATT\n",
    "\n",
    "fig, ax = plt.subplots(figsize=(12,3))\n",
    "sns.catplot(x='models', y='value', hue='score_type',  hue_order=['1-rmse','l2', 'm5', 'h8'],\n",
    "                  kind=\"bar\", palette=\"muted\",\n",
    "                  data=tt_bws, ax=ax)\n",
    "# ax.set_xticklabels(['dummy', 'SentLen', 'BoW',\n",
    "#            'ELMo', 'ELMo\\n+Att',\n",
    "#            'BERT', 'BERT\\n+Att'])\n",
    "ax.set_ylim(0.48, 1)\n",
    "ax.set_xticklabels(['Base:Dummy', 'Base:Bow', 'Base:SentLen',\n",
    "           'ELMo', 'ELMo\\n+Att',\n",
    "           'BERT', 'BERT\\n+Att'])\n",
    "ax.legend(loc='center left', bbox_to_anchor=(1, 0.5))"
   ]
  },
  {
   "cell_type": "code",
   "execution_count": 182,
   "metadata": {},
   "outputs": [
    {
     "data": {
      "text/plain": [
       "<matplotlib.legend.Legend at 0x7fa8f5e1a7f0>"
      ]
     },
     "execution_count": 182,
     "metadata": {},
     "output_type": "execute_result"
    },
    {
     "data": {
      "image/png": "[encoded data removed]",
      "text/plain": [
       "<Figure size 864x216 with 1 Axes>"
      ]
     },
     "metadata": {
      "image/png": {
       "height": 211,
       "width": 872
      },
      "needs_background": "light"
     },
     "output_type": "display_data"
    },
    {
     "data": {
      "image/png": "[encoded data removed]",
      "text/plain": [
       "<Figure size 505.984x360 with 1 Axes>"
      ]
     },
     "metadata": {
      "image/png": {
       "height": 351,
       "width": 484
      },
      "needs_background": "light"
     },
     "output_type": "display_data"
    }
   ],
   "source": [
    "# TODO: baseline split by model type; ELMo&BERT by +ATT\n",
    "\n",
    "fig, ax = plt.subplots(figsize=(12,3))\n",
    "sns.catplot(x='score_type', y='value', hue='models',\n",
    "            kind=\"bar\", palette=\"muted\",\n",
    "            data=tt_bws, \n",
    "            ax=ax, legend_out=True)\n",
    "# ax.set_xticklabels(['dummy', 'SentLen', 'BoW',\n",
    "#            'ELMo', 'ELMo\\n+Att',\n",
    "#            'BERT', 'BERT\\n+Att'])\n",
    "ax.set_ylim(0.48, 1)\n",
    "ax.set_xticklabels(['1-RMSE', 'Bottom 20% Info', '50:50', 'Top 20% Informativeness'])\n",
    "ax.legend(loc='center left', bbox_to_anchor=(1, 0.5))"
   ]
  },
  {
   "cell_type": "code",
   "execution_count": 183,
   "metadata": {},
   "outputs": [],
   "source": [
    "tt_l2 = pd.melt(scr_rocauc[['Baseline\\n - dummy_l2',  'Baseline\\n - BoW_l2', 'Baseline\\n - SentLen_l2',\n",
    "                                     'ELMo - F. tune\\n no attn_l2', 'ELMo - F. tune\\n /w attn_l2', \n",
    "                                     'BERT - F. tune\\n no attn_l2', 'BERT - F. tune\\n /w attn_l2', ]])\n",
    "tt_h8 = pd.melt(scr_rocauc[['Baseline\\n - dummy_h8', 'Baseline\\n - BoW_h8', 'Baseline\\n - SentLen_h8',\n",
    "                                     'ELMo - F. tune\\n no attn_h8', 'ELMo - F. tune\\n /w attn_h8', \n",
    "                                     'BERT - F. tune\\n no attn_h8', 'BERT - F. tune\\n /w attn_h8', ]])\n",
    "tt_m5 = pd.melt(scr_rocauc[['Baseline\\n - dummy_m5', 'Baseline\\n - BoW_m5', 'Baseline\\n - SentLen_m5',\n",
    "                                     'ELMo - F. tune\\n no attn_m5', 'ELMo - F. tune\\n /w attn_m5', \n",
    "                                     'BERT - F. tune\\n no attn_m5', 'BERT - F. tune\\n /w attn_m5', ]])\n",
    "\n",
    "tt_bws2 = pd.concat([tt_l2, tt_h8, tt_m5], axis=0)\n",
    "# tt = tt_l2"
   ]
  },
  {
   "cell_type": "code",
   "execution_count": 184,
   "metadata": {},
   "outputs": [],
   "source": [
    "tt_bws2['category'] = tt_bws2['variable'].apply(lambda x:x.split('\\n')[0])\n",
    "tt_bws2['models'] = tt_bws2['variable'].apply(lambda x:x.split('\\n')[0] + x.split('\\n')[-1].split('_')[0])\n",
    "tt_bws2['score_type'] = tt_bws2['variable'].apply(lambda x:x.split('\\n')[-1].split('_')[1])"
   ]
  },
  {
   "cell_type": "code",
   "execution_count": null,
   "metadata": {},
   "outputs": [],
   "source": []
  },
  {
   "cell_type": "code",
   "execution_count": 193,
   "metadata": {},
   "outputs": [],
   "source": [
    "muted_pallete = sns.color_palette('colorblind')"
   ]
  },
  {
   "cell_type": "code",
   "execution_count": 194,
   "metadata": {},
   "outputs": [
    {
     "data": {
      "text/plain": [
       "[(0.00392156862745098, 0.45098039215686275, 0.6980392156862745),\n",
       " (0.8705882352941177, 0.5607843137254902, 0.0196078431372549),\n",
       " (0.00784313725490196, 0.6196078431372549, 0.45098039215686275),\n",
       " (0.8, 0.47058823529411764, 0.7372549019607844),\n",
       " (0.792156862745098, 0.5686274509803921, 0.3803921568627451),\n",
       " (0.5803921568627451, 0.5803921568627451, 0.5803921568627451),\n",
       " (0.9254901960784314, 0.8823529411764706, 0.2)]"
      ]
     },
     "execution_count": 194,
     "metadata": {},
     "output_type": "execute_result"
    }
   ],
   "source": [
    "[muted_pallete[i] for i in [0,1,2,  4,5,  7,8]]"
   ]
  },
  {
   "cell_type": "code",
   "execution_count": 196,
   "metadata": {},
   "outputs": [
    {
     "data": {
      "image/png": "[encoded data removed]",
      "text/plain": [
       "<Figure size 1728x216 with 1 Axes>"
      ]
     },
     "metadata": {
      "image/png": {
       "height": 268,
       "width": 1413
      },
      "needs_background": "light"
     },
     "output_type": "display_data"
    },
    {
     "data": {
      "image/png": "[encoded data removed]",
      "text/plain": [
       "<Figure size 505.984x360 with 1 Axes>"
      ]
     },
     "metadata": {
      "image/png": {
       "height": 351,
       "width": 484
      },
      "needs_background": "light"
     },
     "output_type": "display_data"
    }
   ],
   "source": [
    "# TODO: baseline split by model type; ELMo&BERT by +ATT\n",
    "fig, ax = plt.subplots(figsize=(24,3))\n",
    "sns.catplot(x='score_type', y='value', hue='models',\n",
    "            kind=\"bar\", palette=[muted_pallete[i] for i in [0,1,2,  4,5,  7,8]], #palette=\"muted\",\n",
    "            data=tt_bws2, \n",
    "            ax=ax, legend_out=True)\n",
    "# ax.set_xticklabels(['dummy', 'SentLen', 'BoW',\n",
    "#            'ELMo', 'ELMo\\n+Att',\n",
    "#            'BERT', 'BERT\\n+Att'])\n",
    "ax.set_ylim(0.48, 1)\n",
    "\n",
    "# hatches = ['-', '-', '-', '-', '-', '-', '-', '-', '-',\n",
    "#            '//', '//', '//', '//', '//', '//',\n",
    "#            '+', '+', '+', '+', '+', '+']\n",
    "# for i, bar in enumerate(ax.patches):\n",
    "#     bar.set_hatch(hatches[i])\n",
    "    \n",
    "handles, _ = ax.get_legend_handles_labels()\n",
    "ax.legend(handles=handles, loc='center left', bbox_to_anchor=(0.55, 1.1), \n",
    "          facecolor='white', framealpha=1.0,\n",
    "          ncol=3, fontsize=20,\n",
    "          labels=['Base: Avg', 'Base: BoW', 'Base: Length',\n",
    "                  'ELMo', 'ELMo+Att',\n",
    "                  'BERT', 'BERT+Att'])\n",
    "\n",
    "ax.spines['right'].set_visible(False)\n",
    "ax.spines['top'].set_visible(False)\n",
    "\n",
    "[ytick.label.set_fontsize(17) for ytick in ax.yaxis.get_major_ticks()]\n",
    "ax.set_ylabel(\"ROCAUC\", fontsize=20)\n",
    "\n",
    "ax.set_xlabel(\"\")\n",
    "ax.set_xticklabels(['Bottom 20% Infomative', '50:50', 'Top 20% Infomative'], fontsize=20)\n",
    "\n",
    "fig.savefig(\"result1_2_summary_wider.pdf\", dpi=300, bbox_inches = 'tight')"
   ]
  },
  {
   "cell_type": "code",
   "execution_count": 313,
   "metadata": {},
   "outputs": [
    {
     "data": {
      "text/plain": [
       "Text(0.5,1,'BWS Score')"
      ]
     },
     "execution_count": 313,
     "metadata": {},
     "output_type": "execute_result"
    },
    {
     "data": {
      "image/png": "[encoded data removed]",
      "text/plain": [
       "<Figure size 864x432 with 2 Axes>"
      ]
     },
     "metadata": {
      "image/png": {
       "height": 386,
       "width": 708
      },
      "needs_background": "light"
     },
     "output_type": "display_data"
    },
    {
     "data": {
      "image/png": "[encoded data removed]",
      "text/plain": [
       "<Figure size 505.984x360 with 1 Axes>"
      ]
     },
     "metadata": {
      "image/png": {
       "height": 351,
       "width": 484
      },
      "needs_background": "light"
     },
     "output_type": "display_data"
    },
    {
     "data": {
      "image/png": "[encoded data removed]",
      "text/plain": [
       "<Figure size 505.984x360 with 1 Axes>"
      ]
     },
     "metadata": {
      "image/png": {
       "height": 351,
       "width": 484
      },
      "needs_background": "light"
     },
     "output_type": "display_data"
    }
   ],
   "source": [
    "%config InlineBackend.figure_format = 'retina'\n",
    "# TODO: baseline split by model type; ELMo&BERT by +ATT\n",
    "\n",
    "fig, ax = plt.subplots(2, 1, figsize=(12,6))\n",
    "sns.catplot(x='score_type', y='value', hue='models',\n",
    "            kind=\"bar\", palette=\"muted\",\n",
    "            data=tt_glv, \n",
    "            ax=ax[0])\n",
    "sns.catplot(x='score_type', y='value', hue='models',\n",
    "            kind=\"bar\", palette=\"muted\",\n",
    "            data=tt_bws, \n",
    "            ax=ax[1])\n",
    "\n",
    "for axx in ax:\n",
    "    axx.set_ylim(0.48, 1)\n",
    "    axx.set_xticklabels(['1-RMSE', 'Low 20%', '50:50', 'High 20%'])\n",
    "    handles, _ = axx.get_legend_handles_labels()\n",
    "    axx.legend(handles=handles, loc='center left', bbox_to_anchor=(0.5, 0.8), \n",
    "               facecolor='white', framealpha=1.0,\n",
    "               ncol=3,  \n",
    "               labels=['Base: Avg.', 'Base: BoW', 'Base: SentLen',\n",
    "                       'ELMo', 'ELMo + Att',\n",
    "                       'BERT', 'BERT + Att'])\n",
    "    axx.spines['right'].set_visible(False)\n",
    "    axx.spines['top'].set_visible(False)\n",
    "    axx.set_ylabel(\"\")\n",
    "ax[1].legend_.remove() \n",
    "\n",
    "ax[0].set_xlabel(\"\")\n",
    "ax[1].set_xlabel(\"Score Type\")\n",
    "\n",
    "ax[0].set_title(\"Semantic Density Score\")\n",
    "ax[1].set_title(\"BWS Score\")\n",
    "\n",
    "# fig.savefig(\"result1_2_summary.png\", dpi=300)"
   ]
  },
  {
   "cell_type": "code",
   "execution_count": 314,
   "metadata": {},
   "outputs": [
    {
     "data": {
      "text/plain": [
       "Baseline\\n - dummy          [0.315, 0.304, 0.326]\n",
       "Baseline\\n - SentLen        [0.308, 0.298, 0.319]\n",
       "Baseline\\n - BoW            [0.321, 0.311, 0.331]\n",
       "ELMo - F. tune\\n no attn     [0.179, 0.17, 0.188]\n",
       "ELMo - F. tune\\n /w attn    [0.166, 0.159, 0.173]\n",
       "BERT - F. tune\\n no attn     [0.201, 0.192, 0.21]\n",
       "BERT - F. tune\\n /w attn    [0.154, 0.146, 0.162]\n",
       "dtype: object"
      ]
     },
     "execution_count": 314,
     "metadata": {},
     "output_type": "execute_result"
    }
   ],
   "source": [
    "pd.concat(\n",
    "    [scr_rmse.filter(regex=\"Base\").apply(lambda col:[round(x, 3)for x in ci(col)], axis=0),\n",
    "     scr_rmse.filter(regex=\"F. tune\").apply(lambda col:[round(x, 3)for x in ci(col)], axis=0)], axis=0)"
   ]
  },
  {
   "cell_type": "code",
   "execution_count": 315,
   "metadata": {},
   "outputs": [
    {
     "data": {
      "text/plain": [
       "Baseline\\n - dummy_l2                [0.5, 0.5, 0.5]\n",
       "Baseline\\n - BoW_l2            [0.638, 0.587, 0.689]\n",
       "Baseline\\n - SentLen_l2        [0.781, 0.762, 0.799]\n",
       "ELMo - F. tune\\n no attn_l2    [0.858, 0.828, 0.887]\n",
       "ELMo - F. tune\\n /w attn_l2    [0.868, 0.838, 0.898]\n",
       "BERT - F. tune\\n no attn_l2    [0.806, 0.763, 0.849]\n",
       "BERT - F. tune\\n /w attn_l2    [0.895, 0.875, 0.916]\n",
       "dtype: object"
      ]
     },
     "execution_count": 315,
     "metadata": {},
     "output_type": "execute_result"
    }
   ],
   "source": [
    "pd.concat([\n",
    "    scr_rocauc[['Baseline\\n - dummy_l2', 'Baseline\\n - BoW_l2', 'Baseline\\n - SentLen_l2']]\\\n",
    "    .apply(lambda col:[round(x, 3)for x in ci(col)], axis=0),\n",
    "    scr_rocauc[['ELMo - F. tune\\n no attn_l2', 'ELMo - F. tune\\n /w attn_l2', \n",
    "                'BERT - F. tune\\n no attn_l2', 'BERT - F. tune\\n /w attn_l2', ]]\\\n",
    "    .apply(lambda col:[round(x, 3)for x in ci(col)], axis=0)])"
   ]
  },
  {
   "cell_type": "code",
   "execution_count": 316,
   "metadata": {},
   "outputs": [
    {
     "data": {
      "text/plain": [
       "Baseline\\n - dummy_m5                [0.5, 0.5, 0.5]\n",
       "Baseline\\n - BoW_m5            [0.594, 0.542, 0.646]\n",
       "Baseline\\n - SentLen_m5        [0.755, 0.736, 0.775]\n",
       "ELMo - F. tune\\n no attn_m5    [0.806, 0.784, 0.827]\n",
       "ELMo - F. tune\\n /w attn_m5     [0.81, 0.787, 0.834]\n",
       "BERT - F. tune\\n no attn_m5     [0.743, 0.71, 0.775]\n",
       "BERT - F. tune\\n /w attn_m5     [0.842, 0.824, 0.86]\n",
       "dtype: object"
      ]
     },
     "execution_count": 316,
     "metadata": {},
     "output_type": "execute_result"
    }
   ],
   "source": [
    "pd.concat([\n",
    "    scr_rocauc[['Baseline\\n - dummy_m5', 'Baseline\\n - BoW_m5', 'Baseline\\n - SentLen_m5',]]\\\n",
    "    .apply(lambda col:[round(x, 3)for x in ci(col)], axis=0),\n",
    "    scr_rocauc[['ELMo - F. tune\\n no attn_m5', 'ELMo - F. tune\\n /w attn_m5', \n",
    "                'BERT - F. tune\\n no attn_m5', 'BERT - F. tune\\n /w attn_m5', ]]\\\n",
    "    .apply(lambda col:[round(x, 3)for x in ci(col)], axis=0)])"
   ]
  },
  {
   "cell_type": "code",
   "execution_count": 317,
   "metadata": {},
   "outputs": [
    {
     "data": {
      "text/plain": [
       "Baseline\\n - dummy_h8                [0.5, 0.5, 0.5]\n",
       "Baseline\\n - BoW_h8            [0.598, 0.552, 0.643]\n",
       "Baseline\\n - SentLen_h8        [0.749, 0.725, 0.773]\n",
       "ELMo - F. tune\\n no attn_h8    [0.775, 0.748, 0.802]\n",
       "ELMo - F. tune\\n /w attn_h8    [0.778, 0.749, 0.807]\n",
       "BERT - F. tune\\n no attn_h8    [0.707, 0.672, 0.743]\n",
       "BERT - F. tune\\n /w attn_h8    [0.791, 0.773, 0.809]\n",
       "dtype: object"
      ]
     },
     "execution_count": 317,
     "metadata": {},
     "output_type": "execute_result"
    }
   ],
   "source": [
    "pd.concat([\n",
    "    scr_rocauc[['Baseline\\n - dummy_h8', 'Baseline\\n - BoW_h8', 'Baseline\\n - SentLen_h8',]]\\\n",
    "    .apply(lambda col:[round(x, 3)for x in ci(col)], axis=0),\n",
    "    scr_rocauc[['ELMo - F. tune\\n no attn_h8', 'ELMo - F. tune\\n /w attn_h8', \n",
    "                'BERT - F. tune\\n no attn_h8', 'BERT - F. tune\\n /w attn_h8', ]]\\\n",
    "    .apply(lambda col:[round(x, 3)for x in ci(col)], axis=0)])"
   ]
  },
  {
   "cell_type": "code",
   "execution_count": null,
   "metadata": {},
   "outputs": [],
   "source": []
  }
 ],
 "metadata": {
  "kernelspec": {
   "display_name": "Python 3",
   "language": "python",
   "name": "python3"
  },
  "language_info": {
   "codemirror_mode": {
    "name": "ipython",
    "version": 3
   },
   "file_extension": ".py",
   "mimetype": "text/x-python",
   "name": "python",
   "nbconvert_exporter": "python",
   "pygments_lexer": "ipython3",
   "version": "3.6.7"
  }
 },
 "nbformat": 4,
 "nbformat_minor": 4
}
