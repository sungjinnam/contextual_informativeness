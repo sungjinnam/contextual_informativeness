{
 "cells": [
  {
   "cell_type": "markdown",
   "metadata": {},
   "source": [
    "# Setting up the modules "
   ]
  },
  {
   "cell_type": "code",
   "execution_count": 1,
   "metadata": {},
   "outputs": [],
   "source": [
    "# common libraries\n",
    "import sys, glob, random\n",
    "import pandas as pd\n",
    "import numpy as np\n",
    "import seaborn as sns\n",
    "import matplotlib.pyplot as plt\n",
    "import math"
   ]
  },
  {
   "cell_type": "code",
   "execution_count": 2,
   "metadata": {},
   "outputs": [],
   "source": [
    "# analysis related modules\n",
    "from scipy.stats import entropy, spearmanr\n",
    "from sklearn.preprocessing import MinMaxScaler, StandardScaler\n",
    "from sklearn.metrics import mean_absolute_error, r2_score\n",
    "from sklearn.model_selection import KFold, GroupKFold\n",
    "from collections import Counter"
   ]
  },
  {
   "cell_type": "code",
   "execution_count": 3,
   "metadata": {},
   "outputs": [
    {
     "name": "stderr",
     "output_type": "stream",
     "text": [
      "/home/sjnam/anaconda3/envs/infmtv_keras_gpu/lib/python3.6/site-packages/tensorflow/python/framework/dtypes.py:516: FutureWarning: Passing (type, 1) or '1type' as a synonym of type is deprecated; in a future version of numpy, it will be understood as (type, (1,)) / '(1,)type'.\n",
      "  _np_qint8 = np.dtype([(\"qint8\", np.int8, 1)])\n",
      "/home/sjnam/anaconda3/envs/infmtv_keras_gpu/lib/python3.6/site-packages/tensorflow/python/framework/dtypes.py:517: FutureWarning: Passing (type, 1) or '1type' as a synonym of type is deprecated; in a future version of numpy, it will be understood as (type, (1,)) / '(1,)type'.\n",
      "  _np_quint8 = np.dtype([(\"quint8\", np.uint8, 1)])\n",
      "/home/sjnam/anaconda3/envs/infmtv_keras_gpu/lib/python3.6/site-packages/tensorflow/python/framework/dtypes.py:518: FutureWarning: Passing (type, 1) or '1type' as a synonym of type is deprecated; in a future version of numpy, it will be understood as (type, (1,)) / '(1,)type'.\n",
      "  _np_qint16 = np.dtype([(\"qint16\", np.int16, 1)])\n",
      "/home/sjnam/anaconda3/envs/infmtv_keras_gpu/lib/python3.6/site-packages/tensorflow/python/framework/dtypes.py:519: FutureWarning: Passing (type, 1) or '1type' as a synonym of type is deprecated; in a future version of numpy, it will be understood as (type, (1,)) / '(1,)type'.\n",
      "  _np_quint16 = np.dtype([(\"quint16\", np.uint16, 1)])\n",
      "/home/sjnam/anaconda3/envs/infmtv_keras_gpu/lib/python3.6/site-packages/tensorflow/python/framework/dtypes.py:520: FutureWarning: Passing (type, 1) or '1type' as a synonym of type is deprecated; in a future version of numpy, it will be understood as (type, (1,)) / '(1,)type'.\n",
      "  _np_qint32 = np.dtype([(\"qint32\", np.int32, 1)])\n",
      "/home/sjnam/anaconda3/envs/infmtv_keras_gpu/lib/python3.6/site-packages/tensorflow/python/framework/dtypes.py:525: FutureWarning: Passing (type, 1) or '1type' as a synonym of type is deprecated; in a future version of numpy, it will be understood as (type, (1,)) / '(1,)type'.\n",
      "  np_resource = np.dtype([(\"resource\", np.ubyte, 1)])\n",
      "/home/sjnam/anaconda3/envs/infmtv_keras_gpu/lib/python3.6/site-packages/tensorboard/compat/tensorflow_stub/dtypes.py:541: FutureWarning: Passing (type, 1) or '1type' as a synonym of type is deprecated; in a future version of numpy, it will be understood as (type, (1,)) / '(1,)type'.\n",
      "  _np_qint8 = np.dtype([(\"qint8\", np.int8, 1)])\n",
      "/home/sjnam/anaconda3/envs/infmtv_keras_gpu/lib/python3.6/site-packages/tensorboard/compat/tensorflow_stub/dtypes.py:542: FutureWarning: Passing (type, 1) or '1type' as a synonym of type is deprecated; in a future version of numpy, it will be understood as (type, (1,)) / '(1,)type'.\n",
      "  _np_quint8 = np.dtype([(\"quint8\", np.uint8, 1)])\n",
      "/home/sjnam/anaconda3/envs/infmtv_keras_gpu/lib/python3.6/site-packages/tensorboard/compat/tensorflow_stub/dtypes.py:543: FutureWarning: Passing (type, 1) or '1type' as a synonym of type is deprecated; in a future version of numpy, it will be understood as (type, (1,)) / '(1,)type'.\n",
      "  _np_qint16 = np.dtype([(\"qint16\", np.int16, 1)])\n",
      "/home/sjnam/anaconda3/envs/infmtv_keras_gpu/lib/python3.6/site-packages/tensorboard/compat/tensorflow_stub/dtypes.py:544: FutureWarning: Passing (type, 1) or '1type' as a synonym of type is deprecated; in a future version of numpy, it will be understood as (type, (1,)) / '(1,)type'.\n",
      "  _np_quint16 = np.dtype([(\"quint16\", np.uint16, 1)])\n",
      "/home/sjnam/anaconda3/envs/infmtv_keras_gpu/lib/python3.6/site-packages/tensorboard/compat/tensorflow_stub/dtypes.py:545: FutureWarning: Passing (type, 1) or '1type' as a synonym of type is deprecated; in a future version of numpy, it will be understood as (type, (1,)) / '(1,)type'.\n",
      "  _np_qint32 = np.dtype([(\"qint32\", np.int32, 1)])\n",
      "/home/sjnam/anaconda3/envs/infmtv_keras_gpu/lib/python3.6/site-packages/tensorboard/compat/tensorflow_stub/dtypes.py:550: FutureWarning: Passing (type, 1) or '1type' as a synonym of type is deprecated; in a future version of numpy, it will be understood as (type, (1,)) / '(1,)type'.\n",
      "  np_resource = np.dtype([(\"resource\", np.ubyte, 1)])\n",
      "Using TensorFlow backend.\n"
     ]
    }
   ],
   "source": [
    "# keras modules\n",
    "import tensorflow as tf\n",
    "# from keras.models import load_model\n",
    "\n",
    "\n",
    "from keras.preprocessing.text import text_to_word_sequence, Tokenizer\n",
    "from keras.preprocessing.sequence import pad_sequences\n",
    "\n",
    "# from keras.utils import plot_model\n",
    "from tensorflow.keras import backend as K\n",
    "from tensorflow.keras import Model\n",
    "from tensorflow.keras.models import save_model, load_model\n",
    "from tensorflow.keras.utils import plot_model\n",
    "import keras_tqdm\n",
    "from livelossplot.keras import PlotLossesCallback"
   ]
  },
  {
   "cell_type": "code",
   "execution_count": 4,
   "metadata": {},
   "outputs": [],
   "source": [
    "from livelossplot.keras import PlotLossesCallback\n",
    "from tqdm import tqdm_notebook"
   ]
  },
  {
   "cell_type": "code",
   "execution_count": 5,
   "metadata": {},
   "outputs": [],
   "source": [
    "# custom layers from external files\n",
    "from layers.embeddings import ElmoLayer\n",
    "from layers.attention import AttentionLayer\n",
    "from models.build_models import build_model_elmo, build_model_elmo_kapelner, initialize_vars\n",
    "from models.train_models import train_elmomod_cv\n",
    "from utils.utils import *"
   ]
  },
  {
   "cell_type": "code",
   "execution_count": 6,
   "metadata": {},
   "outputs": [],
   "source": [
    "# # spacy for tokenizer\n",
    "# import spacy\n",
    "# from spacy.tokenizer import Tokenizer\n",
    "# # from spacy.lang.en import English"
   ]
  },
  {
   "cell_type": "code",
   "execution_count": 7,
   "metadata": {},
   "outputs": [],
   "source": [
    "# some option settings for Jupyter notebook and TF\n",
    "%load_ext autoreload\n",
    "%autoreload 2\n",
    "pd.set_option('display.max_colwidth', -1)\n",
    "tf.logging.set_verbosity(tf.logging.ERROR)"
   ]
  },
  {
   "cell_type": "markdown",
   "metadata": {
    "toc-hr-collapsed": false
   },
   "source": [
    "# import dataset "
   ]
  },
  {
   "cell_type": "code",
   "execution_count": 8,
   "metadata": {},
   "outputs": [],
   "source": [
    "sent_notarg = np.load(\"kapelner_sentences_notarg_elmo_nocut.npy.npz\", allow_pickle=True)\n",
    "#          sent_len=sentences_notarg[0], \n",
    "#          sentences_notarg=sentences_notarg[1:4], \n",
    "#          sentences_lex=sentences_notarg[4], \n",
    "#          sentences_score=sentences_score, \n",
    "#          targets=targets)"
   ]
  },
  {
   "cell_type": "code",
   "execution_count": 9,
   "metadata": {},
   "outputs": [],
   "source": [
    "sent_len=sent_notarg['sent_len']\n",
    "sentences_notarg=sent_notarg['sentences_notarg']\n",
    "sentences_lex=sent_notarg['sentences_lex']\n",
    "sentences_score=sent_notarg['sentences_score']\n",
    "targets=sent_notarg['targets']"
   ]
  },
  {
   "cell_type": "markdown",
   "metadata": {},
   "source": [
    "## lexical features"
   ]
  },
  {
   "cell_type": "code",
   "execution_count": 10,
   "metadata": {},
   "outputs": [],
   "source": [
    "# col_features = ['similar_1_10', 'collocation_1_10', 'count:target-word1', 'politeness_component', \n",
    "#                 'Kuperman AoA AW', 'Kuperman AoA CW', 'count:word1-target-word2', 'MRC Meaningfulness CW', \n",
    "#                 'num_times_target_exact_match', 'num_acronyms', 'repeated_content_lemmas_pronoun', 'Polit_GI', \n",
    "#                 'prob:word1-target-word2', 'prob:target-word1', 'All AWL Normed',  'MRC Meaningfulness AW', \n",
    "#                 'affect_friends_and_family_component', 'Positive_EmoLex', 'count:target', 'num_times_target_stem_match', \n",
    "#                 'SUBTLEXus Freq AW', 'Econ_GI', 'prob:word1-word2-target', 'BNC Written Bigram Proportion',\n",
    "#                 'Arousal_nwords', 'SUBTLEXus Range CW Log', 'BNC Written Trigram Proportion', 'disjunctions',\n",
    "#                 'Arousal', 'Brown Freq CW Log']"
   ]
  },
  {
   "cell_type": "code",
   "execution_count": 11,
   "metadata": {},
   "outputs": [
    {
     "name": "stderr",
     "output_type": "stream",
     "text": [
      "/home/sjnam/anaconda3/envs/infmtv_keras_gpu/lib/python3.6/site-packages/sklearn/utils/validation.py:595: DataConversionWarning: Data with input dtype object was converted to float64 by MinMaxScaler.\n",
      "  warnings.warn(msg, DataConversionWarning)\n"
     ]
    }
   ],
   "source": [
    "# standard scaling lexical features\n",
    "std_scaler = MinMaxScaler()\n",
    "sentences_lex = std_scaler.fit_transform(sentences_lex)"
   ]
  },
  {
   "cell_type": "markdown",
   "metadata": {},
   "source": [
    "## consolidate"
   ]
  },
  {
   "cell_type": "code",
   "execution_count": 12,
   "metadata": {},
   "outputs": [
    {
     "data": {
      "text/plain": [
       "<matplotlib.axes._subplots.AxesSubplot at 0x7f4b0b135ac8>"
      ]
     },
     "execution_count": 12,
     "metadata": {},
     "output_type": "execute_result"
    },
    {
     "data": {
      "image/png": "[encoded data removed]",
      "text/plain": [
       "<Figure size 432x288 with 1 Axes>"
      ]
     },
     "metadata": {
      "needs_background": "light"
     },
     "output_type": "display_data"
    }
   ],
   "source": [
    "sns.kdeplot(sentences_score)"
   ]
  },
  {
   "cell_type": "markdown",
   "metadata": {
    "colab_type": "text",
    "id": "l4rgsjFnxP3U",
    "toc-hr-collapsed": false
   },
   "source": [
    "# ELMo models"
   ]
  },
  {
   "cell_type": "code",
   "execution_count": 13,
   "metadata": {},
   "outputs": [],
   "source": [
    "# some constants\n",
    "RDM_SEED = 1\n",
    "K_FOLDS = 10          # in the Kapelner et al.2018 paper: using 10-fold CV, based on target word grouping\n",
    "\n",
    "MAX_SEQ_LEN = len(sentences_notarg[0][0])\n",
    "MAX_LEX_LEN = len(sentences_lex[0])\n",
    "# CUT_SEQ_LEN = 30\n",
    "\n",
    "_num_iter = 3   # based on the validation data: loss is not decreasing\n",
    "_batch_size = 16\n",
    "_lr = 1e-3"
   ]
  },
  {
   "cell_type": "markdown",
   "metadata": {},
   "source": [
    "## ELMo + Attention + lexical features - nocut sentences"
   ]
  },
  {
   "cell_type": "code",
   "execution_count": 15,
   "metadata": {},
   "outputs": [
    {
     "data": {
      "application/vnd.jupyter.widget-view+json": {
       "model_id": "7ddaa99842a040e58e36c4b15757e034",
       "version_major": 2,
       "version_minor": 0
      },
      "text/plain": [
       "HBox(children=(IntProgress(value=1, bar_style='info', max=1), HTML(value='')))"
      ]
     },
     "metadata": {},
     "output_type": "display_data"
    },
    {
     "data": {
      "application/vnd.jupyter.widget-view+json": {
       "model_id": "",
       "version_major": 2,
       "version_minor": 0
      },
      "text/plain": [
       "HBox(children=(IntProgress(value=0, description='Training', max=3, style=ProgressStyle(description_width='init…"
      ]
     },
     "metadata": {},
     "output_type": "display_data"
    },
    {
     "data": {
      "application/vnd.jupyter.widget-view+json": {
       "model_id": "f7dc172af4ce4376820dbb1049b7851b",
       "version_major": 2,
       "version_minor": 0
      },
      "text/plain": [
       "HBox(children=(IntProgress(value=0, description='Epoch 0', max=61047, style=ProgressStyle(description_width='i…"
      ]
     },
     "metadata": {},
     "output_type": "display_data"
    },
    {
     "name": "stdout",
     "output_type": "stream",
     "text": [
      "\n"
     ]
    },
    {
     "data": {
      "application/vnd.jupyter.widget-view+json": {
       "model_id": "935af0912bd745a4bab436187cdb3e9d",
       "version_major": 2,
       "version_minor": 0
      },
      "text/plain": [
       "HBox(children=(IntProgress(value=0, description='Epoch 1', max=61047, style=ProgressStyle(description_width='i…"
      ]
     },
     "metadata": {},
     "output_type": "display_data"
    },
    {
     "name": "stdout",
     "output_type": "stream",
     "text": [
      "\n"
     ]
    },
    {
     "data": {
      "application/vnd.jupyter.widget-view+json": {
       "model_id": "8c5a167374cd462f9009b9e9174e33d2",
       "version_major": 2,
       "version_minor": 0
      },
      "text/plain": [
       "HBox(children=(IntProgress(value=0, description='Epoch 2', max=61047, style=ProgressStyle(description_width='i…"
      ]
     },
     "metadata": {},
     "output_type": "display_data"
    },
    {
     "name": "stdout",
     "output_type": "stream",
     "text": [
      "\n"
     ]
    },
    {
     "data": {
      "application/vnd.jupyter.widget-view+json": {
       "model_id": "",
       "version_major": 2,
       "version_minor": 0
      },
      "text/plain": [
       "HBox(children=(IntProgress(value=0, description='Training', max=3, style=ProgressStyle(description_width='init…"
      ]
     },
     "metadata": {},
     "output_type": "display_data"
    },
    {
     "data": {
      "application/vnd.jupyter.widget-view+json": {
       "model_id": "d0fccdc12ed9460982ee7ec932bca3ac",
       "version_major": 2,
       "version_minor": 0
      },
      "text/plain": [
       "HBox(children=(IntProgress(value=0, description='Epoch 0', max=61048, style=ProgressStyle(description_width='i…"
      ]
     },
     "metadata": {},
     "output_type": "display_data"
    },
    {
     "name": "stdout",
     "output_type": "stream",
     "text": [
      "\n"
     ]
    },
    {
     "data": {
      "application/vnd.jupyter.widget-view+json": {
       "model_id": "1b1b5547d67f4dda8ef7db164a37964d",
       "version_major": 2,
       "version_minor": 0
      },
      "text/plain": [
       "HBox(children=(IntProgress(value=0, description='Epoch 1', max=61048, style=ProgressStyle(description_width='i…"
      ]
     },
     "metadata": {},
     "output_type": "display_data"
    },
    {
     "name": "stdout",
     "output_type": "stream",
     "text": [
      "\n"
     ]
    },
    {
     "data": {
      "application/vnd.jupyter.widget-view+json": {
       "model_id": "2f7fd9de2c8f48129956967490ecba3a",
       "version_major": 2,
       "version_minor": 0
      },
      "text/plain": [
       "HBox(children=(IntProgress(value=0, description='Epoch 2', max=61048, style=ProgressStyle(description_width='i…"
      ]
     },
     "metadata": {},
     "output_type": "display_data"
    },
    {
     "name": "stdout",
     "output_type": "stream",
     "text": [
      "\n"
     ]
    },
    {
     "data": {
      "application/vnd.jupyter.widget-view+json": {
       "model_id": "",
       "version_major": 2,
       "version_minor": 0
      },
      "text/plain": [
       "HBox(children=(IntProgress(value=0, description='Training', max=3, style=ProgressStyle(description_width='init…"
      ]
     },
     "metadata": {},
     "output_type": "display_data"
    },
    {
     "data": {
      "application/vnd.jupyter.widget-view+json": {
       "model_id": "163537cd767449f1b3db9278b0015668",
       "version_major": 2,
       "version_minor": 0
      },
      "text/plain": [
       "HBox(children=(IntProgress(value=0, description='Epoch 0', max=61048, style=ProgressStyle(description_width='i…"
      ]
     },
     "metadata": {},
     "output_type": "display_data"
    },
    {
     "name": "stdout",
     "output_type": "stream",
     "text": [
      "\n"
     ]
    },
    {
     "data": {
      "application/vnd.jupyter.widget-view+json": {
       "model_id": "6934f3c5cb2d410790d4f4bdcfcc91c7",
       "version_major": 2,
       "version_minor": 0
      },
      "text/plain": [
       "HBox(children=(IntProgress(value=0, description='Epoch 1', max=61048, style=ProgressStyle(description_width='i…"
      ]
     },
     "metadata": {},
     "output_type": "display_data"
    },
    {
     "name": "stdout",
     "output_type": "stream",
     "text": [
      "\n"
     ]
    },
    {
     "data": {
      "application/vnd.jupyter.widget-view+json": {
       "model_id": "ed9773e0824e44b1b64943fcdef6460c",
       "version_major": 2,
       "version_minor": 0
      },
      "text/plain": [
       "HBox(children=(IntProgress(value=0, description='Epoch 2', max=61048, style=ProgressStyle(description_width='i…"
      ]
     },
     "metadata": {},
     "output_type": "display_data"
    },
    {
     "name": "stdout",
     "output_type": "stream",
     "text": [
      "\n"
     ]
    },
    {
     "data": {
      "application/vnd.jupyter.widget-view+json": {
       "model_id": "",
       "version_major": 2,
       "version_minor": 0
      },
      "text/plain": [
       "HBox(children=(IntProgress(value=0, description='Training', max=3, style=ProgressStyle(description_width='init…"
      ]
     },
     "metadata": {},
     "output_type": "display_data"
    },
    {
     "data": {
      "application/vnd.jupyter.widget-view+json": {
       "model_id": "204e4c56938e4d2ca9fa2f86ff600009",
       "version_major": 2,
       "version_minor": 0
      },
      "text/plain": [
       "HBox(children=(IntProgress(value=0, description='Epoch 0', max=61048, style=ProgressStyle(description_width='i…"
      ]
     },
     "metadata": {},
     "output_type": "display_data"
    },
    {
     "name": "stdout",
     "output_type": "stream",
     "text": [
      "\n"
     ]
    },
    {
     "data": {
      "application/vnd.jupyter.widget-view+json": {
       "model_id": "9bba650a995d4cc398a76dbb325b5a4f",
       "version_major": 2,
       "version_minor": 0
      },
      "text/plain": [
       "HBox(children=(IntProgress(value=0, description='Epoch 1', max=61048, style=ProgressStyle(description_width='i…"
      ]
     },
     "metadata": {},
     "output_type": "display_data"
    },
    {
     "name": "stdout",
     "output_type": "stream",
     "text": [
      "\n"
     ]
    },
    {
     "data": {
      "application/vnd.jupyter.widget-view+json": {
       "model_id": "9501183909ef4345bbfe95c97069f54a",
       "version_major": 2,
       "version_minor": 0
      },
      "text/plain": [
       "HBox(children=(IntProgress(value=0, description='Epoch 2', max=61048, style=ProgressStyle(description_width='i…"
      ]
     },
     "metadata": {},
     "output_type": "display_data"
    },
    {
     "name": "stdout",
     "output_type": "stream",
     "text": [
      "\n"
     ]
    },
    {
     "data": {
      "application/vnd.jupyter.widget-view+json": {
       "model_id": "",
       "version_major": 2,
       "version_minor": 0
      },
      "text/plain": [
       "HBox(children=(IntProgress(value=0, description='Training', max=3, style=ProgressStyle(description_width='init…"
      ]
     },
     "metadata": {},
     "output_type": "display_data"
    },
    {
     "data": {
      "application/vnd.jupyter.widget-view+json": {
       "model_id": "f788b11f51044f689280c224146b086f",
       "version_major": 2,
       "version_minor": 0
      },
      "text/plain": [
       "HBox(children=(IntProgress(value=0, description='Epoch 0', max=61048, style=ProgressStyle(description_width='i…"
      ]
     },
     "metadata": {},
     "output_type": "display_data"
    },
    {
     "name": "stdout",
     "output_type": "stream",
     "text": [
      "\n"
     ]
    },
    {
     "data": {
      "application/vnd.jupyter.widget-view+json": {
       "model_id": "20a9317ac17f4e6683f9b11a66e9f665",
       "version_major": 2,
       "version_minor": 0
      },
      "text/plain": [
       "HBox(children=(IntProgress(value=0, description='Epoch 1', max=61048, style=ProgressStyle(description_width='i…"
      ]
     },
     "metadata": {},
     "output_type": "display_data"
    },
    {
     "name": "stdout",
     "output_type": "stream",
     "text": [
      "\n"
     ]
    },
    {
     "data": {
      "application/vnd.jupyter.widget-view+json": {
       "model_id": "7f484e36a05a4036a3d12b4e5b772f10",
       "version_major": 2,
       "version_minor": 0
      },
      "text/plain": [
       "HBox(children=(IntProgress(value=0, description='Epoch 2', max=61048, style=ProgressStyle(description_width='i…"
      ]
     },
     "metadata": {},
     "output_type": "display_data"
    },
    {
     "name": "stdout",
     "output_type": "stream",
     "text": [
      "\n"
     ]
    },
    {
     "data": {
      "application/vnd.jupyter.widget-view+json": {
       "model_id": "",
       "version_major": 2,
       "version_minor": 0
      },
      "text/plain": [
       "HBox(children=(IntProgress(value=0, description='Training', max=3, style=ProgressStyle(description_width='init…"
      ]
     },
     "metadata": {},
     "output_type": "display_data"
    },
    {
     "data": {
      "application/vnd.jupyter.widget-view+json": {
       "model_id": "f9807e9f28144ae88f4b26137a3b9984",
       "version_major": 2,
       "version_minor": 0
      },
      "text/plain": [
       "HBox(children=(IntProgress(value=0, description='Epoch 0', max=61048, style=ProgressStyle(description_width='i…"
      ]
     },
     "metadata": {},
     "output_type": "display_data"
    },
    {
     "name": "stdout",
     "output_type": "stream",
     "text": [
      "\n"
     ]
    },
    {
     "data": {
      "application/vnd.jupyter.widget-view+json": {
       "model_id": "faa6cda1649c4edca103c1b7e4fbe7bf",
       "version_major": 2,
       "version_minor": 0
      },
      "text/plain": [
       "HBox(children=(IntProgress(value=0, description='Epoch 1', max=61048, style=ProgressStyle(description_width='i…"
      ]
     },
     "metadata": {},
     "output_type": "display_data"
    },
    {
     "name": "stdout",
     "output_type": "stream",
     "text": [
      "\n"
     ]
    },
    {
     "data": {
      "application/vnd.jupyter.widget-view+json": {
       "model_id": "3a4638f6c41f46a593cca68942481a70",
       "version_major": 2,
       "version_minor": 0
      },
      "text/plain": [
       "HBox(children=(IntProgress(value=0, description='Epoch 2', max=61048, style=ProgressStyle(description_width='i…"
      ]
     },
     "metadata": {},
     "output_type": "display_data"
    },
    {
     "name": "stdout",
     "output_type": "stream",
     "text": [
      "\n"
     ]
    },
    {
     "data": {
      "application/vnd.jupyter.widget-view+json": {
       "model_id": "",
       "version_major": 2,
       "version_minor": 0
      },
      "text/plain": [
       "HBox(children=(IntProgress(value=0, description='Training', max=3, style=ProgressStyle(description_width='init…"
      ]
     },
     "metadata": {},
     "output_type": "display_data"
    },
    {
     "data": {
      "application/vnd.jupyter.widget-view+json": {
       "model_id": "fb49a1fe95a14fd5a0c641b077341c40",
       "version_major": 2,
       "version_minor": 0
      },
      "text/plain": [
       "HBox(children=(IntProgress(value=0, description='Epoch 0', max=61048, style=ProgressStyle(description_width='i…"
      ]
     },
     "metadata": {},
     "output_type": "display_data"
    },
    {
     "name": "stdout",
     "output_type": "stream",
     "text": [
      "\n"
     ]
    },
    {
     "data": {
      "application/vnd.jupyter.widget-view+json": {
       "model_id": "6b3c7abf1276428282e7c7699e67f24e",
       "version_major": 2,
       "version_minor": 0
      },
      "text/plain": [
       "HBox(children=(IntProgress(value=0, description='Epoch 1', max=61048, style=ProgressStyle(description_width='i…"
      ]
     },
     "metadata": {},
     "output_type": "display_data"
    },
    {
     "name": "stdout",
     "output_type": "stream",
     "text": [
      "\n"
     ]
    },
    {
     "data": {
      "application/vnd.jupyter.widget-view+json": {
       "model_id": "a03de4c026d341dea2207021408ae4b1",
       "version_major": 2,
       "version_minor": 0
      },
      "text/plain": [
       "HBox(children=(IntProgress(value=0, description='Epoch 2', max=61048, style=ProgressStyle(description_width='i…"
      ]
     },
     "metadata": {},
     "output_type": "display_data"
    },
    {
     "name": "stdout",
     "output_type": "stream",
     "text": [
      "\n"
     ]
    },
    {
     "data": {
      "application/vnd.jupyter.widget-view+json": {
       "model_id": "",
       "version_major": 2,
       "version_minor": 0
      },
      "text/plain": [
       "HBox(children=(IntProgress(value=0, description='Training', max=3, style=ProgressStyle(description_width='init…"
      ]
     },
     "metadata": {},
     "output_type": "display_data"
    },
    {
     "data": {
      "application/vnd.jupyter.widget-view+json": {
       "model_id": "ad5544247612464abaa0519b80233717",
       "version_major": 2,
       "version_minor": 0
      },
      "text/plain": [
       "HBox(children=(IntProgress(value=0, description='Epoch 0', max=61048, style=ProgressStyle(description_width='i…"
      ]
     },
     "metadata": {},
     "output_type": "display_data"
    },
    {
     "name": "stdout",
     "output_type": "stream",
     "text": [
      "\n"
     ]
    },
    {
     "data": {
      "application/vnd.jupyter.widget-view+json": {
       "model_id": "6654421518e84eddba13114d96d6436c",
       "version_major": 2,
       "version_minor": 0
      },
      "text/plain": [
       "HBox(children=(IntProgress(value=0, description='Epoch 1', max=61048, style=ProgressStyle(description_width='i…"
      ]
     },
     "metadata": {},
     "output_type": "display_data"
    },
    {
     "name": "stdout",
     "output_type": "stream",
     "text": [
      "\n"
     ]
    },
    {
     "data": {
      "application/vnd.jupyter.widget-view+json": {
       "model_id": "3e1f10b03d7e449eb0ed9a8d0dabca54",
       "version_major": 2,
       "version_minor": 0
      },
      "text/plain": [
       "HBox(children=(IntProgress(value=0, description='Epoch 2', max=61048, style=ProgressStyle(description_width='i…"
      ]
     },
     "metadata": {},
     "output_type": "display_data"
    },
    {
     "name": "stdout",
     "output_type": "stream",
     "text": [
      "\n"
     ]
    },
    {
     "data": {
      "application/vnd.jupyter.widget-view+json": {
       "model_id": "",
       "version_major": 2,
       "version_minor": 0
      },
      "text/plain": [
       "HBox(children=(IntProgress(value=0, description='Training', max=3, style=ProgressStyle(description_width='init…"
      ]
     },
     "metadata": {},
     "output_type": "display_data"
    },
    {
     "data": {
      "application/vnd.jupyter.widget-view+json": {
       "model_id": "ae4e02ddf4ad4d90a863262df062ad7a",
       "version_major": 2,
       "version_minor": 0
      },
      "text/plain": [
       "HBox(children=(IntProgress(value=0, description='Epoch 0', max=61048, style=ProgressStyle(description_width='i…"
      ]
     },
     "metadata": {},
     "output_type": "display_data"
    },
    {
     "name": "stdout",
     "output_type": "stream",
     "text": [
      "\n"
     ]
    },
    {
     "data": {
      "application/vnd.jupyter.widget-view+json": {
       "model_id": "3c89f779674742c3a4c230bb33f49d18",
       "version_major": 2,
       "version_minor": 0
      },
      "text/plain": [
       "HBox(children=(IntProgress(value=0, description='Epoch 1', max=61048, style=ProgressStyle(description_width='i…"
      ]
     },
     "metadata": {},
     "output_type": "display_data"
    },
    {
     "name": "stdout",
     "output_type": "stream",
     "text": [
      "\n"
     ]
    },
    {
     "data": {
      "application/vnd.jupyter.widget-view+json": {
       "model_id": "e4a7e5c0a63d47bb9ccd6db5893aea1e",
       "version_major": 2,
       "version_minor": 0
      },
      "text/plain": [
       "HBox(children=(IntProgress(value=0, description='Epoch 2', max=61048, style=ProgressStyle(description_width='i…"
      ]
     },
     "metadata": {},
     "output_type": "display_data"
    },
    {
     "name": "stdout",
     "output_type": "stream",
     "text": [
      "\n"
     ]
    },
    {
     "data": {
      "application/vnd.jupyter.widget-view+json": {
       "model_id": "",
       "version_major": 2,
       "version_minor": 0
      },
      "text/plain": [
       "HBox(children=(IntProgress(value=0, description='Training', max=3, style=ProgressStyle(description_width='init…"
      ]
     },
     "metadata": {},
     "output_type": "display_data"
    },
    {
     "data": {
      "application/vnd.jupyter.widget-view+json": {
       "model_id": "85dab3dfc7a1431ca5b919ca4d96333d",
       "version_major": 2,
       "version_minor": 0
      },
      "text/plain": [
       "HBox(children=(IntProgress(value=0, description='Epoch 0', max=61048, style=ProgressStyle(description_width='i…"
      ]
     },
     "metadata": {},
     "output_type": "display_data"
    },
    {
     "name": "stdout",
     "output_type": "stream",
     "text": [
      "\n"
     ]
    },
    {
     "data": {
      "application/vnd.jupyter.widget-view+json": {
       "model_id": "b42884eec2c343948b285c58232a25f1",
       "version_major": 2,
       "version_minor": 0
      },
      "text/plain": [
       "HBox(children=(IntProgress(value=0, description='Epoch 1', max=61048, style=ProgressStyle(description_width='i…"
      ]
     },
     "metadata": {},
     "output_type": "display_data"
    },
    {
     "name": "stdout",
     "output_type": "stream",
     "text": [
      "\n"
     ]
    },
    {
     "data": {
      "application/vnd.jupyter.widget-view+json": {
       "model_id": "74cc7714e81f432c96dcebb90b776993",
       "version_major": 2,
       "version_minor": 0
      },
      "text/plain": [
       "HBox(children=(IntProgress(value=0, description='Epoch 2', max=61048, style=ProgressStyle(description_width='i…"
      ]
     },
     "metadata": {},
     "output_type": "display_data"
    },
    {
     "name": "stdout",
     "output_type": "stream",
     "text": [
      "\n",
      "\n"
     ]
    },
    {
     "data": {
      "image/png": "[encoded data removed]",
      "text/plain": [
       "<Figure size 432x288 with 1 Axes>"
      ]
     },
     "metadata": {
      "needs_background": "light"
     },
     "output_type": "display_data"
    }
   ],
   "source": [
    "gkf = GroupKFold(n_splits=K_FOLDS)\n",
    "gkf_split = gkf.split(sentences_notarg[0], groups=targets)\n",
    "\n",
    "fold_idx = 0\n",
    "for train_idx, test_idx in tqdm_notebook(gkf_split):\n",
    "    sentences_notarg_train = [sent_len[train_idx]]+[sent[train_idx] for sent in sentences_notarg] + [sentences_lex[train_idx]]\n",
    "    sentences_notarg_test  = [sent_len[test_idx]]+[sent[test_idx] for sent in sentences_notarg] + [sentences_lex[test_idx]]\n",
    "\n",
    "    sentences_score_train = np.array(sentences_score)[train_idx]\n",
    "    sentences_score_test  = np.array(sentences_score)[test_idx]    \n",
    "    \n",
    "#     tt_idx = 100\n",
    "#     sentences_notarg_train = [sent[:tt_idx] for sent in sentences_notarg_train]\n",
    "#     sentences_notarg_test = [sent[:tt_idx] for sent in sentences_notarg_test]\n",
    "#     sentences_score_train = sentences_score_train[:tt_idx]\n",
    "#     sentences_score_test = sentences_score_test[:tt_idx]\n",
    "\n",
    "    \n",
    "    K.clear_session()\n",
    "    sess = tf.Session()\n",
    "    plot_losses = PlotLossesCallback()\n",
    "\n",
    "    # preparing\n",
    "    model_elmo = build_model_elmo_kapelner(MAX_SEQ_LEN, MAX_LEX_LEN, finetune_emb=True, attention_layer=True, sep_cntx_targ=False, lr=_lr)\n",
    "    initialize_vars(sess)\n",
    "    \n",
    "    # model training\n",
    "    model_elmo.fit(x=sentences_notarg_train, y=sentences_score_train, \n",
    "         epochs=_num_iter, batch_size=_batch_size, \n",
    "         #validation_split=0.10, shuffle=True,\n",
    "         verbose=0, \n",
    "         callbacks=[keras_tqdm.TQDMNotebookCallback(leave_inner=True, leave_outer=False)]) \n",
    "                    # plot_losses])\n",
    "    model_elmo.save_weights(\"./model_weights_kapelner/elmo/1emb/model_elmo_notarg_wtattn_nocut_lex_cv\"+str(fold_idx)+\".tf\")\n",
    "#     model_elmo.load_weights(\"./model_weights_kapelner/elmo/1emb/model_elmo_notarg_wtattn_nocut_lex_cv\"+str(fold_idx)+\".tf\")\n",
    "    \n",
    "    # prediction\n",
    "    pred_test = np.reshape(model_elmo.predict(sentences_notarg_test, batch_size=_batch_size), -1)    \n",
    "    np.save(\"./model_predict_kapelner/elmo/1emb/preds_elmo_notarg_wtattn_nocut_cv_lex_\"+str(fold_idx)+\".npy\", pred_test)\n",
    "    \n",
    "    fold_idx += 1\n",
    "        \n",
    "    sns.scatterplot(pred_test, sentences_score_test)"
   ]
  },
  {
   "cell_type": "code",
   "execution_count": 16,
   "metadata": {},
   "outputs": [],
   "source": [
    "elmo_nocut_lex_pred = [np.load(\"./model_predict_kapelner/elmo/1emb/preds_elmo_notarg_wtattn_nocut_cv_lex_\"+str(fold_idx)+\".npy\") for fold_idx in range(K_FOLDS)]"
   ]
  },
  {
   "cell_type": "code",
   "execution_count": 17,
   "metadata": {},
   "outputs": [],
   "source": [
    "gkf = GroupKFold(n_splits=K_FOLDS)\n",
    "gkf_split = gkf.split(sentences_notarg[0], groups=targets)\n",
    "\n",
    "sentences_nocut_tests = [np.array(sentences_score)[test_idx] for train_idx, test_idx in gkf_split]"
   ]
  },
  {
   "cell_type": "code",
   "execution_count": 18,
   "metadata": {},
   "outputs": [
    {
     "data": {
      "text/plain": [
       "(0.22375570615059726, 0.15927722525416924, 0.2882341870470253)"
      ]
     },
     "execution_count": 18,
     "metadata": {},
     "output_type": "execute_result"
    }
   ],
   "source": [
    "ci([r2_score(trues, preds) for preds, trues in zip(elmo_nocut_lex_pred, sentences_nocut_tests)])"
   ]
  },
  {
   "cell_type": "code",
   "execution_count": 19,
   "metadata": {},
   "outputs": [
    {
     "data": {
      "text/plain": [
       "(0.5051885043381706, 0.49275281323882664, 0.5176241954375146)"
      ]
     },
     "execution_count": 19,
     "metadata": {},
     "output_type": "execute_result"
    }
   ],
   "source": [
    "ci([spearmanr(trues, preds)[0] for preds, trues in zip(elmo_nocut_lex_pred, sentences_nocut_tests)])"
   ]
  },
  {
   "cell_type": "code",
   "execution_count": 20,
   "metadata": {},
   "outputs": [
    {
     "data": {
      "text/plain": [
       "(0.7251238213800356, 0.7187626801194232, 0.731484962640648)"
      ]
     },
     "execution_count": 20,
     "metadata": {},
     "output_type": "execute_result"
    }
   ],
   "source": [
    "# classification: top 20% sentences\n",
    "ci([rocauc(trues, preds, .80, \"high\") for preds, trues in zip(elmo_nocut_lex_pred, sentences_nocut_tests)])"
   ]
  },
  {
   "cell_type": "code",
   "execution_count": 21,
   "metadata": {},
   "outputs": [
    {
     "data": {
      "text/plain": [
       "(0.8072317314763927, 0.7922469276135224, 0.822216535339263)"
      ]
     },
     "execution_count": 21,
     "metadata": {},
     "output_type": "execute_result"
    }
   ],
   "source": [
    "# classification: bottom 15% sentences\n",
    "ci([1-rocauc(trues, preds, .15, \"low\") for preds, trues in zip(elmo_nocut_lex_pred, sentences_nocut_tests)])"
   ]
  },
  {
   "cell_type": "code",
   "execution_count": 22,
   "metadata": {},
   "outputs": [
    {
     "data": {
      "text/plain": [
       "(0.7462415972667186, 0.7388425551143789, 0.7536406394190582)"
      ]
     },
     "execution_count": 22,
     "metadata": {},
     "output_type": "execute_result"
    }
   ],
   "source": [
    "# classification: 50:50\n",
    "ci([rocauc(trues, preds, .50, \"high\") for preds, trues in zip(elmo_nocut_lex_pred, sentences_nocut_tests)])"
   ]
  },
  {
   "cell_type": "code",
   "execution_count": null,
   "metadata": {},
   "outputs": [],
   "source": []
  },
  {
   "cell_type": "code",
   "execution_count": 23,
   "metadata": {},
   "outputs": [
    {
     "data": {
      "text/plain": [
       "((0.152, 0.146, 0.159),\n",
       " (0.789, 0.779, 0.799),\n",
       " (0.746, 0.739, 0.754),\n",
       " (0.725, 0.719, 0.731))"
      ]
     },
     "execution_count": 23,
     "metadata": {},
     "output_type": "execute_result"
    }
   ],
   "source": [
    "(ci([rmse(trues, preds) for preds, trues in zip(elmo_nocut_lex_pred, sentences_nocut_tests)], digits=3) ,\n",
    " ci([1-rocauc(trues, preds,.20, \"low\") for preds, trues in zip(elmo_nocut_lex_pred, sentences_nocut_tests)], digits=3),\n",
    " ci([rocauc(trues, preds, .50, \"high\") for preds, trues in zip(elmo_nocut_lex_pred, sentences_nocut_tests)], digits=3),\n",
    " ci([rocauc(trues, preds,  .80, \"high\") for preds, trues in zip(elmo_nocut_lex_pred, sentences_nocut_tests)], digits=3))"
   ]
  },
  {
   "cell_type": "markdown",
   "metadata": {},
   "source": [
    "## ELMo + Attention - nocut sentences"
   ]
  },
  {
   "cell_type": "code",
   "execution_count": null,
   "metadata": {},
   "outputs": [
    {
     "data": {
      "application/vnd.jupyter.widget-view+json": {
       "model_id": "47c994883ba740799926ee3a7cb7a2c4",
       "version_major": 2,
       "version_minor": 0
      },
      "text/plain": [
       "HBox(children=(IntProgress(value=1, bar_style='info', max=1), HTML(value='')))"
      ]
     },
     "metadata": {},
     "output_type": "display_data"
    },
    {
     "data": {
      "application/vnd.jupyter.widget-view+json": {
       "model_id": "91ce2f8506514bb4af992a6566e1e7fc",
       "version_major": 2,
       "version_minor": 0
      },
      "text/plain": [
       "HBox(children=(IntProgress(value=0, description='Training', max=3, style=ProgressStyle(description_width='init…"
      ]
     },
     "metadata": {},
     "output_type": "display_data"
    },
    {
     "data": {
      "application/vnd.jupyter.widget-view+json": {
       "model_id": "59be3e7a9c8c426a974016c970a39778",
       "version_major": 2,
       "version_minor": 0
      },
      "text/plain": [
       "HBox(children=(IntProgress(value=0, description='Epoch 0', max=61047, style=ProgressStyle(description_width='i…"
      ]
     },
     "metadata": {},
     "output_type": "display_data"
    },
    {
     "name": "stdout",
     "output_type": "stream",
     "text": [
      "\n"
     ]
    },
    {
     "data": {
      "application/vnd.jupyter.widget-view+json": {
       "model_id": "e03ba4b5eb194ddb92474da66168be35",
       "version_major": 2,
       "version_minor": 0
      },
      "text/plain": [
       "HBox(children=(IntProgress(value=0, description='Epoch 1', max=61047, style=ProgressStyle(description_width='i…"
      ]
     },
     "metadata": {},
     "output_type": "display_data"
    },
    {
     "name": "stdout",
     "output_type": "stream",
     "text": [
      "\n"
     ]
    },
    {
     "data": {
      "application/vnd.jupyter.widget-view+json": {
       "model_id": "3e70587dd51d4861b99c7e6ebad2ade8",
       "version_major": 2,
       "version_minor": 0
      },
      "text/plain": [
       "HBox(children=(IntProgress(value=0, description='Epoch 2', max=61047, style=ProgressStyle(description_width='i…"
      ]
     },
     "metadata": {},
     "output_type": "display_data"
    }
   ],
   "source": [
    "gkf = GroupKFold(n_splits=K_FOLDS)\n",
    "gkf_split = gkf.split(sentences_notarg[0], groups=targets)\n",
    "\n",
    "fold_idx = 0\n",
    "for train_idx, test_idx in tqdm_notebook(gkf_split):\n",
    "    sentences_notarg_train = [sent_len[train_idx]]+[sent[train_idx] for sent in sentences_notarg]\n",
    "    sentences_notarg_test  = [sent_len[test_idx]]+[sent[test_idx] for sent in sentences_notarg]\n",
    "\n",
    "    sentences_score_train = np.array(sentences_score)[train_idx]\n",
    "    sentences_score_test  = np.array(sentences_score)[test_idx]    \n",
    "    \n",
    "#     tt_idx = 5000\n",
    "#     sentences_notarg_train = [sent[:tt_idx] for sent in sentences_notarg_train]\n",
    "#     sentences_notarg_test = [sent[:tt_idx] for sent in sentences_notarg_test]\n",
    "#     sentences_score_train = sentences_score_train[:tt_idx]\n",
    "#     sentences_score_test = sentences_score_test[:tt_idx]\n",
    "\n",
    "\n",
    "    \n",
    "    K.clear_session()\n",
    "    sess = tf.Session()\n",
    "    plot_losses = PlotLossesCallback()\n",
    "\n",
    "    # preparing\n",
    "    model_elmo = build_model_elmo(MAX_SEQ_LEN, finetune_emb=True, attention_layer=True, sep_cntx_targ=False, lr=_lr)\n",
    "    initialize_vars(sess)\n",
    "    \n",
    "    # model training\n",
    "    model_elmo.fit(x=sentences_notarg_train, y=sentences_score_train, \n",
    "         epochs=_num_iter, batch_size=_batch_size, \n",
    "         #validation_split=0.10, shuffle=True,\n",
    "         verbose=0, \n",
    "         callbacks=[keras_tqdm.TQDMNotebookCallback(leave_inner=True, leave_outer=False)]) \n",
    "                    # plot_losses])\n",
    "    model_elmo.save_weights(\"./model_weights_kapelner/elmo/1emb/model_elmo_notarg_wtattn_nocut_cv\"+str(fold_idx)+\".tf\")\n",
    "    \n",
    "    # prediction\n",
    "    pred_test = np.reshape(model_elmo.predict(sentences_notarg_test, batch_size=_batch_size), -1)    \n",
    "    np.save(\"./model_predict_kapelner/elmo/1emb/preds_elmo_notarg_wtattn_nocut_cv\"+str(fold_idx)+\".npy\", pred_test)\n",
    "    \n",
    "    fold_idx += 1\n",
    "    \n",
    "    sns.scatterplot(pred_test, sentences_score_test)"
   ]
  },
  {
   "cell_type": "code",
   "execution_count": null,
   "metadata": {},
   "outputs": [],
   "source": []
  },
  {
   "cell_type": "code",
   "execution_count": 28,
   "metadata": {},
   "outputs": [],
   "source": [
    "elmo_nocut_pred = [np.load(\"./model_predict_kapelner/elmo/1emb/preds_elmo_notarg_wtattn_nocut_cv\"+str(fold_idx)+\".npy\") for fold_idx in range(K_FOLDS)]"
   ]
  },
  {
   "cell_type": "code",
   "execution_count": 29,
   "metadata": {},
   "outputs": [],
   "source": [
    "gkf = GroupKFold(n_splits=K_FOLDS)\n",
    "gkf_split = gkf.split(sentences_notarg[0], groups=targets)\n",
    "\n",
    "sentences_nocut_tests = [np.array(sentences_score)[test_idx] for train_idx, test_idx in gkf_split]"
   ]
  },
  {
   "cell_type": "code",
   "execution_count": 30,
   "metadata": {},
   "outputs": [
    {
     "data": {
      "text/plain": [
       "(0.22162224339348394, 0.19359522395038142, 0.24964926283658645)"
      ]
     },
     "execution_count": 30,
     "metadata": {},
     "output_type": "execute_result"
    }
   ],
   "source": [
    "ci([r2_score(trues, preds) for preds, trues in zip(elmo_nocut_pred, sentences_nocut_tests)])"
   ]
  },
  {
   "cell_type": "code",
   "execution_count": 31,
   "metadata": {},
   "outputs": [
    {
     "data": {
      "text/plain": [
       "(0.4648866907579062, 0.4498312555465394, 0.47994212596927294)"
      ]
     },
     "execution_count": 31,
     "metadata": {},
     "output_type": "execute_result"
    }
   ],
   "source": [
    "ci([spearmanr(trues, preds)[0] for preds, trues in zip(elmo_nocut_pred, sentences_nocut_tests)])"
   ]
  },
  {
   "cell_type": "code",
   "execution_count": 32,
   "metadata": {},
   "outputs": [
    {
     "data": {
      "text/plain": [
       "(0.7013383970316331, 0.6893377678554459, 0.7133390262078204)"
      ]
     },
     "execution_count": 32,
     "metadata": {},
     "output_type": "execute_result"
    }
   ],
   "source": [
    "# classification: top 20% sentences\n",
    "ci([rocauc(trues, preds, .80, \"high\") for preds, trues in zip(elmo_nocut_pred, sentences_nocut_tests)])"
   ]
  },
  {
   "cell_type": "code",
   "execution_count": 33,
   "metadata": {},
   "outputs": [
    {
     "data": {
      "text/plain": [
       "(0.7905497868835817, 0.7753600200119769, 0.8057395537551865)"
      ]
     },
     "execution_count": 33,
     "metadata": {},
     "output_type": "execute_result"
    }
   ],
   "source": [
    "# classification: bottom 15% sentences\n",
    "ci([1-rocauc(trues, preds, .15, \"low\") for preds, trues in zip(elmo_nocut_pred, sentences_nocut_tests)])"
   ]
  },
  {
   "cell_type": "code",
   "execution_count": 34,
   "metadata": {},
   "outputs": [
    {
     "data": {
      "text/plain": [
       "(0.7269765339437968, 0.7195974869322682, 0.7343555809553254)"
      ]
     },
     "execution_count": 34,
     "metadata": {},
     "output_type": "execute_result"
    }
   ],
   "source": [
    "# classification: 50:50\n",
    "ci([rocauc(trues, preds, .50, \"high\") for preds, trues in zip(elmo_nocut_pred, sentences_nocut_tests)])"
   ]
  },
  {
   "cell_type": "code",
   "execution_count": null,
   "metadata": {},
   "outputs": [],
   "source": []
  },
  {
   "cell_type": "code",
   "execution_count": 35,
   "metadata": {},
   "outputs": [
    {
     "data": {
      "text/plain": [
       "((0.153, 0.149, 0.156),\n",
       " (0.77, 0.76, 0.78),\n",
       " (0.727, 0.72, 0.734),\n",
       " (0.701, 0.689, 0.713))"
      ]
     },
     "execution_count": 35,
     "metadata": {},
     "output_type": "execute_result"
    }
   ],
   "source": [
    "(ci([rmse(trues, preds) for preds, trues in zip(elmo_nocut_pred, sentences_nocut_tests)], digits=3) ,\n",
    " ci([1-rocauc(trues, preds,.20, \"low\") for preds, trues in zip(elmo_nocut_pred, sentences_nocut_tests)], digits=3),\n",
    " ci([rocauc(trues, preds, .50, \"high\") for preds, trues in zip(elmo_nocut_pred, sentences_nocut_tests)], digits=3),\n",
    " ci([rocauc(trues, preds,  .80, \"high\") for preds, trues in zip(elmo_nocut_pred, sentences_nocut_tests)], digits=3))"
   ]
  },
  {
   "cell_type": "markdown",
   "metadata": {},
   "source": [
    "### full model for the downstream tasks"
   ]
  },
  {
   "cell_type": "markdown",
   "metadata": {},
   "source": [
    "### finetuning"
   ]
  },
  {
   "cell_type": "code",
   "execution_count": null,
   "metadata": {},
   "outputs": [],
   "source": [
    "K.clear_session()\n",
    "sess = tf.Session()\n",
    "\n",
    "model_elmo = build_model_elmo(MAX_SEQ_LEN, finetune_emb=True, attention_layer=True, sep_cntx_targ=False, lr=1e-3)\n",
    "initialize_vars(sess)\n",
    "model_elmo.fit(x=[sent_len]+[sent for sent in sentences_notarg], y=sentences_score, \n",
    "         epochs=_num_iter, batch_size=_batch_size, \n",
    "         verbose=0, \n",
    "         callbacks=[keras_tqdm.TQDMNotebookCallback(leave_inner=False, leave_outer=True)])\n",
    "model_elmo.save_weights(\"./model_weights_kapelner/elmo/1emb/model_elmo_notarg_wtattn_nocut_cv_full.tf\")\n",
    "\n"
   ]
  },
  {
   "cell_type": "markdown",
   "metadata": {},
   "source": [
    "### no tuning"
   ]
  },
  {
   "cell_type": "code",
   "execution_count": 14,
   "metadata": {},
   "outputs": [
    {
     "data": {
      "application/vnd.jupyter.widget-view+json": {
       "model_id": "daf04a97ee524bf888eada84944e3016",
       "version_major": 2,
       "version_minor": 0
      },
      "text/plain": [
       "HBox(children=(IntProgress(value=0, description='Training', max=3, style=ProgressStyle(description_width='init…"
      ]
     },
     "metadata": {},
     "output_type": "display_data"
    },
    {
     "data": {
      "application/vnd.jupyter.widget-view+json": {
       "model_id": "",
       "version_major": 2,
       "version_minor": 0
      },
      "text/plain": [
       "HBox(children=(IntProgress(value=0, description='Epoch 0', max=67831, style=ProgressStyle(description_width='i…"
      ]
     },
     "metadata": {},
     "output_type": "display_data"
    },
    {
     "data": {
      "application/vnd.jupyter.widget-view+json": {
       "model_id": "",
       "version_major": 2,
       "version_minor": 0
      },
      "text/plain": [
       "HBox(children=(IntProgress(value=0, description='Epoch 1', max=67831, style=ProgressStyle(description_width='i…"
      ]
     },
     "metadata": {},
     "output_type": "display_data"
    },
    {
     "data": {
      "application/vnd.jupyter.widget-view+json": {
       "model_id": "",
       "version_major": 2,
       "version_minor": 0
      },
      "text/plain": [
       "HBox(children=(IntProgress(value=0, description='Epoch 2', max=67831, style=ProgressStyle(description_width='i…"
      ]
     },
     "metadata": {},
     "output_type": "display_data"
    },
    {
     "name": "stdout",
     "output_type": "stream",
     "text": [
      "\n"
     ]
    }
   ],
   "source": [
    "K.clear_session()\n",
    "sess = tf.Session()\n",
    "\n",
    "model_elmo = build_model_elmo(MAX_SEQ_LEN, finetune_emb=False, attention_layer=True, sep_cntx_targ=False, lr=1e-3)\n",
    "initialize_vars(sess)\n",
    "model_elmo.fit(x=[sent_len]+[sent for sent in sentences_notarg], y=sentences_score, \n",
    "         epochs=_num_iter, batch_size=_batch_size, \n",
    "         verbose=0, \n",
    "         callbacks=[keras_tqdm.TQDMNotebookCallback(leave_inner=False, leave_outer=True)])\n",
    "model_elmo.save_weights(\"./model_weights_kapelner/elmo/1emb/model_elmo_notune_notarg_wtattn_nocut_cv_full.tf\")\n",
    "\n"
   ]
  },
  {
   "cell_type": "code",
   "execution_count": null,
   "metadata": {},
   "outputs": [],
   "source": []
  },
  {
   "cell_type": "code",
   "execution_count": null,
   "metadata": {},
   "outputs": [],
   "source": []
  },
  {
   "cell_type": "code",
   "execution_count": null,
   "metadata": {},
   "outputs": [],
   "source": []
  },
  {
   "cell_type": "code",
   "execution_count": null,
   "metadata": {},
   "outputs": [],
   "source": []
  },
  {
   "cell_type": "code",
   "execution_count": null,
   "metadata": {},
   "outputs": [],
   "source": []
  },
  {
   "cell_type": "code",
   "execution_count": null,
   "metadata": {},
   "outputs": [],
   "source": []
  },
  {
   "cell_type": "markdown",
   "metadata": {},
   "source": [
    "## ELMo only - nocut sentences; no attention block"
   ]
  },
  {
   "cell_type": "code",
   "execution_count": null,
   "metadata": {},
   "outputs": [],
   "source": [
    "gkf = GroupKFold(n_splits=K_FOLDS)\n",
    "gkf_split = gkf.split(sentences_notarg[0], groups=targets)\n",
    "\n",
    "fold_idx = 0\n",
    "for train_idx, test_idx in tqdm_notebook(gkf_split):\n",
    "    sentences_notarg_train = [sent_len[train_idx]]+[sent[train_idx] for sent in sentences_notarg]\n",
    "    sentences_notarg_test  = [sent_len[test_idx]]+[sent[test_idx] for sent in sentences_notarg]\n",
    "\n",
    "    sentences_score_train = np.array(sentences_score)[train_idx]\n",
    "    sentences_score_test  = np.array(sentences_score)[test_idx]    \n",
    "    \n",
    "#     tt_idx = 10000\n",
    "#     sentences_notarg_train = [sent[:tt_idx] for sent in sentences_notarg_train]\n",
    "#     sentences_notarg_test = [sent[:tt_idx] for sent in sentences_notarg_test]\n",
    "#     sentences_score_train = sentences_score_train[:tt_idx]\n",
    "#     sentences_score_test = sentences_score_test[:tt_idx]\n",
    "\n",
    "    \n",
    "    K.clear_session()\n",
    "    sess = tf.Session()\n",
    "    plot_losses = PlotLossesCallback()\n",
    "\n",
    "    # preparing\n",
    "    model_elmo = build_model_elmo(MAX_SEQ_LEN, finetune_emb=True, attention_layer=False, sep_cntx_targ=False, lr=_lr)\n",
    "    initialize_vars(sess)\n",
    "    \n",
    "    # model training\n",
    "    model_elmo.fit(x=sentences_notarg_train, y=sentences_score_train, \n",
    "         epochs=_num_iter, batch_size=_batch_size, \n",
    "         #validation_split=0.10, shuffle=True,\n",
    "         verbose=0, \n",
    "         callbacks=[keras_tqdm.TQDMNotebookCallback(leave_inner=True, leave_outer=False)]) \n",
    "                    # plot_losses])\n",
    "    model_elmo.save_weights(\"./model_weights_kapelner/elmo/1emb/model_elmo_notarg_noattn_nocut_cv\"+str(fold_idx)+\".tf\")\n",
    "    \n",
    "    # prediction\n",
    "    pred_test = np.reshape(model_elmo.predict(sentences_notarg_test, batch_size=_batch_size), -1)    \n",
    "    np.save(\"./model_predict_kapelner/elmo/1emb/preds_elmo_notarg_noattn_nocut_cv\"+str(fold_idx)+\".npy\", pred_test)\n",
    "    \n",
    "    fold_idx += 1\n",
    "    \n",
    "    sns.scatterplot(pred_test, sentences_score_test)"
   ]
  },
  {
   "cell_type": "code",
   "execution_count": 36,
   "metadata": {},
   "outputs": [],
   "source": [
    "elmo_nocut_pred = [np.load(\"./model_predict_kapelner/elmo/1emb/preds_elmo_notarg_noattn_nocut_cv\"+str(fold_idx)+\".npy\") for fold_idx in range(10)]"
   ]
  },
  {
   "cell_type": "code",
   "execution_count": 39,
   "metadata": {},
   "outputs": [],
   "source": [
    "gkf = GroupKFold(n_splits=K_FOLDS)\n",
    "gkf_split = gkf.split(sentences_notarg[0], groups=targets)\n",
    "\n",
    "sentences_nocut_tests = [np.array(sentences_score)[test_idx] for train_idx, test_idx in gkf_split]"
   ]
  },
  {
   "cell_type": "code",
   "execution_count": 40,
   "metadata": {},
   "outputs": [
    {
     "data": {
      "text/plain": [
       "(0.2262172092130475, 0.20234482021878994, 0.2500895982073051)"
      ]
     },
     "execution_count": 40,
     "metadata": {},
     "output_type": "execute_result"
    }
   ],
   "source": [
    "ci([r2_score(trues, preds) for preds, trues in zip(elmo_nocut_pred, sentences_nocut_tests)])"
   ]
  },
  {
   "cell_type": "code",
   "execution_count": 41,
   "metadata": {},
   "outputs": [
    {
     "data": {
      "text/plain": [
       "(0.4674771621186974, 0.45086379012928335, 0.4840905341081114)"
      ]
     },
     "execution_count": 41,
     "metadata": {},
     "output_type": "execute_result"
    }
   ],
   "source": [
    "ci([spearmanr(trues, preds)[0] for preds, trues in zip(elmo_nocut_pred, sentences_nocut_tests)])"
   ]
  },
  {
   "cell_type": "code",
   "execution_count": 42,
   "metadata": {},
   "outputs": [
    {
     "data": {
      "text/plain": [
       "(0.1522216669720148, 0.14923711453358426, 0.15520621941044535)"
      ]
     },
     "execution_count": 42,
     "metadata": {},
     "output_type": "execute_result"
    }
   ],
   "source": [
    "ci([rmse(trues, preds) for preds, trues in zip(elmo_nocut_pred, sentences_nocut_tests)])"
   ]
  },
  {
   "cell_type": "code",
   "execution_count": 43,
   "metadata": {},
   "outputs": [
    {
     "data": {
      "text/plain": [
       "(0.7054450086876763, 0.695996713441196, 0.7148933039341567)"
      ]
     },
     "execution_count": 43,
     "metadata": {},
     "output_type": "execute_result"
    }
   ],
   "source": [
    "# classification: top 20% sentences\n",
    "ci([rocauc(trues, preds, .80, \"high\") for preds, trues in zip(elmo_nocut_pred, sentences_nocut_tests)])"
   ]
  },
  {
   "cell_type": "code",
   "execution_count": 44,
   "metadata": {},
   "outputs": [
    {
     "data": {
      "text/plain": [
       "(0.7677316023516126, 0.7567387052225798, 0.7787244994806455)"
      ]
     },
     "execution_count": 44,
     "metadata": {},
     "output_type": "execute_result"
    }
   ],
   "source": [
    "# classification: bottom 15% sentences\n",
    "ci([1-rocauc(trues, preds, .20, \"low\") for preds, trues in zip(elmo_nocut_pred, sentences_nocut_tests)])"
   ]
  },
  {
   "cell_type": "code",
   "execution_count": 45,
   "metadata": {},
   "outputs": [
    {
     "data": {
      "text/plain": [
       "(0.728960441235825, 0.7205502607759668, 0.7373706216956832)"
      ]
     },
     "execution_count": 45,
     "metadata": {},
     "output_type": "execute_result"
    }
   ],
   "source": [
    "# classification: 50:50\n",
    "ci([rocauc(trues, preds, .50, \"high\") for preds, trues in zip(elmo_nocut_pred, sentences_nocut_tests)])"
   ]
  },
  {
   "cell_type": "code",
   "execution_count": null,
   "metadata": {},
   "outputs": [],
   "source": []
  },
  {
   "cell_type": "code",
   "execution_count": 46,
   "metadata": {},
   "outputs": [
    {
     "data": {
      "text/plain": [
       "((0.152, 0.149, 0.155),\n",
       " (0.768, 0.757, 0.779),\n",
       " (0.729, 0.721, 0.737),\n",
       " (0.705, 0.696, 0.715))"
      ]
     },
     "execution_count": 46,
     "metadata": {},
     "output_type": "execute_result"
    }
   ],
   "source": [
    "(ci([rmse(trues, preds) for preds, trues in zip(elmo_nocut_pred, sentences_nocut_tests)], digits=3) ,\n",
    " ci([1-rocauc(trues, preds,.20, \"low\") for preds, trues in zip(elmo_nocut_pred, sentences_nocut_tests)], digits=3),\n",
    " ci([rocauc(trues, preds, .50, \"high\") for preds, trues in zip(elmo_nocut_pred, sentences_nocut_tests)], digits=3),\n",
    " ci([rocauc(trues, preds,  .80, \"high\") for preds, trues in zip(elmo_nocut_pred, sentences_nocut_tests)], digits=3))"
   ]
  },
  {
   "cell_type": "code",
   "execution_count": null,
   "metadata": {},
   "outputs": [],
   "source": []
  },
  {
   "cell_type": "code",
   "execution_count": null,
   "metadata": {},
   "outputs": [],
   "source": []
  },
  {
   "cell_type": "code",
   "execution_count": null,
   "metadata": {},
   "outputs": [],
   "source": []
  },
  {
   "cell_type": "code",
   "execution_count": null,
   "metadata": {},
   "outputs": [],
   "source": []
  },
  {
   "cell_type": "code",
   "execution_count": null,
   "metadata": {},
   "outputs": [],
   "source": []
  },
  {
   "cell_type": "code",
   "execution_count": null,
   "metadata": {},
   "outputs": [],
   "source": []
  },
  {
   "cell_type": "code",
   "execution_count": null,
   "metadata": {},
   "outputs": [],
   "source": []
  }
 ],
 "metadata": {
  "kernelspec": {
   "display_name": "Python 3",
   "language": "python",
   "name": "python3"
  },
  "language_info": {
   "codemirror_mode": {
    "name": "ipython",
    "version": 3
   },
   "file_extension": ".py",
   "mimetype": "text/x-python",
   "name": "python",
   "nbconvert_exporter": "python",
   "pygments_lexer": "ipython3",
   "version": "3.6.7"
  }
 },
 "nbformat": 4,
 "nbformat_minor": 4
}
