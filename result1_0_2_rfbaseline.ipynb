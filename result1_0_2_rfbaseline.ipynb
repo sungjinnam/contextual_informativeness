{
 "cells": [
  {
   "cell_type": "code",
   "execution_count": 101,
   "metadata": {},
   "outputs": [],
   "source": [
    "import pandas as pd\n",
    "import numpy as np\n",
    "import seaborn as sns"
   ]
  },
  {
   "cell_type": "code",
   "execution_count": 73,
   "metadata": {},
   "outputs": [],
   "source": [
    "# analysis related modules\n",
    "from scipy.stats import entropy, spearmanr\n",
    "from sklearn.preprocessing import MinMaxScaler, StandardScaler\n",
    "from sklearn.metrics import mean_absolute_error, r2_score\n",
    "from sklearn.model_selection import KFold, GroupKFold\n",
    "from sklearn.ensemble import RandomForestRegressor\n",
    "from collections import Counter"
   ]
  },
  {
   "cell_type": "code",
   "execution_count": 74,
   "metadata": {},
   "outputs": [
    {
     "name": "stderr",
     "output_type": "stream",
     "text": [
      "Using TensorFlow backend.\n",
      "/home/sjnam/anaconda3/envs/infmtv_keras_gpu/lib/python3.6/site-packages/tensorflow/python/framework/dtypes.py:516: FutureWarning: Passing (type, 1) or '1type' as a synonym of type is deprecated; in a future version of numpy, it will be understood as (type, (1,)) / '(1,)type'.\n",
      "  _np_qint8 = np.dtype([(\"qint8\", np.int8, 1)])\n",
      "/home/sjnam/anaconda3/envs/infmtv_keras_gpu/lib/python3.6/site-packages/tensorflow/python/framework/dtypes.py:517: FutureWarning: Passing (type, 1) or '1type' as a synonym of type is deprecated; in a future version of numpy, it will be understood as (type, (1,)) / '(1,)type'.\n",
      "  _np_quint8 = np.dtype([(\"quint8\", np.uint8, 1)])\n",
      "/home/sjnam/anaconda3/envs/infmtv_keras_gpu/lib/python3.6/site-packages/tensorflow/python/framework/dtypes.py:518: FutureWarning: Passing (type, 1) or '1type' as a synonym of type is deprecated; in a future version of numpy, it will be understood as (type, (1,)) / '(1,)type'.\n",
      "  _np_qint16 = np.dtype([(\"qint16\", np.int16, 1)])\n",
      "/home/sjnam/anaconda3/envs/infmtv_keras_gpu/lib/python3.6/site-packages/tensorflow/python/framework/dtypes.py:519: FutureWarning: Passing (type, 1) or '1type' as a synonym of type is deprecated; in a future version of numpy, it will be understood as (type, (1,)) / '(1,)type'.\n",
      "  _np_quint16 = np.dtype([(\"quint16\", np.uint16, 1)])\n",
      "/home/sjnam/anaconda3/envs/infmtv_keras_gpu/lib/python3.6/site-packages/tensorflow/python/framework/dtypes.py:520: FutureWarning: Passing (type, 1) or '1type' as a synonym of type is deprecated; in a future version of numpy, it will be understood as (type, (1,)) / '(1,)type'.\n",
      "  _np_qint32 = np.dtype([(\"qint32\", np.int32, 1)])\n",
      "/home/sjnam/anaconda3/envs/infmtv_keras_gpu/lib/python3.6/site-packages/tensorflow/python/framework/dtypes.py:525: FutureWarning: Passing (type, 1) or '1type' as a synonym of type is deprecated; in a future version of numpy, it will be understood as (type, (1,)) / '(1,)type'.\n",
      "  np_resource = np.dtype([(\"resource\", np.ubyte, 1)])\n",
      "/home/sjnam/anaconda3/envs/infmtv_keras_gpu/lib/python3.6/site-packages/tensorboard/compat/tensorflow_stub/dtypes.py:541: FutureWarning: Passing (type, 1) or '1type' as a synonym of type is deprecated; in a future version of numpy, it will be understood as (type, (1,)) / '(1,)type'.\n",
      "  _np_qint8 = np.dtype([(\"qint8\", np.int8, 1)])\n",
      "/home/sjnam/anaconda3/envs/infmtv_keras_gpu/lib/python3.6/site-packages/tensorboard/compat/tensorflow_stub/dtypes.py:542: FutureWarning: Passing (type, 1) or '1type' as a synonym of type is deprecated; in a future version of numpy, it will be understood as (type, (1,)) / '(1,)type'.\n",
      "  _np_quint8 = np.dtype([(\"quint8\", np.uint8, 1)])\n",
      "/home/sjnam/anaconda3/envs/infmtv_keras_gpu/lib/python3.6/site-packages/tensorboard/compat/tensorflow_stub/dtypes.py:543: FutureWarning: Passing (type, 1) or '1type' as a synonym of type is deprecated; in a future version of numpy, it will be understood as (type, (1,)) / '(1,)type'.\n",
      "  _np_qint16 = np.dtype([(\"qint16\", np.int16, 1)])\n",
      "/home/sjnam/anaconda3/envs/infmtv_keras_gpu/lib/python3.6/site-packages/tensorboard/compat/tensorflow_stub/dtypes.py:544: FutureWarning: Passing (type, 1) or '1type' as a synonym of type is deprecated; in a future version of numpy, it will be understood as (type, (1,)) / '(1,)type'.\n",
      "  _np_quint16 = np.dtype([(\"quint16\", np.uint16, 1)])\n",
      "/home/sjnam/anaconda3/envs/infmtv_keras_gpu/lib/python3.6/site-packages/tensorboard/compat/tensorflow_stub/dtypes.py:545: FutureWarning: Passing (type, 1) or '1type' as a synonym of type is deprecated; in a future version of numpy, it will be understood as (type, (1,)) / '(1,)type'.\n",
      "  _np_qint32 = np.dtype([(\"qint32\", np.int32, 1)])\n",
      "/home/sjnam/anaconda3/envs/infmtv_keras_gpu/lib/python3.6/site-packages/tensorboard/compat/tensorflow_stub/dtypes.py:550: FutureWarning: Passing (type, 1) or '1type' as a synonym of type is deprecated; in a future version of numpy, it will be understood as (type, (1,)) / '(1,)type'.\n",
      "  np_resource = np.dtype([(\"resource\", np.ubyte, 1)])\n"
     ]
    }
   ],
   "source": [
    "from utils.utils import ci, rocauc, rmse"
   ]
  },
  {
   "cell_type": "code",
   "execution_count": 3,
   "metadata": {},
   "outputs": [],
   "source": [
    "from sklearn.preprocessing import MinMaxScaler, StandardScaler"
   ]
  },
  {
   "cell_type": "markdown",
   "metadata": {},
   "source": [
    "# import data "
   ]
  },
  {
   "cell_type": "markdown",
   "metadata": {},
   "source": [
    "## Kapelner et al., dataset\n",
    "- fetch column names"
   ]
  },
  {
   "cell_type": "code",
   "execution_count": 49,
   "metadata": {
    "colab": {
     "base_uri": "https://localhost:8080/",
     "height": 34
    },
    "colab_type": "code",
    "executionInfo": {
     "elapsed": 8769,
     "status": "ok",
     "timestamp": 1569434161204,
     "user": {
      "displayName": "Sungjin Nam",
      "photoUrl": "https://lh3.googleusercontent.com/a-/AAuE7mBm-uC84SkKpzTdRb5oXH6uwwAa0rYUGVejNpoZyg=s64",
      "userId": "06295554822278854914"
     },
     "user_tz": 240
    },
    "id": "lcI5I1AQI2Df",
    "outputId": "141abf35-98ea-448a-8c99-241a15d22498"
   },
   "outputs": [],
   "source": [
    "df_contexts = pd.read_pickle('dataset/predicting_contextual_informativeness-master/kapelner_context_filtered.pickle')"
   ]
  },
  {
   "cell_type": "code",
   "execution_count": 50,
   "metadata": {},
   "outputs": [
    {
     "data": {
      "text/plain": [
       "617"
      ]
     },
     "execution_count": 50,
     "metadata": {},
     "output_type": "execute_result"
    }
   ],
   "source": [
    "col_features_all = df_contexts.columns.tolist()[6:-1]\n",
    "\n",
    "# taking off:  'num_times_target_exact_match', 'num_times_target_stem_match'\n",
    "# col_features_all.remove('num_times_target_exact_match')\n",
    "# col_features_all.remove('num_times_target_stem_match')\n",
    "\n",
    "del(df_contexts)\n",
    "len(col_features_all)\n"
   ]
  },
  {
   "cell_type": "markdown",
   "metadata": {},
   "source": [
    "## DSCoVAR lex features "
   ]
  },
  {
   "cell_type": "code",
   "execution_count": 22,
   "metadata": {},
   "outputs": [],
   "source": [
    "df_taales = pd.read_csv(\"dataset/sentences_DSCoVAR/dscovar_lexout/results_taales.csv\")\n",
    "df_taaco  = pd.read_csv(\"dataset/sentences_DSCoVAR/dscovar_lexout/results_taaco.csv\")\n",
    "df_seance = pd.read_csv(\"dataset/sentences_DSCoVAR/dscovar_lexout/results_seance.csv\")\n",
    "df_seance.rename(columns={'filename':'Filename'}, inplace=True)"
   ]
  },
  {
   "cell_type": "code",
   "execution_count": 23,
   "metadata": {},
   "outputs": [
    {
     "data": {
      "text/html": [
       "<div>\n",
       "<style scoped>\n",
       "    .dataframe tbody tr th:only-of-type {\n",
       "        vertical-align: middle;\n",
       "    }\n",
       "\n",
       "    .dataframe tbody tr th {\n",
       "        vertical-align: top;\n",
       "    }\n",
       "\n",
       "    .dataframe thead th {\n",
       "        text-align: right;\n",
       "    }\n",
       "</style>\n",
       "<table border=\"1\" class=\"dataframe\">\n",
       "  <thead>\n",
       "    <tr style=\"text-align: right;\">\n",
       "      <th></th>\n",
       "      <th>Filename</th>\n",
       "      <th>Word Count</th>\n",
       "      <th>KF_Freq_AW</th>\n",
       "      <th>KF_Freq_AW_Log</th>\n",
       "      <th>KF_Ncats_AW</th>\n",
       "      <th>KF_Nsamp_AW</th>\n",
       "      <th>TL_Freq_AW</th>\n",
       "      <th>TL_Freq_AW_Log</th>\n",
       "      <th>Brown_Freq_AW</th>\n",
       "      <th>Brown_Freq_AW_Log</th>\n",
       "      <th>...</th>\n",
       "      <th>WN_Zscore_FW</th>\n",
       "      <th>WN_SD_FW</th>\n",
       "      <th>WN_Mean_Accuracy_FW</th>\n",
       "      <th>lsa_average_top_three_cosine</th>\n",
       "      <th>lsa_max_similarity_cosine</th>\n",
       "      <th>lsa_average_all_cosine</th>\n",
       "      <th>aoe_inverse_average</th>\n",
       "      <th>aoe_inverse_linear_regression_slope</th>\n",
       "      <th>aoe_index_above_threshold_40</th>\n",
       "      <th>aoe_inflection_point_polynomial</th>\n",
       "    </tr>\n",
       "  </thead>\n",
       "  <tbody>\n",
       "    <tr>\n",
       "      <th>0</th>\n",
       "      <td>dscovar_sent_1196.txt</td>\n",
       "      <td>12</td>\n",
       "      <td>23383.000000</td>\n",
       "      <td>3.015811</td>\n",
       "      <td>12.300000</td>\n",
       "      <td>263.100000</td>\n",
       "      <td>80224.800000</td>\n",
       "      <td>3.828981</td>\n",
       "      <td>3481.285714</td>\n",
       "      <td>2.927603</td>\n",
       "      <td>...</td>\n",
       "      <td>-0.5700</td>\n",
       "      <td>163.5360</td>\n",
       "      <td>1.000</td>\n",
       "      <td>0.318000</td>\n",
       "      <td>0.580000</td>\n",
       "      <td>0.252845</td>\n",
       "      <td>0.251500</td>\n",
       "      <td>0.896709</td>\n",
       "      <td>1.000000</td>\n",
       "      <td>3.408184</td>\n",
       "    </tr>\n",
       "    <tr>\n",
       "      <th>1</th>\n",
       "      <td>dscovar_sent_0288.txt</td>\n",
       "      <td>11</td>\n",
       "      <td>16852.444444</td>\n",
       "      <td>3.082863</td>\n",
       "      <td>14.000000</td>\n",
       "      <td>259.666667</td>\n",
       "      <td>60841.400000</td>\n",
       "      <td>3.484174</td>\n",
       "      <td>2647.625000</td>\n",
       "      <td>2.223640</td>\n",
       "      <td>...</td>\n",
       "      <td>-0.6350</td>\n",
       "      <td>126.1425</td>\n",
       "      <td>1.000</td>\n",
       "      <td>0.294000</td>\n",
       "      <td>0.512000</td>\n",
       "      <td>0.185276</td>\n",
       "      <td>0.379278</td>\n",
       "      <td>1.486539</td>\n",
       "      <td>2.500000</td>\n",
       "      <td>5.227749</td>\n",
       "    </tr>\n",
       "    <tr>\n",
       "      <th>2</th>\n",
       "      <td>dscovar_sent_1182.txt</td>\n",
       "      <td>13</td>\n",
       "      <td>8756.416667</td>\n",
       "      <td>2.981773</td>\n",
       "      <td>12.833333</td>\n",
       "      <td>306.666667</td>\n",
       "      <td>33795.416667</td>\n",
       "      <td>3.598665</td>\n",
       "      <td>1067.545455</td>\n",
       "      <td>2.100121</td>\n",
       "      <td>...</td>\n",
       "      <td>-0.4700</td>\n",
       "      <td>149.6950</td>\n",
       "      <td>1.000</td>\n",
       "      <td>0.273333</td>\n",
       "      <td>0.405000</td>\n",
       "      <td>0.294162</td>\n",
       "      <td>0.309852</td>\n",
       "      <td>0.937731</td>\n",
       "      <td>2.000000</td>\n",
       "      <td>4.697927</td>\n",
       "    </tr>\n",
       "    <tr>\n",
       "      <th>3</th>\n",
       "      <td>dscovar_sent_1633.txt</td>\n",
       "      <td>12</td>\n",
       "      <td>12711.000000</td>\n",
       "      <td>3.391661</td>\n",
       "      <td>14.909091</td>\n",
       "      <td>353.090909</td>\n",
       "      <td>52559.545455</td>\n",
       "      <td>4.065243</td>\n",
       "      <td>2060.909091</td>\n",
       "      <td>2.566909</td>\n",
       "      <td>...</td>\n",
       "      <td>-0.5380</td>\n",
       "      <td>120.5360</td>\n",
       "      <td>0.992</td>\n",
       "      <td>0.156000</td>\n",
       "      <td>0.278000</td>\n",
       "      <td>0.109579</td>\n",
       "      <td>0.262667</td>\n",
       "      <td>0.887637</td>\n",
       "      <td>1.666667</td>\n",
       "      <td>3.435909</td>\n",
       "    </tr>\n",
       "    <tr>\n",
       "      <th>4</th>\n",
       "      <td>dscovar_sent_1155.txt</td>\n",
       "      <td>12</td>\n",
       "      <td>12318.363636</td>\n",
       "      <td>3.285592</td>\n",
       "      <td>13.818182</td>\n",
       "      <td>326.000000</td>\n",
       "      <td>52001.090909</td>\n",
       "      <td>3.962394</td>\n",
       "      <td>1729.181818</td>\n",
       "      <td>2.505287</td>\n",
       "      <td>...</td>\n",
       "      <td>-0.5925</td>\n",
       "      <td>118.7075</td>\n",
       "      <td>1.000</td>\n",
       "      <td>0.168333</td>\n",
       "      <td>0.271667</td>\n",
       "      <td>0.196981</td>\n",
       "      <td>0.264104</td>\n",
       "      <td>0.919063</td>\n",
       "      <td>1.000000</td>\n",
       "      <td>3.319064</td>\n",
       "    </tr>\n",
       "  </tbody>\n",
       "</table>\n",
       "<p>5 rows × 462 columns</p>\n",
       "</div>"
      ],
      "text/plain": [
       "                Filename  Word Count    KF_Freq_AW  KF_Freq_AW_Log  \\\n",
       "0  dscovar_sent_1196.txt          12  23383.000000        3.015811   \n",
       "1  dscovar_sent_0288.txt          11  16852.444444        3.082863   \n",
       "2  dscovar_sent_1182.txt          13   8756.416667        2.981773   \n",
       "3  dscovar_sent_1633.txt          12  12711.000000        3.391661   \n",
       "4  dscovar_sent_1155.txt          12  12318.363636        3.285592   \n",
       "\n",
       "   KF_Ncats_AW  KF_Nsamp_AW    TL_Freq_AW  TL_Freq_AW_Log  Brown_Freq_AW  \\\n",
       "0    12.300000   263.100000  80224.800000        3.828981    3481.285714   \n",
       "1    14.000000   259.666667  60841.400000        3.484174    2647.625000   \n",
       "2    12.833333   306.666667  33795.416667        3.598665    1067.545455   \n",
       "3    14.909091   353.090909  52559.545455        4.065243    2060.909091   \n",
       "4    13.818182   326.000000  52001.090909        3.962394    1729.181818   \n",
       "\n",
       "   Brown_Freq_AW_Log  ...  WN_Zscore_FW  WN_SD_FW  WN_Mean_Accuracy_FW  \\\n",
       "0           2.927603  ...       -0.5700  163.5360                1.000   \n",
       "1           2.223640  ...       -0.6350  126.1425                1.000   \n",
       "2           2.100121  ...       -0.4700  149.6950                1.000   \n",
       "3           2.566909  ...       -0.5380  120.5360                0.992   \n",
       "4           2.505287  ...       -0.5925  118.7075                1.000   \n",
       "\n",
       "   lsa_average_top_three_cosine  lsa_max_similarity_cosine  \\\n",
       "0                      0.318000                   0.580000   \n",
       "1                      0.294000                   0.512000   \n",
       "2                      0.273333                   0.405000   \n",
       "3                      0.156000                   0.278000   \n",
       "4                      0.168333                   0.271667   \n",
       "\n",
       "   lsa_average_all_cosine  aoe_inverse_average  \\\n",
       "0                0.252845             0.251500   \n",
       "1                0.185276             0.379278   \n",
       "2                0.294162             0.309852   \n",
       "3                0.109579             0.262667   \n",
       "4                0.196981             0.264104   \n",
       "\n",
       "   aoe_inverse_linear_regression_slope  aoe_index_above_threshold_40  \\\n",
       "0                             0.896709                      1.000000   \n",
       "1                             1.486539                      2.500000   \n",
       "2                             0.937731                      2.000000   \n",
       "3                             0.887637                      1.666667   \n",
       "4                             0.919063                      1.000000   \n",
       "\n",
       "   aoe_inflection_point_polynomial  \n",
       "0                         3.408184  \n",
       "1                         5.227749  \n",
       "2                         4.697927  \n",
       "3                         3.435909  \n",
       "4                         3.319064  \n",
       "\n",
       "[5 rows x 462 columns]"
      ]
     },
     "execution_count": 23,
     "metadata": {},
     "output_type": "execute_result"
    }
   ],
   "source": [
    "df_taales.head()"
   ]
  },
  {
   "cell_type": "code",
   "execution_count": 24,
   "metadata": {},
   "outputs": [
    {
     "data": {
      "text/html": [
       "<div>\n",
       "<style scoped>\n",
       "    .dataframe tbody tr th:only-of-type {\n",
       "        vertical-align: middle;\n",
       "    }\n",
       "\n",
       "    .dataframe tbody tr th {\n",
       "        vertical-align: top;\n",
       "    }\n",
       "\n",
       "    .dataframe thead th {\n",
       "        text-align: right;\n",
       "    }\n",
       "</style>\n",
       "<table border=\"1\" class=\"dataframe\">\n",
       "  <thead>\n",
       "    <tr style=\"text-align: right;\">\n",
       "      <th></th>\n",
       "      <th>Filename</th>\n",
       "      <th>lemma_ttr</th>\n",
       "      <th>lemma_mattr</th>\n",
       "      <th>lexical_density_tokens</th>\n",
       "      <th>lexical_density_types</th>\n",
       "      <th>content_ttr</th>\n",
       "      <th>function_ttr</th>\n",
       "      <th>function_mattr</th>\n",
       "      <th>noun_ttr</th>\n",
       "      <th>verb_ttr</th>\n",
       "      <th>...</th>\n",
       "      <th>negative_logical</th>\n",
       "      <th>all_temporal</th>\n",
       "      <th>positive_intentional</th>\n",
       "      <th>all_positive</th>\n",
       "      <th>all_negative</th>\n",
       "      <th>all_connective</th>\n",
       "      <th>pronoun_density</th>\n",
       "      <th>pronoun_noun_ratio</th>\n",
       "      <th>repeated_content_lemmas</th>\n",
       "      <th>repeated_content_and_pronoun_lemmas</th>\n",
       "    </tr>\n",
       "  </thead>\n",
       "  <tbody>\n",
       "    <tr>\n",
       "      <th>0</th>\n",
       "      <td>dscovar_sent_1196.txt</td>\n",
       "      <td>0.846154</td>\n",
       "      <td>0.846154</td>\n",
       "      <td>0.538462</td>\n",
       "      <td>0.636364</td>\n",
       "      <td>1.0</td>\n",
       "      <td>0.666667</td>\n",
       "      <td>0.666667</td>\n",
       "      <td>1.0</td>\n",
       "      <td>0.0</td>\n",
       "      <td>...</td>\n",
       "      <td>0.0</td>\n",
       "      <td>0.076923</td>\n",
       "      <td>0.0</td>\n",
       "      <td>0.076923</td>\n",
       "      <td>0.0</td>\n",
       "      <td>0.000000</td>\n",
       "      <td>0.000000</td>\n",
       "      <td>0.000000</td>\n",
       "      <td>0.0</td>\n",
       "      <td>0.0</td>\n",
       "    </tr>\n",
       "    <tr>\n",
       "      <th>1</th>\n",
       "      <td>dscovar_sent_0288.txt</td>\n",
       "      <td>0.909091</td>\n",
       "      <td>0.909091</td>\n",
       "      <td>0.545455</td>\n",
       "      <td>0.600000</td>\n",
       "      <td>1.0</td>\n",
       "      <td>0.800000</td>\n",
       "      <td>0.800000</td>\n",
       "      <td>1.0</td>\n",
       "      <td>1.0</td>\n",
       "      <td>...</td>\n",
       "      <td>0.0</td>\n",
       "      <td>0.000000</td>\n",
       "      <td>0.0</td>\n",
       "      <td>0.181818</td>\n",
       "      <td>0.0</td>\n",
       "      <td>0.181818</td>\n",
       "      <td>0.000000</td>\n",
       "      <td>0.000000</td>\n",
       "      <td>0.0</td>\n",
       "      <td>0.0</td>\n",
       "    </tr>\n",
       "    <tr>\n",
       "      <th>2</th>\n",
       "      <td>dscovar_sent_1182.txt</td>\n",
       "      <td>0.923077</td>\n",
       "      <td>0.923077</td>\n",
       "      <td>0.538462</td>\n",
       "      <td>0.583333</td>\n",
       "      <td>1.0</td>\n",
       "      <td>1.000000</td>\n",
       "      <td>1.000000</td>\n",
       "      <td>1.0</td>\n",
       "      <td>1.0</td>\n",
       "      <td>...</td>\n",
       "      <td>0.0</td>\n",
       "      <td>0.076923</td>\n",
       "      <td>0.0</td>\n",
       "      <td>0.076923</td>\n",
       "      <td>0.0</td>\n",
       "      <td>0.076923</td>\n",
       "      <td>0.076923</td>\n",
       "      <td>0.333333</td>\n",
       "      <td>0.0</td>\n",
       "      <td>0.0</td>\n",
       "    </tr>\n",
       "    <tr>\n",
       "      <th>3</th>\n",
       "      <td>dscovar_sent_1633.txt</td>\n",
       "      <td>1.000000</td>\n",
       "      <td>1.000000</td>\n",
       "      <td>0.500000</td>\n",
       "      <td>0.500000</td>\n",
       "      <td>1.0</td>\n",
       "      <td>1.000000</td>\n",
       "      <td>1.000000</td>\n",
       "      <td>1.0</td>\n",
       "      <td>1.0</td>\n",
       "      <td>...</td>\n",
       "      <td>0.0</td>\n",
       "      <td>0.000000</td>\n",
       "      <td>0.0</td>\n",
       "      <td>0.000000</td>\n",
       "      <td>0.0</td>\n",
       "      <td>0.000000</td>\n",
       "      <td>0.083333</td>\n",
       "      <td>0.500000</td>\n",
       "      <td>0.0</td>\n",
       "      <td>0.0</td>\n",
       "    </tr>\n",
       "    <tr>\n",
       "      <th>4</th>\n",
       "      <td>dscovar_sent_1155.txt</td>\n",
       "      <td>1.000000</td>\n",
       "      <td>1.000000</td>\n",
       "      <td>0.583333</td>\n",
       "      <td>0.583333</td>\n",
       "      <td>1.0</td>\n",
       "      <td>1.000000</td>\n",
       "      <td>1.000000</td>\n",
       "      <td>1.0</td>\n",
       "      <td>1.0</td>\n",
       "      <td>...</td>\n",
       "      <td>0.0</td>\n",
       "      <td>0.000000</td>\n",
       "      <td>0.0</td>\n",
       "      <td>0.083333</td>\n",
       "      <td>0.0</td>\n",
       "      <td>0.083333</td>\n",
       "      <td>0.083333</td>\n",
       "      <td>0.333333</td>\n",
       "      <td>0.0</td>\n",
       "      <td>0.0</td>\n",
       "    </tr>\n",
       "  </tbody>\n",
       "</table>\n",
       "<p>5 rows × 169 columns</p>\n",
       "</div>"
      ],
      "text/plain": [
       "                Filename  lemma_ttr  lemma_mattr  lexical_density_tokens  \\\n",
       "0  dscovar_sent_1196.txt   0.846154     0.846154                0.538462   \n",
       "1  dscovar_sent_0288.txt   0.909091     0.909091                0.545455   \n",
       "2  dscovar_sent_1182.txt   0.923077     0.923077                0.538462   \n",
       "3  dscovar_sent_1633.txt   1.000000     1.000000                0.500000   \n",
       "4  dscovar_sent_1155.txt   1.000000     1.000000                0.583333   \n",
       "\n",
       "   lexical_density_types  content_ttr  function_ttr  function_mattr  noun_ttr  \\\n",
       "0               0.636364          1.0      0.666667        0.666667       1.0   \n",
       "1               0.600000          1.0      0.800000        0.800000       1.0   \n",
       "2               0.583333          1.0      1.000000        1.000000       1.0   \n",
       "3               0.500000          1.0      1.000000        1.000000       1.0   \n",
       "4               0.583333          1.0      1.000000        1.000000       1.0   \n",
       "\n",
       "   verb_ttr  ...  negative_logical  all_temporal  positive_intentional  \\\n",
       "0       0.0  ...               0.0      0.076923                   0.0   \n",
       "1       1.0  ...               0.0      0.000000                   0.0   \n",
       "2       1.0  ...               0.0      0.076923                   0.0   \n",
       "3       1.0  ...               0.0      0.000000                   0.0   \n",
       "4       1.0  ...               0.0      0.000000                   0.0   \n",
       "\n",
       "   all_positive  all_negative  all_connective  pronoun_density  \\\n",
       "0      0.076923           0.0        0.000000         0.000000   \n",
       "1      0.181818           0.0        0.181818         0.000000   \n",
       "2      0.076923           0.0        0.076923         0.076923   \n",
       "3      0.000000           0.0        0.000000         0.083333   \n",
       "4      0.083333           0.0        0.083333         0.083333   \n",
       "\n",
       "   pronoun_noun_ratio  repeated_content_lemmas  \\\n",
       "0            0.000000                      0.0   \n",
       "1            0.000000                      0.0   \n",
       "2            0.333333                      0.0   \n",
       "3            0.500000                      0.0   \n",
       "4            0.333333                      0.0   \n",
       "\n",
       "   repeated_content_and_pronoun_lemmas  \n",
       "0                                  0.0  \n",
       "1                                  0.0  \n",
       "2                                  0.0  \n",
       "3                                  0.0  \n",
       "4                                  0.0  \n",
       "\n",
       "[5 rows x 169 columns]"
      ]
     },
     "execution_count": 24,
     "metadata": {},
     "output_type": "execute_result"
    }
   ],
   "source": [
    "df_taaco.head()"
   ]
  },
  {
   "cell_type": "code",
   "execution_count": 25,
   "metadata": {},
   "outputs": [
    {
     "data": {
      "text/html": [
       "<div>\n",
       "<style scoped>\n",
       "    .dataframe tbody tr th:only-of-type {\n",
       "        vertical-align: middle;\n",
       "    }\n",
       "\n",
       "    .dataframe tbody tr th {\n",
       "        vertical-align: top;\n",
       "    }\n",
       "\n",
       "    .dataframe thead th {\n",
       "        text-align: right;\n",
       "    }\n",
       "</style>\n",
       "<table border=\"1\" class=\"dataframe\">\n",
       "  <thead>\n",
       "    <tr style=\"text-align: right;\">\n",
       "      <th></th>\n",
       "      <th>Filename</th>\n",
       "      <th>nwords</th>\n",
       "      <th>Admiration/Awe_GALC</th>\n",
       "      <th>Amusement_GALC</th>\n",
       "      <th>Anger_GALC</th>\n",
       "      <th>Anxiety_GALC</th>\n",
       "      <th>Beingtouched_GALC</th>\n",
       "      <th>Boredom_GALC</th>\n",
       "      <th>Compassion_GALC</th>\n",
       "      <th>Contempt_GALC</th>\n",
       "      <th>...</th>\n",
       "      <th>virtue_adverbs_component</th>\n",
       "      <th>positive_nouns_component</th>\n",
       "      <th>respect_component</th>\n",
       "      <th>trust_verbs_component</th>\n",
       "      <th>failure_component</th>\n",
       "      <th>well_being_component</th>\n",
       "      <th>economy_component</th>\n",
       "      <th>certainty_component</th>\n",
       "      <th>positive_verbs_component</th>\n",
       "      <th>objects_component</th>\n",
       "    </tr>\n",
       "  </thead>\n",
       "  <tbody>\n",
       "    <tr>\n",
       "      <th>0</th>\n",
       "      <td>dscovar_sent_1196.txt</td>\n",
       "      <td>13</td>\n",
       "      <td>0.0</td>\n",
       "      <td>0.0</td>\n",
       "      <td>0.0</td>\n",
       "      <td>0.0</td>\n",
       "      <td>0.0</td>\n",
       "      <td>0.0</td>\n",
       "      <td>0.0</td>\n",
       "      <td>0.0</td>\n",
       "      <td>...</td>\n",
       "      <td>0.0</td>\n",
       "      <td>-0.898231</td>\n",
       "      <td>0.000000</td>\n",
       "      <td>0.040750</td>\n",
       "      <td>0.000000</td>\n",
       "      <td>0.305600</td>\n",
       "      <td>0.0</td>\n",
       "      <td>0.117500</td>\n",
       "      <td>0.000000</td>\n",
       "      <td>0.050167</td>\n",
       "    </tr>\n",
       "    <tr>\n",
       "      <th>1</th>\n",
       "      <td>dscovar_sent_0288.txt</td>\n",
       "      <td>12</td>\n",
       "      <td>0.0</td>\n",
       "      <td>0.0</td>\n",
       "      <td>0.0</td>\n",
       "      <td>0.0</td>\n",
       "      <td>0.0</td>\n",
       "      <td>0.0</td>\n",
       "      <td>0.0</td>\n",
       "      <td>0.0</td>\n",
       "      <td>...</td>\n",
       "      <td>0.0</td>\n",
       "      <td>-0.901167</td>\n",
       "      <td>0.178081</td>\n",
       "      <td>0.000000</td>\n",
       "      <td>0.000000</td>\n",
       "      <td>0.336939</td>\n",
       "      <td>0.0</td>\n",
       "      <td>0.000000</td>\n",
       "      <td>0.000000</td>\n",
       "      <td>0.389657</td>\n",
       "    </tr>\n",
       "    <tr>\n",
       "      <th>2</th>\n",
       "      <td>dscovar_sent_1182.txt</td>\n",
       "      <td>14</td>\n",
       "      <td>0.0</td>\n",
       "      <td>0.0</td>\n",
       "      <td>0.0</td>\n",
       "      <td>0.0</td>\n",
       "      <td>0.0</td>\n",
       "      <td>0.0</td>\n",
       "      <td>0.0</td>\n",
       "      <td>0.0</td>\n",
       "      <td>...</td>\n",
       "      <td>0.0</td>\n",
       "      <td>0.000000</td>\n",
       "      <td>0.000000</td>\n",
       "      <td>0.116308</td>\n",
       "      <td>0.000000</td>\n",
       "      <td>0.339663</td>\n",
       "      <td>0.0</td>\n",
       "      <td>0.043462</td>\n",
       "      <td>0.000000</td>\n",
       "      <td>0.000000</td>\n",
       "    </tr>\n",
       "    <tr>\n",
       "      <th>3</th>\n",
       "      <td>dscovar_sent_1633.txt</td>\n",
       "      <td>13</td>\n",
       "      <td>0.0</td>\n",
       "      <td>0.0</td>\n",
       "      <td>0.0</td>\n",
       "      <td>0.0</td>\n",
       "      <td>0.0</td>\n",
       "      <td>0.0</td>\n",
       "      <td>0.0</td>\n",
       "      <td>0.0</td>\n",
       "      <td>...</td>\n",
       "      <td>0.0</td>\n",
       "      <td>0.000000</td>\n",
       "      <td>0.000000</td>\n",
       "      <td>0.316125</td>\n",
       "      <td>0.000000</td>\n",
       "      <td>0.129500</td>\n",
       "      <td>0.0</td>\n",
       "      <td>0.141250</td>\n",
       "      <td>0.943308</td>\n",
       "      <td>0.000000</td>\n",
       "    </tr>\n",
       "    <tr>\n",
       "      <th>4</th>\n",
       "      <td>dscovar_sent_1155.txt</td>\n",
       "      <td>13</td>\n",
       "      <td>0.0</td>\n",
       "      <td>0.0</td>\n",
       "      <td>0.0</td>\n",
       "      <td>0.0</td>\n",
       "      <td>0.0</td>\n",
       "      <td>0.0</td>\n",
       "      <td>0.0</td>\n",
       "      <td>0.0</td>\n",
       "      <td>...</td>\n",
       "      <td>0.0</td>\n",
       "      <td>0.000000</td>\n",
       "      <td>0.000000</td>\n",
       "      <td>0.000000</td>\n",
       "      <td>0.655333</td>\n",
       "      <td>0.479125</td>\n",
       "      <td>0.0</td>\n",
       "      <td>0.117500</td>\n",
       "      <td>-0.872000</td>\n",
       "      <td>0.050167</td>\n",
       "    </tr>\n",
       "  </tbody>\n",
       "</table>\n",
       "<p>5 rows × 272 columns</p>\n",
       "</div>"
      ],
      "text/plain": [
       "                Filename  nwords  Admiration/Awe_GALC  Amusement_GALC  \\\n",
       "0  dscovar_sent_1196.txt      13                  0.0             0.0   \n",
       "1  dscovar_sent_0288.txt      12                  0.0             0.0   \n",
       "2  dscovar_sent_1182.txt      14                  0.0             0.0   \n",
       "3  dscovar_sent_1633.txt      13                  0.0             0.0   \n",
       "4  dscovar_sent_1155.txt      13                  0.0             0.0   \n",
       "\n",
       "   Anger_GALC  Anxiety_GALC  Beingtouched_GALC  Boredom_GALC  Compassion_GALC  \\\n",
       "0         0.0           0.0                0.0           0.0              0.0   \n",
       "1         0.0           0.0                0.0           0.0              0.0   \n",
       "2         0.0           0.0                0.0           0.0              0.0   \n",
       "3         0.0           0.0                0.0           0.0              0.0   \n",
       "4         0.0           0.0                0.0           0.0              0.0   \n",
       "\n",
       "   Contempt_GALC  ...  virtue_adverbs_component  positive_nouns_component  \\\n",
       "0            0.0  ...                       0.0                 -0.898231   \n",
       "1            0.0  ...                       0.0                 -0.901167   \n",
       "2            0.0  ...                       0.0                  0.000000   \n",
       "3            0.0  ...                       0.0                  0.000000   \n",
       "4            0.0  ...                       0.0                  0.000000   \n",
       "\n",
       "   respect_component  trust_verbs_component  failure_component  \\\n",
       "0           0.000000               0.040750           0.000000   \n",
       "1           0.178081               0.000000           0.000000   \n",
       "2           0.000000               0.116308           0.000000   \n",
       "3           0.000000               0.316125           0.000000   \n",
       "4           0.000000               0.000000           0.655333   \n",
       "\n",
       "   well_being_component  economy_component  certainty_component  \\\n",
       "0              0.305600                0.0             0.117500   \n",
       "1              0.336939                0.0             0.000000   \n",
       "2              0.339663                0.0             0.043462   \n",
       "3              0.129500                0.0             0.141250   \n",
       "4              0.479125                0.0             0.117500   \n",
       "\n",
       "   positive_verbs_component  objects_component  \n",
       "0                  0.000000           0.050167  \n",
       "1                  0.000000           0.389657  \n",
       "2                  0.000000           0.000000  \n",
       "3                  0.943308           0.000000  \n",
       "4                 -0.872000           0.050167  \n",
       "\n",
       "[5 rows x 272 columns]"
      ]
     },
     "execution_count": 25,
     "metadata": {},
     "output_type": "execute_result"
    }
   ],
   "source": [
    "df_seance.head()"
   ]
  },
  {
   "cell_type": "code",
   "execution_count": 88,
   "metadata": {},
   "outputs": [],
   "source": [
    "df_dscovar_lex = pd.merge(df_seance, pd.merge(df_taales, df_taaco, on='Filename'), on='Filename')\n",
    "df_dscovar_lex = df_dscovar_lex[['Filename']+[col for col in df_dscovar_lex.columns if col in col_features_all]]\n",
    "df_dscovar_lex = df_dscovar_lex.sort_values(by='Filename')\n",
    "df_dscovar_lex = df_dscovar_lex.reset_index(drop=True)"
   ]
  },
  {
   "cell_type": "code",
   "execution_count": 89,
   "metadata": {},
   "outputs": [
    {
     "name": "stderr",
     "output_type": "stream",
     "text": [
      "/home/sjnam/anaconda3/envs/infmtv_keras_gpu/lib/python3.6/site-packages/sklearn/preprocessing/data.py:323: DataConversionWarning: Data with input dtype int64, float64 were all converted to float64 by MinMaxScaler.\n",
      "  return self.partial_fit(X, y)\n"
     ]
    }
   ],
   "source": [
    "df_cloze = pd.read_pickle('./dataset/cloze_df_scores_all3.pickle')\n",
    "\n",
    "mm_scaler = MinMaxScaler()\n",
    "resp_scores = mm_scaler.fit_transform(df_cloze[['ent_cloze', \n",
    "                                                'elmo_score', 'bert_score', 'glove_score',\n",
    "                                                'scores_sum', 'sent_len']])\n",
    "resp_lex = resp_scores[:, 0]\n",
    "resp_lex = 1-resp_lex # reversing the direction: high score for high informative sentences\n",
    "\n",
    "resp_brt = resp_scores[:, 1]\n",
    "resp_lmo = resp_scores[:, 2]\n",
    "resp_glv = resp_scores[:, 3]\n",
    "resp_bws = resp_scores[:, 4]\n",
    "sent_len = resp_scores[:, 5]"
   ]
  },
  {
   "cell_type": "code",
   "execution_count": 90,
   "metadata": {},
   "outputs": [],
   "source": [
    "df_dscovar_lex['target_word'] = df_cloze['targ'].copy()\n",
    "df_dscovar_lex['resp_bws'] = resp_bws\n",
    "df_dscovar_lex['resp_glv'] = resp_glv"
   ]
  },
  {
   "cell_type": "code",
   "execution_count": 91,
   "metadata": {},
   "outputs": [
    {
     "data": {
      "text/plain": [
       "(1783, 286)"
      ]
     },
     "execution_count": 91,
     "metadata": {},
     "output_type": "execute_result"
    }
   ],
   "source": [
    "df_dscovar_lex.shape # far less number of features..."
   ]
  },
  {
   "cell_type": "code",
   "execution_count": 92,
   "metadata": {},
   "outputs": [],
   "source": [
    "col_dscovar_lex = df_dscovar_lex.columns[1:-3]"
   ]
  },
  {
   "cell_type": "code",
   "execution_count": 93,
   "metadata": {},
   "outputs": [
    {
     "data": {
      "text/plain": [
       "Index(['nwords', 'Admiration/Awe_GALC', 'Amusement_GALC', 'Anger_GALC',\n",
       "       'Anxiety_GALC', 'Beingtouched_GALC', 'Boredom_GALC', 'Compassion_GALC',\n",
       "       'Contempt_GALC', 'Contentment_GALC',\n",
       "       ...\n",
       "       'content_ttr', 'function_ttr', 'conjunctions', 'disjunctions',\n",
       "       'addition', 'order', 'opposition', 'determiners', 'pronoun_noun_ratio',\n",
       "       'repeated_content_lemmas'],\n",
       "      dtype='object', length=282)"
      ]
     },
     "execution_count": 93,
     "metadata": {},
     "output_type": "execute_result"
    }
   ],
   "source": [
    "col_dscovar_lex"
   ]
  },
  {
   "cell_type": "code",
   "execution_count": 94,
   "metadata": {},
   "outputs": [
    {
     "data": {
      "text/html": [
       "<div>\n",
       "<style scoped>\n",
       "    .dataframe tbody tr th:only-of-type {\n",
       "        vertical-align: middle;\n",
       "    }\n",
       "\n",
       "    .dataframe tbody tr th {\n",
       "        vertical-align: top;\n",
       "    }\n",
       "\n",
       "    .dataframe thead th {\n",
       "        text-align: right;\n",
       "    }\n",
       "</style>\n",
       "<table border=\"1\" class=\"dataframe\">\n",
       "  <thead>\n",
       "    <tr style=\"text-align: right;\">\n",
       "      <th></th>\n",
       "      <th>Filename</th>\n",
       "      <th>nwords</th>\n",
       "      <th>Admiration/Awe_GALC</th>\n",
       "      <th>Amusement_GALC</th>\n",
       "      <th>Anger_GALC</th>\n",
       "      <th>Anxiety_GALC</th>\n",
       "      <th>Beingtouched_GALC</th>\n",
       "      <th>Boredom_GALC</th>\n",
       "      <th>Compassion_GALC</th>\n",
       "      <th>Contempt_GALC</th>\n",
       "      <th>...</th>\n",
       "      <th>disjunctions</th>\n",
       "      <th>addition</th>\n",
       "      <th>order</th>\n",
       "      <th>opposition</th>\n",
       "      <th>determiners</th>\n",
       "      <th>pronoun_noun_ratio</th>\n",
       "      <th>repeated_content_lemmas</th>\n",
       "      <th>target_word</th>\n",
       "      <th>resp_bws</th>\n",
       "      <th>resp_glv</th>\n",
       "    </tr>\n",
       "  </thead>\n",
       "  <tbody>\n",
       "    <tr>\n",
       "      <th>0</th>\n",
       "      <td>dscovar_sent_0000.txt</td>\n",
       "      <td>11</td>\n",
       "      <td>0.0</td>\n",
       "      <td>0.0</td>\n",
       "      <td>0.0</td>\n",
       "      <td>0.0</td>\n",
       "      <td>0.0</td>\n",
       "      <td>0.0</td>\n",
       "      <td>0.0</td>\n",
       "      <td>0.0</td>\n",
       "      <td>...</td>\n",
       "      <td>0.0</td>\n",
       "      <td>0.000000</td>\n",
       "      <td>0.0</td>\n",
       "      <td>0.0</td>\n",
       "      <td>0.200000</td>\n",
       "      <td>0.000000</td>\n",
       "      <td>0.0</td>\n",
       "      <td>discord</td>\n",
       "      <td>0.456522</td>\n",
       "      <td>0.203255</td>\n",
       "    </tr>\n",
       "    <tr>\n",
       "      <th>1</th>\n",
       "      <td>dscovar_sent_0001.txt</td>\n",
       "      <td>11</td>\n",
       "      <td>0.0</td>\n",
       "      <td>0.0</td>\n",
       "      <td>0.0</td>\n",
       "      <td>0.0</td>\n",
       "      <td>0.0</td>\n",
       "      <td>0.0</td>\n",
       "      <td>0.0</td>\n",
       "      <td>0.0</td>\n",
       "      <td>...</td>\n",
       "      <td>0.0</td>\n",
       "      <td>0.100000</td>\n",
       "      <td>0.0</td>\n",
       "      <td>0.0</td>\n",
       "      <td>0.200000</td>\n",
       "      <td>0.000000</td>\n",
       "      <td>0.0</td>\n",
       "      <td>rakish</td>\n",
       "      <td>0.521739</td>\n",
       "      <td>0.158994</td>\n",
       "    </tr>\n",
       "    <tr>\n",
       "      <th>2</th>\n",
       "      <td>dscovar_sent_0002.txt</td>\n",
       "      <td>12</td>\n",
       "      <td>0.0</td>\n",
       "      <td>0.0</td>\n",
       "      <td>0.0</td>\n",
       "      <td>0.0</td>\n",
       "      <td>0.0</td>\n",
       "      <td>0.0</td>\n",
       "      <td>0.0</td>\n",
       "      <td>0.0</td>\n",
       "      <td>...</td>\n",
       "      <td>0.0</td>\n",
       "      <td>0.090909</td>\n",
       "      <td>0.0</td>\n",
       "      <td>0.0</td>\n",
       "      <td>0.181818</td>\n",
       "      <td>0.000000</td>\n",
       "      <td>0.0</td>\n",
       "      <td>defile</td>\n",
       "      <td>0.500000</td>\n",
       "      <td>0.463422</td>\n",
       "    </tr>\n",
       "    <tr>\n",
       "      <th>3</th>\n",
       "      <td>dscovar_sent_0003.txt</td>\n",
       "      <td>10</td>\n",
       "      <td>0.0</td>\n",
       "      <td>0.1</td>\n",
       "      <td>0.0</td>\n",
       "      <td>0.0</td>\n",
       "      <td>0.0</td>\n",
       "      <td>0.0</td>\n",
       "      <td>0.0</td>\n",
       "      <td>0.0</td>\n",
       "      <td>...</td>\n",
       "      <td>0.0</td>\n",
       "      <td>0.000000</td>\n",
       "      <td>0.0</td>\n",
       "      <td>0.0</td>\n",
       "      <td>0.111111</td>\n",
       "      <td>0.333333</td>\n",
       "      <td>0.0</td>\n",
       "      <td>browbeat</td>\n",
       "      <td>0.652174</td>\n",
       "      <td>0.132336</td>\n",
       "    </tr>\n",
       "    <tr>\n",
       "      <th>4</th>\n",
       "      <td>dscovar_sent_0004.txt</td>\n",
       "      <td>15</td>\n",
       "      <td>0.0</td>\n",
       "      <td>0.0</td>\n",
       "      <td>0.0</td>\n",
       "      <td>0.0</td>\n",
       "      <td>0.0</td>\n",
       "      <td>0.0</td>\n",
       "      <td>0.0</td>\n",
       "      <td>0.0</td>\n",
       "      <td>...</td>\n",
       "      <td>0.0</td>\n",
       "      <td>0.000000</td>\n",
       "      <td>0.0</td>\n",
       "      <td>0.0</td>\n",
       "      <td>0.214286</td>\n",
       "      <td>0.250000</td>\n",
       "      <td>0.0</td>\n",
       "      <td>goad</td>\n",
       "      <td>0.695652</td>\n",
       "      <td>0.152213</td>\n",
       "    </tr>\n",
       "  </tbody>\n",
       "</table>\n",
       "<p>5 rows × 286 columns</p>\n",
       "</div>"
      ],
      "text/plain": [
       "                Filename  nwords  Admiration/Awe_GALC  Amusement_GALC  \\\n",
       "0  dscovar_sent_0000.txt      11                  0.0             0.0   \n",
       "1  dscovar_sent_0001.txt      11                  0.0             0.0   \n",
       "2  dscovar_sent_0002.txt      12                  0.0             0.0   \n",
       "3  dscovar_sent_0003.txt      10                  0.0             0.1   \n",
       "4  dscovar_sent_0004.txt      15                  0.0             0.0   \n",
       "\n",
       "   Anger_GALC  Anxiety_GALC  Beingtouched_GALC  Boredom_GALC  Compassion_GALC  \\\n",
       "0         0.0           0.0                0.0           0.0              0.0   \n",
       "1         0.0           0.0                0.0           0.0              0.0   \n",
       "2         0.0           0.0                0.0           0.0              0.0   \n",
       "3         0.0           0.0                0.0           0.0              0.0   \n",
       "4         0.0           0.0                0.0           0.0              0.0   \n",
       "\n",
       "   Contempt_GALC  ...  disjunctions  addition  order  opposition  determiners  \\\n",
       "0            0.0  ...           0.0  0.000000    0.0         0.0     0.200000   \n",
       "1            0.0  ...           0.0  0.100000    0.0         0.0     0.200000   \n",
       "2            0.0  ...           0.0  0.090909    0.0         0.0     0.181818   \n",
       "3            0.0  ...           0.0  0.000000    0.0         0.0     0.111111   \n",
       "4            0.0  ...           0.0  0.000000    0.0         0.0     0.214286   \n",
       "\n",
       "   pronoun_noun_ratio  repeated_content_lemmas  target_word  resp_bws  \\\n",
       "0            0.000000                      0.0      discord  0.456522   \n",
       "1            0.000000                      0.0       rakish  0.521739   \n",
       "2            0.000000                      0.0       defile  0.500000   \n",
       "3            0.333333                      0.0     browbeat  0.652174   \n",
       "4            0.250000                      0.0         goad  0.695652   \n",
       "\n",
       "   resp_glv  \n",
       "0  0.203255  \n",
       "1  0.158994  \n",
       "2  0.463422  \n",
       "3  0.132336  \n",
       "4  0.152213  \n",
       "\n",
       "[5 rows x 286 columns]"
      ]
     },
     "execution_count": 94,
     "metadata": {},
     "output_type": "execute_result"
    }
   ],
   "source": [
    "df_dscovar_lex.head()"
   ]
  },
  {
   "cell_type": "markdown",
   "metadata": {},
   "source": [
    "# Baseline model: RF regression"
   ]
  },
  {
   "cell_type": "code",
   "execution_count": 95,
   "metadata": {},
   "outputs": [],
   "source": [
    "# setting the bootstrapping sample size for RF models: to follow the setting from the original Kapelner et al., paper\n",
    "# https://stackoverflow.com/questions/44955555/how-can-i-set-sub-sample-size-in-random-forest-classifier-in-scikit-learn-espec\n",
    "from sklearn.ensemble import forest\n",
    "\n",
    "def set_rf_samples(n):\n",
    "    \"\"\" Changes Scikit learn's random forests to give each tree a random sample of\n",
    "    n random rows.\n",
    "    \"\"\"\n",
    "    forest._generate_sample_indices = (lambda rs, n_samples:\n",
    "        forest.check_random_state(rs).randint(0, n_samples, n))\n",
    "\n",
    "def reset_rf_samples():\n",
    "    \"\"\" Undoes the changes produced by set_rf_samples.\n",
    "    \"\"\"\n",
    "    forest._generate_sample_indices = (lambda rs, n_samples:\n",
    "        forest.check_random_state(rs).randint(0, n_samples, n_samples))"
   ]
  },
  {
   "cell_type": "code",
   "execution_count": 96,
   "metadata": {},
   "outputs": [],
   "source": [
    "gkf1 = GroupKFold(n_splits=10) ## target words"
   ]
  },
  {
   "cell_type": "markdown",
   "metadata": {},
   "source": [
    "## SemDen score"
   ]
  },
  {
   "cell_type": "code",
   "execution_count": 114,
   "metadata": {},
   "outputs": [],
   "source": [
    "gkf1 = GroupKFold(n_splits=10) ## target words"
   ]
  },
  {
   "cell_type": "code",
   "execution_count": 115,
   "metadata": {},
   "outputs": [],
   "source": [
    "reset_rf_samples()\n",
    "set_rf_samples(10000)\n",
    "gkf_split = gkf1.split(df_dscovar_lex['Filename'], groups=df_dscovar_lex['target_word'])\n",
    "\n",
    "rfreg_all_preds = []\n",
    "rfreg_all_score = []\n",
    "for train_idx, test_idx in gkf_split:\n",
    "    rfreg_all = RandomForestRegressor(random_state=0, n_estimators=500, n_jobs=-3)\n",
    "    rfreg_all.fit(df_dscovar_lex.iloc[train_idx][col_dscovar_lex], df_dscovar_lex.iloc[train_idx]['resp_glv'])\n",
    "    \n",
    "    rfreg_all_preds.append({\"preds\":rfreg_all.predict(df_dscovar_lex.iloc[test_idx][col_dscovar_lex ]),\n",
    "                            \"trues\":df_dscovar_lex.iloc[test_idx]['resp_glv'].values})    \n",
    "    rfreg_all_score.append(rfreg_all.score(df_dscovar_lex.iloc[test_idx][col_dscovar_lex], df_dscovar_lex.iloc[test_idx]['resp_glv']))"
   ]
  },
  {
   "cell_type": "code",
   "execution_count": 116,
   "metadata": {},
   "outputs": [],
   "source": [
    "np.savez(\"dscovar_rfreg_all_results_glv.npy\", preds=rfreg_all_preds, score=rfreg_all_score)"
   ]
  },
  {
   "cell_type": "code",
   "execution_count": null,
   "metadata": {},
   "outputs": [],
   "source": []
  },
  {
   "cell_type": "code",
   "execution_count": 117,
   "metadata": {},
   "outputs": [],
   "source": [
    "tt = np.load(\"dscovar_rfreg_all_results_glv.npy.npz\", allow_pickle=True)"
   ]
  },
  {
   "cell_type": "code",
   "execution_count": 118,
   "metadata": {},
   "outputs": [],
   "source": [
    "rfreg_all_preds = tt['preds']\n",
    "rfreg_all_score = tt['score']"
   ]
  },
  {
   "cell_type": "code",
   "execution_count": 119,
   "metadata": {},
   "outputs": [
    {
     "data": {
      "text/plain": [
       "array([-1.52493626e-02, -2.26358211e-01,  1.42815092e-02, -1.79676226e-04,\n",
       "       -5.51358066e-02, -2.99532859e-01, -8.68489571e-02,  2.13293921e-02,\n",
       "       -1.02500005e-01,  1.77592940e-02])"
      ]
     },
     "execution_count": 119,
     "metadata": {},
     "output_type": "execute_result"
    }
   ],
   "source": [
    "rfreg_all_score"
   ]
  },
  {
   "cell_type": "code",
   "execution_count": 120,
   "metadata": {},
   "outputs": [
    {
     "data": {
      "text/plain": [
       "(-0.07324346824797262, -0.15218801374805352, 0.0057010772521082775)"
      ]
     },
     "execution_count": 120,
     "metadata": {},
     "output_type": "execute_result"
    }
   ],
   "source": [
    "ci(rfreg_all_score)"
   ]
  },
  {
   "cell_type": "code",
   "execution_count": 121,
   "metadata": {},
   "outputs": [
    {
     "data": {
      "text/plain": [
       "<matplotlib.axes._subplots.AxesSubplot at 0x7f54280cb5c0>"
      ]
     },
     "execution_count": 121,
     "metadata": {},
     "output_type": "execute_result"
    },
    {
     "data": {
      "image/png": "[encoded data removed]",
      "text/plain": [
       "<Figure size 432x288 with 1 Axes>"
      ]
     },
     "metadata": {
      "needs_background": "light"
     },
     "output_type": "display_data"
    }
   ],
   "source": [
    "sns.scatterplot(rfreg_all_preds[0]['preds'], rfreg_all_preds[0]['trues'])"
   ]
  },
  {
   "cell_type": "code",
   "execution_count": 122,
   "metadata": {},
   "outputs": [
    {
     "data": {
      "text/plain": [
       "{'RMSE': (0.167, 0.156, 0.179),\n",
       " '20low': (0.563, 0.51, 0.616),\n",
       " '50_50': (0.598, 0.567, 0.63),\n",
       " '20_h': (0.572, 0.523, 0.62)}"
      ]
     },
     "execution_count": 122,
     "metadata": {},
     "output_type": "execute_result"
    }
   ],
   "source": [
    "{\"RMSE\": ci([rmse(x['trues'], x['preds']) for x in rfreg_all_preds], digits=3),\n",
    " \"20low\":ci([1-rocauc(x['trues'], x['preds'], .20, \"low\") for x in rfreg_all_preds], digits=3),\n",
    " \"50_50\":ci([rocauc(x['trues'], x['preds'], .50, \"high\") for x in rfreg_all_preds], digits=3),\n",
    " \"20_h\": ci([rocauc(x['trues'], x['preds'], .80, \"high\") for x in rfreg_all_preds], digits=3),}"
   ]
  },
  {
   "cell_type": "markdown",
   "metadata": {},
   "source": [
    "## BWS score "
   ]
  },
  {
   "cell_type": "code",
   "execution_count": 99,
   "metadata": {},
   "outputs": [],
   "source": [
    "reset_rf_samples()\n",
    "set_rf_samples(10000)\n",
    "gkf_split = gkf1.split(df_dscovar_lex['Filename'], groups=df_dscovar_lex['target_word'])\n",
    "\n",
    "rfreg_all_preds = []\n",
    "rfreg_all_score = []\n",
    "for train_idx, test_idx in gkf_split:\n",
    "    rfreg_all = RandomForestRegressor(random_state=0, n_estimators=500, n_jobs=-3)\n",
    "    rfreg_all.fit(df_dscovar_lex.iloc[train_idx][col_dscovar_lex], df_dscovar_lex.iloc[train_idx]['resp_bws'])\n",
    "    \n",
    "    rfreg_all_preds.append({\"preds\":rfreg_all.predict(df_dscovar_lex.iloc[test_idx][col_dscovar_lex ]),\n",
    "                            \"trues\":df_dscovar_lex.iloc[test_idx]['resp_bws'].values})    \n",
    "    rfreg_all_score.append(rfreg_all.score(df_dscovar_lex.iloc[test_idx][col_dscovar_lex], df_dscovar_lex.iloc[test_idx]['resp_bws']))"
   ]
  },
  {
   "cell_type": "code",
   "execution_count": 102,
   "metadata": {},
   "outputs": [],
   "source": [
    "np.savez(\"dscovar_rfreg_all_results_bws.npy\", preds=rfreg_all_preds, score=rfreg_all_score)"
   ]
  },
  {
   "cell_type": "code",
   "execution_count": null,
   "metadata": {},
   "outputs": [],
   "source": []
  },
  {
   "cell_type": "code",
   "execution_count": 103,
   "metadata": {},
   "outputs": [],
   "source": [
    "tt = np.load(\"dscovar_rfreg_all_results_bws.npy.npz\", allow_pickle=True)"
   ]
  },
  {
   "cell_type": "code",
   "execution_count": 104,
   "metadata": {},
   "outputs": [],
   "source": [
    "rfreg_all_preds = tt['preds']\n",
    "rfreg_all_score = tt['score']"
   ]
  },
  {
   "cell_type": "code",
   "execution_count": 105,
   "metadata": {},
   "outputs": [
    {
     "data": {
      "text/plain": [
       "array([0.39411572, 0.42747417, 0.50379134, 0.54153452, 0.48007609,\n",
       "       0.62024718, 0.3361761 , 0.2834972 , 0.49278555, 0.45754633])"
      ]
     },
     "execution_count": 105,
     "metadata": {},
     "output_type": "execute_result"
    }
   ],
   "source": [
    "rfreg_all_score"
   ]
  },
  {
   "cell_type": "code",
   "execution_count": 106,
   "metadata": {},
   "outputs": [
    {
     "data": {
      "text/plain": [
       "(0.4537244206956423, 0.3833025811561136, 0.524146260235171)"
      ]
     },
     "execution_count": 106,
     "metadata": {},
     "output_type": "execute_result"
    }
   ],
   "source": [
    "ci(rfreg_all_score)"
   ]
  },
  {
   "cell_type": "code",
   "execution_count": 107,
   "metadata": {},
   "outputs": [
    {
     "data": {
      "text/plain": [
       "<matplotlib.axes._subplots.AxesSubplot at 0x7f542817ff98>"
      ]
     },
     "execution_count": 107,
     "metadata": {},
     "output_type": "execute_result"
    },
    {
     "data": {
      "image/png": "[encoded data removed]",
      "text/plain": [
       "<Figure size 432x288 with 1 Axes>"
      ]
     },
     "metadata": {
      "needs_background": "light"
     },
     "output_type": "display_data"
    }
   ],
   "source": [
    "sns.scatterplot(rfreg_all_preds[0]['preds'], rfreg_all_preds[0]['trues'])"
   ]
  },
  {
   "cell_type": "code",
   "execution_count": 113,
   "metadata": {},
   "outputs": [
    {
     "data": {
      "text/plain": [
       "{'RMSE': (0.156, 0.147, 0.165),\n",
       " '20low': (0.864, 0.833, 0.895),\n",
       " '50_50': (0.83, 0.805, 0.854),\n",
       " '20_h': (0.8, 0.768, 0.832)}"
      ]
     },
     "execution_count": 113,
     "metadata": {},
     "output_type": "execute_result"
    }
   ],
   "source": [
    "{\"RMSE\": ci([rmse(x['trues'], x['preds']) for x in rfreg_all_preds], digits=3),\n",
    " \"20low\":ci([1-rocauc(x['trues'], x['preds'], .20, \"low\") for x in rfreg_all_preds], digits=3),\n",
    " \"50_50\":ci([rocauc(x['trues'], x['preds'], .50, \"high\") for x in rfreg_all_preds], digits=3),\n",
    " \"20_h\": ci([rocauc(x['trues'], x['preds'], .80, \"high\") for x in rfreg_all_preds], digits=3),}"
   ]
  }
 ],
 "metadata": {
  "kernelspec": {
   "display_name": "Python 3",
   "language": "python",
   "name": "python3"
  },
  "language_info": {
   "codemirror_mode": {
    "name": "ipython",
    "version": 3
   },
   "file_extension": ".py",
   "mimetype": "text/x-python",
   "name": "python",
   "nbconvert_exporter": "python",
   "pygments_lexer": "ipython3",
   "version": "3.6.7"
  }
 },
 "nbformat": 4,
 "nbformat_minor": 4
}
