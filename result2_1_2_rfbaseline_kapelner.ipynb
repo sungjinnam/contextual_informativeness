{
 "cells": [
  {
   "cell_type": "markdown",
   "metadata": {},
   "source": [
    "# Setting up the modules "
   ]
  },
  {
   "cell_type": "code",
   "execution_count": 1,
   "metadata": {},
   "outputs": [],
   "source": [
    "# common libraries\n",
    "import sys, glob, random\n",
    "import pandas as pd\n",
    "import numpy as np\n",
    "import seaborn as sns\n",
    "import matplotlib.pyplot as plt"
   ]
  },
  {
   "cell_type": "code",
   "execution_count": 2,
   "metadata": {},
   "outputs": [],
   "source": [
    "# analysis related modules\n",
    "from scipy.stats import entropy, spearmanr\n",
    "from sklearn.preprocessing import MinMaxScaler, StandardScaler\n",
    "from sklearn.metrics import mean_absolute_error, r2_score\n",
    "from sklearn.model_selection import KFold, GroupKFold\n",
    "from sklearn.ensemble import RandomForestRegressor\n",
    "from collections import Counter"
   ]
  },
  {
   "cell_type": "code",
   "execution_count": 3,
   "metadata": {},
   "outputs": [
    {
     "name": "stderr",
     "output_type": "stream",
     "text": [
      "Using TensorFlow backend.\n"
     ]
    }
   ],
   "source": [
    "from utils.utils import ci, rocauc, rmse"
   ]
  },
  {
   "cell_type": "code",
   "execution_count": 4,
   "metadata": {},
   "outputs": [],
   "source": [
    "# some option settings for Jupyter notebook and TF\n",
    "%load_ext autoreload\n",
    "%autoreload 2\n",
    "pd.set_option('display.max_colwidth', -1)"
   ]
  },
  {
   "cell_type": "markdown",
   "metadata": {
    "toc-hr-collapsed": false
   },
   "source": [
    "# import dataset "
   ]
  },
  {
   "cell_type": "code",
   "execution_count": 24,
   "metadata": {},
   "outputs": [],
   "source": [
    "df_contexts = pd.read_pickle('dataset/predicting_contextual_informativeness-master/kapelner_context_filtered.pickle')"
   ]
  },
  {
   "cell_type": "code",
   "execution_count": 25,
   "metadata": {},
   "outputs": [
    {
     "data": {
      "text/plain": [
       "(67831, 624)"
      ]
     },
     "execution_count": 25,
     "metadata": {},
     "output_type": "execute_result"
    }
   ],
   "source": [
    "df_contexts.shape # row counts from the original paper: 67833"
   ]
  },
  {
   "cell_type": "code",
   "execution_count": 26,
   "metadata": {},
   "outputs": [
    {
     "data": {
      "text/html": [
       "<div>\n",
       "<style scoped>\n",
       "    .dataframe tbody tr th:only-of-type {\n",
       "        vertical-align: middle;\n",
       "    }\n",
       "\n",
       "    .dataframe tbody tr th {\n",
       "        vertical-align: top;\n",
       "    }\n",
       "\n",
       "    .dataframe thead th {\n",
       "        text-align: right;\n",
       "    }\n",
       "</style>\n",
       "<table border=\"1\" class=\"dataframe\">\n",
       "  <thead>\n",
       "    <tr style=\"text-align: right;\">\n",
       "      <th></th>\n",
       "      <th>context_id</th>\n",
       "      <th>context</th>\n",
       "      <th>target_word</th>\n",
       "      <th>band</th>\n",
       "      <th>mean_rating</th>\n",
       "      <th>inappropriate_count</th>\n",
       "      <th>collocation_1_10</th>\n",
       "      <th>collocation_11_20</th>\n",
       "      <th>collocation_21_50</th>\n",
       "      <th>collocation_51_100</th>\n",
       "      <th>...</th>\n",
       "      <th>AWL Sublist 6 Normed</th>\n",
       "      <th>AWL Sublist 7 Normed</th>\n",
       "      <th>AWL Sublist 8 Normed</th>\n",
       "      <th>AWL Sublist 9 Normed</th>\n",
       "      <th>AWL Sublist 10 Normed</th>\n",
       "      <th>All AFL Normed</th>\n",
       "      <th>Core AFL Normed</th>\n",
       "      <th>Spoken AFL Normed</th>\n",
       "      <th>Written AFL Normed</th>\n",
       "      <th>dataset</th>\n",
       "    </tr>\n",
       "  </thead>\n",
       "  <tbody>\n",
       "    <tr>\n",
       "      <th>67826</th>\n",
       "      <td>4120489</td>\n",
       "      <td>... If the patient is well motivated and given lifelong support, the weight loss is usually permanent. Furthermore, improvement of co-morbid conditions is also well-documented. That said, whether bariatric treatment for morbid obesity is a viable treatment option for more than a small minority of the obese population is open to doubt.</td>\n",
       "      <td>morbid</td>\n",
       "      <td>3</td>\n",
       "      <td>1.90</td>\n",
       "      <td>0</td>\n",
       "      <td>3.0</td>\n",
       "      <td>0.0</td>\n",
       "      <td>0.0</td>\n",
       "      <td>1.0</td>\n",
       "      <td>...</td>\n",
       "      <td>0.028302</td>\n",
       "      <td>0.000000</td>\n",
       "      <td>0.0</td>\n",
       "      <td>0.000000</td>\n",
       "      <td>0.0</td>\n",
       "      <td>0.000000</td>\n",
       "      <td>0.000000</td>\n",
       "      <td>0.0</td>\n",
       "      <td>0.0</td>\n",
       "      <td>2</td>\n",
       "    </tr>\n",
       "    <tr>\n",
       "      <th>67827</th>\n",
       "      <td>4120507</td>\n",
       "      <td>... He also believes that guns give their carriers a dangerously false sense of security, and he dislikes the bang they make. His resistance to interrogation is exceptional and he has managed to keep the \"suffix-nine\" designation indicating he is \"reliable under torture\". He has a morbid dislike of dogs, especially guard dogs.</td>\n",
       "      <td>morbid</td>\n",
       "      <td>3</td>\n",
       "      <td>2.33</td>\n",
       "      <td>1</td>\n",
       "      <td>0.0</td>\n",
       "      <td>0.0</td>\n",
       "      <td>0.0</td>\n",
       "      <td>0.0</td>\n",
       "      <td>...</td>\n",
       "      <td>0.000000</td>\n",
       "      <td>0.000000</td>\n",
       "      <td>0.0</td>\n",
       "      <td>0.000000</td>\n",
       "      <td>0.0</td>\n",
       "      <td>0.000000</td>\n",
       "      <td>0.000000</td>\n",
       "      <td>0.0</td>\n",
       "      <td>0.0</td>\n",
       "      <td>2</td>\n",
       "    </tr>\n",
       "    <tr>\n",
       "      <th>67828</th>\n",
       "      <td>4120509</td>\n",
       "      <td>gave a 5 star rating to the movie and noted that \"the beauty of the film lies in its ability to throw light on a morbid subject, compelling the viewer to fall back in love with life.\" The review added that the audience would feel \"a Hrithik hangover that stays with you long after you have left the theatre.\"</td>\n",
       "      <td>morbid</td>\n",
       "      <td>3</td>\n",
       "      <td>2.50</td>\n",
       "      <td>0</td>\n",
       "      <td>0.0</td>\n",
       "      <td>0.0</td>\n",
       "      <td>0.0</td>\n",
       "      <td>0.0</td>\n",
       "      <td>...</td>\n",
       "      <td>0.000000</td>\n",
       "      <td>0.000000</td>\n",
       "      <td>0.0</td>\n",
       "      <td>0.000000</td>\n",
       "      <td>0.0</td>\n",
       "      <td>0.000000</td>\n",
       "      <td>0.000000</td>\n",
       "      <td>0.0</td>\n",
       "      <td>0.0</td>\n",
       "      <td>2</td>\n",
       "    </tr>\n",
       "    <tr>\n",
       "      <th>67829</th>\n",
       "      <td>4120511</td>\n",
       "      <td>... Their strictly tongue-in-cheek humour, often involving executions, murder, necrophilia, resurrections and other morbid topics can be spotted in song titles and album names as well as in their very own mascot - an animated skeleton called \"Ben Wrangle\", the name being a pun on the Swedish word \"benrangel\" which best translates into \"skellington\".</td>\n",
       "      <td>morbid</td>\n",
       "      <td>3</td>\n",
       "      <td>3.13</td>\n",
       "      <td>2</td>\n",
       "      <td>0.0</td>\n",
       "      <td>0.0</td>\n",
       "      <td>0.0</td>\n",
       "      <td>1.0</td>\n",
       "      <td>...</td>\n",
       "      <td>0.000000</td>\n",
       "      <td>0.028169</td>\n",
       "      <td>0.0</td>\n",
       "      <td>0.000000</td>\n",
       "      <td>0.0</td>\n",
       "      <td>0.014085</td>\n",
       "      <td>0.014085</td>\n",
       "      <td>0.0</td>\n",
       "      <td>0.0</td>\n",
       "      <td>2</td>\n",
       "    </tr>\n",
       "    <tr>\n",
       "      <th>67830</th>\n",
       "      <td>4120513</td>\n",
       "      <td>... Gamers could only share IP addresses of known servers between themselves or post them on gaming websites. To solve this problem, a team of three programmers (consisting of Jack \"morbid\" Mathews, Tim Cook, and Joe Powell) formed Spy Software and created QSpy (or QuakeSpy). This allowed the listing and searching of Quake servers available across the internet.</td>\n",
       "      <td>morbid</td>\n",
       "      <td>3</td>\n",
       "      <td>1.70</td>\n",
       "      <td>0</td>\n",
       "      <td>0.0</td>\n",
       "      <td>0.0</td>\n",
       "      <td>0.0</td>\n",
       "      <td>0.0</td>\n",
       "      <td>...</td>\n",
       "      <td>0.000000</td>\n",
       "      <td>0.000000</td>\n",
       "      <td>0.0</td>\n",
       "      <td>0.016129</td>\n",
       "      <td>0.0</td>\n",
       "      <td>0.000000</td>\n",
       "      <td>0.000000</td>\n",
       "      <td>0.0</td>\n",
       "      <td>0.0</td>\n",
       "      <td>2</td>\n",
       "    </tr>\n",
       "  </tbody>\n",
       "</table>\n",
       "<p>5 rows × 624 columns</p>\n",
       "</div>"
      ],
      "text/plain": [
       "       context_id  \\\n",
       "67826  4120489      \n",
       "67827  4120507      \n",
       "67828  4120509      \n",
       "67829  4120511      \n",
       "67830  4120513      \n",
       "\n",
       "                                                                                                                                                                                                                                                                                                                                                                           context  \\\n",
       "67826  ... If the patient is well motivated and given lifelong support, the weight loss is usually permanent. Furthermore, improvement of co-morbid conditions is also well-documented. That said, whether bariatric treatment for morbid obesity is a viable treatment option for more than a small minority of the obese population is open to doubt.                              \n",
       "67827  ... He also believes that guns give their carriers a dangerously false sense of security, and he dislikes the bang they make. His resistance to interrogation is exceptional and he has managed to keep the \"suffix-nine\" designation indicating he is \"reliable under torture\". He has a morbid dislike of dogs, especially guard dogs.                                      \n",
       "67828  gave a 5 star rating to the movie and noted that \"the beauty of the film lies in its ability to throw light on a morbid subject, compelling the viewer to fall back in love with life.\" The review added that the audience would feel \"a Hrithik hangover that stays with you long after you have left the theatre.\"                                                          \n",
       "67829  ... Their strictly tongue-in-cheek humour, often involving executions, murder, necrophilia, resurrections and other morbid topics can be spotted in song titles and album names as well as in their very own mascot - an animated skeleton called \"Ben Wrangle\", the name being a pun on the Swedish word \"benrangel\" which best translates into \"skellington\".               \n",
       "67830  ... Gamers could only share IP addresses of known servers between themselves or post them on gaming websites. To solve this problem, a team of three programmers (consisting of Jack \"morbid\" Mathews, Tim Cook, and Joe Powell) formed Spy Software and created QSpy (or QuakeSpy). This allowed the listing and searching of Quake servers available across the internet.   \n",
       "\n",
       "      target_word  band  mean_rating  inappropriate_count  collocation_1_10  \\\n",
       "67826  morbid      3     1.90         0                    3.0                \n",
       "67827  morbid      3     2.33         1                    0.0                \n",
       "67828  morbid      3     2.50         0                    0.0                \n",
       "67829  morbid      3     3.13         2                    0.0                \n",
       "67830  morbid      3     1.70         0                    0.0                \n",
       "\n",
       "       collocation_11_20  collocation_21_50  collocation_51_100  ...  \\\n",
       "67826  0.0                0.0                1.0                 ...   \n",
       "67827  0.0                0.0                0.0                 ...   \n",
       "67828  0.0                0.0                0.0                 ...   \n",
       "67829  0.0                0.0                1.0                 ...   \n",
       "67830  0.0                0.0                0.0                 ...   \n",
       "\n",
       "       AWL Sublist 6 Normed  AWL Sublist 7 Normed  AWL Sublist 8 Normed  \\\n",
       "67826  0.028302              0.000000              0.0                    \n",
       "67827  0.000000              0.000000              0.0                    \n",
       "67828  0.000000              0.000000              0.0                    \n",
       "67829  0.000000              0.028169              0.0                    \n",
       "67830  0.000000              0.000000              0.0                    \n",
       "\n",
       "       AWL Sublist 9 Normed  AWL Sublist 10 Normed  All AFL Normed  \\\n",
       "67826  0.000000              0.0                    0.000000         \n",
       "67827  0.000000              0.0                    0.000000         \n",
       "67828  0.000000              0.0                    0.000000         \n",
       "67829  0.000000              0.0                    0.014085         \n",
       "67830  0.016129              0.0                    0.000000         \n",
       "\n",
       "       Core AFL Normed  Spoken AFL Normed  Written AFL Normed  dataset  \n",
       "67826  0.000000         0.0                0.0                 2        \n",
       "67827  0.000000         0.0                0.0                 2        \n",
       "67828  0.000000         0.0                0.0                 2        \n",
       "67829  0.014085         0.0                0.0                 2        \n",
       "67830  0.000000         0.0                0.0                 2        \n",
       "\n",
       "[5 rows x 624 columns]"
      ]
     },
     "execution_count": 26,
     "metadata": {},
     "output_type": "execute_result"
    }
   ],
   "source": [
    "df_contexts.tail()"
   ]
  },
  {
   "cell_type": "code",
   "execution_count": 27,
   "metadata": {
    "colab": {},
    "colab_type": "code",
    "id": "IZUg96JlhwqB"
   },
   "outputs": [],
   "source": [
    "mm_scaler = MinMaxScaler()\n",
    "# info_scores = mm_scaler.fit_transform(df_contexts[['mean_rating']])\n",
    "# info_scores = info_scores[:,0]\n",
    "df_contexts['mm_mean_rating'] = mm_scaler.fit_transform(df_contexts[['mean_rating']])[:,0]"
   ]
  },
  {
   "cell_type": "code",
   "execution_count": 28,
   "metadata": {},
   "outputs": [
    {
     "data": {
      "text/plain": [
       "<matplotlib.axes._subplots.AxesSubplot at 0x7f6171f473c8>"
      ]
     },
     "execution_count": 28,
     "metadata": {},
     "output_type": "execute_result"
    },
    {
     "data": {
      "image/png": "[encoded data removed]",
      "text/plain": [
       "<Figure size 432x288 with 1 Axes>"
      ]
     },
     "metadata": {
      "needs_background": "light"
     },
     "output_type": "display_data"
    }
   ],
   "source": [
    "sns.kdeplot(df_contexts['mm_mean_rating'])"
   ]
  },
  {
   "cell_type": "code",
   "execution_count": 29,
   "metadata": {},
   "outputs": [
    {
     "data": {
      "text/plain": [
       "count    67831.000000\n",
       "mean     0.530754    \n",
       "std      0.173382    \n",
       "min      0.000000    \n",
       "25%      0.406667    \n",
       "50%      0.533333    \n",
       "75%      0.666667    \n",
       "max      1.000000    \n",
       "Name: mm_mean_rating, dtype: float64"
      ]
     },
     "execution_count": 29,
     "metadata": {},
     "output_type": "execute_result"
    }
   ],
   "source": [
    "# pd.cut(df_contexts['mean_rating'], bins=[-float(\"inf\"), 0, 0.5, 1, float(\"inf\")]).value_counts(normalize=True)\n",
    "df_contexts['mm_mean_rating'].describe()"
   ]
  },
  {
   "cell_type": "markdown",
   "metadata": {},
   "source": [
    "# Baseline model: RF regression"
   ]
  },
  {
   "cell_type": "code",
   "execution_count": 30,
   "metadata": {},
   "outputs": [],
   "source": [
    "# setting the bootstrapping sample size for RF models: to follow the setting from the original Kapelner et al., paper\n",
    "# https://stackoverflow.com/questions/44955555/how-can-i-set-sub-sample-size-in-random-forest-classifier-in-scikit-learn-espec\n",
    "from sklearn.ensemble import forest\n",
    "\n",
    "def set_rf_samples(n):\n",
    "    \"\"\" Changes Scikit learn's random forests to give each tree a random sample of\n",
    "    n random rows.\n",
    "    \"\"\"\n",
    "    forest._generate_sample_indices = (lambda rs, n_samples:\n",
    "        forest.check_random_state(rs).randint(0, n_samples, n))\n",
    "\n",
    "def reset_rf_samples():\n",
    "    \"\"\" Undoes the changes produced by set_rf_samples.\n",
    "    \"\"\"\n",
    "    forest._generate_sample_indices = (lambda rs, n_samples:\n",
    "        forest.check_random_state(rs).randint(0, n_samples, n_samples))"
   ]
  },
  {
   "cell_type": "code",
   "execution_count": 31,
   "metadata": {},
   "outputs": [],
   "source": [
    "gkf1 = GroupKFold(n_splits=10) ## target words"
   ]
  },
  {
   "cell_type": "markdown",
   "metadata": {},
   "source": [
    "## RF regression 1: using the top-30 features "
   ]
  },
  {
   "cell_type": "code",
   "execution_count": 13,
   "metadata": {},
   "outputs": [],
   "source": [
    "col_features_top30 = ['similar_1_10', 'collocation_1_10', 'count:target-word1', 'politeness_component', \n",
    "                'Kuperman AoA AW', 'Kuperman AoA CW', 'count:word1-target-word2', 'MRC Meaningfulness CW', \n",
    "                'num_times_target_exact_match', 'num_acronyms', 'repeated_content_lemmas_pronoun', 'Polit_GI', \n",
    "                'prob:word1-target-word2', 'prob:target-word1', 'All AWL Normed',  'MRC Meaningfulness AW', \n",
    "                'affect_friends_and_family_component', 'Positive_EmoLex', 'count:target', 'num_times_target_stem_match', \n",
    "                'SUBTLEXus Freq AW', 'Econ_GI', 'prob:word1-word2-target', 'BNC Written Bigram Proportion',\n",
    "                'Arousal_nwords', 'SUBTLEXus Range CW Log', 'BNC Written Trigram Proportion', 'disjunctions',\n",
    "                'Arousal', 'Brown Freq CW Log']"
   ]
  },
  {
   "cell_type": "code",
   "execution_count": 14,
   "metadata": {},
   "outputs": [],
   "source": [
    "set_rf_samples(10000)\n",
    "gkf_split = gkf1.split(df_contexts['context'], groups=df_contexts['target_word'])\n",
    "\n",
    "rfreg_top30_preds = []\n",
    "rfreg_top30_score = []\n",
    "for train_idx, test_idx in gkf_split:\n",
    "    rfreg_top30 = RandomForestRegressor(random_state=0, n_estimators=500, n_jobs=-2)\n",
    "    rfreg_top30.fit(df_contexts.iloc[train_idx][col_features_top30], df_contexts.iloc[train_idx]['mm_mean_rating'])\n",
    "    \n",
    "    rfreg_top30_preds.append({\"preds\":rfreg_top30.predict(df_contexts.iloc[test_idx][col_features_top30]),\n",
    "                              \"trues\":df_contexts.iloc[test_idx]['mm_mean_rating'].values})\n",
    "    rfreg_top30_score.append(rfreg_top30.score(df_contexts.iloc[test_idx][col_features_top30], df_contexts.iloc[test_idx]['mm_mean_rating']))"
   ]
  },
  {
   "cell_type": "code",
   "execution_count": 15,
   "metadata": {},
   "outputs": [],
   "source": [
    "np.savez(\"kapelner_rfreg_top30_results.npy\", preds=rfreg_top30_preds, score=rfreg_top30_score)"
   ]
  },
  {
   "cell_type": "code",
   "execution_count": 16,
   "metadata": {},
   "outputs": [
    {
     "data": {
      "text/plain": [
       "[0.18410580226206086,\n",
       " 0.1842738487964217,\n",
       " 0.16473658761187604,\n",
       " 0.19121361590069363,\n",
       " 0.19677687844382796,\n",
       " 0.18664190514036383,\n",
       " 0.1902408885789144,\n",
       " 0.17124620341710062,\n",
       " 0.19682058383731416,\n",
       " 0.15195693372320596]"
      ]
     },
     "execution_count": 16,
     "metadata": {},
     "output_type": "execute_result"
    }
   ],
   "source": [
    "rfreg_top30_score"
   ]
  },
  {
   "cell_type": "code",
   "execution_count": 17,
   "metadata": {},
   "outputs": [
    {
     "data": {
      "text/plain": [
       "(0.1818013247711779, 0.1713044888434923, 0.19229816069886352)"
      ]
     },
     "execution_count": 17,
     "metadata": {},
     "output_type": "execute_result"
    }
   ],
   "source": [
    "ci(rfreg_top30_score)"
   ]
  },
  {
   "cell_type": "code",
   "execution_count": 18,
   "metadata": {},
   "outputs": [
    {
     "data": {
      "text/plain": [
       "<matplotlib.axes._subplots.AxesSubplot at 0x7f5f7af57ac8>"
      ]
     },
     "execution_count": 18,
     "metadata": {},
     "output_type": "execute_result"
    },
    {
     "data": {
      "image/png": "[encoded data removed]",
      "text/plain": [
       "<Figure size 432x288 with 1 Axes>"
      ]
     },
     "metadata": {
      "needs_background": "light"
     },
     "output_type": "display_data"
    }
   ],
   "source": [
    "sns.scatterplot(rfreg_top30_preds[0]['preds'], rfreg_top30_preds[0]['trues'])"
   ]
  },
  {
   "cell_type": "code",
   "execution_count": 19,
   "metadata": {},
   "outputs": [
    {
     "data": {
      "text/plain": [
       "SpearmanrResult(correlation=0.4156624089498486, pvalue=3.0338732231321177e-281)"
      ]
     },
     "execution_count": 19,
     "metadata": {},
     "output_type": "execute_result"
    }
   ],
   "source": [
    "spearmanr(rfreg_top30_preds[0]['preds'], rfreg_top30_preds[0]['trues'])"
   ]
  },
  {
   "cell_type": "code",
   "execution_count": 20,
   "metadata": {},
   "outputs": [
    {
     "data": {
      "text/plain": [
       "0.6838936610365611"
      ]
     },
     "execution_count": 20,
     "metadata": {},
     "output_type": "execute_result"
    }
   ],
   "source": [
    "# classification: top 20% sentences\n",
    "rocauc(rfreg_top30_preds[0]['trues'], rfreg_top30_preds[0]['preds'], .80, \"high\")"
   ]
  },
  {
   "cell_type": "code",
   "execution_count": 21,
   "metadata": {},
   "outputs": [
    {
     "data": {
      "text/plain": [
       "0.7501913769488584"
      ]
     },
     "execution_count": 21,
     "metadata": {},
     "output_type": "execute_result"
    }
   ],
   "source": [
    "# classification: bottom 15% sentences\n",
    "1-rocauc(rfreg_top30_preds[0]['trues'], rfreg_top30_preds[0]['preds'], .15, \"low\")"
   ]
  },
  {
   "cell_type": "code",
   "execution_count": 22,
   "metadata": {},
   "outputs": [
    {
     "data": {
      "text/plain": [
       "0.6999850822770468"
      ]
     },
     "execution_count": 22,
     "metadata": {},
     "output_type": "execute_result"
    }
   ],
   "source": [
    "# classification: 50:50\n",
    "rocauc(rfreg_top30_preds[0]['trues'], rfreg_top30_preds[0]['preds'], .50, \"high\")"
   ]
  },
  {
   "cell_type": "markdown",
   "metadata": {},
   "source": [
    "## RF regression 2: using all features "
   ]
  },
  {
   "cell_type": "code",
   "execution_count": 32,
   "metadata": {},
   "outputs": [],
   "source": [
    "col_features_all = df_contexts.columns.tolist()[6:-2]"
   ]
  },
  {
   "cell_type": "code",
   "execution_count": 33,
   "metadata": {},
   "outputs": [
    {
     "data": {
      "text/plain": [
       "['collocation_1_10',\n",
       " 'collocation_11_20',\n",
       " 'collocation_21_50',\n",
       " 'collocation_51_100',\n",
       " 'collocation_101_199',\n",
       " 'similar_1_10',\n",
       " 'similar_11_20',\n",
       " 'similar_21_50',\n",
       " 'similar_51_100',\n",
       " 'similar_101_199',\n",
       " 'num_sentences',\n",
       " 'num_words_quoted',\n",
       " 'num_times_target_exact_match',\n",
       " 'num_times_target_stem_match',\n",
       " 'distance_from_center',\n",
       " 'distance_from_edge',\n",
       " 'num_isolated_letters',\n",
       " 'num_years',\n",
       " 'num_currency_signs',\n",
       " 'num_punctuation',\n",
       " 'num_commas',\n",
       " 'num_exclamation_points',\n",
       " 'num_semicolons',\n",
       " 'num_colons',\n",
       " 'num_periods',\n",
       " 'num_ellipses',\n",
       " 'num_pound_signs',\n",
       " 'num_percent_signs',\n",
       " 'num_times_inside_parenthetical',\n",
       " 'num_parenthetical_statements',\n",
       " 'num_quotes',\n",
       " 'num_slashes',\n",
       " 'num_proper_nouns',\n",
       " 'num_words',\n",
       " 'num_numbers',\n",
       " 'num_acronyms',\n",
       " 'count:target',\n",
       " 'count:word1-target',\n",
       " 'count:target-word1',\n",
       " 'count:word1-word2-target',\n",
       " 'count:word1-target-word2',\n",
       " 'count:target-word1-word2',\n",
       " 'count:word1-word2-word3-target',\n",
       " 'count:word1-word2-target-word3',\n",
       " 'count:word1-target-word2-word3',\n",
       " 'count:target-word1-word2-word3',\n",
       " 'count:word1-word2-word3-word4-target',\n",
       " 'count:word1-word2-word3-target-word4',\n",
       " 'count:word1-word2-target-word3-word4',\n",
       " 'count:word1-target-word2-word3-word4',\n",
       " 'count:target-word1-word2-word3-word4',\n",
       " 'prob:target-word1-word2-word3-word4',\n",
       " 'prob:word1-target-word2-word3-word4',\n",
       " 'prob:word1-word2-target-word3-word4',\n",
       " 'prob:word1-word2-word3-target-word4',\n",
       " 'prob:word1-word2-word3-word4-target',\n",
       " 'prob:target-word1-word2-word3',\n",
       " 'prob:word1-word2-word3-target',\n",
       " 'prob:word1-target-word2-word3',\n",
       " 'prob:word1-word2-target-word3',\n",
       " 'prob:target-word1-word2',\n",
       " 'prob:word1-target-word2',\n",
       " 'prob:word1-word2-target',\n",
       " 'prob:word1-target',\n",
       " 'prob:target-word1',\n",
       " 'prob:target',\n",
       " 'count:word1-target-blank',\n",
       " 'count:target-word1-blank',\n",
       " 'count:word1-word2-target-blank',\n",
       " 'count:word1-target-word2-blank',\n",
       " 'count:target-word1-word2-blank',\n",
       " 'count:word1-word2-word3-target-blank',\n",
       " 'count:word1-word2-target-word3-blank',\n",
       " 'count:word1-target-word2-word3-blank',\n",
       " 'count:target-word1-word2-word3-blank',\n",
       " 'count:word1-word2-word3-word4-target-blank',\n",
       " 'count:word1-word2-word3-target-word4-blank',\n",
       " 'count:word1-word2-target-word3-word4-blank',\n",
       " 'count:word1-target-word2-word3-word4-blank',\n",
       " 'count:target-word1-word2-word3-word4-blank',\n",
       " 'prob:target-word1-word2-word3-word4-blank',\n",
       " 'prob:word1-target-word2-word3-word4-blank',\n",
       " 'prob:word1-word2-target-word3-word4-blank',\n",
       " 'prob:word1-word2-word3-target-word4-blank',\n",
       " 'prob:word1-word2-word3-word4-target-blank',\n",
       " 'prob:target-word1-word2-word3-blank',\n",
       " 'prob:word1-word2-word3-target-blank',\n",
       " 'prob:word1-target-word2-word3-blank',\n",
       " 'prob:word1-word2-target-word3-blank',\n",
       " 'prob:target-word1-word2-blank',\n",
       " 'prob:word1-target-word2-blank',\n",
       " 'prob:word1-word2-target-blank',\n",
       " 'prob:word1-target-blank',\n",
       " 'prob:target-word1-blank',\n",
       " 'prob:target-blank',\n",
       " 'Admiration/Awe_GALC',\n",
       " 'Amusement_GALC',\n",
       " 'Anger_GALC',\n",
       " 'Anxiety_GALC',\n",
       " 'Beingtouched_GALC',\n",
       " 'Boredom_GALC',\n",
       " 'Compassion_GALC',\n",
       " 'Contempt_GALC',\n",
       " 'Contentment_GALC',\n",
       " 'Desperation_GALC',\n",
       " 'Disappointment_GALC',\n",
       " 'Disgust_GALC',\n",
       " 'Dissatisfaction_GALC',\n",
       " 'Envy_GALC',\n",
       " 'Fear_GALC',\n",
       " 'Feelinglove_GALC',\n",
       " 'Gratitude_GALC',\n",
       " 'Guilt_GALC',\n",
       " 'Happiness_GALC',\n",
       " 'Hatred_GALC',\n",
       " 'Hope_GALC',\n",
       " 'Humility_GALC',\n",
       " 'Interest/Enthusiasm_GALC',\n",
       " 'Irritation_GALC',\n",
       " 'Jealousy_GALC',\n",
       " 'Joy_GALC',\n",
       " 'Longing_GALC',\n",
       " 'Lust_GALC',\n",
       " 'Pleasure/Enjoyment_GALC',\n",
       " 'Pride_GALC',\n",
       " 'Relaxation/Serenity_GALC',\n",
       " 'Relief_GALC',\n",
       " 'Sadness_GALC',\n",
       " 'Shame_GALC',\n",
       " 'Surprise_GALC',\n",
       " 'Tension/Stress_GALC',\n",
       " 'Positive_GALC',\n",
       " 'Negative_GALC',\n",
       " 'Anger_EmoLex',\n",
       " 'Anticipation_EmoLex',\n",
       " 'Disgust_EmoLex',\n",
       " 'Fear_EmoLex',\n",
       " 'Joy_EmoLex',\n",
       " 'Negative_EmoLex',\n",
       " 'Positive_EmoLex',\n",
       " 'Sadness_EmoLex',\n",
       " 'Surprise_EmoLex',\n",
       " 'Trust_EmoLex',\n",
       " 'Valence',\n",
       " 'Valence_nwords',\n",
       " 'Arousal',\n",
       " 'Arousal_nwords',\n",
       " 'Dominance',\n",
       " 'Dominance_nwords',\n",
       " 'pleasantness',\n",
       " 'attention',\n",
       " 'sensitivity',\n",
       " 'aptitude',\n",
       " 'polarity',\n",
       " 'vader_negative',\n",
       " 'vader_neutral',\n",
       " 'vader_positive',\n",
       " 'vader_compound',\n",
       " 'hu_liu_pos_perc',\n",
       " 'hu_liu_neg_perc',\n",
       " 'hu_liu_pos_nwords',\n",
       " 'hu_liu_neg_nwords',\n",
       " 'hu_liu_prop',\n",
       " 'Positiv_GI',\n",
       " 'Negativ_GI',\n",
       " 'Pstv_GI',\n",
       " 'Affil_GI',\n",
       " 'Ngtv_GI',\n",
       " 'Hostile_GI',\n",
       " 'Strong_GI',\n",
       " 'Power_GI',\n",
       " 'Weak_GI',\n",
       " 'Submit_GI',\n",
       " 'Active_GI',\n",
       " 'Passive_GI',\n",
       " 'Pleasur_GI',\n",
       " 'Pain_GI',\n",
       " 'Feel_GI',\n",
       " 'Arousal_GI',\n",
       " 'Emot_GI',\n",
       " 'Virtue_GI',\n",
       " 'Vice_GI',\n",
       " 'Ovrst_GI',\n",
       " 'Undrst_GI',\n",
       " 'Academ_GI',\n",
       " 'Doctrin_GI',\n",
       " 'Econ_2_GI',\n",
       " 'Exch_GI',\n",
       " 'Econ_GI',\n",
       " 'Exprsv_GI',\n",
       " 'Legal_GI',\n",
       " 'Milit_GI',\n",
       " 'Polit_2_GI',\n",
       " 'Polit_GI',\n",
       " 'Relig_GI',\n",
       " 'Role_GI',\n",
       " 'Coll_GI',\n",
       " 'Work_GI',\n",
       " 'Ritual_GI',\n",
       " 'Socrel_GI',\n",
       " 'Race_GI',\n",
       " 'Kin_2_GI',\n",
       " 'Male_GI',\n",
       " 'Female_GI',\n",
       " 'Nonadlt_GI',\n",
       " 'Hu_GI',\n",
       " 'Ani_GI',\n",
       " 'Place_GI',\n",
       " 'Social_GI',\n",
       " 'Region_GI',\n",
       " 'Route_GI',\n",
       " 'Aquatic_GI',\n",
       " 'Land_GI',\n",
       " 'Sky_GI',\n",
       " 'Object_GI',\n",
       " 'Tool_GI',\n",
       " 'Food_GI',\n",
       " 'Vehicle_GI',\n",
       " 'Bldgpt_GI',\n",
       " 'Comnobj_GI',\n",
       " 'Natobj_GI',\n",
       " 'Bodypt_GI',\n",
       " 'Comform_GI',\n",
       " 'Com_GI',\n",
       " 'Say_GI',\n",
       " 'Need_GI',\n",
       " 'Goal_GI',\n",
       " 'Try_GI',\n",
       " 'Means_GI',\n",
       " 'Persist_GI',\n",
       " 'Complet_GI',\n",
       " 'Fail_GI',\n",
       " 'Natrpro_GI',\n",
       " 'Begin_GI',\n",
       " 'Vary_GI',\n",
       " 'Increas_GI',\n",
       " 'Decreas_GI',\n",
       " 'Finish_GI',\n",
       " 'Stay_GI',\n",
       " 'Rise_GI',\n",
       " 'Exert_GI',\n",
       " 'Fetch_GI',\n",
       " 'Travel_GI',\n",
       " 'Fall_GI',\n",
       " 'Think_GI',\n",
       " 'Know_GI',\n",
       " 'Causal_GI',\n",
       " 'Ought_GI',\n",
       " 'Perceiv_GI',\n",
       " 'Compare_GI',\n",
       " 'Eval_2_GI',\n",
       " 'Eval_GI',\n",
       " 'Solve_GI',\n",
       " 'Abs_2_GI',\n",
       " 'Abs_GI',\n",
       " 'Quality_GI',\n",
       " 'Quan_GI',\n",
       " 'Numb_GI',\n",
       " 'Ord_GI',\n",
       " 'Card_GI',\n",
       " 'Freq_GI',\n",
       " 'Dist_GI',\n",
       " 'Time_2_GI',\n",
       " 'Time_GI',\n",
       " 'Space_GI',\n",
       " 'Pos_GI',\n",
       " 'Dim_GI',\n",
       " 'Rel_GI',\n",
       " 'Color_GI',\n",
       " 'Self_GI',\n",
       " 'Our_GI',\n",
       " 'You_GI',\n",
       " 'Name_GI',\n",
       " 'Yes_GI',\n",
       " 'No_GI',\n",
       " 'Negate_GI',\n",
       " 'Intrj_GI',\n",
       " 'Iav_GI',\n",
       " 'Dav_GI',\n",
       " 'Sv_GI',\n",
       " 'Ipadj_GI',\n",
       " 'Indadj_GI',\n",
       " 'Powgain_Lasswell',\n",
       " 'Powloss_Lasswell',\n",
       " 'Powends_Lasswell',\n",
       " 'Powaren_Lasswell',\n",
       " 'Powcon_Lasswell',\n",
       " 'Powcoop_Lasswell',\n",
       " 'Powaupt_Lasswell',\n",
       " 'Powpt_Lasswell',\n",
       " 'Powdoct_Lasswell',\n",
       " 'Powauth_Lasswell',\n",
       " 'Powoth_Lasswell',\n",
       " 'Powtot_Lasswell',\n",
       " 'Rcethic_Lasswell',\n",
       " 'Rcrelig_Lasswell',\n",
       " 'Rcgain_Lasswell',\n",
       " 'Rcloss_Lasswell',\n",
       " 'Rcends_Lasswell',\n",
       " 'Rctot_Lasswell',\n",
       " 'Rspgain_Lasswell',\n",
       " 'Rsploss_Lasswell',\n",
       " 'Rspoth_Lasswell',\n",
       " 'Rsptot_Lasswell',\n",
       " 'Affgain_Lasswell',\n",
       " 'Affloss_Lasswell',\n",
       " 'Affpt_Lasswell',\n",
       " 'Affoth_Lasswell',\n",
       " 'Afftot_Lasswell',\n",
       " 'Wltpt_Lasswell',\n",
       " 'Wlttran_Lasswell',\n",
       " 'Wltoth_Lasswell',\n",
       " 'Wlttot_Lasswell',\n",
       " 'Wlbgain_Lasswell',\n",
       " 'Wlbloss_Lasswell',\n",
       " 'Wlbphys_Lasswell',\n",
       " 'Wlbpsyc_Lasswell',\n",
       " 'Wlbpt_Lasswell',\n",
       " 'Wlbtot_Lasswell',\n",
       " 'Enlgain_Lasswell',\n",
       " 'Enlloss_Lasswell',\n",
       " 'Enlends_Lasswell',\n",
       " 'Enlpt_Lasswell',\n",
       " 'Enloth_Lasswell',\n",
       " 'Enltot_Lasswell',\n",
       " 'Sklasth_Lasswell',\n",
       " 'Sklpt_Lasswell',\n",
       " 'Skloth_Lasswell',\n",
       " 'Skltot_Lasswell',\n",
       " 'Trngain_Lasswell',\n",
       " 'Trnloss_Lasswell',\n",
       " 'Tranlw_Lasswell',\n",
       " 'Meanslw_Lasswell',\n",
       " 'Endslw_Lasswell',\n",
       " 'Arenalw_Lasswell',\n",
       " 'Ptlw_Lasswell',\n",
       " 'Nation_Lasswell',\n",
       " 'Anomie_Lasswell',\n",
       " 'Negaff_Lasswell',\n",
       " 'Posaff_Lasswell',\n",
       " 'Surelw_Lasswell',\n",
       " 'If_Lasswell',\n",
       " 'Notlw_Lasswell',\n",
       " 'Timespc_Lasswell',\n",
       " 'formlw_Lasswell',\n",
       " 'negative_adjectives_component',\n",
       " 'social_order_component',\n",
       " 'action_component',\n",
       " 'positive_adjectives_component',\n",
       " 'joy_component',\n",
       " 'affect_friends_and_family_component',\n",
       " 'fear_and_digust_component',\n",
       " 'politeness_component',\n",
       " 'polarity_nouns_component',\n",
       " 'polarity_verbs_component',\n",
       " 'virtue_adverbs_component',\n",
       " 'positive_nouns_component',\n",
       " 'respect_component',\n",
       " 'trust_verbs_component',\n",
       " 'failure_component',\n",
       " 'well_being_component',\n",
       " 'economy_component',\n",
       " 'certainty_component',\n",
       " 'positive_verbs_component',\n",
       " 'objects_component',\n",
       " 'nwords',\n",
       " 'ntypes',\n",
       " 'ttr',\n",
       " 'ncontent_words',\n",
       " 'ncontent_types',\n",
       " 'content_ttr',\n",
       " 'nfunction_words',\n",
       " 'nfunction_types',\n",
       " 'function_ttr',\n",
       " 'nlemmas',\n",
       " 'nlemma_types',\n",
       " 'lemma_ttr',\n",
       " 'nlemma_content_words',\n",
       " 'nlemma_content_types',\n",
       " 'lemma_content_ttr',\n",
       " 'nlemma_function_words',\n",
       " 'nlemma_function_types',\n",
       " 'lemma_function_ttr',\n",
       " 'bigram_type_count',\n",
       " 'trigram_type_count',\n",
       " 'bigram_ttr',\n",
       " 'trigram_ttr',\n",
       " 'Adjacent_Overlap_lemma_ALL',\n",
       " 'Adjacent_Overlap_lemma_CW',\n",
       " 'Adjacent_Overlap_lemma_FW',\n",
       " 'Adjacent_Overlap_lemma_ALL_sent_av',\n",
       " 'Adjacent_Overlap_lemma_CW_sent_av',\n",
       " 'Adjacent_Overlap_lemma_FW_sent_av',\n",
       " 'Adjacent_Overlap_POS_Lemma_Noun',\n",
       " 'Adjacent_Overlap_POS_Lemma_Verb',\n",
       " 'Adjacent_Overlap_POS_Lemma_Adj',\n",
       " 'Adjacent_Overlap_POS_Lemma_Adv',\n",
       " 'Adjacent_Overlap_POS_Lemma_PRP',\n",
       " 'Adjacent_Overlap_POS_Lemma_Argument',\n",
       " 'Adjacent_Overlap_POS_Lemma_Noun_sent_av',\n",
       " 'Adjacent_Overlap_POS_Lemma_Verb_sent_av',\n",
       " 'Adjacent_Overlap_POS_Lemma_Adj_sent_av',\n",
       " 'Adjacent_Overlap_POS_Lemma_Adv_sent_av',\n",
       " 'Adjacent_Overlap_POS_Lemma_PRP_sent_av',\n",
       " 'Adjacent_Overlap_POS_Lemma_Argument_sent_av',\n",
       " 'Adjacent_Overlap_Binary_POS_Lemma_Noun',\n",
       " 'Adjacent_Overlap_Binary_POS_Lemma_Verb',\n",
       " 'Adjacent_Overlap_Binary_POS_Lemma_Adj',\n",
       " 'Adjacent_Overlap_Binary_POS_Lemma_Adv',\n",
       " 'Adjacent_Overlap_Binary_POS_Lemma_PRP',\n",
       " 'Adjacent_Overlap_Binary_POS_Lemma_Argument',\n",
       " 'Adjacent_Overlap_2_lemma_ALL',\n",
       " 'Adjacent_Overlap_2_lemma_CW',\n",
       " 'Adjacent_Overlap_2_lemma_FW',\n",
       " 'Adjacent_Overlap_2_lemma_ALL_sent_av',\n",
       " 'Adjacent_Overlap_2_lemma_CW_sent_av',\n",
       " 'Adjacent_Overlap_2_lemma_FW_sent_av',\n",
       " 'Adjacent_Overlap_2_POS_Lemma_Noun',\n",
       " 'Adjacent_Overlap_2_POS_Lemma_Verb',\n",
       " 'Adjacent_Overlap_2_POS_Lemma_Adj',\n",
       " 'Adjacent_Overlap_2_POS_Lemma_Adv',\n",
       " 'Adjacent_Overlap_2_POS_Lemma_PRP',\n",
       " 'Adjacent_Overlap_2_POS_Lemma_Argument',\n",
       " 'Adjacent_Overlap_2_POS_Lemma_Noun_sent_av',\n",
       " 'Adjacent_Overlap_2_POS_Lemma_Verb_sent_av',\n",
       " 'Adjacent_Overlap_2_POS_Lemma_Adj_sent_av',\n",
       " 'Adjacent_Overlap_2_POS_Lemma_Adv_sent_av',\n",
       " 'Adjacent_Overlap_2_POS_Lemma_PRP_sent_av',\n",
       " 'Adjacent_Overlap_2_POS_Lemma_Argument_sent_av',\n",
       " 'Adjacent_Overlap_2_Binary_POS_Lemma_Noun',\n",
       " 'Adjacent_Overlap_2_Binary_POS_Lemma_Verb',\n",
       " 'Adjacent_Overlap_2_Binary_POS_Lemma_Adj',\n",
       " 'Adjacent_Overlap_2_Binary_POS_Lemma_Adv',\n",
       " 'Adjacent_Overlap_2_Binary_POS_Lemma_PRP',\n",
       " 'Adjacent_Overlap_2_Binary_POS_Lemma_Argument',\n",
       " 'Adjacent_Overlap_2_Binary_Lemma_All',\n",
       " 'Adjacent_Overlap_2_Binary_Lemma_CW',\n",
       " 'Adjacent_Overlap_2_Binary_Lemma_FW',\n",
       " 'Adjacent_Overlap_Para_lemma_ALL',\n",
       " 'Adjacent_Overlap_Para_lemma_CW',\n",
       " 'Adjacent_Overlap_Para_lemma_FW',\n",
       " 'Adjacent_Overlap_Para_lemma_ALL_sent_av',\n",
       " 'Adjacent_Overlap_Para_lemma_CW_sent_av',\n",
       " 'Adjacent_Overlap_Para_lemma_FW_sent_av',\n",
       " 'Adjacent_Overlap_Para_POS_Lemma_Noun',\n",
       " 'Adjacent_Overlap_Para_POS_Lemma_Verb',\n",
       " 'Adjacent_Overlap_Para_POS_Lemma_Adj',\n",
       " 'Adjacent_Overlap_Para_POS_Lemma_Adv',\n",
       " 'Adjacent_Overlap_Para_POS_Lemma_PRP',\n",
       " 'Adjacent_Overlap_Para_POS_Lemma_Argument',\n",
       " 'Adjacent_Overlap_Para_POS_Lemma_Noun_sent_av',\n",
       " 'Adjacent_Overlap_Para_POS_Lemma_Verb_sent_av',\n",
       " 'Adjacent_Overlap_Para_POS_Lemma_Adj_sent_av',\n",
       " 'Adjacent_Overlap_Para_POS_Lemma_Adv_sent_av',\n",
       " 'Adjacent_Overlap_Para_POS_Lemma_PRP_sent_av',\n",
       " 'Adjacent_Overlap_Para_POS_Lemma_Argument_sent_av',\n",
       " 'Adjacent_Overlap_Para_2_lemma_ALL',\n",
       " 'Adjacent_Overlap_Para_2_lemma_CW',\n",
       " 'Adjacent_Overlap_Para_2_lemma_FW',\n",
       " 'Adjacent_Overlap_Para_2_lemma_ALL_sent_av',\n",
       " 'Adjacent_Overlap_Para_2_lemma_CW_sent_av',\n",
       " 'Adjacent_Overlap_Para_2_lemma_FW_sent_av',\n",
       " 'Adjacent_Overlap_Para_2_POS_Lemma_Noun',\n",
       " 'Adjacent_Overlap_Para_2_POS_Lemma_Verb',\n",
       " 'Adjacent_Overlap_Para_2_POS_Lemma_Adj',\n",
       " 'Adjacent_Overlap_Para_2_POS_Lemma_Adv',\n",
       " 'Adjacent_Overlap_Para_2_POS_Lemma_PRP',\n",
       " 'Adjacent_Overlap_Para_2_POS_Lemma_Argument',\n",
       " 'Adjacent_Overlap_Para_2_POS_Lemma_Noun_sent_av',\n",
       " 'Adjacent_Overlap_Para_2_POS_Lemma_Verb_sent_av',\n",
       " 'Adjacent_Overlap_Para_2_POS_Lemma_Adj_sent_av',\n",
       " 'Adjacent_Overlap_Para_2_POS_Lemma_Adv_sent_av',\n",
       " 'Adjacent_Overlap_Para_2_POS_Lemma_PRP_sent_av',\n",
       " 'Adjacent_Overlap_Para_2_POS_Lemma_Argument_sent_av',\n",
       " 'Adjacent_Overlap_Para_2_Binary_POS_Lemma_Noun',\n",
       " 'Adjacent_Overlap_Para_2_Binary_POS_Lemma_Verb',\n",
       " 'Adjacent_Overlap_Para_2_Binary_POS_Lemma_Adj',\n",
       " 'Adjacent_Overlap_Para_2_Binary_POS_Lemma_Adv',\n",
       " 'Adjacent_Overlap_Para_2_Binary_POS_Lemma_PRP',\n",
       " 'Adjacent_Overlap_Para_2_Binary_POS_Lemma_Argument',\n",
       " 'noun_sent_syn_lemma_overlap',\n",
       " 'verb_sent_syn_lemma_overlap',\n",
       " 'noun_para_syn_lemma_overlap',\n",
       " 'verb_para_syn_lemma_overlap',\n",
       " 'pronoun_noun_ratio',\n",
       " 'repeated_content_lemmas',\n",
       " 'repeated_content_lemmas_pronoun',\n",
       " 'basic connectives',\n",
       " 'conjunctions',\n",
       " 'disjunctions',\n",
       " 'simple subordinators',\n",
       " 'coordinating conjuncts',\n",
       " 'addition',\n",
       " 'sentence linking',\n",
       " 'order',\n",
       " 'reason and purpose',\n",
       " 'opposition',\n",
       " 'determiners',\n",
       " 'demonstratives',\n",
       " '[all_additive-bk]',\n",
       " '[all_causal-bk]',\n",
       " '[positivecausal-bk]',\n",
       " '[all_logical-bk]',\n",
       " '[positivelogical-bk]',\n",
       " '[negativelogical-bk]',\n",
       " '[all_temporal-bk]',\n",
       " '[positiveintentional-bk]',\n",
       " '[all_positive-bk]',\n",
       " '[all_negative-bk]',\n",
       " '[allconnective-bk]',\n",
       " '[prp3]',\n",
       " '[subjprp]',\n",
       " '[quantprp]',\n",
       " '[posprp]',\n",
       " 'KF Freq AW',\n",
       " 'KF Freq AW Log',\n",
       " 'KF Ncats AW',\n",
       " 'KF Nsamp AW',\n",
       " 'TL Freq AW',\n",
       " 'TL Freq AW Log',\n",
       " 'Brown Freq AW',\n",
       " 'Brown Freq AW Log',\n",
       " 'KF Freq CW',\n",
       " 'KF Freq CW Log',\n",
       " 'KF Ncats CW',\n",
       " 'KF Nsamp CW',\n",
       " 'TL Freq CW',\n",
       " 'TL Freq CW Log',\n",
       " 'Brown Freq CW',\n",
       " 'Brown Freq CW Log',\n",
       " 'KF Freq FW',\n",
       " 'KF Freq FW Log',\n",
       " 'KF Ncats FW',\n",
       " 'KF Nsamp FW',\n",
       " 'TL Freq FW',\n",
       " 'TL Freq FW Log',\n",
       " 'Brown Freq FW',\n",
       " 'Brown Freq FW Log',\n",
       " 'SUBTLEXus Freq AW',\n",
       " 'SUBTLEXus Range AW',\n",
       " 'SUBTLEXus Freq AW Log',\n",
       " 'SUBTLEXus Range AW Log',\n",
       " 'SUBTLEXus Freq CW',\n",
       " 'SUBTLEXus Range CW',\n",
       " 'SUBTLEXus Freq CW Log',\n",
       " 'SUBTLEXus Range CW Log',\n",
       " 'SUBTLEXus Freq FW',\n",
       " 'SUBTLEXus Range FW',\n",
       " 'SUBTLEXus Freq FW Log',\n",
       " 'SUBTLEXus Range FW Log',\n",
       " 'BNC Written Freq AW',\n",
       " 'BNC Written Freq AW Log',\n",
       " 'BNC Written Range AW',\n",
       " 'BNC Spoken Freq AW',\n",
       " 'BNC Spoken Freq AW Log',\n",
       " 'BNC Spoken Range AW',\n",
       " 'BNC Written Freq CW',\n",
       " 'BNC Written Freq CW Log',\n",
       " 'BNC Written Range CW',\n",
       " 'BNC Spoken Freq CW',\n",
       " 'BNC Spoken Freq CW Log',\n",
       " 'BNC Spoken Range CW',\n",
       " 'BNC Written Freq FW',\n",
       " 'BNC Written Freq FW Log',\n",
       " 'BNC Written Range FW',\n",
       " 'BNC Spoken Freq FW',\n",
       " 'BNC Spoken Freq FW Log',\n",
       " 'BNC Spoken Range FW',\n",
       " 'BNC Spoken Bigram Normed',\n",
       " 'BNC Spoken Bigram Normed Log',\n",
       " 'BNC Written Bigram Freq Normed',\n",
       " 'BNC Written Bigram Freq Normed Log',\n",
       " 'BNC Spoken Bigram Proportion',\n",
       " 'BNC Written Bigram Proportion',\n",
       " 'BNC Spoken Trigram Normed',\n",
       " 'BNC Spoken Trigram Normed Log',\n",
       " 'BNC Written Trigram Freq Normed',\n",
       " 'BNC Written Trigram Freq Normed Log',\n",
       " 'BNC Written Trigram Proportion',\n",
       " 'BNC Spoken Trigram Proportion',\n",
       " 'MRC Familiarity AW',\n",
       " 'MRC Concreteness AW',\n",
       " 'MRC Imageability AW',\n",
       " 'MRC Meaningfulness AW',\n",
       " 'MRC Familiarity CW',\n",
       " 'MRC Concreteness CW',\n",
       " 'MRC Imageability CW',\n",
       " 'MRC Meaningfulness CW',\n",
       " 'MRC Familiarity FW',\n",
       " 'MRC Concreteness FW',\n",
       " 'MRC Imageability FW',\n",
       " 'MRC Meaningfulness FW',\n",
       " 'Kuperman AoA AW',\n",
       " 'Kuperman AoA CW',\n",
       " 'Kuperman AoA FW',\n",
       " 'Brysbaert Concreteness Unigram AW',\n",
       " 'Brysbaert Concreteness Unigram CW',\n",
       " 'Brysbaert Concreteness Unigram FW',\n",
       " 'Brysbaert Concreteness bigrams AW',\n",
       " 'Brysbaert Concreteness Combined AW',\n",
       " 'Brysbaert Concreteness Combined CW',\n",
       " 'Brysbaert Concreteness Combined FW',\n",
       " 'All AWL Normed',\n",
       " 'AWL Sublist 1 Normed',\n",
       " 'AWL Sublist 2 Normed',\n",
       " 'AWL Sublist 3 Normed',\n",
       " 'AWL Sublist 4 Normed',\n",
       " 'AWL Sublist 5 Normed',\n",
       " 'AWL Sublist 6 Normed',\n",
       " 'AWL Sublist 7 Normed',\n",
       " 'AWL Sublist 8 Normed',\n",
       " 'AWL Sublist 9 Normed',\n",
       " 'AWL Sublist 10 Normed',\n",
       " 'All AFL Normed',\n",
       " 'Core AFL Normed',\n",
       " 'Spoken AFL Normed',\n",
       " 'Written AFL Normed']"
      ]
     },
     "execution_count": 33,
     "metadata": {},
     "output_type": "execute_result"
    }
   ],
   "source": [
    "col_features_all"
   ]
  },
  {
   "cell_type": "code",
   "execution_count": 34,
   "metadata": {},
   "outputs": [
    {
     "data": {
      "text/plain": [
       "617"
      ]
     },
     "execution_count": 34,
     "metadata": {},
     "output_type": "execute_result"
    }
   ],
   "source": [
    "len(col_features_all) # feature counts from the original paper: 615"
   ]
  },
  {
   "cell_type": "code",
   "execution_count": 36,
   "metadata": {},
   "outputs": [],
   "source": [
    "reset_rf_samples()\n",
    "set_rf_samples(10000)\n",
    "gkf_split = gkf1.split(df_contexts['context'], groups=df_contexts['target_word'])\n",
    "\n",
    "rfreg_all_preds = []\n",
    "rfreg_all_score = []\n",
    "for train_idx, test_idx in gkf_split:\n",
    "    rfreg_all = RandomForestRegressor(random_state=0, n_estimators=500, n_jobs=-3)\n",
    "    rfreg_all.fit(df_contexts.iloc[train_idx][col_features_all], df_contexts.iloc[train_idx]['mm_mean_rating'])\n",
    "    \n",
    "    rfreg_all_preds.append({\"preds\":rfreg_all.predict(df_contexts.iloc[test_idx][col_features_all]),\n",
    "                            \"trues\":df_contexts.iloc[test_idx]['mm_mean_rating'].values})    \n",
    "    rfreg_all_score.append(rfreg_all.score(df_contexts.iloc[test_idx][col_features_all], df_contexts.iloc[test_idx]['mm_mean_rating']))"
   ]
  },
  {
   "cell_type": "code",
   "execution_count": 37,
   "metadata": {},
   "outputs": [],
   "source": [
    "np.savez(\"kapelner_rfreg_all_results.npy\", preds=rfreg_all_preds, score=rfreg_all_score)"
   ]
  },
  {
   "cell_type": "code",
   "execution_count": null,
   "metadata": {},
   "outputs": [],
   "source": []
  },
  {
   "cell_type": "code",
   "execution_count": 38,
   "metadata": {},
   "outputs": [],
   "source": [
    "tt = np.load(\"kapelner_rfreg_all_results.npy.npz\", allow_pickle=True)"
   ]
  },
  {
   "cell_type": "code",
   "execution_count": 39,
   "metadata": {},
   "outputs": [],
   "source": [
    "rfreg_all_preds = tt['preds']\n",
    "rfreg_all_score = tt['score']"
   ]
  },
  {
   "cell_type": "code",
   "execution_count": 40,
   "metadata": {},
   "outputs": [
    {
     "data": {
      "text/plain": [
       "array([0.18592895, 0.18432299, 0.16748344, 0.18719804, 0.18980206,\n",
       "       0.18688365, 0.18564987, 0.17200978, 0.18528638, 0.15156751])"
      ]
     },
     "execution_count": 40,
     "metadata": {},
     "output_type": "execute_result"
    }
   ],
   "source": [
    "rfreg_all_score"
   ]
  },
  {
   "cell_type": "code",
   "execution_count": 41,
   "metadata": {},
   "outputs": [
    {
     "data": {
      "text/plain": [
       "(0.1796132684027114, 0.17089620451073456, 0.18833033229468826)"
      ]
     },
     "execution_count": 41,
     "metadata": {},
     "output_type": "execute_result"
    }
   ],
   "source": [
    "ci(rfreg_all_score)"
   ]
  },
  {
   "cell_type": "code",
   "execution_count": 42,
   "metadata": {},
   "outputs": [
    {
     "data": {
      "text/plain": [
       "<matplotlib.axes._subplots.AxesSubplot at 0x7f616bfee9b0>"
      ]
     },
     "execution_count": 42,
     "metadata": {},
     "output_type": "execute_result"
    },
    {
     "data": {
      "image/png": "[encoded data removed]",
      "text/plain": [
       "<Figure size 432x288 with 1 Axes>"
      ]
     },
     "metadata": {
      "needs_background": "light"
     },
     "output_type": "display_data"
    }
   ],
   "source": [
    "sns.scatterplot(rfreg_all_preds[0]['preds'], rfreg_all_preds[0]['trues'])"
   ]
  },
  {
   "cell_type": "code",
   "execution_count": 50,
   "metadata": {},
   "outputs": [
    {
     "data": {
      "text/plain": [
       "(0.17961326840271147, 0.17089620451073467, 0.18833033229468826)"
      ]
     },
     "execution_count": 50,
     "metadata": {},
     "output_type": "execute_result"
    }
   ],
   "source": [
    "# spearmanr(rfreg_all_preds[0]['preds'], rfreg_all_preds[0]['trues'])\n",
    "ci([r2_score(x['trues'], x['preds']) for x in rfreg_all_preds])"
   ]
  },
  {
   "cell_type": "code",
   "execution_count": 43,
   "metadata": {},
   "outputs": [
    {
     "data": {
      "text/plain": [
       "(0.40936162366782725, 0.3958004284133775, 0.422922818922277)"
      ]
     },
     "execution_count": 43,
     "metadata": {},
     "output_type": "execute_result"
    }
   ],
   "source": [
    "# spearmanr(rfreg_all_preds[0]['preds'], rfreg_all_preds[0]['trues'])\n",
    "ci([spearmanr(x['preds'], x['trues'])[0] for x in rfreg_all_preds])"
   ]
  },
  {
   "cell_type": "code",
   "execution_count": 44,
   "metadata": {},
   "outputs": [
    {
     "data": {
      "text/plain": [
       "(0.6804147651798378, 0.668549406656556, 0.6922801237031195)"
      ]
     },
     "execution_count": 44,
     "metadata": {},
     "output_type": "execute_result"
    }
   ],
   "source": [
    "# rocauc(rfreg_all_preds[0]['trues'], rfreg_all_preds[0]['preds'], .80, \"high\")\n",
    "ci([rocauc(x['trues'], x['preds'], .80, \"high\") for x in rfreg_all_preds])"
   ]
  },
  {
   "cell_type": "code",
   "execution_count": 45,
   "metadata": {},
   "outputs": [
    {
     "data": {
      "text/plain": [
       "(0.735954498595637, 0.7290504625600464, 0.7428585346312276)"
      ]
     },
     "execution_count": 45,
     "metadata": {},
     "output_type": "execute_result"
    }
   ],
   "source": [
    "# 1-rocauc(rfreg_all_preds[0]['trues'], rfreg_all_preds[0]['preds'], .15, \"low\")\n",
    "ci([1-rocauc(x['trues'], x['preds'], .20, \"low\") for x in rfreg_all_preds])"
   ]
  },
  {
   "cell_type": "code",
   "execution_count": 46,
   "metadata": {},
   "outputs": [
    {
     "data": {
      "text/plain": [
       "(0.6979020746090342, 0.6912060464004222, 0.7045981028176462)"
      ]
     },
     "execution_count": 46,
     "metadata": {},
     "output_type": "execute_result"
    }
   ],
   "source": [
    "# rocauc(rfreg_all_preds[0]['trues'], rfreg_all_preds[0]['preds'], .50, \"high\")\n",
    "ci([rocauc(x['trues'], x['preds'], .50, \"high\") for x in rfreg_all_preds])"
   ]
  },
  {
   "cell_type": "code",
   "execution_count": 47,
   "metadata": {},
   "outputs": [
    {
     "data": {
      "text/plain": [
       "{'RMSE': (0.157, 0.154, 0.159),\n",
       " '20low': (0.736, 0.729, 0.743),\n",
       " '50_50': (0.698, 0.691, 0.705),\n",
       " '20_h': (0.68, 0.669, 0.692)}"
      ]
     },
     "execution_count": 47,
     "metadata": {},
     "output_type": "execute_result"
    }
   ],
   "source": [
    "{\"RMSE\": ci([rmse(x['trues'], x['preds']) for x in rfreg_all_preds], digits=3),\n",
    " \"20low\":ci([1-rocauc(x['trues'], x['preds'], .20, \"low\") for x in rfreg_all_preds], digits=3),\n",
    " \"50_50\":ci([rocauc(x['trues'], x['preds'], .50, \"high\") for x in rfreg_all_preds], digits=3),\n",
    " \"20_h\": ci([rocauc(x['trues'], x['preds'], .80, \"high\") for x in rfreg_all_preds], digits=3),}"
   ]
  },
  {
   "cell_type": "code",
   "execution_count": null,
   "metadata": {},
   "outputs": [],
   "source": []
  }
 ],
 "metadata": {
  "kernelspec": {
   "display_name": "Python 3",
   "language": "python",
   "name": "python3"
  },
  "language_info": {
   "codemirror_mode": {
    "name": "ipython",
    "version": 3
   },
   "file_extension": ".py",
   "mimetype": "text/x-python",
   "name": "python",
   "nbconvert_exporter": "python",
   "pygments_lexer": "ipython3",
   "version": "3.6.7"
  }
 },
 "nbformat": 4,
 "nbformat_minor": 4
}
