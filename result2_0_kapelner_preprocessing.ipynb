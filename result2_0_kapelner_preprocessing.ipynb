{
 "cells": [
  {
   "cell_type": "code",
   "execution_count": null,
   "metadata": {},
   "outputs": [],
   "source": [
    "# original data can be downloaded from: https://github.com/kapelner/predicting_contextual_informativeness"
   ]
  },
  {
   "cell_type": "code",
   "execution_count": 1,
   "metadata": {},
   "outputs": [],
   "source": [
    "import pandas as pd\n",
    "import seaborn as sns\n",
    "import numpy as np\n",
    "import nltk\n",
    "import spacy\n",
    "import re"
   ]
  },
  {
   "cell_type": "code",
   "execution_count": 2,
   "metadata": {},
   "outputs": [],
   "source": [
    "from sklearn.preprocessing import MinMaxScaler, StandardScaler"
   ]
  },
  {
   "cell_type": "code",
   "execution_count": 3,
   "metadata": {},
   "outputs": [],
   "source": [
    "from tqdm import tqdm_notebook"
   ]
  },
  {
   "cell_type": "markdown",
   "metadata": {},
   "source": [
    "# -1. Filtering Kapelner et al. sentences \n",
    "- sentences with inappropriate score counts\n",
    "- rows with missing features"
   ]
  },
  {
   "cell_type": "code",
   "execution_count": null,
   "metadata": {},
   "outputs": [],
   "source": [
    "## filtering the original data\n",
    "# df_contexts = pd.read_pickle('dataset/predicting_contextual_informativeness-master/kapelner_context.pickle')\n",
    "# df_contexts = df_contexts[df_contexts['mean_rating']!=0] # sentences with inappropriate score counts\n",
    "# df_contexts = df_contexts.dropna()                       # rows with missing features\n",
    "# df_contexts = df_contexts.reset_index(drop=True)\n",
    "# df_contexts.to_pickle('dataset/predicting_contextual_informativeness-master/kapelner_context_filtered.pickle')"
   ]
  },
  {
   "cell_type": "code",
   "execution_count": 4,
   "metadata": {},
   "outputs": [],
   "source": [
    "df_contexts = pd.read_pickle('dataset/predicting_contextual_informativeness-master/kapelner_context_filtered.pickle')"
   ]
  },
  {
   "cell_type": "markdown",
   "metadata": {},
   "source": [
    "# 0. sentence segmentation and target word matching "
   ]
  },
  {
   "cell_type": "code",
   "execution_count": 5,
   "metadata": {},
   "outputs": [],
   "source": [
    "nlp = spacy.load(\"en\")"
   ]
  },
  {
   "cell_type": "code",
   "execution_count": 6,
   "metadata": {},
   "outputs": [],
   "source": [
    "def sent_tokenizer_targ(spacy_nlp, contexts, targets):\n",
    "    sent_tok_out = []\n",
    "    \n",
    "    # separate special characters with word (to help tokenization process)\n",
    "    # contexts = [sents.replace(targ, ' '+targ+' ') for sents, targ in zip(contexts, targets)]\n",
    "    \n",
    "    # find the target word\n",
    "    for doc, targ in tqdm_notebook(zip(nlp.pipe(contexts), targets)):\n",
    "        sents = {'sents':[], 'sent_tok':[], 'target_insent':None, 'target_stated':targ}\n",
    "        # 1. match the lemma from spacy\n",
    "        temp_targ_insent = []\n",
    "        for sent in doc.sents:\n",
    "            # save sentence list\n",
    "            sents['sents'].append(sent.text)\n",
    "            temp_sent_tok = []\n",
    "            \n",
    "            # save tokenized sentence\n",
    "            for tok in sent:\n",
    "                temp_sent_tok.append(tok.text)\n",
    "\n",
    "                # if lemma of the sentence's token matches the specified target word\n",
    "                if tok.lemma_==targ:\n",
    "                    temp_targ_insent.append(tok.text)\n",
    "            sents['sent_tok'].append(temp_sent_tok)\n",
    "            \n",
    "        # selects the first in-sentence target word appearance\n",
    "        if(temp_targ_insent):             \n",
    "            sents['target_insent'] = temp_targ_insent[0]            \n",
    "        \n",
    "        # 2. reiterate if the target word was not found in sentences; choose the token with the smallest edit distance\n",
    "        if(sents['target_insent']==None):\n",
    "            targ_insent_scr = float('inf')\n",
    "            for sent in doc.sents:\n",
    "                dist_tok_targ = np.array([nltk.edit_distance(tok.text, targ) for tok in sent])\n",
    "                temp_insent_scr = dist_tok_targ[dist_tok_targ.argmin()]\n",
    "                if(temp_insent_scr < targ_insent_scr):\n",
    "                    sents['target_insent'] = sent[dist_tok_targ.argmin()].text\n",
    "                    targ_insent_scr = temp_insent_scr            \n",
    "        sent_tok_out.append(sents)\n",
    "    return(np.array(sent_tok_out))"
   ]
  },
  {
   "cell_type": "code",
   "execution_count": 7,
   "metadata": {},
   "outputs": [],
   "source": [
    "# contexts = sent_tokenizer_targ(nlp, df_contexts['context'].values, df_contexts['target_word'].values)"
   ]
  },
  {
   "cell_type": "code",
   "execution_count": 8,
   "metadata": {},
   "outputs": [],
   "source": [
    "# np.save(\"dataset/predicting_contextual_informativeness-master/kapelner_context_sentence_targ_match_tok.npy\", contexts, allow_pickle=True)"
   ]
  },
  {
   "cell_type": "code",
   "execution_count": null,
   "metadata": {},
   "outputs": [],
   "source": []
  },
  {
   "cell_type": "code",
   "execution_count": 9,
   "metadata": {},
   "outputs": [],
   "source": [
    "# def separate_special_char(contexts):\n",
    "# #     contexts = [re.sub(r'([!\"#$%&()*+,-./\\:;\\<=?@\\[\\\\\\]^_`{|}~\\t\\n\\'])',r' \\1 ', sents).replace(' .  .  . ', '') \\\n",
    "# #                 for sents in contexts]\n",
    "#     contexts = [re.sub(r'([^\\w])', r'\\1', sents) for sents in contexts]\n",
    "#     return(contexts)\n",
    "\n",
    "# df_contexts['context'] = separate_special_char(df_contexts['context'])\n",
    "\n",
    "# def sentence_indexer(spacy_nlp, contexts, targets):\n",
    "#     sentences_out = []\n",
    "    \n",
    "#     # separate special characters with word (to help tokenization process)\n",
    "#     # contexts = [sents.replace(targ, ' '+targ+' ') for sents, targ in zip(contexts, targets)]\n",
    "    \n",
    "#     # find the target word\n",
    "#     for doc, targ in tqdm_notebook(zip(nlp.pipe(contexts), targets)):\n",
    "#         sents = {'sents':[], 'target_insent':None, 'target_stated':targ}\n",
    "#         # 1. match the lemma from spacy\n",
    "#         for i, sent in enumerate(doc.sents):            \n",
    "#             sents['sents'].append(sent.text)\n",
    "\n",
    "#             temp_targ_insent = [tok.text for tok in sent if tok.lemma_==targ]\n",
    "#             if(temp_targ_insent): \n",
    "#                 sents['target_insent'] = temp_targ_insent[0]\n",
    "        \n",
    "#         # 2. reiterate if the target word was not found in sentences; choose the token with the smallest edit distance\n",
    "#         if(sents['target_insent']==None):\n",
    "#             targ_insent_scr = float('inf')\n",
    "#             for sent in doc.sents:\n",
    "#                 dist_tok_targ = np.array([nltk.edit_distance(tok.text, targ) for tok in sent])\n",
    "#                 temp_insent_scr = dist_tok_targ[dist_tok_targ.argmin()]\n",
    "#                 if(temp_insent_scr < targ_insent_scr):\n",
    "#                     sents['target_insent'] = sent[dist_tok_targ.argmin()].text\n",
    "#                     targ_insent_scr = temp_insent_scr            \n",
    "#         sentences_out.append(sents)\n",
    "#     return(np.array(sentences_out))\n",
    "\n",
    "# contexts = sentence_indexer(nlp, df_contexts['context'].values, df_contexts['target_word'].values)\n",
    "\n",
    "# contexts[526]\n",
    "\n",
    "# [cntx for cntx in contexts if cntx['target_insent']!=cntx['target_stated']][:3]\n",
    "\n",
    "# np.save(\"dataset/predicting_contextual_informativeness-master/kapelner_context_sentence_targ_match.npy\", contexts, allow_pickle=True)"
   ]
  },
  {
   "cell_type": "markdown",
   "metadata": {},
   "source": [
    "## save with the original dataframe"
   ]
  },
  {
   "cell_type": "code",
   "execution_count": 10,
   "metadata": {},
   "outputs": [],
   "source": [
    "contexts = np.load(\"dataset/predicting_contextual_informativeness-master/kapelner_context_sentence_targ_match_tok.npy\", allow_pickle=True)"
   ]
  },
  {
   "cell_type": "code",
   "execution_count": 11,
   "metadata": {},
   "outputs": [],
   "source": [
    "df_contexts['context_sents'] = [cntx['sents'] for cntx in contexts]\n",
    "df_contexts['context_sents_tok'] = [cntx['sent_tok'] for cntx in contexts]\n",
    "df_contexts['target_word_insent'] = [cntx['target_insent'] for cntx in contexts]"
   ]
  },
  {
   "cell_type": "code",
   "execution_count": 12,
   "metadata": {},
   "outputs": [],
   "source": [
    "df_contexts.to_pickle('dataset/predicting_contextual_informativeness-master/kapelner_context_filtered2_targ_match.pickle.gz', compression='gzip')"
   ]
  },
  {
   "cell_type": "code",
   "execution_count": 13,
   "metadata": {},
   "outputs": [
    {
     "data": {
      "text/plain": [
       "0    [The book Manipur:, A Tourist Paradise is a un...\n",
       "1    [Although as Billy Bragg, who knows a thing or...\n",
       "2    [Self honor is how self views himself or herse...\n",
       "3    [As with ginger, turmeric has salubrious prope...\n",
       "Name: context_sents, dtype: object"
      ]
     },
     "execution_count": 13,
     "metadata": {},
     "output_type": "execute_result"
    }
   ],
   "source": [
    "df_contexts['context_sents'][:4]"
   ]
  },
  {
   "cell_type": "code",
   "execution_count": 14,
   "metadata": {},
   "outputs": [
    {
     "data": {
      "text/plain": [
       "0    [[The, book, Manipur, :], [A, Tourist, Paradis...\n",
       "1    [[Although, as, Billy, Bragg, ,, who, knows, a...\n",
       "2    [[Self, honor, is, how, self, views, himself, ...\n",
       "3    [[As, with, ginger, ,, turmeric, has, salubrio...\n",
       "Name: context_sents_tok, dtype: object"
      ]
     },
     "execution_count": 14,
     "metadata": {},
     "output_type": "execute_result"
    }
   ],
   "source": [
    "df_contexts['context_sents_tok'][:4]"
   ]
  },
  {
   "cell_type": "code",
   "execution_count": 15,
   "metadata": {},
   "outputs": [
    {
     "data": {
      "text/plain": [
       "0    4\n",
       "1    1\n",
       "2    3\n",
       "3    3\n",
       "Name: context_sents, dtype: int64"
      ]
     },
     "execution_count": 15,
     "metadata": {},
     "output_type": "execute_result"
    }
   ],
   "source": [
    "df_contexts['context_sents'][:4].apply(lambda x:len(x)) # separating : as a sentence"
   ]
  },
  {
   "cell_type": "code",
   "execution_count": 16,
   "metadata": {},
   "outputs": [
    {
     "data": {
      "text/plain": [
       "0    3\n",
       "1    1\n",
       "2    3\n",
       "3    3\n",
       "Name: num_sentences, dtype: int64"
      ]
     },
     "execution_count": 16,
     "metadata": {},
     "output_type": "execute_result"
    }
   ],
   "source": [
    "df_contexts['num_sentences'][:4]"
   ]
  },
  {
   "cell_type": "code",
   "execution_count": null,
   "metadata": {},
   "outputs": [],
   "source": []
  },
  {
   "cell_type": "code",
   "execution_count": 17,
   "metadata": {},
   "outputs": [],
   "source": [
    "df_contexts = pd.read_pickle('dataset/predicting_contextual_informativeness-master/kapelner_context_filtered2_targ_match.pickle.gz', compression='gzip')"
   ]
  },
  {
   "cell_type": "code",
   "execution_count": 18,
   "metadata": {},
   "outputs": [
    {
     "data": {
      "text/plain": [
       "(67831, 627)"
      ]
     },
     "execution_count": 18,
     "metadata": {},
     "output_type": "execute_result"
    }
   ],
   "source": [
    "df_contexts.shape"
   ]
  },
  {
   "cell_type": "markdown",
   "metadata": {},
   "source": [
    "# 1. For ELMo models "
   ]
  },
  {
   "cell_type": "code",
   "execution_count": 19,
   "metadata": {
    "colab": {},
    "colab_type": "code",
    "id": "IZUg96JlhwqB"
   },
   "outputs": [],
   "source": [
    "mm_scaler = MinMaxScaler()\n",
    "# info_scores = mm_scaler.fit_transform(df_contexts[['mean_rating']])\n",
    "# info_scores = info_scores[:,0]\n",
    "df_contexts['mm_mean_rating'] = mm_scaler.fit_transform(df_contexts[['mean_rating']])[:,0]"
   ]
  },
  {
   "cell_type": "code",
   "execution_count": 20,
   "metadata": {},
   "outputs": [
    {
     "data": {
      "text/plain": [
       "<matplotlib.axes._subplots.AxesSubplot at 0x7f05bdc32b70>"
      ]
     },
     "execution_count": 20,
     "metadata": {},
     "output_type": "execute_result"
    },
    {
     "data": {
      "image/png": "[encoded data removed]",
      "text/plain": [
       "<Figure size 432x288 with 1 Axes>"
      ]
     },
     "metadata": {
      "needs_background": "light"
     },
     "output_type": "display_data"
    }
   ],
   "source": [
    "sns.kdeplot(df_contexts['mm_mean_rating'])"
   ]
  },
  {
   "cell_type": "code",
   "execution_count": 21,
   "metadata": {},
   "outputs": [
    {
     "name": "stderr",
     "output_type": "stream",
     "text": [
      "Using TensorFlow backend.\n"
     ]
    }
   ],
   "source": [
    "from keras.preprocessing.text import text_to_word_sequence\n",
    "from keras.preprocessing.sequence import pad_sequences\n",
    "import math"
   ]
  },
  {
   "cell_type": "code",
   "execution_count": 22,
   "metadata": {},
   "outputs": [],
   "source": [
    "col_features_top30 = ['similar_1_10', 'collocation_1_10', 'count:target-word1', 'politeness_component', \n",
    "                'Kuperman AoA AW', 'Kuperman AoA CW', 'count:word1-target-word2', 'MRC Meaningfulness CW', \n",
    "                'num_times_target_exact_match', 'num_acronyms', 'repeated_content_lemmas_pronoun', 'Polit_GI', \n",
    "                'prob:word1-target-word2', 'prob:target-word1', 'All AWL Normed',  'MRC Meaningfulness AW', \n",
    "                'affect_friends_and_family_component', 'Positive_EmoLex', 'count:target', 'num_times_target_stem_match', \n",
    "                'SUBTLEXus Freq AW', 'Econ_GI', 'prob:word1-word2-target', 'BNC Written Bigram Proportion',\n",
    "                'Arousal_nwords', 'SUBTLEXus Range CW Log', 'BNC Written Trigram Proportion', 'disjunctions',\n",
    "                'Arousal', 'Brown Freq CW Log']"
   ]
  },
  {
   "cell_type": "code",
   "execution_count": 23,
   "metadata": {},
   "outputs": [
    {
     "data": {
      "text/plain": [
       "617"
      ]
     },
     "execution_count": 23,
     "metadata": {},
     "output_type": "execute_result"
    }
   ],
   "source": [
    "col_features_all = df_contexts.columns.tolist()[6:-5]\n",
    "\n",
    "# # taking off:  'num_times_target_exact_match', 'num_times_target_stem_match'\n",
    "# col_features_all.remove('num_times_target_exact_match')\n",
    "# col_features_all.remove('num_times_target_stem_match')\n",
    "\n",
    "len(col_features_all)"
   ]
  },
  {
   "cell_type": "code",
   "execution_count": 24,
   "metadata": {},
   "outputs": [
    {
     "data": {
      "text/plain": [
       "160"
      ]
     },
     "execution_count": 24,
     "metadata": {},
     "output_type": "execute_result"
    }
   ],
   "source": [
    "df_contexts['context_sents_tok'].apply(lambda x:len([tok for sent in x for tok in sent])).max()"
   ]
  },
  {
   "cell_type": "code",
   "execution_count": 25,
   "metadata": {
    "colab": {},
    "colab_type": "code",
    "id": "Ac6_DVsSNPo6"
   },
   "outputs": [],
   "source": [
    "MAX_SEQ_LEN = 160\n",
    "CUT_SEQ_LEN = 30\n",
    "# FILTERS = '“”\"#$%&()*+/=@[\\\\]^_`{|}~\\t\\n:' #'!\"#$%&()*+,-./:;<=>?@[\\\\]^_`{|}~\\t\\n'\n",
    "_err_sent_idx = []\n",
    "\n",
    "def proc_sentences(df, col_sent_tok, col_targ, col_features, col_score, \n",
    "                   cut_sentence=True, incld_targ=False, max_seq_len=MAX_SEQ_LEN):\n",
    "    sentences = []\n",
    "    li_mask_cntx = []\n",
    "    li_mask_targ = []\n",
    "    li_sent_len = []\n",
    "    li_sent_pad = []\n",
    "    li_targ = []\n",
    "    li_feat = []\n",
    "    li_score = []\n",
    "    for i in tqdm_notebook(range(df.shape[0])):\n",
    "        sent_tok = [tok for sent in df.iloc[i][col_sent_tok] for tok in sent] # tokenized sentences as a single list        \n",
    "        score = df.iloc[i][col_score]\n",
    "        feat = df.iloc[i][col_features].values\n",
    "        targ = df.iloc[i][col_targ]\n",
    "        score = df.iloc[i][col_score]\n",
    "        \n",
    "        sent_pad = None\n",
    "#         try:         \n",
    "        prepad_targ_idx = np.where((targ==np.array(sent_tok)))[0][0]\n",
    "#             if(len(temp_targ_idx)):\n",
    "#                 temp_targ_idx = temp_targ_idx[0]\n",
    "#             else:\n",
    "#                 temp_targ_idx = np.where(pd.Series(sent_tok).str.contains(targ))[0][0]\n",
    "        if(cut_sentence):\n",
    "            sent_pad = None\n",
    "            len_lh = len(sent_tok[:prepad_targ_idx])\n",
    "            len_rh = len(sent_tok[prepad_targ_idx:])\n",
    "            if((len_lh + len_rh) < max_seq_len):\n",
    "                # if the sentence length is shorter\n",
    "                sent_pad = pad_sequences([sent_tok], maxlen=max_seq_len, dtype='object', padding='post', value=[\"\"])\n",
    "            else:\n",
    "\n",
    "                len_lh = math.floor((len_lh/len(sent_tok))*max_seq_len)\n",
    "                len_rh = math.ceil((len_rh/len(sent_tok))*max_seq_len)\n",
    "\n",
    "                sent_tok = sent_tok[(prepad_targ_idx-len_lh):(prepad_targ_idx+len_rh)]\n",
    "                sent_pad = pad_sequences([sent_tok], maxlen=max_seq_len, dtype='object', padding='post', value=[\"\"])\n",
    "        else:\n",
    "            sent_pad = pad_sequences([sent_tok], maxlen=max_seq_len, dtype='object', padding='post', value=[\"\"])\n",
    "\n",
    "        pad_targ_idx = np.where(targ==sent_pad[0])[0][0]\n",
    "\n",
    "        if(not incld_targ):\n",
    "            sent_pad[0][pad_targ_idx] = \"<UNK>\"\n",
    "\n",
    "        mask_targ = [0]*(max_seq_len)\n",
    "        mask_targ[pad_targ_idx] = 1\n",
    "        mask_cntx = [0]*(max_seq_len)\n",
    "\n",
    "        for i in range(pad_targ_idx):\n",
    "            mask_cntx[i] = 1\n",
    "        if(incld_targ):\n",
    "            for i in range(pad_targ_idx, len(sent_tok)):\n",
    "                mask_cntx[i] = 1\n",
    "        else:\n",
    "            for i in range(pad_targ_idx+1, len(sent_tok)):\n",
    "                mask_cntx[i] = 1\n",
    "\n",
    "        sent_len = len(sent_tok)\n",
    "\n",
    "        li_sent_len.append(sent_len)\n",
    "        li_sent_pad.append(list(sent_pad)[0])\n",
    "        li_mask_cntx.append(mask_cntx)\n",
    "        li_mask_targ.append(mask_targ)\n",
    "        li_feat.append(feat)\n",
    "\n",
    "        li_targ.append(targ)\n",
    "        li_score.append(score)\n",
    "#         except:\n",
    "#             _err_sent_idx.append(i)\n",
    "#             print(sent_tok)\n",
    "#             print(targ)\n",
    "\n",
    "    sentences = [np.array(li_sent_len), np.array(li_sent_pad), np.array(li_mask_cntx), np.array(li_mask_targ), np.array(li_feat)]\n",
    "    return(sentences, li_score, li_targ)"
   ]
  },
  {
   "cell_type": "markdown",
   "metadata": {},
   "source": [
    "## cut context: 30 words"
   ]
  },
  {
   "cell_type": "code",
   "execution_count": 26,
   "metadata": {},
   "outputs": [
    {
     "data": {
      "application/vnd.jupyter.widget-view+json": {
       "model_id": "b22bdad9ebba4bd68a98b43cbcf7dd91",
       "version_major": 2,
       "version_minor": 0
      },
      "text/plain": [
       "HBox(children=(IntProgress(value=0, max=67831), HTML(value='')))"
      ]
     },
     "metadata": {},
     "output_type": "display_data"
    },
    {
     "name": "stdout",
     "output_type": "stream",
     "text": [
      "\n"
     ]
    }
   ],
   "source": [
    "sentences_notarg, sentences_score, targets = proc_sentences(df_contexts, 'context_sents_tok', 'target_word_insent', col_features_top30, \"mm_mean_rating\",\n",
    "                                                            cut_sentence=True, incld_targ=False, max_seq_len=CUT_SEQ_LEN)"
   ]
  },
  {
   "cell_type": "code",
   "execution_count": 27,
   "metadata": {},
   "outputs": [
    {
     "data": {
      "text/plain": [
       "[array([30, 30, 30, ..., 30, 30, 30]),\n",
       " array([['potential', 'for', 'the', ..., 'properly', 'conceived', 'and'],\n",
       "        ['the', 'height', 'of', ..., 'and', 'politics', ','],\n",
       "        ['salutary', 'or', 'horrible', ..., 'typically', 'start', 'from'],\n",
       "        ...,\n",
       "        ['the', 'film', 'lies', ..., 'review', 'added', 'that'],\n",
       "        ['executions', ',', 'murder', ..., 'mascot', '-', 'an'],\n",
       "        ['solve', 'this', 'problem', ..., 'Software', 'and', 'created']],\n",
       "       dtype=object),\n",
       " array([[1, 1, 1, ..., 1, 1, 1],\n",
       "        [1, 1, 1, ..., 1, 1, 1],\n",
       "        [1, 1, 1, ..., 1, 1, 1],\n",
       "        ...,\n",
       "        [1, 1, 1, ..., 1, 1, 1],\n",
       "        [1, 1, 1, ..., 1, 1, 1],\n",
       "        [1, 1, 1, ..., 1, 1, 1]]),\n",
       " array([[0, 0, 0, ..., 0, 0, 0],\n",
       "        [0, 0, 0, ..., 0, 0, 0],\n",
       "        [0, 0, 0, ..., 0, 0, 0],\n",
       "        ...,\n",
       "        [0, 0, 0, ..., 0, 0, 0],\n",
       "        [0, 0, 0, ..., 0, 0, 0],\n",
       "        [0, 0, 0, ..., 0, 0, 0]]),\n",
       " array([[0.0, 0.0, 3268, ..., 0.0, 5.03, 1.02144027526],\n",
       "        [0.0, 0.0, 57, ..., 0.0151515151515, 5.77, 1.84189137786],\n",
       "        [0.0, 0.0, 0, ..., 0.035714285714300006, 5.54, 1.9350378658400003],\n",
       "        ...,\n",
       "        [0.0, 0.0, 760, ..., 0.0, 5.41, 1.26332431581],\n",
       "        [0.0, 0.0, 207, ..., 0.0, 4.57, 1.3080004484899999],\n",
       "        [0.0, 0.0, 2775, ..., 0.0161290322581, 4.75, 1.1196991515799999]],\n",
       "       dtype=object)]"
      ]
     },
     "execution_count": 27,
     "metadata": {},
     "output_type": "execute_result"
    }
   ],
   "source": [
    "sentences_notarg"
   ]
  },
  {
   "cell_type": "code",
   "execution_count": 28,
   "metadata": {},
   "outputs": [],
   "source": [
    "np.savez(\"kapelner_sentences_notarg_elmo_cut30_lexT30.npy\", \n",
    "         sent_len=sentences_notarg[0], \n",
    "         sentences_notarg=sentences_notarg[1:4], \n",
    "         sentences_lex=sentences_notarg[4], \n",
    "         sentences_score=sentences_score, \n",
    "         targets=targets)"
   ]
  },
  {
   "cell_type": "code",
   "execution_count": 29,
   "metadata": {},
   "outputs": [
    {
     "data": {
      "text/plain": [
       "67831"
      ]
     },
     "execution_count": 29,
     "metadata": {},
     "output_type": "execute_result"
    }
   ],
   "source": [
    "len(sentences_notarg[0])"
   ]
  },
  {
   "cell_type": "code",
   "execution_count": 30,
   "metadata": {},
   "outputs": [
    {
     "data": {
      "text/plain": [
       "[]"
      ]
     },
     "execution_count": 30,
     "metadata": {},
     "output_type": "execute_result"
    }
   ],
   "source": [
    "_err_sent_idx"
   ]
  },
  {
   "cell_type": "markdown",
   "metadata": {},
   "source": [
    "## no cut context"
   ]
  },
  {
   "cell_type": "code",
   "execution_count": 31,
   "metadata": {},
   "outputs": [
    {
     "data": {
      "text/plain": [
       "617"
      ]
     },
     "execution_count": 31,
     "metadata": {},
     "output_type": "execute_result"
    }
   ],
   "source": [
    "len(col_features_all)"
   ]
  },
  {
   "cell_type": "code",
   "execution_count": 32,
   "metadata": {},
   "outputs": [
    {
     "data": {
      "application/vnd.jupyter.widget-view+json": {
       "model_id": "b4588bd3939d4a38b7616b8bd9aedd13",
       "version_major": 2,
       "version_minor": 0
      },
      "text/plain": [
       "HBox(children=(IntProgress(value=0, max=67831), HTML(value='')))"
      ]
     },
     "metadata": {},
     "output_type": "display_data"
    },
    {
     "name": "stdout",
     "output_type": "stream",
     "text": [
      "\n"
     ]
    }
   ],
   "source": [
    "sentences_notarg, sentences_score, targets = proc_sentences(df_contexts, 'context_sents_tok', 'target_word_insent', col_features_all, \"mm_mean_rating\",\n",
    "                                                            cut_sentence=False, incld_targ=False, max_seq_len=MAX_SEQ_LEN)"
   ]
  },
  {
   "cell_type": "code",
   "execution_count": 33,
   "metadata": {},
   "outputs": [
    {
     "data": {
      "text/plain": [
       "[array([65, 66, 61, ..., 66, 70, 70]),\n",
       " array([['The', 'book', 'Manipur', ..., '', '', ''],\n",
       "        ['Although', 'as', 'Billy', ..., '', '', ''],\n",
       "        ['Self', 'honor', 'is', ..., '', '', ''],\n",
       "        ...,\n",
       "        ['gave', 'a', '5', ..., '', '', ''],\n",
       "        ['...', 'Their', 'strictly', ..., '', '', ''],\n",
       "        ['...', 'Gamers', 'could', ..., '', '', '']], dtype=object),\n",
       " array([[1, 1, 1, ..., 0, 0, 0],\n",
       "        [1, 1, 1, ..., 0, 0, 0],\n",
       "        [1, 1, 1, ..., 0, 0, 0],\n",
       "        ...,\n",
       "        [1, 1, 1, ..., 0, 0, 0],\n",
       "        [1, 1, 1, ..., 0, 0, 0],\n",
       "        [1, 1, 1, ..., 0, 0, 0]]),\n",
       " array([[0, 0, 0, ..., 0, 0, 0],\n",
       "        [0, 0, 0, ..., 0, 0, 0],\n",
       "        [0, 0, 0, ..., 0, 0, 0],\n",
       "        ...,\n",
       "        [0, 0, 0, ..., 0, 0, 0],\n",
       "        [0, 0, 0, ..., 0, 0, 0],\n",
       "        [0, 0, 0, ..., 0, 0, 0]]),\n",
       " array([[0.0, 0.0, 0.0, ..., 0.0344827586207, 0.0, 0.0],\n",
       "        [0.0, 0.0, 0.0, ..., 0.0151515151515, 0.0, 0.0],\n",
       "        [0.0, 0.0, 0.0, ..., 0.0, 0.0, 0.0],\n",
       "        ...,\n",
       "        [0.0, 0.0, 0.0, ..., 0.0, 0.0, 0.0],\n",
       "        [0.0, 0.0, 0.0, ..., 0.0140845070423, 0.0, 0.0],\n",
       "        [0.0, 0.0, 0.0, ..., 0.0, 0.0, 0.0]], dtype=object)]"
      ]
     },
     "execution_count": 33,
     "metadata": {},
     "output_type": "execute_result"
    }
   ],
   "source": [
    "sentences_notarg"
   ]
  },
  {
   "cell_type": "code",
   "execution_count": 34,
   "metadata": {},
   "outputs": [],
   "source": [
    "np.savez(\"kapelner_sentences_notarg_elmo_nocut.npy\", \n",
    "         sent_len=sentences_notarg[0], \n",
    "         sentences_notarg=sentences_notarg[1:4], \n",
    "         sentences_lex=sentences_notarg[4], \n",
    "         sentences_score=sentences_score, \n",
    "         targets=targets)"
   ]
  },
  {
   "cell_type": "code",
   "execution_count": 35,
   "metadata": {},
   "outputs": [
    {
     "data": {
      "text/plain": [
       "67831"
      ]
     },
     "execution_count": 35,
     "metadata": {},
     "output_type": "execute_result"
    }
   ],
   "source": [
    "len(sentences_notarg[0])"
   ]
  },
  {
   "cell_type": "code",
   "execution_count": 36,
   "metadata": {},
   "outputs": [
    {
     "data": {
      "text/plain": [
       "160"
      ]
     },
     "execution_count": 36,
     "metadata": {},
     "output_type": "execute_result"
    }
   ],
   "source": [
    "len(sentences_notarg[1][0])"
   ]
  },
  {
   "cell_type": "code",
   "execution_count": 37,
   "metadata": {},
   "outputs": [
    {
     "data": {
      "text/plain": [
       "[]"
      ]
     },
     "execution_count": 37,
     "metadata": {},
     "output_type": "execute_result"
    }
   ],
   "source": [
    "_err_sent_idx"
   ]
  },
  {
   "cell_type": "markdown",
   "metadata": {},
   "source": [
    "# 2. For BERT models "
   ]
  },
  {
   "cell_type": "code",
   "execution_count": 34,
   "metadata": {},
   "outputs": [
    {
     "name": "stderr",
     "output_type": "stream",
     "text": [
      "Using TensorFlow backend.\n"
     ]
    }
   ],
   "source": [
    "from models.train_models import create_tokenizer_from_hub_module"
   ]
  },
  {
   "cell_type": "code",
   "execution_count": 35,
   "metadata": {},
   "outputs": [
    {
     "name": "stdout",
     "output_type": "stream",
     "text": [
      "\n",
      "INFO:tensorflow:Saver not created because there are no variables in the graph to restore\n"
     ]
    },
    {
     "name": "stderr",
     "output_type": "stream",
     "text": [
      "INFO:tensorflow:Saver not created because there are no variables in the graph to restore\n"
     ]
    },
    {
     "name": "stdout",
     "output_type": "stream",
     "text": [
      "\n"
     ]
    },
    {
     "name": "stderr",
     "output_type": "stream",
     "text": [
      "\n"
     ]
    }
   ],
   "source": [
    "tokenizer = create_tokenizer_from_hub_module()"
   ]
  },
  {
   "cell_type": "code",
   "execution_count": 36,
   "metadata": {},
   "outputs": [],
   "source": [
    "MAX_SEQ_LEN_BERT = 258"
   ]
  },
  {
   "cell_type": "code",
   "execution_count": 37,
   "metadata": {},
   "outputs": [],
   "source": [
    "class InputExample_kapelner(object):\n",
    "    # a single training/text example\n",
    "    def __init__(self, guid, targ, text_a, lex_feature, score):\n",
    "        self.guid = guid\n",
    "        self.targ = targ\n",
    "        self.text_a = text_a\n",
    "        self.lex_feature = lex_feature\n",
    "        self.score = score\n",
    "\n",
    "\n",
    "def convert_text_to_examples_kapelner(targets, sentences, lex_features, scores):\n",
    "    # create `InputExample`s\n",
    "    InputExamples = []\n",
    "    for targ, sent, lex_feature, score in tqdm_notebook(zip(targets, sentences, lex_features, scores)):\n",
    "        InputExamples.append(InputExample_kapelner(guid=None, targ=targ, text_a=sent, lex_feature=lex_feature, score=score))\n",
    "    return InputExamples\n",
    "\n"
   ]
  },
  {
   "cell_type": "code",
   "execution_count": 38,
   "metadata": {},
   "outputs": [],
   "source": [
    "# using spacy_tokenized input\n",
    "def convert_single_example_kapelner(tokenizer, example, targ_incld=False, max_seq_length=256):\n",
    "    # converts a *single* `InputExample` into a single `InputFeatures`\n",
    "    tokens_targ = None\n",
    "    tokens_a = None\n",
    "#     if(targ_incld):\n",
    "#         tokens_targ = tokenizer.tokenize(example.targ)\n",
    "#         tokens_a = tokenizer.tokenize(example.text_a)\n",
    "    tokens_targ = ['X']\n",
    "    tokens_a_li = []\n",
    "    for sent in example.text_a:\n",
    "        for i, tok in enumerate(sent):\n",
    "            if(tok==example.targ):\n",
    "                sent[i] = 'X'\n",
    "                break\n",
    "        bert_tokens_tok = [tokenizer.tokenize(tok) for tok in sent]\n",
    "        bert_tokens_tok = [x for tok in bert_tokens_tok for x in tok]\n",
    "        tokens_a_li.append(bert_tokens_tok)\n",
    "    \n",
    "#     tokens_a = [[]+sent for sent in tokens_a_li]\n",
    "#     if len(tokens_a) > max_seq_length - 2:                 # -2 when [CLS] and [SEP] are included in the data\n",
    "#         tokens_a = tokens_a[0: (max_seq_length - 2)]\n",
    "#     if len(tokens_a) > max_seq_length:\n",
    "#         tokens_a = tokens_a[0: (max_seq_length)]\n",
    "    \n",
    "    tokens_a_li[0] = [\"[CLS]\"] + tokens_a_li[0]\n",
    "    tokens_a_li = [sent + [\"[SEP]\"] for sent in tokens_a_li]        \n",
    "\n",
    "    segment_ids = []\n",
    "    tokens_sent = []\n",
    "    for seg_idx, sent in enumerate(tokens_a_li):\n",
    "        for tok in sent:\n",
    "            segment_ids.append(seg_idx)\n",
    "            tokens_sent.append(tok)\n",
    "    \n",
    "#     tokens_sent.append(\"[CLS]\") # useful for sentence classification task - id 100\n",
    "#     segment_ids.append()       # segment_id for [CLS] token\n",
    "#     for token in tokens_a:\n",
    "#         tokens_sent.append(token)\n",
    "#         segment_ids.append(0)\n",
    "#     tokens_sent.append(\"[SEP]\") # useful for sentence classification & multisentence task - id 102\n",
    "#     segment_ids.append(0)       # segment_id for [SEP] token\n",
    "    \n",
    "    targ_ids = tokenizer.convert_tokens_to_ids(tokens_targ)\n",
    "    input_ids = tokenizer.convert_tokens_to_ids(tokens_sent)\n",
    "    targ_locs = [0]*len(input_ids)\n",
    "    if(not targ_incld):\n",
    "        targ_ids = [103]\n",
    "        input_ids[input_ids.index(161)]=103\n",
    "        \n",
    "    # mask: 1 for real tokens; 0 for padding tokens\n",
    "    input_mask = [1]*len(input_ids)\n",
    "    \n",
    "    # update mask for the target word token(s) as 0\n",
    "    targ_idx = [input_ids.index(x) for x in targ_ids]\n",
    "    for i in targ_idx:\n",
    "        targ_locs[i] = 1\n",
    "        if(not targ_incld):\n",
    "            input_mask[i] = 0        \n",
    "        \n",
    "    # zero padding up to the sequence length\n",
    "    while len(input_ids) < max_seq_length:\n",
    "        input_ids.append(0)\n",
    "        input_mask.append(0)\n",
    "        targ_locs.append(0)\n",
    "        segment_ids.append(seg_idx+1)\n",
    "\n",
    "    assert len(input_ids) == max_seq_length\n",
    "    assert len(input_mask) == max_seq_length\n",
    "    assert len(targ_locs) == max_seq_length\n",
    "    assert len(segment_ids) == max_seq_length\n",
    "    \n",
    "    return input_ids, input_mask, segment_ids, targ_locs, example.targ, example.lex_feature, example.score"
   ]
  },
  {
   "cell_type": "code",
   "execution_count": 39,
   "metadata": {},
   "outputs": [],
   "source": [
    "err_bert = []\n",
    "def convert_examples_to_features_kapelner(tokenizer, examples, targ_incld=False, max_seq_length=MAX_SEQ_LEN_BERT):\n",
    "    # converts a *set* of `InputExample`s to a list of `InputFeatures`\n",
    "    input_ids, input_masks, segment_ids, targ_locs, targets, lex_features, scores = [], [], [], [], [], [], []\n",
    "    for example in tqdm_notebook(examples, desc=\"Converting examples to features\"):\n",
    "        try: \n",
    "            input_id, input_mask, segment_id, targ_loc, targ, lex_feature, score = convert_single_example_kapelner(tokenizer, example, targ_incld, max_seq_length)\n",
    "            input_ids.append(input_id)\n",
    "            input_masks.append(input_mask)\n",
    "            segment_ids.append(segment_id)\n",
    "            targ_locs.append(targ_loc)\n",
    "            targets.append(targ)\n",
    "            lex_features.append(lex_feature)\n",
    "            scores.append(score)\n",
    "        except:\n",
    "            print(example)\n",
    "            err_bert.append(example)\n",
    "            break\n",
    "    \n",
    "    return(np.array(input_ids), np.array(input_masks), np.array(segment_ids), \n",
    "           np.array(targ_locs), np.array(targets), \n",
    "           np.array(lex_features), np.array(scores).reshape(-1, 1))"
   ]
  },
  {
   "cell_type": "code",
   "execution_count": 44,
   "metadata": {},
   "outputs": [
    {
     "data": {
      "application/vnd.jupyter.widget-view+json": {
       "model_id": "222230ab77b148fc89b3de518fe5a801",
       "version_major": 2,
       "version_minor": 0
      },
      "text/plain": [
       "HBox(children=(IntProgress(value=1, bar_style='info', max=1), HTML(value='')))"
      ]
     },
     "metadata": {},
     "output_type": "display_data"
    },
    {
     "name": "stdout",
     "output_type": "stream",
     "text": [
      "\n"
     ]
    }
   ],
   "source": [
    "bert_example_nocut = convert_text_to_examples_kapelner(df_contexts['target_word_insent'], \n",
    "                                                       df_contexts['context_sents_tok'],\n",
    "                                                       df_contexts[col_features_all].apply(lambda row:row.values, axis=1), \n",
    "                                                       df_contexts['mm_mean_rating'])"
   ]
  },
  {
   "cell_type": "code",
   "execution_count": 45,
   "metadata": {},
   "outputs": [
    {
     "data": {
      "application/vnd.jupyter.widget-view+json": {
       "model_id": "37f804478c834e1c8cc435eaf1def006",
       "version_major": 2,
       "version_minor": 0
      },
      "text/plain": [
       "HBox(children=(IntProgress(value=0, description='Converting examples to features', max=67831, style=ProgressSt…"
      ]
     },
     "metadata": {},
     "output_type": "display_data"
    },
    {
     "name": "stdout",
     "output_type": "stream",
     "text": [
      "\n"
     ]
    }
   ],
   "source": [
    "bert_input_nocut = convert_examples_to_features_kapelner(tokenizer, bert_example_nocut, False, MAX_SEQ_LEN_BERT)"
   ]
  },
  {
   "cell_type": "code",
   "execution_count": 46,
   "metadata": {},
   "outputs": [
    {
     "data": {
      "text/plain": [
       "67831"
      ]
     },
     "execution_count": 46,
     "metadata": {},
     "output_type": "execute_result"
    }
   ],
   "source": [
    "len(bert_input_nocut[5])"
   ]
  },
  {
   "cell_type": "code",
   "execution_count": 47,
   "metadata": {},
   "outputs": [],
   "source": [
    "np.savez(\"kapelner_sentences_notarg_bert_nocut.npy\", \n",
    "         input_ids = bert_input_nocut[0], \n",
    "         input_masks = bert_input_nocut[1], \n",
    "         segment_ids = bert_input_nocut[2], \n",
    "         targ_locs = bert_input_nocut[3], \n",
    "         targets = bert_input_nocut[4], \n",
    "         lex_features = bert_input_nocut[5], \n",
    "         scores = bert_input_nocut[6])"
   ]
  },
  {
   "cell_type": "code",
   "execution_count": null,
   "metadata": {},
   "outputs": [],
   "source": []
  },
  {
   "cell_type": "code",
   "execution_count": 48,
   "metadata": {},
   "outputs": [
    {
     "data": {
      "text/plain": [
       "<matplotlib.axes._subplots.AxesSubplot at 0x7f05709c3160>"
      ]
     },
     "execution_count": 48,
     "metadata": {},
     "output_type": "execute_result"
    },
    {
     "data": {
      "image/png": "[encoded data removed]",
      "text/plain": [
       "<Figure size 432x288 with 1 Axes>"
      ]
     },
     "metadata": {
      "needs_background": "light"
     },
     "output_type": "display_data"
    }
   ],
   "source": [
    "sns.scatterplot(df_contexts['mm_mean_rating'], \n",
    "                np.reshape(bert_input_nocut[6], -1))"
   ]
  },
  {
   "cell_type": "code",
   "execution_count": null,
   "metadata": {},
   "outputs": [],
   "source": []
  },
  {
   "cell_type": "code",
   "execution_count": null,
   "metadata": {},
   "outputs": [],
   "source": []
  },
  {
   "cell_type": "code",
   "execution_count": null,
   "metadata": {},
   "outputs": [],
   "source": []
  },
  {
   "cell_type": "markdown",
   "metadata": {},
   "source": [
    "## dscovar sentences in multi-sentence form for BERT crossprediction"
   ]
  },
  {
   "cell_type": "code",
   "execution_count": 12,
   "metadata": {},
   "outputs": [],
   "source": [
    "df_dsc = pd.read_pickle('./dataset/cloze_df_scores_all3.pickle')"
   ]
  },
  {
   "cell_type": "code",
   "execution_count": 10,
   "metadata": {},
   "outputs": [],
   "source": [
    "# DSCoVAR - BWS\n",
    "sent_dsc_bert = np.load(\"dscovar_sentences_bert.pickle\", allow_pickle=True)\n",
    "score_dsc_bws = np.load(\"resp_bws.pickle\", allow_pickle=True)"
   ]
  },
  {
   "cell_type": "code",
   "execution_count": 11,
   "metadata": {},
   "outputs": [
    {
     "data": {
      "text/plain": [
       "[array(['discord', 'rakish', 'defile', ..., 'deviate', 'frigid', 'adhere'],\n",
       "       dtype='<U12'),\n",
       " array([' A discord  emerged between the two who were once friends . ',\n",
       "        ' A bohemian is a person who is free-spirited and rakish  . ',\n",
       "        ' A bunch of kids had broken in and defile  the paintings . ', ...,\n",
       "        ' You will not get lost if you stay straight and do not deviate  . ',\n",
       "        \" You'll find what you're looking for when it becomes more frigid  . \",\n",
       "        \" Your plan's nice, but I doubt I could adhere  to it for long . \"],\n",
       "       dtype='<U109')]"
      ]
     },
     "execution_count": 11,
     "metadata": {},
     "output_type": "execute_result"
    }
   ],
   "source": [
    "sent_dsc_bert"
   ]
  },
  {
   "cell_type": "code",
   "execution_count": 25,
   "metadata": {},
   "outputs": [
    {
     "data": {
      "application/vnd.jupyter.widget-view+json": {
       "model_id": "640802fa6063461e9915fe39439db860",
       "version_major": 2,
       "version_minor": 0
      },
      "text/plain": [
       "HBox(children=(IntProgress(value=1, bar_style='info', max=1), HTML(value='')))"
      ]
     },
     "metadata": {},
     "output_type": "display_data"
    },
    {
     "name": "stdout",
     "output_type": "stream",
     "text": [
      "\n"
     ]
    }
   ],
   "source": [
    "contexts_dsc = sent_tokenizer_targ(nlp, pd.Series(sent_dsc_bert[1]), sent_dsc_bert[0])"
   ]
  },
  {
   "cell_type": "code",
   "execution_count": 31,
   "metadata": {},
   "outputs": [
    {
     "data": {
      "text/plain": [
       "array([{'sents': [' A discord  emerged between the two who were once friends .'], 'sent_tok': [[' ', 'A', 'discord', ' ', 'emerged', 'between', 'the', 'two', 'who', 'were', 'once', 'friends', '.']], 'target_insent': 'discord', 'target_stated': 'discord'},\n",
       "       {'sents': [' A bohemian is a person who is free-spirited and rakish  .'], 'sent_tok': [[' ', 'A', 'bohemian', 'is', 'a', 'person', 'who', 'is', 'free', '-', 'spirited', 'and', 'rakish', ' ', '.']], 'target_insent': 'rakish', 'target_stated': 'rakish'},\n",
       "       {'sents': [' A bunch of kids had broken in and defile  the paintings .'], 'sent_tok': [[' ', 'A', 'bunch', 'of', 'kids', 'had', 'broken', 'in', 'and', 'defile', ' ', 'the', 'paintings', '.']], 'target_insent': 'defile', 'target_stated': 'defile'},\n",
       "       ...,\n",
       "       {'sents': [' You will not get lost if you stay straight and do not deviate  .'], 'sent_tok': [[' ', 'You', 'will', 'not', 'get', 'lost', 'if', 'you', 'stay', 'straight', 'and', 'do', 'not', 'deviate', ' ', '.']], 'target_insent': 'deviate', 'target_stated': 'deviate'},\n",
       "       {'sents': [\" You'll find what you're looking for when it becomes more frigid  .\"], 'sent_tok': [[' ', 'You', \"'ll\", 'find', 'what', 'you', \"'re\", 'looking', 'for', 'when', 'it', 'becomes', 'more', 'frigid', ' ', '.']], 'target_insent': 'frigid', 'target_stated': 'frigid'},\n",
       "       {'sents': [\" Your plan's nice,\", 'but I doubt I could adhere  to it for long .'], 'sent_tok': [[' ', 'Your', 'plan', \"'s\", 'nice', ','], ['but', 'I', 'doubt', 'I', 'could', 'adhere', ' ', 'to', 'it', 'for', 'long', '.']], 'target_insent': 'adhere', 'target_stated': 'adhere'}],\n",
       "      dtype=object)"
      ]
     },
     "execution_count": 31,
     "metadata": {},
     "output_type": "execute_result"
    }
   ],
   "source": [
    "contexts_dsc"
   ]
  },
  {
   "cell_type": "code",
   "execution_count": 41,
   "metadata": {},
   "outputs": [
    {
     "data": {
      "application/vnd.jupyter.widget-view+json": {
       "model_id": "e612d7bd4c2a454486586fd07c77358d",
       "version_major": 2,
       "version_minor": 0
      },
      "text/plain": [
       "HBox(children=(IntProgress(value=1, bar_style='info', max=1), HTML(value='')))"
      ]
     },
     "metadata": {},
     "output_type": "display_data"
    },
    {
     "name": "stdout",
     "output_type": "stream",
     "text": [
      "\n"
     ]
    }
   ],
   "source": [
    "bert_example_dsc = convert_text_to_examples_kapelner([x['target_insent'] for x in contexts_dsc], \n",
    "                                                       [x['sent_tok'] for x in contexts_dsc],\n",
    "                                                       score_dsc_bws, \n",
    "                                                       score_dsc_bws)"
   ]
  },
  {
   "cell_type": "code",
   "execution_count": 42,
   "metadata": {},
   "outputs": [
    {
     "data": {
      "application/vnd.jupyter.widget-view+json": {
       "model_id": "a0bae07f15ae464daffd9827853e3a12",
       "version_major": 2,
       "version_minor": 0
      },
      "text/plain": [
       "HBox(children=(IntProgress(value=0, description='Converting examples to features', max=1783, style=ProgressSty…"
      ]
     },
     "metadata": {},
     "output_type": "display_data"
    },
    {
     "name": "stdout",
     "output_type": "stream",
     "text": [
      "\n"
     ]
    }
   ],
   "source": [
    "bert_input_dsc = convert_examples_to_features_kapelner(tokenizer, bert_example_dsc, False, MAX_SEQ_LEN_BERT)"
   ]
  },
  {
   "cell_type": "code",
   "execution_count": 44,
   "metadata": {},
   "outputs": [
    {
     "data": {
      "text/plain": [
       "1783"
      ]
     },
     "execution_count": 44,
     "metadata": {},
     "output_type": "execute_result"
    }
   ],
   "source": [
    "len(bert_input_dsc[5])"
   ]
  },
  {
   "cell_type": "code",
   "execution_count": 45,
   "metadata": {},
   "outputs": [
    {
     "data": {
      "text/plain": [
       "(array([[ 101,  138,  103, ...,    0,    0,    0],\n",
       "        [ 101,  138,  171, ...,    0,    0,    0],\n",
       "        [ 101,  138, 9670, ...,    0,    0,    0],\n",
       "        ...,\n",
       "        [ 101, 1192, 1209, ...,    0,    0,    0],\n",
       "        [ 101, 1192,  112, ...,    0,    0,    0],\n",
       "        [ 101, 2353, 2197, ...,    0,    0,    0]]),\n",
       " array([[1, 1, 0, ..., 0, 0, 0],\n",
       "        [1, 1, 1, ..., 0, 0, 0],\n",
       "        [1, 1, 1, ..., 0, 0, 0],\n",
       "        ...,\n",
       "        [1, 1, 1, ..., 0, 0, 0],\n",
       "        [1, 1, 1, ..., 0, 0, 0],\n",
       "        [1, 1, 1, ..., 0, 0, 0]]),\n",
       " array([[0, 0, 0, ..., 1, 1, 1],\n",
       "        [0, 0, 0, ..., 1, 1, 1],\n",
       "        [0, 0, 0, ..., 1, 1, 1],\n",
       "        ...,\n",
       "        [0, 0, 0, ..., 1, 1, 1],\n",
       "        [0, 0, 0, ..., 1, 1, 1],\n",
       "        [0, 0, 0, ..., 2, 2, 2]]),\n",
       " array([[0, 0, 1, ..., 0, 0, 0],\n",
       "        [0, 0, 0, ..., 0, 0, 0],\n",
       "        [0, 0, 0, ..., 0, 0, 0],\n",
       "        ...,\n",
       "        [0, 0, 0, ..., 0, 0, 0],\n",
       "        [0, 0, 0, ..., 0, 0, 0],\n",
       "        [0, 0, 0, ..., 0, 0, 0]]),\n",
       " array(['discord', 'rakish', 'defile', ..., 'deviate', 'frigid', 'adhere'],\n",
       "       dtype='<U12'),\n",
       " array([0.45652174, 0.52173913, 0.5       , ..., 0.60869565, 0.43478261,\n",
       "        0.58695652]),\n",
       " array([[0.45652174],\n",
       "        [0.52173913],\n",
       "        [0.5       ],\n",
       "        ...,\n",
       "        [0.60869565],\n",
       "        [0.43478261],\n",
       "        [0.58695652]]))"
      ]
     },
     "execution_count": 45,
     "metadata": {},
     "output_type": "execute_result"
    }
   ],
   "source": [
    "bert_input_dsc"
   ]
  },
  {
   "cell_type": "code",
   "execution_count": 47,
   "metadata": {},
   "outputs": [],
   "source": [
    "np.savez(\"dscovar_sentences_notarg_bert_nocut_mult.npy\", \n",
    "         input_ids = bert_input_dsc[0], \n",
    "         input_masks = bert_input_dsc[1], \n",
    "         segment_ids = bert_input_dsc[2], \n",
    "         targ_locs = bert_input_dsc[3], \n",
    "         targets = bert_input_dsc[4], \n",
    "#          lex_features = bert_input_nocut[5], \n",
    "         scores = bert_input_dsc[6])"
   ]
  }
 ],
 "metadata": {
  "kernelspec": {
   "display_name": "Python 3",
   "language": "python",
   "name": "python3"
  },
  "language_info": {
   "codemirror_mode": {
    "name": "ipython",
    "version": 3
   },
   "file_extension": ".py",
   "mimetype": "text/x-python",
   "name": "python",
   "nbconvert_exporter": "python",
   "pygments_lexer": "ipython3",
   "version": "3.6.7"
  }
 },
 "nbformat": 4,
 "nbformat_minor": 4
}
